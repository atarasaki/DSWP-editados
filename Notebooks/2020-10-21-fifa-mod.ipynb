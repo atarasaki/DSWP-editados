{
  "nbformat": 4,
  "nbformat_minor": 0,
  "metadata": {
    "colab": {
      "name": "Copy of NB10_01__Pandas.ipynb",
      "provenance": [],
      "private_outputs": true,
      "include_colab_link": true
    },
    "kernelspec": {
      "name": "python3",
      "display_name": "Python 3"
    }
  },
  "cells": [
    {
      "cell_type": "markdown",
      "metadata": {
        "id": "view-in-github",
        "colab_type": "text"
      },
      "source": [
        "<a href=\"https://colab.research.google.com/github/atarasaki/DSWP-editados/blob/main/Notebooks/2020-10-21-fifa-mod.ipynb\" target=\"_parent\"><img src=\"https://colab.research.google.com/assets/colab-badge.svg\" alt=\"Open In Colab\"/></a>"
      ]
    },
    {
      "cell_type": "markdown",
      "metadata": {
        "id": "8fpUiw8PwC7_"
      },
      "source": [
        "<center><h1><b><i>mini task - FIFA dataset</i></b></h1></center>\n",
        "(20/10/2020)\n",
        "\n",
        "Nelio Machado, [20.10.20 17:46]\n",
        "\n",
        "*Mini-task*: apliquem o IsolationForest (primeiro método para detecção de outliers) para o dataframe FIFA_algumas_features (variáveis numéricas). Qual a conclusão?\n",
        "\n",
        "Qual sua conclusão em termos de outliers?\n",
        "\n",
        "Como ficou sua \"outlier region\"?\n"
      ]
    },
    {
      "cell_type": "code",
      "metadata": {
        "id": "AK-4k22aUA2d"
      },
      "source": [
        "import pandas as pd\n",
        "import numpy as np\n",
        "import seaborn as sns\n",
        "import matplotlib.pyplot as plt\n",
        "%matplotlib inline\n",
        "\n",
        "print(f'Versão do Pandas: {pd.__version__}')\n",
        "print(f'Versão do NumPy.: {np.__version__}')"
      ],
      "execution_count": null,
      "outputs": []
    },
    {
      "cell_type": "code",
      "metadata": {
        "id": "kEDkPfedl-Fp"
      },
      "source": [
        "d_configuracao = {\n",
        "    'display.max_columns': 1000,\n",
        "    'display.expand_frame_repr': True,\n",
        "    'display.max_rows': 10,\n",
        "    'display.precision': 2,\n",
        "    'display.show_dimensions': True,\n",
        "    'display.float_format': (lambda x: '%.2f' % x)\n",
        "                  }\n",
        "\n",
        "for op, value in d_configuracao.items():\n",
        "    pd.set_option(op, value)\n",
        "    print(op, value)"
      ],
      "execution_count": null,
      "outputs": []
    },
    {
      "cell_type": "markdown",
      "metadata": {
        "id": "pa0L4d78X12R"
      },
      "source": [
        "## 1) carga do datset"
      ]
    },
    {
      "cell_type": "code",
      "metadata": {
        "id": "ldWQd9j4NhPS"
      },
      "source": [
        "df_fifa = pd.read_csv('https://raw.githubusercontent.com/atarasaki/DSWP/master/Dataframes/FIFA_algumas_features.csv')"
      ],
      "execution_count": null,
      "outputs": []
    },
    {
      "cell_type": "code",
      "metadata": {
        "id": "L-Yt3iywU_Kq"
      },
      "source": [
        "df_fifa.head()"
      ],
      "execution_count": null,
      "outputs": []
    },
    {
      "cell_type": "code",
      "metadata": {
        "id": "f1hK804dA0yH"
      },
      "source": [
        "df_fifa.shape"
      ],
      "execution_count": null,
      "outputs": []
    },
    {
      "cell_type": "code",
      "metadata": {
        "id": "IOkOC4YZPwT0"
      },
      "source": [
        "df_fifa.columns"
      ],
      "execution_count": null,
      "outputs": []
    },
    {
      "cell_type": "code",
      "metadata": {
        "id": "AC5ajHIRuGjL"
      },
      "source": [
        "df_fifa_org = df_fifa.copy()"
      ],
      "execution_count": null,
      "outputs": []
    },
    {
      "cell_type": "markdown",
      "metadata": {
        "id": "5tD5iEDxUtwB"
      },
      "source": [
        "## 2) aplicação do Isolation Forest"
      ]
    },
    {
      "cell_type": "code",
      "metadata": {
        "id": "Khx64-H_RnG9"
      },
      "source": [
        "from sklearn.ensemble import IsolationForest"
      ],
      "execution_count": null,
      "outputs": []
    },
    {
      "cell_type": "markdown",
      "metadata": {
        "id": "Bvl4r1ErhWY6"
      },
      "source": [
        "### 2.1) 'wage'"
      ]
    },
    {
      "cell_type": "code",
      "metadata": {
        "id": "xxUuukKLVHuW"
      },
      "source": [
        "# objeto Isolation Forest\n",
        "iso_forest_wage = IsolationForest( n_estimators=100 )\n",
        "\n",
        "# aplicação do algoritmo sobre df_fifa['wage'] após transformar amplitudes no intevalo (-1,1)\n",
        "iso_forest_wage.fit( df_fifa['wage'].values.reshape(-1,1) )\n",
        "\n",
        "# retorna array numpy com N pontos uniformemente espaçados num intervalo (min, max, N) com amplitudes no intervalo (-1,1)\n",
        "fifa_wage_is = np.linspace( df_fifa['wage'].min(), df_fifa['wage'].max(), len( df_fifa['wage'] ) ).reshape(-1,1)\n",
        "\n",
        "# retorna anomaly score do algoritmo Isolation Forest sobre o array numpy - IsolationForest.decision_function(X) : Average anomaly score of X of the base classifiers.\n",
        "fifa_wage_as = iso_forest_wage.decision_function( fifa_wage_is )\n",
        "\n",
        "# indica os candidatos a outlier - IsolationForest.predict(X) : predict if a particular sample is an outlier or not.\n",
        "fifa_wage_out = iso_forest_wage.predict( fifa_wage_is )\n",
        "\n"
      ],
      "execution_count": null,
      "outputs": []
    },
    {
      "cell_type": "code",
      "metadata": {
        "id": "73YiOm5YZ542"
      },
      "source": [
        "iso_forest_wage"
      ],
      "execution_count": null,
      "outputs": []
    },
    {
      "cell_type": "code",
      "metadata": {
        "id": "YkL97VKOZ8i_"
      },
      "source": [
        "fifa_wage_is"
      ],
      "execution_count": null,
      "outputs": []
    },
    {
      "cell_type": "code",
      "metadata": {
        "id": "6_u78srMaAM2"
      },
      "source": [
        "fifa_wage_as"
      ],
      "execution_count": null,
      "outputs": []
    },
    {
      "cell_type": "code",
      "metadata": {
        "id": "tWUB3XrSaDln"
      },
      "source": [
        "fifa_wage_out"
      ],
      "execution_count": null,
      "outputs": []
    },
    {
      "cell_type": "code",
      "metadata": {
        "id": "GsZHyXXVZ2zs"
      },
      "source": [
        "# preparação da visualização\n",
        "plt.figure( figsize=(10,4) )\n",
        "\n",
        "# gráfico anomaly score\n",
        "plt.plot( fifa_wage_is, fifa_wage_as, label='anomaly score')\n",
        "\n",
        "# aplica coloração nas regiões de outliers\n",
        "plt.fill_between( fifa_wage_is.T[0], np.min( fifa_wage_as ),\n",
        "                 np.max( fifa_wage_as ), where = fifa_wage_out == -1, color = 'r', alpha = .4, label = 'outlier region')\n",
        "\n",
        "# preparação de legenda\n",
        "plt.legend()\n",
        "plt.xlabel('wage')\n",
        "plt.ylabel('anomaly score')\n",
        "\n",
        "# apresenta gráfico\n",
        "plt.show()"
      ],
      "execution_count": null,
      "outputs": []
    },
    {
      "cell_type": "code",
      "metadata": {
        "id": "-tWKuz5wmnMY"
      },
      "source": [
        "# maior 'wage' não outlier\n",
        "round( fifa_wage_is[ fifa_wage_out != -1 ].max(), 2 )"
      ],
      "execution_count": null,
      "outputs": []
    },
    {
      "cell_type": "markdown",
      "metadata": {
        "id": "F-7uqgT4hetf"
      },
      "source": [
        "### 2.2) 'value'"
      ]
    },
    {
      "cell_type": "code",
      "metadata": {
        "id": "tJWq7EM6hote"
      },
      "source": [
        "# objeto Isolation Forest\n",
        "iso_forest_value = IsolationForest( n_estimators=100 )\n",
        "\n",
        "# aplicação do algoritmo sobre df_fifa['wage'] após transformar amplitudes no intevalo (-1,1)\n",
        "iso_forest_value.fit( df_fifa['value'].values.reshape(-1,1) )\n",
        "\n",
        "# retorna array numpy com N pontos uniformemente espaçados num intervalo (min, max, N) com amplitudes no intervalo (-1,1)\n",
        "fifa_value_is = np.linspace( df_fifa['value'].min(), df_fifa['value'].max(), len( df_fifa['value'] ) ).reshape(-1,1)\n",
        "\n",
        "# retorna anomaly score do algoritmo Isolation Forest sobre o array numpy - IsolationForest.decision_function(X) : Average anomaly score of X of the base classifiers.\n",
        "fifa_value_as = iso_forest_value.decision_function( fifa_value_is )\n",
        "\n",
        "# indica os candidatos a outlier - IsolationForest.predict(X) : predict if a particular sample is an outlier or not.\n",
        "fifa_value_out = iso_forest_value.predict( fifa_value_is )"
      ],
      "execution_count": null,
      "outputs": []
    },
    {
      "cell_type": "code",
      "metadata": {
        "id": "Db-qdrzYiJIP"
      },
      "source": [
        "# preparação da visualização\n",
        "plt.figure( figsize=(10,4) )\n",
        "\n",
        "# gráfico anomaly score\n",
        "plt.plot( fifa_value_is, fifa_value_as, label='anomaly score')\n",
        "\n",
        "# aplica coloração nas regiões de outliers\n",
        "# matplotlib.pyplot.fill_between(x, y1, y2=0, where=None, interpolate=False, step=None, *, data=None, **kwargs)[source]\n",
        "plt.fill_between( fifa_value_is.T[0], np.min( fifa_value_as ),\n",
        "                 np.max( fifa_value_as ), where = fifa_value_out == -1, color = 'r', alpha = .4, label = 'outlier region')\n",
        "\n",
        "# preparação de legenda\n",
        "plt.legend()\n",
        "plt.xlabel('value')\n",
        "plt.ylabel('anomaly score')\n",
        "\n",
        "# apresenta gráfico\n",
        "plt.show()"
      ],
      "execution_count": null,
      "outputs": []
    },
    {
      "cell_type": "code",
      "metadata": {
        "id": "2ButF0tQl0Um"
      },
      "source": [
        "# maior 'value' não outlier\n",
        "round( fifa_value_is[ fifa_value_out != -1 ].max(), 2 )"
      ],
      "execution_count": null,
      "outputs": []
    },
    {
      "cell_type": "markdown",
      "metadata": {
        "id": "3DL1CuHcniDA"
      },
      "source": [
        "### 2.3) 'age'"
      ]
    },
    {
      "cell_type": "code",
      "metadata": {
        "id": "SpF8s-DgnqtV"
      },
      "source": [
        "# objeto Isolation Forest\n",
        "iso_forest_age = IsolationForest( n_estimators=100 )\n",
        "\n",
        "# aplicação do algoritmo sobre df_fifa['age'] após transformar amplitudes no intevalo (-1,1)\n",
        "iso_forest_age.fit( df_fifa['age'].values.reshape(-1,1) )\n",
        "\n",
        "# retorna array numpy com N pontos uniformemente espaçados num intervalo (min, max, N) com amplitudes no intervalo (-1,1)\n",
        "fifa_age_is = np.linspace( df_fifa['age'].min(), df_fifa['age'].max(), len( df_fifa['age'] ) ).reshape(-1,1)\n",
        "\n",
        "# retorna anomaly score do algoritmo Isolation Forest sobre o array numpy - IsolationForest.decision_function(X) : Average anomaly score of X of the base classifiers.\n",
        "fifa_age_as = iso_forest_wage.decision_function( fifa_age_is )\n",
        "\n",
        "# indica os candidatos a outlier - IsolationForest.predict(X) : predict if a particular sample is an outlier or not.\n",
        "fifa_age_out = iso_forest_wage.predict( fifa_age_is )"
      ],
      "execution_count": null,
      "outputs": []
    },
    {
      "cell_type": "code",
      "metadata": {
        "id": "7z1MlWy8nwAd"
      },
      "source": [
        "# preparação da visualização\n",
        "plt.figure( figsize=(10,4) )\n",
        "\n",
        "# gráfico anomaly score\n",
        "plt.plot( fifa_age_is, fifa_age_as, label='anomaly score')\n",
        "\n",
        "# aplica coloração nas regiões de outliers\n",
        "plt.fill_between( fifa_age_is.T[0], np.min( fifa_age_as ),\n",
        "                 np.max( fifa_age_as ), where = fifa_age_out == -1, color = 'r', alpha = .4, label = 'outlier region')\n",
        "\n",
        "# preparação de legenda\n",
        "plt.legend()\n",
        "plt.xlabel('age')\n",
        "plt.ylabel('anomaly score')\n",
        "\n",
        "# apresenta gráfico\n",
        "plt.show()"
      ],
      "execution_count": null,
      "outputs": []
    },
    {
      "cell_type": "code",
      "metadata": {
        "id": "MQU_tej8onie"
      },
      "source": [
        "fifa_age_is"
      ],
      "execution_count": null,
      "outputs": []
    },
    {
      "cell_type": "code",
      "metadata": {
        "id": "QHuHi52rop64"
      },
      "source": [
        "fifa_age_as"
      ],
      "execution_count": null,
      "outputs": []
    },
    {
      "cell_type": "code",
      "metadata": {
        "id": "82pIl2HJpP2v"
      },
      "source": [
        "fifa_age_is"
      ],
      "execution_count": null,
      "outputs": []
    },
    {
      "cell_type": "code",
      "metadata": {
        "id": "4iL5hFlzpbQA"
      },
      "source": [
        "# método parece não ser adequado para detecção de outliers em idade"
      ],
      "execution_count": null,
      "outputs": []
    },
    {
      "cell_type": "markdown",
      "metadata": {
        "id": "DnvDvaJfpkVA"
      },
      "source": [
        "### 2.3) 'overall'"
      ]
    },
    {
      "cell_type": "code",
      "metadata": {
        "id": "MkS-EuRmpt6v"
      },
      "source": [
        "# objeto Isolation Forest\n",
        "iso_forest_over = IsolationForest( n_estimators=100 )\n",
        "\n",
        "# aplicação do algoritmo sobre df_fifa['overall'] após transformar amplitudes no intevalo (-1,1)\n",
        "iso_forest_over.fit( df_fifa['overall'].values.reshape(-1,1) )\n",
        "\n",
        "# retorna array numpy com N pontos uniformemente espaçados num intervalo (min, max, N) com amplitudes no intervalo (-1,1)\n",
        "fifa_over_is = np.linspace( df_fifa['overall'].min(), df_fifa['overall'].max(), len( df_fifa['overall'] ) ).reshape(-1,1)\n",
        "\n",
        "# retorna anomaly score do algoritmo Isolation Forest sobre o array numpy - IsolationForest.decision_function(X) : Average anomaly score of X of the base classifiers.\n",
        "fifa_over_as = iso_forest_wage.decision_function( fifa_over_is )\n",
        "\n",
        "# indica os candidatos a outlier - IsolationForest.predict(X) : predict if a particular sample is an outlier or not.\n",
        "fifa_over_out = iso_forest_over.predict( fifa_over_is )"
      ],
      "execution_count": null,
      "outputs": []
    },
    {
      "cell_type": "code",
      "metadata": {
        "id": "jmtc0Nu-pt9q"
      },
      "source": [
        "# preparação da visualização\n",
        "plt.figure( figsize=(10,4) )\n",
        "\n",
        "# gráfico anomaly score\n",
        "plt.plot( fifa_over_is, fifa_over_as, label='anomaly score')\n",
        "\n",
        "# aplica coloração nas regiões de outliers\n",
        "plt.fill_between( fifa_over_is.T[0], np.min( fifa_over_as ),\n",
        "                 np.max( fifa_over_as ), where = fifa_over_out == -1, color = 'r', alpha = .4, label = 'outlier region')\n",
        "\n",
        "# preparação de legenda\n",
        "plt.legend()\n",
        "plt.xlabel('overall')\n",
        "plt.ylabel('anomaly score')\n",
        "\n",
        "# apresenta gráfico\n",
        "plt.show()"
      ],
      "execution_count": null,
      "outputs": []
    },
    {
      "cell_type": "code",
      "metadata": {
        "id": "oLZ420tqpuAb"
      },
      "source": [
        "# maior 'overall' não outlier\n",
        "round( fifa_over_is[ fifa_over_out != -1 ].max(), 2 )"
      ],
      "execution_count": null,
      "outputs": []
    },
    {
      "cell_type": "code",
      "metadata": {
        "id": "3IVvSv9fpuCt"
      },
      "source": [
        "# menor 'overall' não outlier\n",
        "round( fifa_over_is[ fifa_over_out != -1 ].min(), 2 )"
      ],
      "execution_count": null,
      "outputs": []
    },
    {
      "cell_type": "markdown",
      "metadata": {
        "id": "Y-l29AtUqx-t"
      },
      "source": [
        "### 2.3) 'potential'"
      ]
    },
    {
      "cell_type": "code",
      "metadata": {
        "id": "cjC2Awsmq1iI"
      },
      "source": [
        "# objeto Isolation Forest\n",
        "iso_forest_pot = IsolationForest( n_estimators=100 )\n",
        "\n",
        "# aplicação do algoritmo sobre df_fifa['potential'] após transformar amplitudes no intevalo (-1,1)\n",
        "iso_forest_pot.fit( df_fifa['potential'].values.reshape(-1,1) )\n",
        "\n",
        "# retorna array numpy com N pontos uniformemente espaçados num intervalo (min, max, N) com amplitudes no intervalo (-1,1)\n",
        "fifa_pot_is = np.linspace( df_fifa['potential'].min(), df_fifa['potential'].max(), len( df_fifa['potential'] ) ).reshape(-1,1)\n",
        "\n",
        "# retorna anomaly score do algoritmo Isolation Forest sobre o array numpy - IsolationForest.decision_function(X) : Average anomaly score of X of the base classifiers.\n",
        "fifa_pot_as = iso_forest_wage.decision_function( fifa_pot_is )\n",
        "\n",
        "# indica os candidatos a outlier - IsolationForest.predict(X) : predict if a particular sample is an outlier or not.\n",
        "fifa_pot_out = iso_forest_over.predict( fifa_pot_is )"
      ],
      "execution_count": null,
      "outputs": []
    },
    {
      "cell_type": "code",
      "metadata": {
        "id": "zFy5Y6O1q2PY"
      },
      "source": [
        "# preparação da visualização\n",
        "plt.figure( figsize=(10,4) )\n",
        "\n",
        "# gráfico anomaly score\n",
        "plt.plot( fifa_pot_is, fifa_pot_as, label='anomaly score')\n",
        "\n",
        "# aplica coloração nas regiões de outliers\n",
        "plt.fill_between( fifa_pot_is.T[0], np.min( fifa_pot_as ),\n",
        "                 np.max( fifa_pot_as ), where = fifa_pot_out == -1, color = 'r', alpha = .4, label = 'outlier region')\n",
        "\n",
        "# preparação de legenda\n",
        "plt.legend()\n",
        "plt.xlabel('potential')\n",
        "plt.ylabel('anomaly score')\n",
        "\n",
        "# apresenta gráfico\n",
        "plt.show()"
      ],
      "execution_count": null,
      "outputs": []
    },
    {
      "cell_type": "code",
      "metadata": {
        "id": "8xX6HjEHpoQ3"
      },
      "source": [
        "# maior 'potential' não outlier\n",
        "round( fifa_pot_is[ fifa_pot_out != -1 ].max(), 2 )"
      ],
      "execution_count": null,
      "outputs": []
    },
    {
      "cell_type": "code",
      "metadata": {
        "id": "HFyB221_rmG8"
      },
      "source": [
        "# menor 'potential' não outlier\n",
        "round( fifa_pot_is[ fifa_pot_out != -1 ].min(), 2 )"
      ],
      "execution_count": null,
      "outputs": []
    },
    {
      "cell_type": "markdown",
      "metadata": {
        "id": "oyvej_ewsFJ8"
      },
      "source": [
        "## 3) 'overall' x 'potential'"
      ]
    },
    {
      "cell_type": "code",
      "metadata": {
        "id": "pPDhIf7xtyIy"
      },
      "source": [
        "sns.pairplot( df_fifa[['overall','potential']], kind='scatter' )\n",
        "plt.show()"
      ],
      "execution_count": null,
      "outputs": []
    },
    {
      "cell_type": "code",
      "metadata": {
        "id": "MKHRgrBJygdF"
      },
      "source": [
        "df_fifa[['overall','potential']].corr()"
      ],
      "execution_count": null,
      "outputs": []
    },
    {
      "cell_type": "code",
      "metadata": {
        "id": "R4tHVV-XuUjr"
      },
      "source": [
        ""
      ],
      "execution_count": null,
      "outputs": []
    }
  ]
}