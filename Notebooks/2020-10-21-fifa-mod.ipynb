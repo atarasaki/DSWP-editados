{
  "nbformat": 4,
  "nbformat_minor": 0,
  "metadata": {
    "colab": {
      "name": "Copy of NB10_01__Pandas.ipynb",
      "provenance": [],
      "private_outputs": true,
      "include_colab_link": true
    },
    "kernelspec": {
      "name": "python3",
      "display_name": "Python 3"
    }
  },
  "cells": [
    {
      "cell_type": "markdown",
      "metadata": {
        "id": "view-in-github",
        "colab_type": "text"
      },
      "source": [
        "<a href=\"https://colab.research.google.com/github/atarasaki/DSWP-editados/blob/main/Notebooks/2020-10-21-fifa-mod.ipynb\" target=\"_parent\"><img src=\"https://colab.research.google.com/assets/colab-badge.svg\" alt=\"Open In Colab\"/></a>"
      ]
    },
    {
      "cell_type": "markdown",
      "metadata": {
        "id": "8fpUiw8PwC7_"
      },
      "source": [
        "<center><h1><b><i>mini task - FIFA dataset 20/10/2020</i></b></h1></center>\n",
        "\n",
        "Nelio Machado, [20.10.20 17:46]\n",
        "\n",
        "*Mini-task*: apliquem o IsolationForest (primeiro método para detecção de outliers) para o dataframe FIFA_algumas_features (variáveis numéricas). Qual a conclusão?\n",
        "\n",
        "Qual sua conclusão em termos de outliers?\n",
        "\n",
        "Como ficou sua \"outlier region\"?\n"
      ]
    },
    {
      "cell_type": "markdown",
      "metadata": {
        "id": "yEyzjGUfG33-"
      },
      "source": [
        "___\n",
        "# **Carregar a library Pandas e verificar a versão**"
      ]
    },
    {
      "cell_type": "code",
      "metadata": {
        "id": "oVMjT3DrG97K"
      },
      "source": [
        "# Carrega a library Pandas\n",
        "import pandas as pd\n",
        "import numpy as np\n",
        "import matplotlib.pyplot as plt\n",
        "%matplotlib inline\n",
        "\n",
        "print(f'Versão do Pandas: {pd.__version__}')\n",
        "print(f'Versão do NumPy.: {np.__version__}')"
      ],
      "execution_count": null,
      "outputs": []
    },
    {
      "cell_type": "markdown",
      "metadata": {
        "id": "OxoDsaKUVHdH"
      },
      "source": [
        "# Configurações\n",
        "> Podemos configurar o pandas de forma a tornar nosso trabalho mais produtivo. Podemos configurar, por exemplo, o número de LINHAS e COLUNAS a ser mostrado, precisão dos números float. Vamos ver com mais detalhes a seguir.\n",
        "\n",
        "Fonte: [5 Advanced Features of Pandas and How to Use Them](https://www.kdnuggets.com/2019/10/5-advanced-features-pandas.html)."
      ]
    },
    {
      "cell_type": "code",
      "metadata": {
        "id": "IOdqrf7uVlhC"
      },
      "source": [
        "d_configuracao = {\n",
        "    'display.max_columns': 1000,\n",
        "    'display.expand_frame_repr': True,\n",
        "    'display.max_rows': 10,\n",
        "    'display.precision': 2,\n",
        "    'display.show_dimensions': True\n",
        "                  }\n",
        "\n",
        "for op, value in d_configuracao.items():\n",
        "    pd.set_option(op, value)\n",
        "    print(op, value)"
      ],
      "execution_count": null,
      "outputs": []
    },
    {
      "cell_type": "markdown",
      "metadata": {
        "id": "iwd1lhq9mrD3"
      },
      "source": [
        "___\n",
        "# **Exercícios**"
      ]
    },
    {
      "cell_type": "markdown",
      "metadata": {
        "id": "TUVTlE9WYW8C"
      },
      "source": [
        "## Exercício 9 - modificado : dataset FIFA_algumas_features\n",
        "\n",
        "*Mini-task*: apliquem o IsolationForest (primeiro método para detecção de outliers) para o dataframe FIFA_algumas_features (variáveis numéricas). Qual a conclusão?\n",
        "\n",
        "Qual sua conclusão em termos de outliers?\n",
        "\n",
        "Como ficou sua \"outlier region\"?\n",
        "\n"
      ]
    },
    {
      "cell_type": "markdown",
      "metadata": {
        "id": "rbnjkl7AUVX6"
      },
      "source": [
        "* -------------------------------------------------------- 09/10/2020"
      ]
    },
    {
      "cell_type": "markdown",
      "metadata": {
        "id": "B1-BwLUOVsbr"
      },
      "source": [
        "https://www.kaggle.com/thec03u5/fifa-18-demo-player-dataset"
      ]
    },
    {
      "cell_type": "code",
      "metadata": {
        "id": "AK-4k22aUA2d"
      },
      "source": [
        "import pandas as pd\n",
        "import numpy as np\n",
        "import seaborn as sns\n",
        "import matplotlib.pyplot as plt\n",
        "%matplotlib inline\n",
        "\n",
        "print(f'Versão do Pandas: {pd.__version__}')\n",
        "print(f'Versão do NumPy.: {np.__version__}')"
      ],
      "execution_count": null,
      "outputs": []
    },
    {
      "cell_type": "code",
      "metadata": {
        "id": "kEDkPfedl-Fp"
      },
      "source": [
        "d_configuracao = {\n",
        "    'display.max_columns': 1000,\n",
        "    'display.expand_frame_repr': True,\n",
        "    'display.max_rows': 10,\n",
        "    'display.precision': 2,\n",
        "    'display.show_dimensions': True,\n",
        "    'display.float_format': (lambda x: '%.2f' % x)\n",
        "                  }\n",
        "\n",
        "for op, value in d_configuracao.items():\n",
        "    pd.set_option(op, value)\n",
        "    print(op, value)"
      ],
      "execution_count": null,
      "outputs": []
    },
    {
      "cell_type": "markdown",
      "metadata": {
        "id": "pa0L4d78X12R"
      },
      "source": [
        "## 1) Carregue o arquivo FIFA.csv (está na área de Dataframes do curso);"
      ]
    },
    {
      "cell_type": "code",
      "metadata": {
        "id": "ldWQd9j4NhPS"
      },
      "source": [
        "df_fifa = pd.read_csv('https://raw.githubusercontent.com/atarasaki/DSWP/master/Dataframes/FIFA.csv')"
      ],
      "execution_count": null,
      "outputs": []
    },
    {
      "cell_type": "markdown",
      "metadata": {
        "id": "xTfugYaoaFgx"
      },
      "source": [
        "alternativa\n",
        "\n",
        "df_fifa = pd.read_csv('https://raw.githubusercontent.com/atarasaki/DSWP/master/Dataframes/FIFA.csv', index_col ='ID')\n",
        "\n",
        "df_fifa.set_index('ID', inplace=True)"
      ]
    },
    {
      "cell_type": "markdown",
      "metadata": {
        "id": "OR-Ob7ZaYBGh"
      },
      "source": [
        "## 2) Que colunas podem previamente ser eliminadas da análise? Porque identificar o que pode ser eliminado é importante?"
      ]
    },
    {
      "cell_type": "code",
      "metadata": {
        "id": "L-Yt3iywU_Kq"
      },
      "source": [
        "df_fifa.head()"
      ],
      "execution_count": null,
      "outputs": []
    },
    {
      "cell_type": "code",
      "metadata": {
        "id": "f1hK804dA0yH"
      },
      "source": [
        "df_fifa.columns"
      ],
      "execution_count": null,
      "outputs": []
    },
    {
      "cell_type": "markdown",
      "metadata": {
        "id": "JyIS_ElmYEjH"
      },
      "source": [
        "De imediato, colunas 'Photo', 'Flag', 'Club Logo', 'Real Face','Jersey Number' podem ser eliminados\n",
        "Por falta de significado, também podem ser excluídas as colunas 'LS','ST','RS','LW','LF','CF','RF','RW','LAM','CAM','RAM','LM','LCM','CM','RCM','RM','LWB','LDM','CDM','RDM','RWB','LB','LCB','CB','RCB','RB'"
      ]
    },
    {
      "cell_type": "code",
      "metadata": {
        "id": "_cZ1bJZwt819"
      },
      "source": [
        "df_fifa_org = df_fifa.copy"
      ],
      "execution_count": null,
      "outputs": []
    },
    {
      "cell_type": "code",
      "metadata": {
        "id": "AC5ajHIRuGjL"
      },
      "source": [
        "df_fifa.drop(inplace=True, columns=['Photo','Flag','Club Logo','Real Face','Jersey Number','LS','ST','RS','LW','LF','CF','RF','RW','LAM','CAM','RAM','LM','LCM','CM','RCM','RM','LWB','LDM','CDM','RDM','RWB','LB','LCB','CB','RCB','RB'])\n",
        "df_fifa.head()"
      ],
      "execution_count": null,
      "outputs": []
    },
    {
      "cell_type": "markdown",
      "metadata": {
        "id": "tTScQqfEYj5R"
      },
      "source": [
        "## 3) Qual o dtype de cada variável/atributo do dataframe?"
      ]
    },
    {
      "cell_type": "code",
      "metadata": {
        "id": "ANbRJ4-lUgPZ"
      },
      "source": [
        "df_fifa.info()"
      ],
      "execution_count": null,
      "outputs": []
    },
    {
      "cell_type": "code",
      "metadata": {
        "id": "tTidB-KFoXfa"
      },
      "source": [
        "df_fifa.select_dtypes(include=['number']).columns"
      ],
      "execution_count": null,
      "outputs": []
    },
    {
      "cell_type": "code",
      "metadata": {
        "id": "YBtG5qCpogZt"
      },
      "source": [
        "df_fifa.select_dtypes(include=['object']).columns"
      ],
      "execution_count": null,
      "outputs": []
    },
    {
      "cell_type": "code",
      "metadata": {
        "id": "7DHaJj6YYmDx"
      },
      "source": [
        "df_fifa.describe(include='all')"
      ],
      "execution_count": null,
      "outputs": []
    },
    {
      "cell_type": "markdown",
      "metadata": {
        "id": "KKeUmduZasuQ"
      },
      "source": [
        "## 4) Se alguma variávável/atributo é do tipo string (object) e supostamente deveria ser numérica, como alteramos o tipo?"
      ]
    },
    {
      "cell_type": "markdown",
      "metadata": {
        "id": "fy0nsfucIbgD"
      },
      "source": [
        "df_fifa['nome variável'].astype( 'int64' )"
      ]
    },
    {
      "cell_type": "code",
      "metadata": {
        "id": "g_-61f58Cj8I"
      },
      "source": [
        "# expressões regulares : 'new_wage' recebe parte numérica de 'Wage'\n",
        "df_fifa['wage_val'] = df_fifa['Wage'].str.extract( '([\\d]+)' ).astype('float64')\n",
        "df_fifa.head()"
      ],
      "execution_count": null,
      "outputs": []
    },
    {
      "cell_type": "code",
      "metadata": {
        "id": "51rIFXqFK8Jf"
      },
      "source": [
        "# função para associar potência de dez aos caracteres das colunas 'Value', 'Wage', 'Release Clause'\n",
        "func_multiplicador = lambda x: 1000.0 if x == 'K' else ( 1000000.0 if x == 'M' else 1.0 )"
      ],
      "execution_count": null,
      "outputs": []
    },
    {
      "cell_type": "code",
      "metadata": {
        "id": "xhatCASyMEZV"
      },
      "source": [
        "df_fifa['wage_sufix'] = df_fifa['Wage'].str.extract( '[\\d]+(\\w)' ).astype('str')\n",
        "df_fifa.head()"
      ],
      "execution_count": null,
      "outputs": []
    },
    {
      "cell_type": "code",
      "metadata": {
        "id": "1dPIn_mCMv1B"
      },
      "source": [
        "df_fifa['new_wage'] = df_fifa['wage_val'] * df_fifa['wage_sufix'].map( func_multiplicador )\n",
        "df_fifa.drop(inplace=True, columns=['wage_val','wage_sufix'])\n",
        "df_fifa.head()"
      ],
      "execution_count": null,
      "outputs": []
    },
    {
      "cell_type": "markdown",
      "metadata": {
        "id": "2CMLFFVyOR89"
      },
      "source": [
        "conversão análoga para 'Value' e 'Release Clause'"
      ]
    },
    {
      "cell_type": "code",
      "metadata": {
        "id": "UudjL7ALOgqt"
      },
      "source": [
        "# campo 'Value'\n",
        "df_fifa['value_value'] = df_fifa['Value'].str.extract( '([\\d]+[\\.]*[\\d]+)' ).astype('float64')\n",
        "df_fifa['value_sufix'] = df_fifa['Value'].str.extract( '[\\d]+[\\.]*[\\d]+(\\w)' ).astype('str')\n",
        "df_fifa['new_value'] = df_fifa['value_value'] * df_fifa['value_sufix'].map( func_multiplicador ).head()\n",
        "df_fifa.drop(inplace=True, columns=['value_value','value_sufix'])\n",
        "\n",
        "df_fifa.head()"
      ],
      "execution_count": null,
      "outputs": []
    },
    {
      "cell_type": "code",
      "metadata": {
        "id": "OZU9_SlBRRyT"
      },
      "source": [
        "# campo 'Release Clause'\n",
        "df_fifa['release_value'] = df_fifa['Release Clause'].str.extract( '([\\d]+[\\.]*[\\d]+)' ).astype('float64')\n",
        "df_fifa['release_sufix'] = df_fifa['Release Clause'].str.extract( '[\\d]+[\\.]*[\\d]+(\\w)' ).astype('str')\n",
        "df_fifa['new_release_value'] = df_fifa['release_value'] * df_fifa['release_sufix'].map( func_multiplicador ).head()\n",
        "df_fifa.drop(inplace=True, columns=['release_value','release_sufix'])\n",
        "\n",
        "df_fifa.head()"
      ],
      "execution_count": null,
      "outputs": []
    },
    {
      "cell_type": "code",
      "metadata": {
        "id": "yj_0SvSbYRub"
      },
      "source": [
        "# elimina as colunas originais\n",
        "df_fifa.drop(inplace=True, columns=['Wage','Value','Release Clause'])\n",
        "df_fifa.head()"
      ],
      "execution_count": null,
      "outputs": []
    },
    {
      "cell_type": "markdown",
      "metadata": {
        "id": "-p6F42YYccuL"
      },
      "source": [
        "## 5) Normalize os nomes das colunas, ou seja, renomeie o nome das colunas para minúsculo;"
      ]
    },
    {
      "cell_type": "code",
      "metadata": {
        "id": "rs_22Powdk24"
      },
      "source": [
        "# passo 1 : extração do nome das colunas\n",
        "s_colunas = df_fifa.columns\n",
        "s_colunas"
      ],
      "execution_count": null,
      "outputs": []
    },
    {
      "cell_type": "code",
      "metadata": {
        "id": "VQRVseNKd0vP"
      },
      "source": [
        "# passo 2 : transformar o nome das colunas em minúsculas\n",
        "s_colunas.str.lower()"
      ],
      "execution_count": null,
      "outputs": []
    },
    {
      "cell_type": "code",
      "metadata": {
        "id": "21UpkjLNcMEI"
      },
      "source": [
        "# passo 3 : aplicar o nome das colunas em minúsculas\n",
        "df_fifa.columns = s_colunas.str.lower()\n",
        "df_fifa.head()"
      ],
      "execution_count": null,
      "outputs": []
    },
    {
      "cell_type": "markdown",
      "metadata": {
        "id": "yUpmf_cRfDsB"
      },
      "source": [
        "## 6) Há Missing values nos dados? Se sim, o qual sua proposta (proposta do grupo) para tratar estes Missing values?"
      ]
    },
    {
      "cell_type": "code",
      "metadata": {
        "id": "8igZ3rRfLDt_"
      },
      "source": [
        "# gera nome para a coluna 0\n",
        "df_fifa.rename( columns={'unnamed: 0':'seq'}, inplace=True )\n",
        "df_fifa.head()"
      ],
      "execution_count": null,
      "outputs": []
    },
    {
      "cell_type": "code",
      "metadata": {
        "id": "dMJ0ZkJP7VzE"
      },
      "source": [
        "# mostra os valores das colunas\n",
        "d_col_val = {}\n",
        "for col in df_fifa.columns:\n",
        "  d_col_val[col] = df_fifa[col].unique()\n",
        "\n",
        "d_col_val"
      ],
      "execution_count": null,
      "outputs": []
    },
    {
      "cell_type": "code",
      "metadata": {
        "id": "rPi3TnJUIsef"
      },
      "source": [
        "# list comprehension para mostrar as colunas com missing values e as quantidades correspondentes\n",
        "l_missing_values_col = [ col for col in df_fifa.columns if df_fifa[col].isnull().sum() > 0 ]\n",
        "l_missing_values_col"
      ],
      "execution_count": null,
      "outputs": []
    },
    {
      "cell_type": "code",
      "metadata": {
        "id": "MAt7Mz-ITthx"
      },
      "source": [
        "df_fifa.dtypes.unique()"
      ],
      "execution_count": null,
      "outputs": []
    },
    {
      "cell_type": "markdown",
      "metadata": {
        "id": "6UTuxSzJWJ3o"
      },
      "source": [
        "* Para as variáveis numéricas, optar pela mediana, de modo a não alterar distribuição.\n",
        "\n",
        "* Para as variáveis categóricas, analisar cada uma e determinar conteúdo"
      ]
    },
    {
      "cell_type": "code",
      "metadata": {
        "id": "kMrdqXx7kK1Q"
      },
      "source": [
        "# variáveis numéricas"
      ],
      "execution_count": null,
      "outputs": []
    },
    {
      "cell_type": "code",
      "metadata": {
        "id": "eo0kcyiCMvBs"
      },
      "source": [
        "# teste\n",
        "df_fifa['sprintspeed'].median()"
      ],
      "execution_count": null,
      "outputs": []
    },
    {
      "cell_type": "code",
      "metadata": {
        "id": "1I0j4B7EWfYY"
      },
      "source": [
        "# aplicação da mediana para variáveis numéricas\n",
        "for col in df_fifa.columns:\n",
        "  if ( df_fifa[col].dtype == 'int64' ) or ( df_fifa[col].dtype == 'float64' ):\n",
        "    df_fifa[col].fillna( df_fifa[col].median(), inplace=True )\n",
        "\n",
        "df_fifa.isnull().sum()"
      ],
      "execution_count": null,
      "outputs": []
    },
    {
      "cell_type": "code",
      "metadata": {
        "id": "4SeXSeybUSyx"
      },
      "source": [
        "# avaliação da representatividade dos missing values\n",
        "ds_lin, ds_col = df_fifa.shape\n",
        "for col in df_fifa.columns:\n",
        "  soma_mv = df_fifa[col].isnull().sum()\n",
        "  if soma_mv > 0:\n",
        "    print(col, ': tipo ', df_fifa[col].dtype, ': qt ', soma_mv, ' : ', (soma_mv/ds_lin)*100, ' %' )"
      ],
      "execution_count": null,
      "outputs": []
    },
    {
      "cell_type": "code",
      "metadata": {
        "id": "jP1f626akPOC"
      },
      "source": [
        "# variáveis categóricas"
      ],
      "execution_count": null,
      "outputs": []
    },
    {
      "cell_type": "code",
      "metadata": {
        "id": "_-ut3p8easuV"
      },
      "source": [
        "# transformação de variáveis numéricas formatadas - height\n",
        "df_fifa['height'].unique()"
      ],
      "execution_count": null,
      "outputs": []
    },
    {
      "cell_type": "code",
      "metadata": {
        "id": "M1LdBCxAkj-t"
      },
      "source": [
        "s1 = \"6'8\"\n",
        "s1.split(\"'\",1)[1]"
      ],
      "execution_count": null,
      "outputs": []
    },
    {
      "cell_type": "code",
      "metadata": {
        "id": "rwqoYBEkVAeM"
      },
      "source": [
        "# conversão de altura : feet'inch -> metros\n",
        "def func_converte_altura( altura_ingles ):\n",
        "  '''\n",
        "  conversão de altura : feet'inch -> metros\n",
        "  '''\n",
        "  altura_aux = altura_ingles.split( \"'\", 1 )\n",
        "  altura_feet = altura_aux[0]\n",
        "  try:\n",
        "    altura_inch = altura_aux[1]\n",
        "  except:\n",
        "    altura_inch = 0.0\n",
        "  return ( ( float( altura_feet ) * 12 ) + float( altura_inch ) ) * 0.0254\n"
      ],
      "execution_count": null,
      "outputs": []
    },
    {
      "cell_type": "code",
      "metadata": {
        "id": "lf9_ok6bcHX0"
      },
      "source": [
        "df_fifa['new_height'] = df_fifa['height'].astype('str').map( func_converte_altura )\n",
        "df_fifa.head()\n"
      ],
      "execution_count": null,
      "outputs": []
    },
    {
      "cell_type": "code",
      "metadata": {
        "id": "WiuY2nEZb9wf"
      },
      "source": [
        "df_fifa['new_height'].dtype"
      ],
      "execution_count": null,
      "outputs": []
    },
    {
      "cell_type": "code",
      "metadata": {
        "id": "gT_IscLCv25e"
      },
      "source": [
        "df_fifa['new_height'].fillna( df_fifa['new_height'].median(), inplace=True )\n",
        "df_fifa.head()"
      ],
      "execution_count": null,
      "outputs": []
    },
    {
      "cell_type": "code",
      "metadata": {
        "id": "YrGOwlvKtgHg"
      },
      "source": [
        "df_fifa['new_height'].isnull().sum()"
      ],
      "execution_count": null,
      "outputs": []
    },
    {
      "cell_type": "code",
      "metadata": {
        "id": "Y16DoRObznuh"
      },
      "source": [
        "# transformação de variáveis numéricas formatadas - weight\n",
        "df_fifa['weight'].unique()"
      ],
      "execution_count": null,
      "outputs": []
    },
    {
      "cell_type": "code",
      "metadata": {
        "id": "qV4CX31namYt"
      },
      "source": [
        "# conversão de peso : lbs -> kg\n",
        "def func_converte_peso( peso_lbs ):\n",
        "  '''\n",
        "  conversão de peso : lbs -> kg\n",
        "  '''\n",
        "  peso_valor = peso_lbs.split( 'lbs', 1 )\n",
        "  return float( peso_valor[0] ) * 0.453592"
      ],
      "execution_count": null,
      "outputs": []
    },
    {
      "cell_type": "code",
      "metadata": {
        "id": "09HQkz3Cgx6K"
      },
      "source": [
        "df_fifa['new_weight'] = df_fifa['weight'].astype('str').map( func_converte_peso )\n",
        "df_fifa.head()"
      ],
      "execution_count": null,
      "outputs": []
    },
    {
      "cell_type": "code",
      "metadata": {
        "id": "EZgy-XT8dZwl"
      },
      "source": [
        "df_fifa['new_weight'].dtype"
      ],
      "execution_count": null,
      "outputs": []
    },
    {
      "cell_type": "code",
      "metadata": {
        "id": "6xkchsbjt3WQ"
      },
      "source": [
        "df_fifa['new_weight'].fillna( df_fifa['new_weight'].median(), inplace=True )\n",
        "df_fifa.head()"
      ],
      "execution_count": null,
      "outputs": []
    },
    {
      "cell_type": "code",
      "metadata": {
        "id": "87Lrx-OEtvMi"
      },
      "source": [
        "df_fifa['new_weight'].isnull().sum()"
      ],
      "execution_count": null,
      "outputs": []
    },
    {
      "cell_type": "code",
      "metadata": {
        "id": "zBiPeRESxQVq"
      },
      "source": [
        "# elimina as colunas originais\n",
        "df_fifa.drop(inplace=True, columns=['height','weight'])\n",
        "df_fifa.head()"
      ],
      "execution_count": null,
      "outputs": []
    },
    {
      "cell_type": "markdown",
      "metadata": {
        "id": "R-hSOShOxoEe"
      },
      "source": [
        "### demais colunas categóricas"
      ]
    },
    {
      "cell_type": "code",
      "metadata": {
        "id": "kS0ddunf1lkj"
      },
      "source": [
        "# nova avaliação da representatividade dos missing values\n",
        "ds_lin, ds_col = df_fifa.shape\n",
        "for col in df_fifa.columns:\n",
        "  soma_mv = df_fifa[col].isnull().sum()\n",
        "  if soma_mv > 0:\n",
        "    print(col, ': tipo ', df_fifa[col].dtype, ': qt ', soma_mv, ' : ', (soma_mv/ds_lin)*100, ' %' )"
      ],
      "execution_count": null,
      "outputs": []
    },
    {
      "cell_type": "code",
      "metadata": {
        "id": "0DmPlA9MyJDq"
      },
      "source": [
        "# list comprehension para mostrar as colunas com missing values e as quantidades correspondentes\n",
        "l_missing_values_col = [ col for col in df_fifa.columns if df_fifa[col].isnull().sum() > 0 ]\n",
        "l_missing_values_col"
      ],
      "execution_count": null,
      "outputs": []
    },
    {
      "cell_type": "code",
      "metadata": {
        "id": "ojLYQ1ZGxs_r"
      },
      "source": [
        "# 'club' : atribuir texto 'sem clube'\n",
        "df_fifa['club'].fillna( 'sem clube', inplace=True )\n",
        "df_fifa['club'].isnull().sum()"
      ],
      "execution_count": null,
      "outputs": []
    },
    {
      "cell_type": "code",
      "metadata": {
        "id": "fUtwXpGkybUc"
      },
      "source": [
        "# 'preferred foot' : atribuir o mais freqüente (poderia distribuir aleatoriamente entre 'Right' e 'Left' ?)\n",
        "df_fifa['preferred foot'].value_counts().plot(kind='bar')"
      ],
      "execution_count": null,
      "outputs": []
    },
    {
      "cell_type": "code",
      "metadata": {
        "id": "21gBOkRF0dkk"
      },
      "source": [
        "df_fifa['preferred foot'].fillna( 'Right', inplace=True )\n",
        "df_fifa['preferred foot'].isnull().sum()"
      ],
      "execution_count": null,
      "outputs": []
    },
    {
      "cell_type": "code",
      "metadata": {
        "id": "-WZp0MkRydYE"
      },
      "source": [
        "# 'work rate' : atribuir o mais freqüente : 'Medium/ Medium'\n",
        "df_fifa['work rate'].value_counts()"
      ],
      "execution_count": null,
      "outputs": []
    },
    {
      "cell_type": "code",
      "metadata": {
        "id": "zBV634Kr2Kp9"
      },
      "source": [
        "df_fifa['work rate'].value_counts().plot(kind='bar')"
      ],
      "execution_count": null,
      "outputs": []
    },
    {
      "cell_type": "code",
      "metadata": {
        "id": "7nzn4YNn2ZfF"
      },
      "source": [
        "df_fifa['work rate'].fillna( 'Medium/ Medium', inplace=True )\n",
        "df_fifa['work rate'].isnull().sum()"
      ],
      "execution_count": null,
      "outputs": []
    },
    {
      "cell_type": "code",
      "metadata": {
        "id": "NtJl3x_dyhRs"
      },
      "source": [
        "# 'body type' - atribuir tipo 'Normal'\n",
        "df_fifa['body type'].value_counts().plot(kind='bar')"
      ],
      "execution_count": null,
      "outputs": []
    },
    {
      "cell_type": "code",
      "metadata": {
        "id": "DRy9Ba-W5mQE"
      },
      "source": [
        "df_fifa['body type'].fillna( 'Normal', inplace=True )\n",
        "df_fifa['body type'].isnull().sum()"
      ],
      "execution_count": null,
      "outputs": []
    },
    {
      "cell_type": "code",
      "metadata": {
        "id": "iW5OojknyjH5"
      },
      "source": [
        "# 'position' - atribuir o mais freqüente : 'ST' striker\n",
        "df_fifa['position'].value_counts().plot(kind='bar')"
      ],
      "execution_count": null,
      "outputs": []
    },
    {
      "cell_type": "code",
      "metadata": {
        "id": "p7VEhjMH6DHQ"
      },
      "source": [
        "df_fifa['position'].fillna( 'ST', inplace=True )\n",
        "df_fifa['position'].isnull().sum()"
      ],
      "execution_count": null,
      "outputs": []
    },
    {
      "cell_type": "code",
      "metadata": {
        "id": "KQEz-GcKylC2"
      },
      "source": [
        "# 'joined' - string - considerar 'nd' não disponível\n",
        "df_fifa['joined'].unique()"
      ],
      "execution_count": null,
      "outputs": []
    },
    {
      "cell_type": "code",
      "metadata": {
        "id": "2IVSHVkb6iA6"
      },
      "source": [
        "df_fifa['joined'].fillna( 'nd', inplace=True )\n",
        "df_fifa['joined'].isnull().sum()"
      ],
      "execution_count": null,
      "outputs": []
    },
    {
      "cell_type": "code",
      "metadata": {
        "id": "J1oZhGrnym6O"
      },
      "source": [
        "# 'loaned from' - string - considerar 'nd' não disponível\n",
        "df_fifa['loaned from'].unique()"
      ],
      "execution_count": null,
      "outputs": []
    },
    {
      "cell_type": "code",
      "metadata": {
        "id": "RytXI6XS6107"
      },
      "source": [
        "df_fifa['loaned from'].fillna( 'nd', inplace=True )\n",
        "df_fifa['loaned from'].isnull().sum()"
      ],
      "execution_count": null,
      "outputs": []
    },
    {
      "cell_type": "code",
      "metadata": {
        "id": "sX_yoe8ByotH"
      },
      "source": [
        "# 'contract valid until'\n",
        "df_fifa['contract valid until'].unique()"
      ],
      "execution_count": null,
      "outputs": []
    },
    {
      "cell_type": "code",
      "metadata": {
        "id": "ruo5qynZ7Ade"
      },
      "source": [
        "df_fifa['contract valid until'].fillna( 'nd', inplace=True )\n",
        "df_fifa['contract valid until'].isnull().sum()"
      ],
      "execution_count": null,
      "outputs": []
    },
    {
      "cell_type": "markdown",
      "metadata": {
        "id": "gd8nWe0Fhk9Q"
      },
      "source": [
        "## 7) Qual a distribuição do número de jogadores por países? Apresente uma tabela com a distribuição."
      ]
    },
    {
      "cell_type": "code",
      "metadata": {
        "id": "EgZnRm7ejPIr"
      },
      "source": [
        "df_jogador_pais = df_fifa.groupby('nationality').agg({'id':'count'})\n",
        "df_jogador_pais.columns = ['qt_jogadores']\n",
        "df_jogador_pais.sort_values(by='qt_jogadores',ascending=False)"
      ],
      "execution_count": null,
      "outputs": []
    },
    {
      "cell_type": "code",
      "metadata": {
        "id": "kQqpbL9CRZ7K"
      },
      "source": [
        "# tentar pd.crosstab()"
      ],
      "execution_count": null,
      "outputs": []
    },
    {
      "cell_type": "markdown",
      "metadata": {
        "id": "EVet6Fotho3Y"
      },
      "source": [
        "## 8) Qual a média de idade dos jogadores por países (variável/atributo 'Nacionality');"
      ]
    },
    {
      "cell_type": "code",
      "metadata": {
        "id": "6KFwoaz8lfVz"
      },
      "source": [
        "df_idade_pais = df_fifa.groupby('nationality').agg({'id':'count','age':'mean'})\n",
        "df_idade_pais.columns = ['qt_jogadores','idade']\n",
        "df_idade_pais.sort_values(by='idade',ascending=False)"
      ],
      "execution_count": null,
      "outputs": []
    },
    {
      "cell_type": "markdown",
      "metadata": {
        "id": "EUWlvhVihuW1"
      },
      "source": [
        "## 9) Qual a número de jogadores por idade?"
      ]
    },
    {
      "cell_type": "code",
      "metadata": {
        "id": "04uYHoyHmNEb"
      },
      "source": [
        "df_jogador_idade = df_fifa.groupby('age').agg({'age':'count'})\n",
        "df_jogador_idade.columns = ['qt_idade']\n",
        "df_jogador_idade.sort_values(by='qt_idade',ascending=False)"
      ],
      "execution_count": null,
      "outputs": []
    },
    {
      "cell_type": "code",
      "metadata": {
        "id": "_b5_j0B78JHm"
      },
      "source": [
        "df_fifa['age'].value_counts().plot(kind='bar')"
      ],
      "execution_count": null,
      "outputs": []
    },
    {
      "cell_type": "markdown",
      "metadata": {
        "id": "IQ3p5NMvhwXB"
      },
      "source": [
        "## 10) Quantos jogadores possuem cada clube?"
      ]
    },
    {
      "cell_type": "code",
      "metadata": {
        "id": "5Dpq4oIxmegx"
      },
      "source": [
        "df_fifa.groupby('club').agg({'id':'count'}).sort_values(by='id',ascending=False)"
      ],
      "execution_count": null,
      "outputs": []
    },
    {
      "cell_type": "markdown",
      "metadata": {
        "id": "gubwKf5zhyU-"
      },
      "source": [
        "## 11) Qual a média de idade por clube?"
      ]
    },
    {
      "cell_type": "code",
      "metadata": {
        "id": "Y3-eyN-tmu7A"
      },
      "source": [
        "df_fifa.groupby('club').agg({'id':'count','age':'mean'}).sort_values(by='age',ascending=False)\n",
        "\n",
        "#df_fifa.groupby('club').agg({'age':['mean','min','max']}).sort_values(by='age',ascending=False)"
      ],
      "execution_count": null,
      "outputs": []
    },
    {
      "cell_type": "markdown",
      "metadata": {
        "id": "UfZ_JMlfh0HE"
      },
      "source": [
        "## 12) Qual a média de salário por país?"
      ]
    },
    {
      "cell_type": "markdown",
      "metadata": {
        "id": "t7jo7TZQnv3O"
      },
      "source": [
        "coluna 'new_wage'\n"
      ]
    },
    {
      "cell_type": "code",
      "metadata": {
        "id": "TGw-IcEQvoIx"
      },
      "source": [
        "df_fifa.groupby('nationality').agg({'nationality':'count', 'new_wage':'mean'}).sort_values(by='new_wage',ascending=False)"
      ],
      "execution_count": null,
      "outputs": []
    },
    {
      "cell_type": "markdown",
      "metadata": {
        "id": "sIXPZzcQh1w9"
      },
      "source": [
        "## 13) Qual a média de salário por clube?"
      ]
    },
    {
      "cell_type": "code",
      "metadata": {
        "id": "PwSoCMdav7tu"
      },
      "source": [
        "df_fifa.groupby('club').agg({'id':'count','new_wage':'mean'}).sort_values(by='new_wage',ascending=False)"
      ],
      "execution_count": null,
      "outputs": []
    },
    {
      "cell_type": "markdown",
      "metadata": {
        "id": "kH6kvkk0h3Yi"
      },
      "source": [
        "## 14) Qual a média de salário por idade?"
      ]
    },
    {
      "cell_type": "code",
      "metadata": {
        "id": "pedSWHnhwAdy"
      },
      "source": [
        "df_fifa.groupby('age').agg({'age':'count', 'new_wage':'mean'}).sort_values(by='new_wage',ascending=False)"
      ],
      "execution_count": null,
      "outputs": []
    },
    {
      "cell_type": "markdown",
      "metadata": {
        "id": "tUAesspSh5Kh"
      },
      "source": [
        "## 15) Quanto cada clube gasta com pagamento de salários?"
      ]
    },
    {
      "cell_type": "code",
      "metadata": {
        "id": "h-v2qA_dwR4g"
      },
      "source": [
        "df_fifa.groupby('club').agg({'id':'count','new_wage':'sum'}).sort_values(by='new_wage',ascending=False)"
      ],
      "execution_count": null,
      "outputs": []
    },
    {
      "cell_type": "markdown",
      "metadata": {
        "id": "CQiPLtlle_bX"
      },
      "source": [
        "* ---------------------------------------------------------- ponto de início"
      ]
    },
    {
      "cell_type": "markdown",
      "metadata": {
        "id": "jsA_lLH8h7cl"
      },
      "source": [
        "## 16) Quais são os insight (o que você consegue descobrir) em relação à variável 'Potential' (mede o potencial dos jogadores)?"
      ]
    },
    {
      "cell_type": "code",
      "metadata": {
        "id": "ItyU2CWHQ7cf"
      },
      "source": [
        "df_fifa.columns"
      ],
      "execution_count": null,
      "outputs": []
    },
    {
      "cell_type": "code",
      "metadata": {
        "id": "BG7wDzM6X8SM"
      },
      "source": [
        "# lista das variáveis não numéricas\n",
        "for col in df_fifa.columns:\n",
        "  if ( df_fifa[col].dtype != 'int64' ) and ( df_fifa[col].dtype != 'float64' ):\n",
        "    print(col)"
      ],
      "execution_count": null,
      "outputs": []
    },
    {
      "cell_type": "code",
      "metadata": {
        "id": "tZ7YgHeBZDio"
      },
      "source": [
        "# nome das variáveis não numéricas\n",
        "colunas_categoricas = ['seq', 'id','name','nationality','club','preferred foot','work rate','body type','position','joined','loaned from','contract valid until','new_height','new_weight']"
      ],
      "execution_count": null,
      "outputs": []
    },
    {
      "cell_type": "code",
      "metadata": {
        "id": "OC8iV5GiYwr1"
      },
      "source": [
        "# cópia do dataframe para estudo de correlação\n",
        "df_X = df_fifa.copy()"
      ],
      "execution_count": null,
      "outputs": []
    },
    {
      "cell_type": "code",
      "metadata": {
        "id": "j_3nYr-kaGF6"
      },
      "source": [
        "df_X.drop(columns=colunas_categoricas, inplace=True)\n",
        "df_X.head()"
      ],
      "execution_count": null,
      "outputs": []
    },
    {
      "cell_type": "code",
      "metadata": {
        "id": "yJGEKtetPM14"
      },
      "source": [
        "df_X.columns"
      ],
      "execution_count": null,
      "outputs": []
    },
    {
      "cell_type": "code",
      "metadata": {
        "id": "CR8WCdd0R2Jn"
      },
      "source": [
        "# reordena colunas\n",
        "lista_colunas = [ 'acceleration', 'age', 'agility', 'aggression', 'balance', 'ballcontrol', 'composure', 'crossing',\n",
        " 'curve', 'dribbling', 'finishing', 'fkaccuracy', 'gkdiving', 'gkhandling', 'gkkicking', 'gkpositioning',\n",
        " 'gkreflexes', 'headingaccuracy', 'interceptions', 'international reputation', 'jumping', 'longpassing',\n",
        " 'longshots', 'marking', 'new_wage', 'new_value', 'new_release_value', 'overall', 'penalties', 'positioning',\n",
        " 'potential', 'reactions', 'shortpassing', 'shotpower', 'skill moves', 'slidingtackle', 'special', 'sprintspeed',\n",
        " 'stamina', 'standingtackle', 'strength', 'vision', 'volleys', 'weak foot' ]\n",
        "\n",
        "df_X = df_X[ lista_colunas ]"
      ],
      "execution_count": null,
      "outputs": []
    },
    {
      "cell_type": "code",
      "metadata": {
        "id": "HCtLq6p8jLYT"
      },
      "source": [
        "df_X.info()"
      ],
      "execution_count": null,
      "outputs": []
    },
    {
      "cell_type": "code",
      "metadata": {
        "id": "QqcR3qABhLL_"
      },
      "source": [
        "# geração de dados reescalonados : coluna_rescala = ( val - media ) / desvio\n",
        "for col in df_X.columns:\n",
        "  media = df_X[col].mean()\n",
        "  desvio = df_X[col].std()\n",
        "  df_X[col] = df_X[col].sub( media )\n",
        "  df_X[col] = df_X[col].div( desvio )\n",
        "\n",
        "df_X.head()"
      ],
      "execution_count": null,
      "outputs": []
    },
    {
      "cell_type": "code",
      "metadata": {
        "id": "LWpIAcwDgVN9"
      },
      "source": [
        "# df_X.corr() : Compute pairwise correlation of columns, excluding NA/null values.\n",
        "# np.triu() : Return a copy of a matrix with the elements below the k-th diagonal zeroed.\n",
        "# np.ones() : Return a new array of given shape and type, filled with ones.\n",
        "\n",
        "# matriz de correlação entre colunas numéricas - Pearson\n",
        "matriz_cor = df_X.corr().where( np.triu( np.ones( df_X.corr().shape ), k=1 ).astype( np.bool ) )\n",
        "matriz_cor"
      ],
      "execution_count": null,
      "outputs": []
    },
    {
      "cell_type": "code",
      "metadata": {
        "id": "nCM6RycPl973"
      },
      "source": [
        "# conjunto de colunas correlacionadas\n",
        "set_col_cor = set()\n",
        "\n",
        "for i in range( len( matriz_cor.columns ) ):\n",
        "  for j in range( i ):\n",
        "    if abs( matriz_cor.iloc[i,j] ) > 0.8:\n",
        "      nome_col = matriz_cor.columns[i]\n",
        "      set_col_cor.add( nome_col )\n",
        "\n",
        "set_col_cor"
      ],
      "execution_count": null,
      "outputs": []
    },
    {
      "cell_type": "code",
      "metadata": {
        "id": "5TVKOTgVwcLF"
      },
      "source": [
        "# diminui tamanho da fonte de caracteres\n",
        "sns.set(font_scale=0.8)\n",
        "\n",
        "# Create a figure and a set of subplots.\n",
        "fig, ax = plt.subplots( figsize = ( 25, 25 ) )\n",
        "\n",
        "# numpy.zeros_like(a, dtype=None, order='K', subok=True, shape=None) : Return an array of zeros with the same shape and type as a given array.\n",
        "mask = np.zeros_like( df_X.corr().abs() )\n",
        "\n",
        "# numpy.triu_indices_from(arr, k=0)[source] : Return the indices for the upper-triangle of arr.\n",
        "mask[ np.triu_indices_from( mask ) ] = 1\n",
        "\n",
        "# seaborn.heatmap(data, *, vmin=None, vmax=None, cmap=None, center=None, robust=False, annot=None, fmt='.2g',\n",
        "# annot_kws=None, linewidths=0, linecolor='white', cbar=True, cbar_kws=None, cbar_ax=None, square=False,\n",
        "# xticklabels='auto', yticklabels='auto', mask=None, ax=None, **kwargs)\n",
        "#\n",
        "# Plot rectangular data as a color-encoded matrix.\n",
        "sns.heatmap( df_X.corr().abs(), mask = mask, ax = ax, cmap = 'coolwarm', annot = True, fmt = '.2f', center = 0 )"
      ],
      "execution_count": null,
      "outputs": []
    },
    {
      "cell_type": "code",
      "metadata": {
        "id": "AcXJ1fzks1CW"
      },
      "source": [
        "# scatter plot sem regressão\n",
        "#sns.pairplot( df_X, kind = 'scatter' )\n",
        "#plt.show()"
      ],
      "execution_count": null,
      "outputs": []
    },
    {
      "cell_type": "markdown",
      "metadata": {
        "id": "Ys09oABTh9Tf"
      },
      "source": [
        "## 17) Quais os insights em relação à variável overall (nota média do atleta) por idade, clube e país?"
      ]
    },
    {
      "cell_type": "code",
      "metadata": {
        "id": "MOX8FjRU65r6"
      },
      "source": [
        "df_fifa.groupby(['club']).agg({'overall':'mean'}).sort_values(by=['overall'], ascending=False)"
      ],
      "execution_count": null,
      "outputs": []
    },
    {
      "cell_type": "code",
      "metadata": {
        "id": "o8GX-dqycBg_"
      },
      "source": [
        "df_fifa.groupby(['nationality']).agg({'id':'count','overall':'mean'}).sort_values(by=['overall'], ascending=False)"
      ],
      "execution_count": null,
      "outputs": []
    },
    {
      "cell_type": "code",
      "metadata": {
        "id": "kKSBqixGcTW7"
      },
      "source": [
        "df_fifa.groupby(['age']).agg({'id':'count','overall':'mean'}).sort_values(by=['overall'], ascending=False)"
      ],
      "execution_count": null,
      "outputs": []
    },
    {
      "cell_type": "code",
      "metadata": {
        "id": "_NhL_ytobTyV"
      },
      "source": [
        "df_fifa.groupby(['overall']).agg({'nationality':'count','club':'count'}).sort_values(by=['overall'], ascending=False)"
      ],
      "execution_count": null,
      "outputs": []
    },
    {
      "cell_type": "code",
      "metadata": {
        "id": "dlhUnkyJUFcD"
      },
      "source": [
        "# no heatmap, correlação age x overall = 0.45\n",
        "sns.jointplot( df_X['age'], df_X['overall'], kind='kde' )\n",
        "plt.show()"
      ],
      "execution_count": null,
      "outputs": []
    },
    {
      "cell_type": "markdown",
      "metadata": {
        "id": "BKNvUaOlulCD"
      },
      "source": [
        "* ---------------------------------------------------------- ponto final"
      ]
    },
    {
      "cell_type": "markdown",
      "metadata": {
        "id": "nHEe5Oc8h-Ic"
      },
      "source": [
        "## 18) Quais são os melhores clubes se levarmos em consideração as variáveis Potential e Overall?"
      ]
    },
    {
      "cell_type": "code",
      "metadata": {
        "id": "cgeBDdqatSdc"
      },
      "source": [
        "df_fifa.groupby('club').agg({'potential':'sum','overall':'sum'}).sort_values(by=['potential','overall'], ascending=False)"
      ],
      "execution_count": null,
      "outputs": []
    },
    {
      "cell_type": "markdown",
      "metadata": {
        "id": "9gPfH_lmiBvk"
      },
      "source": [
        "## 19) Apresente o ranking dos goleiros (use a variável/atributo 'Preferred Positions'. por Potencial, Overall. Estamos à procura de 'GK'."
      ]
    },
    {
      "cell_type": "code",
      "metadata": {
        "id": "muEack4TwjiU"
      },
      "source": [
        "df_fifa.columns"
      ],
      "execution_count": null,
      "outputs": []
    },
    {
      "cell_type": "code",
      "metadata": {
        "id": "wBDCWsOwwyPf"
      },
      "source": [
        "df_fifa['position'].value_counts()"
      ],
      "execution_count": null,
      "outputs": []
    },
    {
      "cell_type": "code",
      "metadata": {
        "id": "PU18359BzLkQ"
      },
      "source": [
        "df_fifa[ df_fifa['position'] == 'GK' ].groupby('name').agg({'potential':'max','overall':'max'}).sort_values(by=['potential','overall'], ascending=False)"
      ],
      "execution_count": null,
      "outputs": []
    },
    {
      "cell_type": "markdown",
      "metadata": {
        "id": "3T_bZX4yiE9j"
      },
      "source": [
        "## 20) Quem são os jogadores mais rápidos (variável/atributo 'Sprint speed'?"
      ]
    },
    {
      "cell_type": "code",
      "metadata": {
        "id": "CSi4fP-2LE-R"
      },
      "source": [
        "df_fifa['sprintspeed'].median()"
      ],
      "execution_count": null,
      "outputs": []
    },
    {
      "cell_type": "code",
      "metadata": {
        "id": "96lfI1OM0UX8"
      },
      "source": [
        "df_fifa.groupby('name').agg({'sprintspeed':'max'}).sort_values(by=['sprintspeed'], ascending=False).head(10)"
      ],
      "execution_count": null,
      "outputs": []
    },
    {
      "cell_type": "markdown",
      "metadata": {
        "id": "grXibusQiH3A"
      },
      "source": [
        "## 21) Quem são os 5 melhores jogadores em termos de chute (força para chutar) (use a variável/atributo 'Shot power')?"
      ]
    },
    {
      "cell_type": "code",
      "metadata": {
        "id": "h5ox3C2O1B4l"
      },
      "source": [
        "df_fifa['shotpower'].value_counts()"
      ],
      "execution_count": null,
      "outputs": []
    },
    {
      "cell_type": "code",
      "metadata": {
        "id": "8EUoucef1HzN"
      },
      "source": [
        "df_fifa.groupby('name').agg({'shotpower':'max'}).sort_values(by=['shotpower'], ascending=False).head(5)"
      ],
      "execution_count": null,
      "outputs": []
    },
    {
      "cell_type": "code",
      "metadata": {
        "id": "UV7852k9mNl1"
      },
      "source": [
        "# se fosse por salário\n",
        "df_fifa['new_wage'].value_counts()"
      ],
      "execution_count": null,
      "outputs": []
    },
    {
      "cell_type": "code",
      "metadata": {
        "id": "VVoRokHGmT87"
      },
      "source": [
        "df_fifa.groupby('name').agg({'new_wage':'max'}).sort_values(by=['new_wage'], ascending=False).head(5)"
      ],
      "execution_count": null,
      "outputs": []
    },
    {
      "cell_type": "markdown",
      "metadata": {
        "id": "GvXjKE8giL37"
      },
      "source": [
        "## 22) Quem são os outliers em termos de salário?"
      ]
    },
    {
      "cell_type": "code",
      "metadata": {
        "id": "gEbOROIA4esI"
      },
      "source": [
        "df_fifa['new_wage'].describe()"
      ],
      "execution_count": null,
      "outputs": []
    },
    {
      "cell_type": "code",
      "metadata": {
        "id": "aiiB_REA1ZO0"
      },
      "source": [
        "wage_percent = np.percentile( df_fifa['new_wage'], q=[1,25,50,75,99] )\n",
        "wage_percent"
      ],
      "execution_count": null,
      "outputs": []
    },
    {
      "cell_type": "code",
      "metadata": {
        "id": "I8i7-jD32s9W"
      },
      "source": [
        "wage_q1 = wage_percent[1]\n",
        "wage_q3 = wage_percent[3]\n",
        "print('q1 ',wage_q1,' q3 ',wage_q3)"
      ],
      "execution_count": null,
      "outputs": []
    },
    {
      "cell_type": "code",
      "metadata": {
        "id": "waC_oDoZ3Cvm"
      },
      "source": [
        "wage_linf = wage_q1 - (1.5 * (wage_q3 - wage_q1))\n",
        "wage_lsup = wage_q3 + (1.5 * (wage_q3 - wage_q1))\n",
        "print('wage inf ',wage_linf,' wage sup ',wage_lsup)"
      ],
      "execution_count": null,
      "outputs": []
    },
    {
      "cell_type": "code",
      "metadata": {
        "id": "uMAfHiwD3d_P"
      },
      "source": [
        "# outliers sup\n",
        "df_fifa.loc[ df_fifa['new_wage'] > wage_lsup ][['name','new_wage']]"
      ],
      "execution_count": null,
      "outputs": []
    },
    {
      "cell_type": "code",
      "metadata": {
        "id": "BjbU3U6Z3_c6"
      },
      "source": [
        "# outliers inf\n",
        "df_fifa.loc[ df_fifa['new_wage'] < wage_linf ]['name']"
      ],
      "execution_count": null,
      "outputs": []
    },
    {
      "cell_type": "markdown",
      "metadata": {
        "id": "-jJRT74_iONj"
      },
      "source": [
        "## 23) Quem são os outliers em termos de potência no chute?"
      ]
    },
    {
      "cell_type": "code",
      "metadata": {
        "id": "0TCC-gpu55WZ"
      },
      "source": [
        "df_fifa['shotpower'].describe()"
      ],
      "execution_count": null,
      "outputs": []
    },
    {
      "cell_type": "code",
      "metadata": {
        "id": "nZ9dPGsa6EDq"
      },
      "source": [
        "sp_percent = np.percentile( df_fifa['shotpower'], q=[1,25,50,75,99] )\n",
        "sp_percent"
      ],
      "execution_count": null,
      "outputs": []
    },
    {
      "cell_type": "code",
      "metadata": {
        "id": "UCuatfZoOhY0"
      },
      "source": [
        "sp_q1 = sp_percent[1]\n",
        "sp_q3 = sp_percent[3]\n",
        "print('q1 ',sp_q1,' q3 ',sp_q3)"
      ],
      "execution_count": null,
      "outputs": []
    },
    {
      "cell_type": "code",
      "metadata": {
        "id": "mukKMvkVOzqx"
      },
      "source": [
        "sp_linf = sp_q1 - (1.5 * (sp_q3 - sp_q1))\n",
        "sp_lsup = sp_q3 + (1.5 * (sp_q3 - sp_q1))\n",
        "print('sp inf ',sp_linf,' sp sup ',sp_lsup)"
      ],
      "execution_count": null,
      "outputs": []
    },
    {
      "cell_type": "code",
      "metadata": {
        "id": "Dxesh2IjPF4R"
      },
      "source": [
        "# outliers sup\n",
        "df_fifa.loc[ df_fifa['shotpower'] > sp_lsup ]['name']"
      ],
      "execution_count": null,
      "outputs": []
    },
    {
      "cell_type": "code",
      "metadata": {
        "id": "GghmTcY2PKXZ"
      },
      "source": [
        "# outliers inf\n",
        "df_fifa.loc[ df_fifa['shotpower'] < sp_linf ][['name','shotpower']]"
      ],
      "execution_count": null,
      "outputs": []
    },
    {
      "cell_type": "markdown",
      "metadata": {
        "id": "IW6OavXSinkH"
      },
      "source": [
        "* Exercício 2 do notebook de visualização\n",
        "\n",
        "\n",
        "Usando o dataframe FIFA, responda:\n",
        "\n",
        "(1) Mostre o gráfico de barras com o número de jogadores por clube;\n",
        "\n",
        "(2) Mostre o boxplot/histograma dos salários dos atletas para os clubes Real Madrid, Barcelona Paris Saint-Germain Bayern Munich e Juventus."
      ]
    },
    {
      "cell_type": "code",
      "metadata": {
        "id": "gtpDkXi-jjN_"
      },
      "source": [
        "# (1) Mostre o gráfico de barras com o número de jogadores por clube\n",
        "\n",
        "df_fifa.groupby('club').agg({'id':'count'}).sort_values(by='id',ascending=False).head(10).plot(kind='barh')\n"
      ],
      "execution_count": null,
      "outputs": []
    },
    {
      "cell_type": "code",
      "metadata": {
        "id": "12d6vpWJmGho"
      },
      "source": [
        "# histograma de salário por clube\n",
        "# (2) Mostre o boxplot/histograma dos salários dos atletas para os clubes Real Madrid, Barcelona Paris Saint-Germain Bayern Munich e Juventus.\n",
        "df_fifa.loc[ df_fifa['club'] == 'Real Madrid' ][ 'new_wage' ].plot( kind='hist', bins=100, stacked=True)"
      ],
      "execution_count": null,
      "outputs": []
    },
    {
      "cell_type": "code",
      "metadata": {
        "id": "eP-LM1AInphG"
      },
      "source": [
        "df_fifa.loc[ df_fifa['club'] == 'FC Barcelona' ][ 'new_wage' ].plot( kind='hist', bins=100, stacked=True)"
      ],
      "execution_count": null,
      "outputs": []
    },
    {
      "cell_type": "code",
      "metadata": {
        "id": "uyt_0l3Un9cl"
      },
      "source": [
        "df_fifa.loc[ df_fifa['club'] == 'Paris Saint-Germain' ][ 'new_wage' ].plot( kind='hist', bins=100, stacked=True)"
      ],
      "execution_count": null,
      "outputs": []
    },
    {
      "cell_type": "code",
      "metadata": {
        "id": "kbl4j5XVoGYx"
      },
      "source": [
        "df_fifa.loc[ df_fifa['club'].str.contains('Bayern') ][ 'new_wage' ].plot( kind='hist', bins=100, stacked=True)"
      ],
      "execution_count": null,
      "outputs": []
    },
    {
      "cell_type": "code",
      "metadata": {
        "id": "DfEll4fgoWP7"
      },
      "source": [
        "df_fifa.loc[ df_fifa['club'] == 'Juventus' ][ 'new_wage' ].plot( kind='hist', bins=100, stacked=True)"
      ],
      "execution_count": null,
      "outputs": []
    },
    {
      "cell_type": "code",
      "metadata": {
        "id": "wmGSDNnotzI7"
      },
      "source": [
        "# df_fifa[ df_fifa['club'].isin[ 'FC Barcelona','Paris Saint-Germain','FC Bayern Munchen','Real Madrid','Juventus' ] ]#.plot( kind='hist', bins=100, stacked=True)"
      ],
      "execution_count": null,
      "outputs": []
    }
  ]
}