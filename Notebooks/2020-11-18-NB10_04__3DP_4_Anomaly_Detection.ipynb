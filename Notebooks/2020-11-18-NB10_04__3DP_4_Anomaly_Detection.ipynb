{
  "nbformat": 4,
  "nbformat_minor": 0,
  "metadata": {
    "colab": {
      "name": "NB10_04__3DP_4_Anomaly_Detection.ipynb",
      "provenance": [],
      "collapsed_sections": [],
      "include_colab_link": true
    },
    "kernelspec": {
      "name": "python3",
      "display_name": "Python 3"
    }
  },
  "cells": [
    {
      "cell_type": "markdown",
      "metadata": {
        "id": "view-in-github",
        "colab_type": "text"
      },
      "source": [
        "<a href=\"https://colab.research.google.com/github/atarasaki/DSWP-editados/blob/main/Notebooks/2020-11-18-NB10_04__3DP_4_Anomaly_Detection.ipynb\" target=\"_parent\"><img src=\"https://colab.research.google.com/assets/colab-badge.svg\" alt=\"Open In Colab\"/></a>"
      ]
    },
    {
      "cell_type": "markdown",
      "metadata": {
        "id": "EAqSDJGzyYrx"
      },
      "source": [
        "<center><h1><b><i>3DP_4 - ANOMALY/OUTLIER DETECTION</i></b></h1></center>\n",
        "\n"
      ]
    },
    {
      "cell_type": "markdown",
      "metadata": {
        "id": "H-VrOjTTymSK"
      },
      "source": [
        "# **AGENDA**:\n",
        "\n",
        "> Consulte a **Table of contents**."
      ]
    },
    {
      "cell_type": "markdown",
      "metadata": {
        "id": "wSAsbafemNax"
      },
      "source": [
        "# **Melhorias da sessão**\n",
        "* Mostrar junto os gráficos com a região de Anomaly Score junto com a distribuição de probabilidade das variáveis envolvidas.\n",
        "* Mensagens de deprecating --> Analisar e substituir os métodos, funções deprecated;\n"
      ]
    },
    {
      "cell_type": "markdown",
      "metadata": {
        "id": "7qK6Yx0tBqUz"
      },
      "source": [
        "___\n",
        "# **Referências**\n",
        "* [Comparing anomaly detection algorithms for outlier detection on toy datasets](https://scikit-learn.org/stable/auto_examples/plot_anomaly_comparison.html#sphx-glr-auto-examples-plot-anomaly-comparison-py)\n",
        "* [Outlier detection with several methods](https://scikit-learn.org/0.18/auto_examples/covariance/plot_outlier_detection.html)\n",
        "* [anomaly-detection-resources](https://github.com/MathMachado/anomaly-detection-resources)\n",
        "* [Outlier Detection with Extended Isolation Forest](https://towardsdatascience.com/outlier-detection-with-extended-isolation-forest-1e248a3fe97b)\n",
        "* [Outlier Detection with Isolation Forest](https://towardsdatascience.com/outlier-detection-with-isolation-forest-3d190448d45e)."
      ]
    },
    {
      "cell_type": "markdown",
      "metadata": {
        "id": "f7tTnUJ6B2UG"
      },
      "source": [
        "___\n",
        "## O que é Anomaly Detection (= Análise de Outliers)?\n",
        "> Qualquer ponto/observação que é incomum quando comparado com todos os outros pontos/observações."
      ]
    },
    {
      "cell_type": "markdown",
      "metadata": {
        "id": "7VJZf1U5Ds_w"
      },
      "source": [
        "___\n",
        "# **Machine Learning com Python (Scikit-Learn)**\n",
        "\n",
        "![Scikit-Learn](https://github.com/MathMachado/Materials/blob/master/scikit-learn-1.png?raw=true)"
      ]
    },
    {
      "cell_type": "markdown",
      "metadata": {
        "id": "rpHJ1qVUEwOn"
      },
      "source": [
        "___\n",
        "# **Técnicas tradicionais para detecção de outliers**"
      ]
    },
    {
      "cell_type": "markdown",
      "metadata": {
        "id": "OOI_VTo3E3sv"
      },
      "source": [
        "## Boxplot\n",
        "* $IQR = Q_{3}-Q_{1}$\n",
        "\n",
        "![BoxPlot](https://github.com/MathMachado/Materials/blob/master/boxplot.png?raw=true)"
      ]
    },
    {
      "cell_type": "markdown",
      "metadata": {
        "id": "vivFsmJGFVC0"
      },
      "source": [
        "## Z-Score\n",
        "* Z-Score pode ser utilizado para detectar Outliers.\n",
        "* É a diferença entre o valor e a média da amostra expressa como o número de desvios-padrão. \n",
        "* Se o escore z for menor que 2,5 ou maior que 2,5, o valor estará nos 5% do menor ou maior valor (2,5% dos valores em ambas as extremidades da distribuição). No entanto, é pratica comum utilizarmos 3 ao invés dos 2,5.\n",
        "\n",
        "![Z_Score](https://github.com/MathMachado/Materials/blob/master/Z_Score.png?raw=true)"
      ]
    },
    {
      "cell_type": "markdown",
      "metadata": {
        "id": "7_YohlTIF8zi"
      },
      "source": [
        "___\n",
        "# **Hands-On**"
      ]
    },
    {
      "cell_type": "markdown",
      "metadata": {
        "id": "OrXdGg8t0V_D"
      },
      "source": [
        "## Carrega as Bibliotecas necessárias"
      ]
    },
    {
      "cell_type": "code",
      "metadata": {
        "id": "7pYqwxIe1Hcq",
        "colab": {
          "base_uri": "https://localhost:8080/"
        },
        "outputId": "31693eb8-e717-4f1c-88a7-40bccc5cccc6"
      },
      "source": [
        "!pip install pyod"
      ],
      "execution_count": 1,
      "outputs": [
        {
          "output_type": "stream",
          "text": [
            "Collecting pyod\n",
            "\u001b[?25l  Downloading https://files.pythonhosted.org/packages/2b/1d/22a6c4e796fff1066bf80bf59b4494d6e3582e22012a61721f4cb730b3c3/pyod-0.8.4.tar.gz (98kB)\n",
            "\r\u001b[K     |███▎                            | 10kB 17.4MB/s eta 0:00:01\r\u001b[K     |██████▋                         | 20kB 10.6MB/s eta 0:00:01\r\u001b[K     |██████████                      | 30kB 7.6MB/s eta 0:00:01\r\u001b[K     |█████████████▎                  | 40kB 7.2MB/s eta 0:00:01\r\u001b[K     |████████████████▋               | 51kB 4.3MB/s eta 0:00:01\r\u001b[K     |████████████████████            | 61kB 4.8MB/s eta 0:00:01\r\u001b[K     |███████████████████████▎        | 71kB 4.9MB/s eta 0:00:01\r\u001b[K     |██████████████████████████▋     | 81kB 5.2MB/s eta 0:00:01\r\u001b[K     |██████████████████████████████  | 92kB 5.1MB/s eta 0:00:01\r\u001b[K     |████████████████████████████████| 102kB 3.9MB/s \n",
            "\u001b[?25hCollecting combo\n",
            "  Downloading https://files.pythonhosted.org/packages/0a/2a/61b6ac584e75d8df16dc27962aa5fe99d76b09da5b6710e83d4862c84001/combo-0.1.1.tar.gz\n",
            "Requirement already satisfied: joblib in /usr/local/lib/python3.6/dist-packages (from pyod) (0.17.0)\n",
            "Requirement already satisfied: matplotlib in /usr/local/lib/python3.6/dist-packages (from pyod) (3.2.2)\n",
            "Requirement already satisfied: numpy>=1.13 in /usr/local/lib/python3.6/dist-packages (from pyod) (1.18.5)\n",
            "Requirement already satisfied: numba>=0.35 in /usr/local/lib/python3.6/dist-packages (from pyod) (0.48.0)\n",
            "Requirement already satisfied: pandas>=0.25 in /usr/local/lib/python3.6/dist-packages (from pyod) (1.1.4)\n",
            "Requirement already satisfied: scipy>=0.19.1 in /usr/local/lib/python3.6/dist-packages (from pyod) (1.4.1)\n",
            "Requirement already satisfied: scikit_learn>=0.19.1 in /usr/local/lib/python3.6/dist-packages (from pyod) (0.22.2.post1)\n",
            "Requirement already satisfied: six in /usr/local/lib/python3.6/dist-packages (from pyod) (1.15.0)\n",
            "Requirement already satisfied: statsmodels in /usr/local/lib/python3.6/dist-packages (from pyod) (0.10.2)\n",
            "Collecting suod\n",
            "\u001b[?25l  Downloading https://files.pythonhosted.org/packages/a1/87/9170cabe1b5e10a7d095c0e28f2e30e7c1886a13f063de85d3cfacc06f4b/suod-0.0.4.tar.gz (2.1MB)\n",
            "\u001b[K     |████████████████████████████████| 2.1MB 7.1MB/s \n",
            "\u001b[?25hRequirement already satisfied: kiwisolver>=1.0.1 in /usr/local/lib/python3.6/dist-packages (from matplotlib->pyod) (1.3.1)\n",
            "Requirement already satisfied: pyparsing!=2.0.4,!=2.1.2,!=2.1.6,>=2.0.1 in /usr/local/lib/python3.6/dist-packages (from matplotlib->pyod) (2.4.7)\n",
            "Requirement already satisfied: cycler>=0.10 in /usr/local/lib/python3.6/dist-packages (from matplotlib->pyod) (0.10.0)\n",
            "Requirement already satisfied: python-dateutil>=2.1 in /usr/local/lib/python3.6/dist-packages (from matplotlib->pyod) (2.8.1)\n",
            "Requirement already satisfied: llvmlite<0.32.0,>=0.31.0dev0 in /usr/local/lib/python3.6/dist-packages (from numba>=0.35->pyod) (0.31.0)\n",
            "Requirement already satisfied: setuptools in /usr/local/lib/python3.6/dist-packages (from numba>=0.35->pyod) (50.3.2)\n",
            "Requirement already satisfied: pytz>=2017.2 in /usr/local/lib/python3.6/dist-packages (from pandas>=0.25->pyod) (2018.9)\n",
            "Requirement already satisfied: patsy>=0.4.0 in /usr/local/lib/python3.6/dist-packages (from statsmodels->pyod) (0.5.1)\n",
            "Building wheels for collected packages: pyod, combo, suod\n",
            "  Building wheel for pyod (setup.py) ... \u001b[?25l\u001b[?25hdone\n",
            "  Created wheel for pyod: filename=pyod-0.8.4-cp36-none-any.whl size=112083 sha256=9ea7c7b243e0dd8e82b1822f475235763475a9a78368171a785478a06075dc68\n",
            "  Stored in directory: /root/.cache/pip/wheels/ad/31/0a/c2d4ba2d066145c55f0cb2846e59b18d874cb59c5d9adc81cf\n",
            "  Building wheel for combo (setup.py) ... \u001b[?25l\u001b[?25hdone\n",
            "  Created wheel for combo: filename=combo-0.1.1-cp36-none-any.whl size=42113 sha256=69aca7684eacfb78d1e345591131ddecb2404cc6ddd55cb0cddd2585645261e2\n",
            "  Stored in directory: /root/.cache/pip/wheels/55/ec/e5/a2331372c676c467e70c6646e646edf6997d5c4905b8c0f5e6\n",
            "  Building wheel for suod (setup.py) ... \u001b[?25l\u001b[?25hdone\n",
            "  Created wheel for suod: filename=suod-0.0.4-cp36-none-any.whl size=2167158 sha256=1187f8e58ac594d9a449f5b989c40e72b0ecad6b1ab1ea9dff58ea1b369b87f6\n",
            "  Stored in directory: /root/.cache/pip/wheels/57/55/e5/a4fca65bba231f6d0115059b589148774b41faea25b3f2aa27\n",
            "Successfully built pyod combo suod\n",
            "Installing collected packages: combo, suod, pyod\n",
            "Successfully installed combo-0.1.1 pyod-0.8.4 suod-0.0.4\n"
          ],
          "name": "stdout"
        }
      ]
    },
    {
      "cell_type": "code",
      "metadata": {
        "id": "gxBgvhA4mowO"
      },
      "source": [
        "import pandas as pd\n",
        "import numpy as np\n",
        "from numpy import percentile\n",
        "import matplotlib.pyplot as plt\n",
        "import seaborn as sns\n",
        "import matplotlib\n",
        "\n",
        "from sklearn.ensemble import IsolationForest\n",
        "\n",
        "# Scaling variables\n",
        "from sklearn.preprocessing import StandardScaler\n",
        "from sklearn.preprocessing import MinMaxScaler\n",
        "\n",
        "from pyod.models.abod import ABOD\n",
        "from pyod.models.cblof import CBLOF\n",
        "\n",
        "#from pyod.models.feature_bagging import FeatureBagging\n",
        "from pyod.models.hbos import HBOS\n",
        "from pyod.models.iforest import IForest\n",
        "from pyod.models.knn import KNN\n",
        "#from pyod.models.lof import LOF\n",
        "from scipy import stats\n",
        "\n",
        "# remove warnings to keep notebook clean\n",
        "import warnings\n",
        "warnings.filterwarnings('ignore')"
      ],
      "execution_count": 2,
      "outputs": []
    },
    {
      "cell_type": "markdown",
      "metadata": {
        "id": "WLf_c29t0ekj"
      },
      "source": [
        "## Carrega dataframe"
      ]
    },
    {
      "cell_type": "code",
      "metadata": {
        "id": "GZyPw_7RRx26",
        "colab": {
          "base_uri": "https://localhost:8080/",
          "height": 204
        },
        "outputId": "044e9f99-4d5c-46f3-a75e-cbb8087660ab"
      },
      "source": [
        "df_titanic = sns.load_dataset('titanic')\n",
        "df_titanic.head()"
      ],
      "execution_count": 3,
      "outputs": [
        {
          "output_type": "execute_result",
          "data": {
            "text/html": [
              "<div>\n",
              "<style scoped>\n",
              "    .dataframe tbody tr th:only-of-type {\n",
              "        vertical-align: middle;\n",
              "    }\n",
              "\n",
              "    .dataframe tbody tr th {\n",
              "        vertical-align: top;\n",
              "    }\n",
              "\n",
              "    .dataframe thead th {\n",
              "        text-align: right;\n",
              "    }\n",
              "</style>\n",
              "<table border=\"1\" class=\"dataframe\">\n",
              "  <thead>\n",
              "    <tr style=\"text-align: right;\">\n",
              "      <th></th>\n",
              "      <th>survived</th>\n",
              "      <th>pclass</th>\n",
              "      <th>sex</th>\n",
              "      <th>age</th>\n",
              "      <th>sibsp</th>\n",
              "      <th>parch</th>\n",
              "      <th>fare</th>\n",
              "      <th>embarked</th>\n",
              "      <th>class</th>\n",
              "      <th>who</th>\n",
              "      <th>adult_male</th>\n",
              "      <th>deck</th>\n",
              "      <th>embark_town</th>\n",
              "      <th>alive</th>\n",
              "      <th>alone</th>\n",
              "    </tr>\n",
              "  </thead>\n",
              "  <tbody>\n",
              "    <tr>\n",
              "      <th>0</th>\n",
              "      <td>0</td>\n",
              "      <td>3</td>\n",
              "      <td>male</td>\n",
              "      <td>22.0</td>\n",
              "      <td>1</td>\n",
              "      <td>0</td>\n",
              "      <td>7.2500</td>\n",
              "      <td>S</td>\n",
              "      <td>Third</td>\n",
              "      <td>man</td>\n",
              "      <td>True</td>\n",
              "      <td>NaN</td>\n",
              "      <td>Southampton</td>\n",
              "      <td>no</td>\n",
              "      <td>False</td>\n",
              "    </tr>\n",
              "    <tr>\n",
              "      <th>1</th>\n",
              "      <td>1</td>\n",
              "      <td>1</td>\n",
              "      <td>female</td>\n",
              "      <td>38.0</td>\n",
              "      <td>1</td>\n",
              "      <td>0</td>\n",
              "      <td>71.2833</td>\n",
              "      <td>C</td>\n",
              "      <td>First</td>\n",
              "      <td>woman</td>\n",
              "      <td>False</td>\n",
              "      <td>C</td>\n",
              "      <td>Cherbourg</td>\n",
              "      <td>yes</td>\n",
              "      <td>False</td>\n",
              "    </tr>\n",
              "    <tr>\n",
              "      <th>2</th>\n",
              "      <td>1</td>\n",
              "      <td>3</td>\n",
              "      <td>female</td>\n",
              "      <td>26.0</td>\n",
              "      <td>0</td>\n",
              "      <td>0</td>\n",
              "      <td>7.9250</td>\n",
              "      <td>S</td>\n",
              "      <td>Third</td>\n",
              "      <td>woman</td>\n",
              "      <td>False</td>\n",
              "      <td>NaN</td>\n",
              "      <td>Southampton</td>\n",
              "      <td>yes</td>\n",
              "      <td>True</td>\n",
              "    </tr>\n",
              "    <tr>\n",
              "      <th>3</th>\n",
              "      <td>1</td>\n",
              "      <td>1</td>\n",
              "      <td>female</td>\n",
              "      <td>35.0</td>\n",
              "      <td>1</td>\n",
              "      <td>0</td>\n",
              "      <td>53.1000</td>\n",
              "      <td>S</td>\n",
              "      <td>First</td>\n",
              "      <td>woman</td>\n",
              "      <td>False</td>\n",
              "      <td>C</td>\n",
              "      <td>Southampton</td>\n",
              "      <td>yes</td>\n",
              "      <td>False</td>\n",
              "    </tr>\n",
              "    <tr>\n",
              "      <th>4</th>\n",
              "      <td>0</td>\n",
              "      <td>3</td>\n",
              "      <td>male</td>\n",
              "      <td>35.0</td>\n",
              "      <td>0</td>\n",
              "      <td>0</td>\n",
              "      <td>8.0500</td>\n",
              "      <td>S</td>\n",
              "      <td>Third</td>\n",
              "      <td>man</td>\n",
              "      <td>True</td>\n",
              "      <td>NaN</td>\n",
              "      <td>Southampton</td>\n",
              "      <td>no</td>\n",
              "      <td>True</td>\n",
              "    </tr>\n",
              "  </tbody>\n",
              "</table>\n",
              "</div>"
            ],
            "text/plain": [
              "   survived  pclass     sex   age  ...  deck  embark_town  alive  alone\n",
              "0         0       3    male  22.0  ...   NaN  Southampton     no  False\n",
              "1         1       1  female  38.0  ...     C    Cherbourg    yes  False\n",
              "2         1       3  female  26.0  ...   NaN  Southampton    yes   True\n",
              "3         1       1  female  35.0  ...     C  Southampton    yes  False\n",
              "4         0       3    male  35.0  ...   NaN  Southampton     no   True\n",
              "\n",
              "[5 rows x 15 columns]"
            ]
          },
          "metadata": {
            "tags": []
          },
          "execution_count": 3
        }
      ]
    },
    {
      "cell_type": "code",
      "metadata": {
        "id": "zGqsV7kxSSCj",
        "colab": {
          "base_uri": "https://localhost:8080/"
        },
        "outputId": "f6d450a0-e84c-4dfc-975c-7fafd787e458"
      },
      "source": [
        "df_titanic.isna().sum()"
      ],
      "execution_count": 4,
      "outputs": [
        {
          "output_type": "execute_result",
          "data": {
            "text/plain": [
              "survived         0\n",
              "pclass           0\n",
              "sex              0\n",
              "age            177\n",
              "sibsp            0\n",
              "parch            0\n",
              "fare             0\n",
              "embarked         2\n",
              "class            0\n",
              "who              0\n",
              "adult_male       0\n",
              "deck           688\n",
              "embark_town      2\n",
              "alive            0\n",
              "alone            0\n",
              "dtype: int64"
            ]
          },
          "metadata": {
            "tags": []
          },
          "execution_count": 4
        }
      ]
    },
    {
      "cell_type": "code",
      "metadata": {
        "id": "YL_VQljA0gxZ",
        "colab": {
          "base_uri": "https://localhost:8080/",
          "height": 204
        },
        "outputId": "2e1e04dd-3ee2-4429-c045-99b8238b0b2f"
      },
      "source": [
        "# Por simplicidade, vou descartando/omitindo todos os Missing Values\n",
        "df_titanic = df_titanic.dropna() # Esta não é a forma adequada! Dê o devido tratamento aos Missing Values (NaN) da base de dados!\n",
        "df_titanic.head()"
      ],
      "execution_count": 5,
      "outputs": [
        {
          "output_type": "execute_result",
          "data": {
            "text/html": [
              "<div>\n",
              "<style scoped>\n",
              "    .dataframe tbody tr th:only-of-type {\n",
              "        vertical-align: middle;\n",
              "    }\n",
              "\n",
              "    .dataframe tbody tr th {\n",
              "        vertical-align: top;\n",
              "    }\n",
              "\n",
              "    .dataframe thead th {\n",
              "        text-align: right;\n",
              "    }\n",
              "</style>\n",
              "<table border=\"1\" class=\"dataframe\">\n",
              "  <thead>\n",
              "    <tr style=\"text-align: right;\">\n",
              "      <th></th>\n",
              "      <th>survived</th>\n",
              "      <th>pclass</th>\n",
              "      <th>sex</th>\n",
              "      <th>age</th>\n",
              "      <th>sibsp</th>\n",
              "      <th>parch</th>\n",
              "      <th>fare</th>\n",
              "      <th>embarked</th>\n",
              "      <th>class</th>\n",
              "      <th>who</th>\n",
              "      <th>adult_male</th>\n",
              "      <th>deck</th>\n",
              "      <th>embark_town</th>\n",
              "      <th>alive</th>\n",
              "      <th>alone</th>\n",
              "    </tr>\n",
              "  </thead>\n",
              "  <tbody>\n",
              "    <tr>\n",
              "      <th>1</th>\n",
              "      <td>1</td>\n",
              "      <td>1</td>\n",
              "      <td>female</td>\n",
              "      <td>38.0</td>\n",
              "      <td>1</td>\n",
              "      <td>0</td>\n",
              "      <td>71.2833</td>\n",
              "      <td>C</td>\n",
              "      <td>First</td>\n",
              "      <td>woman</td>\n",
              "      <td>False</td>\n",
              "      <td>C</td>\n",
              "      <td>Cherbourg</td>\n",
              "      <td>yes</td>\n",
              "      <td>False</td>\n",
              "    </tr>\n",
              "    <tr>\n",
              "      <th>3</th>\n",
              "      <td>1</td>\n",
              "      <td>1</td>\n",
              "      <td>female</td>\n",
              "      <td>35.0</td>\n",
              "      <td>1</td>\n",
              "      <td>0</td>\n",
              "      <td>53.1000</td>\n",
              "      <td>S</td>\n",
              "      <td>First</td>\n",
              "      <td>woman</td>\n",
              "      <td>False</td>\n",
              "      <td>C</td>\n",
              "      <td>Southampton</td>\n",
              "      <td>yes</td>\n",
              "      <td>False</td>\n",
              "    </tr>\n",
              "    <tr>\n",
              "      <th>6</th>\n",
              "      <td>0</td>\n",
              "      <td>1</td>\n",
              "      <td>male</td>\n",
              "      <td>54.0</td>\n",
              "      <td>0</td>\n",
              "      <td>0</td>\n",
              "      <td>51.8625</td>\n",
              "      <td>S</td>\n",
              "      <td>First</td>\n",
              "      <td>man</td>\n",
              "      <td>True</td>\n",
              "      <td>E</td>\n",
              "      <td>Southampton</td>\n",
              "      <td>no</td>\n",
              "      <td>True</td>\n",
              "    </tr>\n",
              "    <tr>\n",
              "      <th>10</th>\n",
              "      <td>1</td>\n",
              "      <td>3</td>\n",
              "      <td>female</td>\n",
              "      <td>4.0</td>\n",
              "      <td>1</td>\n",
              "      <td>1</td>\n",
              "      <td>16.7000</td>\n",
              "      <td>S</td>\n",
              "      <td>Third</td>\n",
              "      <td>child</td>\n",
              "      <td>False</td>\n",
              "      <td>G</td>\n",
              "      <td>Southampton</td>\n",
              "      <td>yes</td>\n",
              "      <td>False</td>\n",
              "    </tr>\n",
              "    <tr>\n",
              "      <th>11</th>\n",
              "      <td>1</td>\n",
              "      <td>1</td>\n",
              "      <td>female</td>\n",
              "      <td>58.0</td>\n",
              "      <td>0</td>\n",
              "      <td>0</td>\n",
              "      <td>26.5500</td>\n",
              "      <td>S</td>\n",
              "      <td>First</td>\n",
              "      <td>woman</td>\n",
              "      <td>False</td>\n",
              "      <td>C</td>\n",
              "      <td>Southampton</td>\n",
              "      <td>yes</td>\n",
              "      <td>True</td>\n",
              "    </tr>\n",
              "  </tbody>\n",
              "</table>\n",
              "</div>"
            ],
            "text/plain": [
              "    survived  pclass     sex   age  ...  deck  embark_town  alive  alone\n",
              "1          1       1  female  38.0  ...     C    Cherbourg    yes  False\n",
              "3          1       1  female  35.0  ...     C  Southampton    yes  False\n",
              "6          0       1    male  54.0  ...     E  Southampton     no   True\n",
              "10         1       3  female   4.0  ...     G  Southampton    yes  False\n",
              "11         1       1  female  58.0  ...     C  Southampton    yes   True\n",
              "\n",
              "[5 rows x 15 columns]"
            ]
          },
          "metadata": {
            "tags": []
          },
          "execution_count": 5
        }
      ]
    },
    {
      "cell_type": "code",
      "metadata": {
        "id": "Q2oxyyQWB-uz"
      },
      "source": [
        "# Normalizar as variáveis 'age' e 'fare'\n",
        "df_titanic_ss = df_titanic.copy()\n",
        "df_titanic_ss[['fare', 'age']] = StandardScaler().fit_transform(df_titanic_ss[['fare', 'age']])"
      ],
      "execution_count": 6,
      "outputs": []
    },
    {
      "cell_type": "code",
      "metadata": {
        "id": "rAKnKtil9Oz1",
        "colab": {
          "base_uri": "https://localhost:8080/"
        },
        "outputId": "73027dc3-9d11-4398-d707-57f65b24d2ca"
      },
      "source": [
        "# Linhas do df_titanic\n",
        "df_titanic_ss.shape"
      ],
      "execution_count": 7,
      "outputs": [
        {
          "output_type": "execute_result",
          "data": {
            "text/plain": [
              "(182, 15)"
            ]
          },
          "metadata": {
            "tags": []
          },
          "execution_count": 7
        }
      ]
    },
    {
      "cell_type": "code",
      "metadata": {
        "id": "sHSYUkEQFIwS"
      },
      "source": [
        "# Função para plotar o Boxplot\n",
        "def boxplot_sobreviveu(df, column):\n",
        "    plt.rcdefaults()\n",
        "    sns.catplot(x = 'survived', y = column, kind = \"box\", data = df, height = 4, aspect = 1.5)\n",
        "    \n",
        "    # add data points to boxplot with stripplot\n",
        "    sns.stripplot(x = 'survived', y = column, data = df, alpha = 0.3, jitter = 0.2, color = 'k');\n",
        "    plt.show()"
      ],
      "execution_count": 8,
      "outputs": []
    },
    {
      "cell_type": "markdown",
      "metadata": {
        "id": "z7F4zWltT7l6"
      },
      "source": [
        "Esta é a visão univariada da variável 'fare':"
      ]
    },
    {
      "cell_type": "code",
      "metadata": {
        "id": "y4pahkOLUX1D",
        "colab": {
          "base_uri": "https://localhost:8080/",
          "height": 204
        },
        "outputId": "8b557e1c-75b4-4053-88c8-620306214fb8"
      },
      "source": [
        "df_titanic[['survived']].head()"
      ],
      "execution_count": 9,
      "outputs": [
        {
          "output_type": "execute_result",
          "data": {
            "text/html": [
              "<div>\n",
              "<style scoped>\n",
              "    .dataframe tbody tr th:only-of-type {\n",
              "        vertical-align: middle;\n",
              "    }\n",
              "\n",
              "    .dataframe tbody tr th {\n",
              "        vertical-align: top;\n",
              "    }\n",
              "\n",
              "    .dataframe thead th {\n",
              "        text-align: right;\n",
              "    }\n",
              "</style>\n",
              "<table border=\"1\" class=\"dataframe\">\n",
              "  <thead>\n",
              "    <tr style=\"text-align: right;\">\n",
              "      <th></th>\n",
              "      <th>survived</th>\n",
              "    </tr>\n",
              "  </thead>\n",
              "  <tbody>\n",
              "    <tr>\n",
              "      <th>1</th>\n",
              "      <td>1</td>\n",
              "    </tr>\n",
              "    <tr>\n",
              "      <th>3</th>\n",
              "      <td>1</td>\n",
              "    </tr>\n",
              "    <tr>\n",
              "      <th>6</th>\n",
              "      <td>0</td>\n",
              "    </tr>\n",
              "    <tr>\n",
              "      <th>10</th>\n",
              "      <td>1</td>\n",
              "    </tr>\n",
              "    <tr>\n",
              "      <th>11</th>\n",
              "      <td>1</td>\n",
              "    </tr>\n",
              "  </tbody>\n",
              "</table>\n",
              "</div>"
            ],
            "text/plain": [
              "    survived\n",
              "1          1\n",
              "3          1\n",
              "6          0\n",
              "10         1\n",
              "11         1"
            ]
          },
          "metadata": {
            "tags": []
          },
          "execution_count": 9
        }
      ]
    },
    {
      "cell_type": "code",
      "metadata": {
        "id": "o9-VgcNnFNb1",
        "colab": {
          "base_uri": "https://localhost:8080/",
          "height": 426
        },
        "outputId": "f525e437-63c1-44f6-c411-193c96ffd5e5"
      },
      "source": [
        "boxplot_sobreviveu(df_titanic, 'fare')"
      ],
      "execution_count": 10,
      "outputs": [
        {
          "output_type": "display_data",
          "data": {
            "image/png": "[encoded data removed]",
            "text/plain": [
              "<Figure size 600x400 with 1 Axes>"
            ]
          },
          "metadata": {
            "tags": []
          }
        }
      ]
    },
    {
      "cell_type": "code",
      "metadata": {
        "id": "BIN9WDB1ffb9",
        "colab": {
          "base_uri": "https://localhost:8080/",
          "height": 426
        },
        "outputId": "811d8fb5-59a8-467b-e731-e42ba4f3b1ba"
      },
      "source": [
        "boxplot_sobreviveu(df_titanic_ss, 'fare')"
      ],
      "execution_count": 11,
      "outputs": [
        {
          "output_type": "display_data",
          "data": {
            "image/png": "[encoded data removed]",
            "text/plain": [
              "<Figure size 600x400 with 1 Axes>"
            ]
          },
          "metadata": {
            "tags": []
          }
        }
      ]
    },
    {
      "cell_type": "code",
      "metadata": {
        "id": "8FIo9tD1FQ0u",
        "colab": {
          "base_uri": "https://localhost:8080/",
          "height": 426
        },
        "outputId": "b98d666d-9c46-4a4b-f842-7ac79af1d49f"
      },
      "source": [
        "boxplot_sobreviveu(df_titanic, 'age')"
      ],
      "execution_count": 12,
      "outputs": [
        {
          "output_type": "display_data",
          "data": {
            "image/png": "[encoded data removed]",
            "text/plain": [
              "<Figure size 600x400 with 1 Axes>"
            ]
          },
          "metadata": {
            "tags": []
          }
        }
      ]
    },
    {
      "cell_type": "code",
      "metadata": {
        "id": "fCqj102y9Kfo",
        "colab": {
          "base_uri": "https://localhost:8080/"
        },
        "outputId": "1d2244d6-2b0f-4a81-edc1-14fed841f939"
      },
      "source": [
        "# Descrever o dataframe, variável 'fare'\n",
        "pd.set_option('display.float_format', lambda x: '%.3f' %x)\n",
        "df_titanic_ss['fare'].describe()"
      ],
      "execution_count": 13,
      "outputs": [
        {
          "output_type": "execute_result",
          "data": {
            "text/plain": [
              "count   182.000\n",
              "mean      0.000\n",
              "std       1.003\n",
              "min      -1.035\n",
              "25%      -0.645\n",
              "50%      -0.287\n",
              "75%       0.145\n",
              "max       5.682\n",
              "Name: fare, dtype: float64"
            ]
          },
          "metadata": {
            "tags": []
          },
          "execution_count": 13
        }
      ]
    },
    {
      "cell_type": "markdown",
      "metadata": {
        "id": "RwVlK5jXe_ya"
      },
      "source": [
        "## Mostrar a frequência acumulada!! É mais informativo!!!"
      ]
    },
    {
      "cell_type": "code",
      "metadata": {
        "id": "SMcvIb1K_69n",
        "colab": {
          "base_uri": "https://localhost:8080/",
          "height": 472
        },
        "outputId": "32ac7578-464b-40aa-d3b0-d36d804bcb3a"
      },
      "source": [
        "plt.scatter(range(df_titanic_ss.shape[0]), np.sort(df_titanic_ss['fare'].values)) # A intenção do gráfico é ordenar os valores em df_titanic['fare'] do menor valor para o maior!\n",
        "plt.xlabel('indices')\n",
        "plt.ylabel('fares')\n",
        "plt.title(\"Distribuição da variável fare\")\n",
        "\n",
        "sns.despine()"
      ],
      "execution_count": 14,
      "outputs": [
        {
          "output_type": "display_data",
          "data": {
            "image/png": "[encoded data removed]",
            "text/plain": [
              "<Figure size 640x480 with 1 Axes>"
            ]
          },
          "metadata": {
            "tags": []
          }
        }
      ]
    },
    {
      "cell_type": "markdown",
      "metadata": {
        "id": "6nuuTtqHh0Kk"
      },
      "source": [
        "Com o gráfico acima, podemos ver quais e quantos são os pontos que estão acima de $\\mu + 3\\sigma$ --> Se usarmos o critério do z-score, todos os pontos acima deste limiar são outliers!\n",
        "\n",
        " Colocar os gráficos lado a lado: df_titanic e df_titanic_ss!!"
      ]
    },
    {
      "cell_type": "code",
      "metadata": {
        "id": "7pzTvLleGpWc",
        "colab": {
          "base_uri": "https://localhost:8080/",
          "height": 472
        },
        "outputId": "dcf51038-1d41-46be-f785-8ed32c7984fb"
      },
      "source": [
        "# Distribuição da variável 'fare' (após StandardScaler)\n",
        "sns.distplot(df_titanic_ss['fare'])\n",
        "plt.title(\"Distribuição da variável fare\")\n",
        "sns.despine()"
      ],
      "execution_count": 15,
      "outputs": [
        {
          "output_type": "display_data",
          "data": {
            "image/png": "[encoded data removed]",
            "text/plain": [
              "<Figure size 640x480 with 1 Axes>"
            ]
          },
          "metadata": {
            "tags": []
          }
        }
      ]
    },
    {
      "cell_type": "code",
      "metadata": {
        "id": "3Cumr43hjByz",
        "colab": {
          "base_uri": "https://localhost:8080/",
          "height": 472
        },
        "outputId": "d0f33689-ae1e-4a2d-d1f6-9f23e4bfdaf4"
      },
      "source": [
        "# Distribuição da variável 'fare' (após StandardScaler)\n",
        "sns.distplot(df_titanic['fare'])\n",
        "plt.title(\"Distribuição da variável fare\")\n",
        "sns.despine()"
      ],
      "execution_count": 16,
      "outputs": [
        {
          "output_type": "display_data",
          "data": {
            "image/png": "[encoded data removed]",
            "text/plain": [
              "<Figure size 640x480 with 1 Axes>"
            ]
          },
          "metadata": {
            "tags": []
          }
        }
      ]
    },
    {
      "cell_type": "markdown",
      "metadata": {
        "id": "oXeTALDBk57N"
      },
      "source": [
        "### Calcular a mediana e comparar com a média."
      ]
    },
    {
      "cell_type": "code",
      "metadata": {
        "id": "vB7ik75rjJUI",
        "colab": {
          "base_uri": "https://localhost:8080/",
          "height": 297
        },
        "outputId": "40f3b788-b827-40e2-b9a5-10c0f4dca597"
      },
      "source": [
        "df_titanic.describe()"
      ],
      "execution_count": 17,
      "outputs": [
        {
          "output_type": "execute_result",
          "data": {
            "text/html": [
              "<div>\n",
              "<style scoped>\n",
              "    .dataframe tbody tr th:only-of-type {\n",
              "        vertical-align: middle;\n",
              "    }\n",
              "\n",
              "    .dataframe tbody tr th {\n",
              "        vertical-align: top;\n",
              "    }\n",
              "\n",
              "    .dataframe thead th {\n",
              "        text-align: right;\n",
              "    }\n",
              "</style>\n",
              "<table border=\"1\" class=\"dataframe\">\n",
              "  <thead>\n",
              "    <tr style=\"text-align: right;\">\n",
              "      <th></th>\n",
              "      <th>survived</th>\n",
              "      <th>pclass</th>\n",
              "      <th>age</th>\n",
              "      <th>sibsp</th>\n",
              "      <th>parch</th>\n",
              "      <th>fare</th>\n",
              "    </tr>\n",
              "  </thead>\n",
              "  <tbody>\n",
              "    <tr>\n",
              "      <th>count</th>\n",
              "      <td>182.000</td>\n",
              "      <td>182.000</td>\n",
              "      <td>182.000</td>\n",
              "      <td>182.000</td>\n",
              "      <td>182.000</td>\n",
              "      <td>182.000</td>\n",
              "    </tr>\n",
              "    <tr>\n",
              "      <th>mean</th>\n",
              "      <td>0.676</td>\n",
              "      <td>1.192</td>\n",
              "      <td>35.623</td>\n",
              "      <td>0.467</td>\n",
              "      <td>0.478</td>\n",
              "      <td>78.920</td>\n",
              "    </tr>\n",
              "    <tr>\n",
              "      <th>std</th>\n",
              "      <td>0.469</td>\n",
              "      <td>0.516</td>\n",
              "      <td>15.672</td>\n",
              "      <td>0.645</td>\n",
              "      <td>0.756</td>\n",
              "      <td>76.491</td>\n",
              "    </tr>\n",
              "    <tr>\n",
              "      <th>min</th>\n",
              "      <td>0.000</td>\n",
              "      <td>1.000</td>\n",
              "      <td>0.920</td>\n",
              "      <td>0.000</td>\n",
              "      <td>0.000</td>\n",
              "      <td>0.000</td>\n",
              "    </tr>\n",
              "    <tr>\n",
              "      <th>25%</th>\n",
              "      <td>0.000</td>\n",
              "      <td>1.000</td>\n",
              "      <td>24.000</td>\n",
              "      <td>0.000</td>\n",
              "      <td>0.000</td>\n",
              "      <td>29.700</td>\n",
              "    </tr>\n",
              "    <tr>\n",
              "      <th>50%</th>\n",
              "      <td>1.000</td>\n",
              "      <td>1.000</td>\n",
              "      <td>36.000</td>\n",
              "      <td>0.000</td>\n",
              "      <td>0.000</td>\n",
              "      <td>57.000</td>\n",
              "    </tr>\n",
              "    <tr>\n",
              "      <th>75%</th>\n",
              "      <td>1.000</td>\n",
              "      <td>1.000</td>\n",
              "      <td>47.750</td>\n",
              "      <td>1.000</td>\n",
              "      <td>1.000</td>\n",
              "      <td>90.000</td>\n",
              "    </tr>\n",
              "    <tr>\n",
              "      <th>max</th>\n",
              "      <td>1.000</td>\n",
              "      <td>3.000</td>\n",
              "      <td>80.000</td>\n",
              "      <td>3.000</td>\n",
              "      <td>4.000</td>\n",
              "      <td>512.329</td>\n",
              "    </tr>\n",
              "  </tbody>\n",
              "</table>\n",
              "</div>"
            ],
            "text/plain": [
              "       survived  pclass     age   sibsp   parch    fare\n",
              "count   182.000 182.000 182.000 182.000 182.000 182.000\n",
              "mean      0.676   1.192  35.623   0.467   0.478  78.920\n",
              "std       0.469   0.516  15.672   0.645   0.756  76.491\n",
              "min       0.000   1.000   0.920   0.000   0.000   0.000\n",
              "25%       0.000   1.000  24.000   0.000   0.000  29.700\n",
              "50%       1.000   1.000  36.000   0.000   0.000  57.000\n",
              "75%       1.000   1.000  47.750   1.000   1.000  90.000\n",
              "max       1.000   3.000  80.000   3.000   4.000 512.329"
            ]
          },
          "metadata": {
            "tags": []
          },
          "execution_count": 17
        }
      ]
    },
    {
      "cell_type": "markdown",
      "metadata": {
        "id": "Qa28Hc3ZC6FV"
      },
      "source": [
        "___\n",
        "## Kurtosis\n",
        "> Kurtosis é uma medida estatística que define com que intensidade as caudas de uma distribuição diferem das caudas de uma distribuição Normal. Em outras palavras, a curtose identifica se as caudas de uma determinada distribuição contêm valores extremos.\n",
        ">> A Kurtosis de uma distribuição Normal padrão é igual a 3. Portanto, se Kurtosis-3 > 0, então isso é o que chamamos de excesso de Kurtosis.\n",
        ">>> **Alta Kurtosis é um indicador de que os dados possuem caudas pesadas ou outliers**.\n",
        "\n",
        "* **Dica muito importante**: Normalize os dados antes!"
      ]
    },
    {
      "cell_type": "markdown",
      "metadata": {
        "id": "ynyNHZqmD-tb"
      },
      "source": [
        "___\n",
        "## Skewness\n",
        "> É o grau de distorção da distribuição, ou seja, mede a falta de simetria na distribuição de dados, diferenciando valores extremos em uma cauda versus na outra. Uma distribuição simétrica terá uma assimetria de 0.\n",
        "\n",
        "![Skewness](https://github.com/MathMachado/Materials/blob/master/Skewness.png?raw=true)\n",
        "\n",
        "Source: [Skew and Kurtosis: 2 Important Statistics terms you need to know in Data Science](https://codeburst.io/2-important-statistics-terms-you-need-to-know-in-data-science-skewness-and-kurtosis-388fef94eeaa)"
      ]
    },
    {
      "cell_type": "markdown",
      "metadata": {
        "id": "Uoo3xVhBFixi"
      },
      "source": [
        "### Interpretando a Skewness (Rule of Thumb)\n",
        "* Se -0.5 < Skewness < 0.5: Dados razoavelmente simétricos;\n",
        "* Se -1 < Skewness < -0.5: Dados moderadamente negativa;\n",
        "* Se 0.5 < Skewness < 1: Dados moderadamente positiva;\n",
        "* Se Skewness < -1: Dados altamente negativa;\n",
        "* Se Skewness > 1: Dados altamente positiva.\n",
        "\n",
        "> **Dica**: Normalize os dados antes!"
      ]
    },
    {
      "cell_type": "code",
      "metadata": {
        "id": "oHg3nyjUTiRu",
        "colab": {
          "base_uri": "https://localhost:8080/"
        },
        "outputId": "4d7ebcff-c834-44d3-bfa6-066594c3b98d"
      },
      "source": [
        "# Cálculo das medidas de Skewness e Kurtosis para 'fare'\n",
        "print(f\"Skewness: {df_titanic_ss['fare'].skew()}\")\n",
        "print(f\"Kurtosis: {df_titanic_ss['fare'].kurt()}\")"
      ],
      "execution_count": 18,
      "outputs": [
        {
          "output_type": "stream",
          "text": [
            "Skewness: 2.7073683146429004\n",
            "Kurtosis: 10.690697893681472\n"
          ],
          "name": "stdout"
        }
      ]
    },
    {
      "cell_type": "markdown",
      "metadata": {
        "id": "V2jCZLGVH3Qu"
      },
      "source": [
        "Olhando para as medidas de Skewness e Kurtosis logo acima, qual a conclusão?"
      ]
    },
    {
      "cell_type": "code",
      "metadata": {
        "id": "0nnFS8vi_rOe",
        "colab": {
          "base_uri": "https://localhost:8080/"
        },
        "outputId": "43cca8ad-1766-427e-870c-8f3f1a32ae56"
      },
      "source": [
        "# Distribuição da variável 'age'\n",
        "df_titanic_ss['age'].describe()"
      ],
      "execution_count": 19,
      "outputs": [
        {
          "output_type": "execute_result",
          "data": {
            "text/plain": [
              "count   182.000\n",
              "mean      0.000\n",
              "std       1.003\n",
              "min      -2.221\n",
              "25%      -0.744\n",
              "50%       0.024\n",
              "75%       0.776\n",
              "max       2.839\n",
              "Name: age, dtype: float64"
            ]
          },
          "metadata": {
            "tags": []
          },
          "execution_count": 19
        }
      ]
    },
    {
      "cell_type": "code",
      "metadata": {
        "id": "h9ZmvO1b_4sF",
        "colab": {
          "base_uri": "https://localhost:8080/",
          "height": 472
        },
        "outputId": "26f4ac44-3a5a-45da-9193-a53f14de8a3b"
      },
      "source": [
        "plt.scatter(range(df_titanic_ss.shape[0]), np.sort(df_titanic_ss['age'].values))\n",
        "plt.xlabel('index')\n",
        "plt.ylabel('age')\n",
        "plt.title(\"Distribuição da variável age\")\n",
        "sns.despine()"
      ],
      "execution_count": 20,
      "outputs": [
        {
          "output_type": "display_data",
          "data": {
            "image/png": "[encoded data removed]",
            "text/plain": [
              "<Figure size 640x480 with 1 Axes>"
            ]
          },
          "metadata": {
            "tags": []
          }
        }
      ]
    },
    {
      "cell_type": "code",
      "metadata": {
        "id": "GIAYrDJyCT6r",
        "colab": {
          "base_uri": "https://localhost:8080/",
          "height": 472
        },
        "outputId": "b420b39a-fe36-4887-f795-24186bde939d"
      },
      "source": [
        "sns.distplot(df_titanic_ss['age'])\n",
        "plt.title(\"Distribuição da variável age\")\n",
        "sns.despine()"
      ],
      "execution_count": 21,
      "outputs": [
        {
          "output_type": "display_data",
          "data": {
            "image/png": "[encoded data removed]",
            "text/plain": [
              "<Figure size 640x480 with 1 Axes>"
            ]
          },
          "metadata": {
            "tags": []
          }
        }
      ]
    },
    {
      "cell_type": "code",
      "metadata": {
        "id": "USy48-H2UXqB",
        "colab": {
          "base_uri": "https://localhost:8080/"
        },
        "outputId": "64702d05-d4e5-42a5-96e5-d8b81c13e607"
      },
      "source": [
        "# Cálculo das medidas de Skewness e Kurtosis para 'age'\n",
        "print(f\"Skewness: {df_titanic_ss['age'].skew()}\")\n",
        "print(f\"Kurtosis: {df_titanic_ss['age'].kurt()}\")"
      ],
      "execution_count": 22,
      "outputs": [
        {
          "output_type": "stream",
          "text": [
            "Skewness: 0.01841894050949496\n",
            "Kurtosis: -0.2309427735598728\n"
          ],
          "name": "stdout"
        }
      ]
    },
    {
      "cell_type": "markdown",
      "metadata": {
        "id": "ENQaVw2lItVL"
      },
      "source": [
        "Olhando para as medidas de Skewness e Kurtosis logo acima, qual a conclusão?"
      ]
    },
    {
      "cell_type": "markdown",
      "metadata": {
        "id": "Nt0PQIjW-wXd"
      },
      "source": [
        "___\n",
        "## **Isolation Forest Region**\n",
        "* Source: [Outlier Detection with Isolation Forest](https://towardsdatascience.com/outlier-detection-with-isolation-forest-3d190448d45e)"
      ]
    },
    {
      "cell_type": "markdown",
      "metadata": {
        "id": "tM6Xht76KmUN"
      },
      "source": [
        "### Anomaly Detection para 'fare'"
      ]
    },
    {
      "cell_type": "code",
      "metadata": {
        "id": "uFuAUh5S778M",
        "colab": {
          "base_uri": "https://localhost:8080/",
          "height": 388
        },
        "outputId": "84b474c2-010d-4e05-c04f-6b9682613c40"
      },
      "source": [
        "# Instanciamento \n",
        "isolation_forest = IsolationForest(n_estimators = 100) \n",
        "\n",
        "# Ajustamento (fit())\n",
        "isolation_forest.fit(df_titanic['fare'].values.reshape(-1, 1))\n",
        "xx = np.linspace(df_titanic['fare'].min(), df_titanic['fare'].max(), len(df_titanic)).reshape(-1, 1)\n",
        "\n",
        "anomaly_score = isolation_forest.decision_function(xx)\n",
        "outlier = isolation_forest.predict(xx)\n",
        "plt.figure(figsize = (10, 4))\n",
        "plt.plot(xx, anomaly_score, label = 'anomaly score')\n",
        "plt.fill_between(xx.T[0], np.min(anomaly_score), np.max(anomaly_score), where = outlier == -1, color = 'r', alpha = .4, label = 'outlier region')\n",
        "plt.legend()\n",
        "plt.ylabel('anomaly score')\n",
        "plt.xlabel('fare')\n",
        "plt.show()"
      ],
      "execution_count": 23,
      "outputs": [
        {
          "output_type": "display_data",
          "data": {
            "image/png": "[encoded data removed]",
            "text/plain": [
              "<Figure size 1000x400 with 1 Axes>"
            ]
          },
          "metadata": {
            "tags": []
          }
        }
      ]
    },
    {
      "cell_type": "markdown",
      "metadata": {
        "id": "F2-nWZ3KoPJ8"
      },
      "source": [
        "**Conclusão**: anomaly_score > 0 --> Não é outliers. Do contrário, ou seja, se anomaly_score < 0 --> Outlier."
      ]
    },
    {
      "cell_type": "code",
      "metadata": {
        "id": "FkhRwo1cgYtK",
        "colab": {
          "base_uri": "https://localhost:8080/",
          "height": 204
        },
        "outputId": "b772a798-8f77-4e5d-c846-452d3855391d"
      },
      "source": [
        "# Vamos avaliar os dados do dataframe para fare > 200, por exemplo\n",
        "df_titanic.loc[df_titanic['fare'] > 200].head()"
      ],
      "execution_count": 24,
      "outputs": [
        {
          "output_type": "execute_result",
          "data": {
            "text/html": [
              "<div>\n",
              "<style scoped>\n",
              "    .dataframe tbody tr th:only-of-type {\n",
              "        vertical-align: middle;\n",
              "    }\n",
              "\n",
              "    .dataframe tbody tr th {\n",
              "        vertical-align: top;\n",
              "    }\n",
              "\n",
              "    .dataframe thead th {\n",
              "        text-align: right;\n",
              "    }\n",
              "</style>\n",
              "<table border=\"1\" class=\"dataframe\">\n",
              "  <thead>\n",
              "    <tr style=\"text-align: right;\">\n",
              "      <th></th>\n",
              "      <th>survived</th>\n",
              "      <th>pclass</th>\n",
              "      <th>sex</th>\n",
              "      <th>age</th>\n",
              "      <th>sibsp</th>\n",
              "      <th>parch</th>\n",
              "      <th>fare</th>\n",
              "      <th>embarked</th>\n",
              "      <th>class</th>\n",
              "      <th>who</th>\n",
              "      <th>adult_male</th>\n",
              "      <th>deck</th>\n",
              "      <th>embark_town</th>\n",
              "      <th>alive</th>\n",
              "      <th>alone</th>\n",
              "    </tr>\n",
              "  </thead>\n",
              "  <tbody>\n",
              "    <tr>\n",
              "      <th>27</th>\n",
              "      <td>0</td>\n",
              "      <td>1</td>\n",
              "      <td>male</td>\n",
              "      <td>19.000</td>\n",
              "      <td>3</td>\n",
              "      <td>2</td>\n",
              "      <td>263.000</td>\n",
              "      <td>S</td>\n",
              "      <td>First</td>\n",
              "      <td>man</td>\n",
              "      <td>True</td>\n",
              "      <td>C</td>\n",
              "      <td>Southampton</td>\n",
              "      <td>no</td>\n",
              "      <td>False</td>\n",
              "    </tr>\n",
              "    <tr>\n",
              "      <th>88</th>\n",
              "      <td>1</td>\n",
              "      <td>1</td>\n",
              "      <td>female</td>\n",
              "      <td>23.000</td>\n",
              "      <td>3</td>\n",
              "      <td>2</td>\n",
              "      <td>263.000</td>\n",
              "      <td>S</td>\n",
              "      <td>First</td>\n",
              "      <td>woman</td>\n",
              "      <td>False</td>\n",
              "      <td>C</td>\n",
              "      <td>Southampton</td>\n",
              "      <td>yes</td>\n",
              "      <td>False</td>\n",
              "    </tr>\n",
              "    <tr>\n",
              "      <th>118</th>\n",
              "      <td>0</td>\n",
              "      <td>1</td>\n",
              "      <td>male</td>\n",
              "      <td>24.000</td>\n",
              "      <td>0</td>\n",
              "      <td>1</td>\n",
              "      <td>247.521</td>\n",
              "      <td>C</td>\n",
              "      <td>First</td>\n",
              "      <td>man</td>\n",
              "      <td>True</td>\n",
              "      <td>B</td>\n",
              "      <td>Cherbourg</td>\n",
              "      <td>no</td>\n",
              "      <td>False</td>\n",
              "    </tr>\n",
              "    <tr>\n",
              "      <th>299</th>\n",
              "      <td>1</td>\n",
              "      <td>1</td>\n",
              "      <td>female</td>\n",
              "      <td>50.000</td>\n",
              "      <td>0</td>\n",
              "      <td>1</td>\n",
              "      <td>247.521</td>\n",
              "      <td>C</td>\n",
              "      <td>First</td>\n",
              "      <td>woman</td>\n",
              "      <td>False</td>\n",
              "      <td>B</td>\n",
              "      <td>Cherbourg</td>\n",
              "      <td>yes</td>\n",
              "      <td>False</td>\n",
              "    </tr>\n",
              "    <tr>\n",
              "      <th>311</th>\n",
              "      <td>1</td>\n",
              "      <td>1</td>\n",
              "      <td>female</td>\n",
              "      <td>18.000</td>\n",
              "      <td>2</td>\n",
              "      <td>2</td>\n",
              "      <td>262.375</td>\n",
              "      <td>C</td>\n",
              "      <td>First</td>\n",
              "      <td>woman</td>\n",
              "      <td>False</td>\n",
              "      <td>B</td>\n",
              "      <td>Cherbourg</td>\n",
              "      <td>yes</td>\n",
              "      <td>False</td>\n",
              "    </tr>\n",
              "  </tbody>\n",
              "</table>\n",
              "</div>"
            ],
            "text/plain": [
              "     survived  pclass     sex    age  ...  deck  embark_town  alive  alone\n",
              "27          0       1    male 19.000  ...     C  Southampton     no  False\n",
              "88          1       1  female 23.000  ...     C  Southampton    yes  False\n",
              "118         0       1    male 24.000  ...     B    Cherbourg     no  False\n",
              "299         1       1  female 50.000  ...     B    Cherbourg    yes  False\n",
              "311         1       1  female 18.000  ...     B    Cherbourg    yes  False\n",
              "\n",
              "[5 rows x 15 columns]"
            ]
          },
          "metadata": {
            "tags": []
          },
          "execution_count": 24
        }
      ]
    },
    {
      "cell_type": "code",
      "metadata": {
        "id": "XFbRlmrYgtTS",
        "colab": {
          "base_uri": "https://localhost:8080/"
        },
        "outputId": "6aa882db-f07b-4040-bb95-a30ebd8193da"
      },
      "source": [
        "# Zoom na linha 27\n",
        "df_titanic.loc[27]"
      ],
      "execution_count": 25,
      "outputs": [
        {
          "output_type": "execute_result",
          "data": {
            "text/plain": [
              "survived                 0\n",
              "pclass                   1\n",
              "sex                   male\n",
              "age                 19.000\n",
              "sibsp                    3\n",
              "parch                    2\n",
              "fare               263.000\n",
              "embarked                 S\n",
              "class                First\n",
              "who                    man\n",
              "adult_male            True\n",
              "deck                     C\n",
              "embark_town    Southampton\n",
              "alive                   no\n",
              "alone                False\n",
              "Name: 27, dtype: object"
            ]
          },
          "metadata": {
            "tags": []
          },
          "execution_count": 25
        }
      ]
    },
    {
      "cell_type": "markdown",
      "metadata": {
        "id": "bH4o-CL-N9Np"
      },
      "source": [
        "A região onde os dados têm baixa probabilidade de aparecer fica no lado direito da distribuição."
      ]
    },
    {
      "cell_type": "markdown",
      "metadata": {
        "id": "7HK9cBvwGOqG"
      },
      "source": [
        "### Anomaly Detection para 'age'"
      ]
    },
    {
      "cell_type": "code",
      "metadata": {
        "id": "PoDzs4DTFSY-",
        "colab": {
          "base_uri": "https://localhost:8080/",
          "height": 392
        },
        "outputId": "242d9dad-c1ec-4f5d-c4c6-6bbcf189b2c6"
      },
      "source": [
        "isolation_forest = IsolationForest(n_estimators = 100)\n",
        "isolation_forest.fit(df_titanic['age'].values.reshape(-1, 1))\n",
        "xx = np.linspace(df_titanic['age'].min(), df_titanic['age'].max(), len(df_titanic)).reshape(-1, 1)\n",
        "anomaly_score = isolation_forest.decision_function(xx)\n",
        "outlier = isolation_forest.predict(xx)\n",
        "plt.figure(figsize = (10, 4))\n",
        "plt.plot(xx, anomaly_score, label='anomaly score')\n",
        "plt.fill_between(xx.T[0], np.min(anomaly_score), np.max(anomaly_score), where = outlier == -1, color = 'r', alpha = .4, label = 'outlier region')\n",
        "plt.legend()\n",
        "plt.ylabel('anomaly score')\n",
        "plt.xlabel('age')\n",
        "plt.show();"
      ],
      "execution_count": 26,
      "outputs": [
        {
          "output_type": "display_data",
          "data": {
            "image/png": "[encoded data removed]",
            "text/plain": [
              "<Figure size 1000x400 with 1 Axes>"
            ]
          },
          "metadata": {
            "tags": []
          }
        }
      ]
    },
    {
      "cell_type": "markdown",
      "metadata": {
        "id": "GivF2cSFS208"
      },
      "source": [
        "Observe no gráfico acima que há duas regiões em que os dados têm baixa probabilidade de aparecer: uma no lado esquerdo da distribuição, outra no lado direito da distribuição."
      ]
    },
    {
      "cell_type": "code",
      "metadata": {
        "colab": {
          "base_uri": "https://localhost:8080/",
          "height": 451
        },
        "id": "XUO4OnJC4S0D",
        "outputId": "45d0ef56-71a1-468f-f506-64ddf747c099"
      },
      "source": [
        "df_titanic['age'].plot(kind='kde')"
      ],
      "execution_count": 64,
      "outputs": [
        {
          "output_type": "execute_result",
          "data": {
            "text/plain": [
              "<matplotlib.axes._subplots.AxesSubplot at 0x7fcc7d035208>"
            ]
          },
          "metadata": {
            "tags": []
          },
          "execution_count": 64
        },
        {
          "output_type": "display_data",
          "data": {
            "image/png": "[encoded data removed]",
            "text/plain": [
              "<Figure size 640x480 with 1 Axes>"
            ]
          },
          "metadata": {
            "tags": []
          }
        }
      ]
    },
    {
      "cell_type": "code",
      "metadata": {
        "colab": {
          "base_uri": "https://localhost:8080/",
          "height": 204
        },
        "id": "ZFH8qQvtDbvO",
        "outputId": "005a215a-9441-4fa6-a116-f6fb356b884b"
      },
      "source": [
        "df_titanic['age_cat'] = pd.cut( df_titanic['age'], bins=[0,10,20,30,40,50,60,70,80,90])\n",
        "df_titanic.head()"
      ],
      "execution_count": 66,
      "outputs": [
        {
          "output_type": "execute_result",
          "data": {
            "text/html": [
              "<div>\n",
              "<style scoped>\n",
              "    .dataframe tbody tr th:only-of-type {\n",
              "        vertical-align: middle;\n",
              "    }\n",
              "\n",
              "    .dataframe tbody tr th {\n",
              "        vertical-align: top;\n",
              "    }\n",
              "\n",
              "    .dataframe thead th {\n",
              "        text-align: right;\n",
              "    }\n",
              "</style>\n",
              "<table border=\"1\" class=\"dataframe\">\n",
              "  <thead>\n",
              "    <tr style=\"text-align: right;\">\n",
              "      <th></th>\n",
              "      <th>survived</th>\n",
              "      <th>pclass</th>\n",
              "      <th>sex</th>\n",
              "      <th>age</th>\n",
              "      <th>sibsp</th>\n",
              "      <th>parch</th>\n",
              "      <th>fare</th>\n",
              "      <th>embarked</th>\n",
              "      <th>class</th>\n",
              "      <th>who</th>\n",
              "      <th>adult_male</th>\n",
              "      <th>deck</th>\n",
              "      <th>embark_town</th>\n",
              "      <th>alive</th>\n",
              "      <th>alone</th>\n",
              "      <th>age_cat</th>\n",
              "    </tr>\n",
              "  </thead>\n",
              "  <tbody>\n",
              "    <tr>\n",
              "      <th>1</th>\n",
              "      <td>1</td>\n",
              "      <td>1</td>\n",
              "      <td>female</td>\n",
              "      <td>38.000</td>\n",
              "      <td>1</td>\n",
              "      <td>0</td>\n",
              "      <td>71.283</td>\n",
              "      <td>C</td>\n",
              "      <td>First</td>\n",
              "      <td>woman</td>\n",
              "      <td>False</td>\n",
              "      <td>C</td>\n",
              "      <td>Cherbourg</td>\n",
              "      <td>yes</td>\n",
              "      <td>False</td>\n",
              "      <td>(30, 40]</td>\n",
              "    </tr>\n",
              "    <tr>\n",
              "      <th>3</th>\n",
              "      <td>1</td>\n",
              "      <td>1</td>\n",
              "      <td>female</td>\n",
              "      <td>35.000</td>\n",
              "      <td>1</td>\n",
              "      <td>0</td>\n",
              "      <td>53.100</td>\n",
              "      <td>S</td>\n",
              "      <td>First</td>\n",
              "      <td>woman</td>\n",
              "      <td>False</td>\n",
              "      <td>C</td>\n",
              "      <td>Southampton</td>\n",
              "      <td>yes</td>\n",
              "      <td>False</td>\n",
              "      <td>(30, 40]</td>\n",
              "    </tr>\n",
              "    <tr>\n",
              "      <th>6</th>\n",
              "      <td>0</td>\n",
              "      <td>1</td>\n",
              "      <td>male</td>\n",
              "      <td>54.000</td>\n",
              "      <td>0</td>\n",
              "      <td>0</td>\n",
              "      <td>51.862</td>\n",
              "      <td>S</td>\n",
              "      <td>First</td>\n",
              "      <td>man</td>\n",
              "      <td>True</td>\n",
              "      <td>E</td>\n",
              "      <td>Southampton</td>\n",
              "      <td>no</td>\n",
              "      <td>True</td>\n",
              "      <td>(50, 60]</td>\n",
              "    </tr>\n",
              "    <tr>\n",
              "      <th>10</th>\n",
              "      <td>1</td>\n",
              "      <td>3</td>\n",
              "      <td>female</td>\n",
              "      <td>4.000</td>\n",
              "      <td>1</td>\n",
              "      <td>1</td>\n",
              "      <td>16.700</td>\n",
              "      <td>S</td>\n",
              "      <td>Third</td>\n",
              "      <td>child</td>\n",
              "      <td>False</td>\n",
              "      <td>G</td>\n",
              "      <td>Southampton</td>\n",
              "      <td>yes</td>\n",
              "      <td>False</td>\n",
              "      <td>(0, 10]</td>\n",
              "    </tr>\n",
              "    <tr>\n",
              "      <th>11</th>\n",
              "      <td>1</td>\n",
              "      <td>1</td>\n",
              "      <td>female</td>\n",
              "      <td>58.000</td>\n",
              "      <td>0</td>\n",
              "      <td>0</td>\n",
              "      <td>26.550</td>\n",
              "      <td>S</td>\n",
              "      <td>First</td>\n",
              "      <td>woman</td>\n",
              "      <td>False</td>\n",
              "      <td>C</td>\n",
              "      <td>Southampton</td>\n",
              "      <td>yes</td>\n",
              "      <td>True</td>\n",
              "      <td>(50, 60]</td>\n",
              "    </tr>\n",
              "  </tbody>\n",
              "</table>\n",
              "</div>"
            ],
            "text/plain": [
              "    survived  pclass     sex    age  ...  embark_town  alive  alone   age_cat\n",
              "1          1       1  female 38.000  ...    Cherbourg    yes  False  (30, 40]\n",
              "3          1       1  female 35.000  ...  Southampton    yes  False  (30, 40]\n",
              "6          0       1    male 54.000  ...  Southampton     no   True  (50, 60]\n",
              "10         1       3  female  4.000  ...  Southampton    yes  False   (0, 10]\n",
              "11         1       1  female 58.000  ...  Southampton    yes   True  (50, 60]\n",
              "\n",
              "[5 rows x 16 columns]"
            ]
          },
          "metadata": {
            "tags": []
          },
          "execution_count": 66
        }
      ]
    },
    {
      "cell_type": "code",
      "metadata": {
        "colab": {
          "base_uri": "https://localhost:8080/",
          "height": 447
        },
        "id": "p0jdrhacDvc8",
        "outputId": "d6ab0911-b3ae-47f8-cf9b-d9e8eaa179dd"
      },
      "source": [
        "df_titanic.plot(kind='box')"
      ],
      "execution_count": 68,
      "outputs": [
        {
          "output_type": "execute_result",
          "data": {
            "text/plain": [
              "<matplotlib.axes._subplots.AxesSubplot at 0x7fcc7b0063c8>"
            ]
          },
          "metadata": {
            "tags": []
          },
          "execution_count": 68
        },
        {
          "output_type": "display_data",
          "data": {
            "image/png": "[encoded data removed]",
            "text/plain": [
              "<Figure size 640x480 with 1 Axes>"
            ]
          },
          "metadata": {
            "tags": []
          }
        }
      ]
    },
    {
      "cell_type": "code",
      "metadata": {
        "colab": {
          "base_uri": "https://localhost:8080/",
          "height": 466
        },
        "id": "vDVDYcNsEjAM",
        "outputId": "7e798b0a-f7a3-4c7f-b8bd-3d09a766b3d7"
      },
      "source": [
        "sns.boxplot( x='age_cat', y='fare', data=df_titanic )"
      ],
      "execution_count": 69,
      "outputs": [
        {
          "output_type": "execute_result",
          "data": {
            "text/plain": [
              "<matplotlib.axes._subplots.AxesSubplot at 0x7fcc7ad73b00>"
            ]
          },
          "metadata": {
            "tags": []
          },
          "execution_count": 69
        },
        {
          "output_type": "display_data",
          "data": {
            "image/png": "[encoded data removed]",
            "text/plain": [
              "<Figure size 640x480 with 1 Axes>"
            ]
          },
          "metadata": {
            "tags": []
          }
        }
      ]
    },
    {
      "cell_type": "code",
      "metadata": {
        "id": "C9kMiWiIFTzm",
        "outputId": "9b412bab-c954-4b6f-92af-87e13ce01ff0",
        "colab": {
          "base_uri": "https://localhost:8080/",
          "height": 466
        }
      },
      "source": [
        "sns.boxplot( y='age_cat', x='fare', data=df_titanic )"
      ],
      "execution_count": 70,
      "outputs": [
        {
          "output_type": "execute_result",
          "data": {
            "text/plain": [
              "<matplotlib.axes._subplots.AxesSubplot at 0x7fcc85da7630>"
            ]
          },
          "metadata": {
            "tags": []
          },
          "execution_count": 70
        },
        {
          "output_type": "display_data",
          "data": {
            "image/png": "[encoded data removed]",
            "text/plain": [
              "<Figure size 640x480 with 1 Axes>"
            ]
          },
          "metadata": {
            "tags": []
          }
        }
      ]
    },
    {
      "cell_type": "code",
      "metadata": {
        "id": "XtizVySOlPUT",
        "colab": {
          "base_uri": "https://localhost:8080/",
          "height": 204
        },
        "outputId": "93214979-0aac-44ec-ca24-c6390ceb96ac"
      },
      "source": [
        "# Avaliando os dados da cauda esquerda\n",
        "df_titanic.loc[df_titanic['age'] < 15].head()"
      ],
      "execution_count": 27,
      "outputs": [
        {
          "output_type": "execute_result",
          "data": {
            "text/html": [
              "<div>\n",
              "<style scoped>\n",
              "    .dataframe tbody tr th:only-of-type {\n",
              "        vertical-align: middle;\n",
              "    }\n",
              "\n",
              "    .dataframe tbody tr th {\n",
              "        vertical-align: top;\n",
              "    }\n",
              "\n",
              "    .dataframe thead th {\n",
              "        text-align: right;\n",
              "    }\n",
              "</style>\n",
              "<table border=\"1\" class=\"dataframe\">\n",
              "  <thead>\n",
              "    <tr style=\"text-align: right;\">\n",
              "      <th></th>\n",
              "      <th>survived</th>\n",
              "      <th>pclass</th>\n",
              "      <th>sex</th>\n",
              "      <th>age</th>\n",
              "      <th>sibsp</th>\n",
              "      <th>parch</th>\n",
              "      <th>fare</th>\n",
              "      <th>embarked</th>\n",
              "      <th>class</th>\n",
              "      <th>who</th>\n",
              "      <th>adult_male</th>\n",
              "      <th>deck</th>\n",
              "      <th>embark_town</th>\n",
              "      <th>alive</th>\n",
              "      <th>alone</th>\n",
              "    </tr>\n",
              "  </thead>\n",
              "  <tbody>\n",
              "    <tr>\n",
              "      <th>10</th>\n",
              "      <td>1</td>\n",
              "      <td>3</td>\n",
              "      <td>female</td>\n",
              "      <td>4.000</td>\n",
              "      <td>1</td>\n",
              "      <td>1</td>\n",
              "      <td>16.700</td>\n",
              "      <td>S</td>\n",
              "      <td>Third</td>\n",
              "      <td>child</td>\n",
              "      <td>False</td>\n",
              "      <td>G</td>\n",
              "      <td>Southampton</td>\n",
              "      <td>yes</td>\n",
              "      <td>False</td>\n",
              "    </tr>\n",
              "    <tr>\n",
              "      <th>183</th>\n",
              "      <td>1</td>\n",
              "      <td>2</td>\n",
              "      <td>male</td>\n",
              "      <td>1.000</td>\n",
              "      <td>2</td>\n",
              "      <td>1</td>\n",
              "      <td>39.000</td>\n",
              "      <td>S</td>\n",
              "      <td>Second</td>\n",
              "      <td>child</td>\n",
              "      <td>False</td>\n",
              "      <td>F</td>\n",
              "      <td>Southampton</td>\n",
              "      <td>yes</td>\n",
              "      <td>False</td>\n",
              "    </tr>\n",
              "    <tr>\n",
              "      <th>193</th>\n",
              "      <td>1</td>\n",
              "      <td>2</td>\n",
              "      <td>male</td>\n",
              "      <td>3.000</td>\n",
              "      <td>1</td>\n",
              "      <td>1</td>\n",
              "      <td>26.000</td>\n",
              "      <td>S</td>\n",
              "      <td>Second</td>\n",
              "      <td>child</td>\n",
              "      <td>False</td>\n",
              "      <td>F</td>\n",
              "      <td>Southampton</td>\n",
              "      <td>yes</td>\n",
              "      <td>False</td>\n",
              "    </tr>\n",
              "    <tr>\n",
              "      <th>205</th>\n",
              "      <td>0</td>\n",
              "      <td>3</td>\n",
              "      <td>female</td>\n",
              "      <td>2.000</td>\n",
              "      <td>0</td>\n",
              "      <td>1</td>\n",
              "      <td>10.463</td>\n",
              "      <td>S</td>\n",
              "      <td>Third</td>\n",
              "      <td>child</td>\n",
              "      <td>False</td>\n",
              "      <td>G</td>\n",
              "      <td>Southampton</td>\n",
              "      <td>no</td>\n",
              "      <td>False</td>\n",
              "    </tr>\n",
              "    <tr>\n",
              "      <th>297</th>\n",
              "      <td>0</td>\n",
              "      <td>1</td>\n",
              "      <td>female</td>\n",
              "      <td>2.000</td>\n",
              "      <td>1</td>\n",
              "      <td>2</td>\n",
              "      <td>151.550</td>\n",
              "      <td>S</td>\n",
              "      <td>First</td>\n",
              "      <td>child</td>\n",
              "      <td>False</td>\n",
              "      <td>C</td>\n",
              "      <td>Southampton</td>\n",
              "      <td>no</td>\n",
              "      <td>False</td>\n",
              "    </tr>\n",
              "  </tbody>\n",
              "</table>\n",
              "</div>"
            ],
            "text/plain": [
              "     survived  pclass     sex   age  ...  deck  embark_town  alive  alone\n",
              "10          1       3  female 4.000  ...     G  Southampton    yes  False\n",
              "183         1       2    male 1.000  ...     F  Southampton    yes  False\n",
              "193         1       2    male 3.000  ...     F  Southampton    yes  False\n",
              "205         0       3  female 2.000  ...     G  Southampton     no  False\n",
              "297         0       1  female 2.000  ...     C  Southampton     no  False\n",
              "\n",
              "[5 rows x 15 columns]"
            ]
          },
          "metadata": {
            "tags": []
          },
          "execution_count": 27
        }
      ]
    },
    {
      "cell_type": "code",
      "metadata": {
        "id": "YGnZlzDDlyZO",
        "colab": {
          "base_uri": "https://localhost:8080/"
        },
        "outputId": "38df055c-8da4-4c70-f5c6-d4f532e642b3"
      },
      "source": [
        "# Zoom na linha 3\n",
        "df_titanic.loc[10]"
      ],
      "execution_count": 28,
      "outputs": [
        {
          "output_type": "execute_result",
          "data": {
            "text/plain": [
              "survived                 1\n",
              "pclass                   3\n",
              "sex                 female\n",
              "age                  4.000\n",
              "sibsp                    1\n",
              "parch                    1\n",
              "fare                16.700\n",
              "embarked                 S\n",
              "class                Third\n",
              "who                  child\n",
              "adult_male           False\n",
              "deck                     G\n",
              "embark_town    Southampton\n",
              "alive                  yes\n",
              "alone                False\n",
              "Name: 10, dtype: object"
            ]
          },
          "metadata": {
            "tags": []
          },
          "execution_count": 28
        }
      ]
    },
    {
      "cell_type": "code",
      "metadata": {
        "id": "YVhBJua_sG-u",
        "colab": {
          "base_uri": "https://localhost:8080/",
          "height": 142
        },
        "outputId": "cc66a48b-d30e-4dd4-b9b7-99a98c53b1e7"
      },
      "source": [
        "# Avaliando dados da cauda direita\n",
        "df_titanic.loc[df_titanic['age'] > 65].head()"
      ],
      "execution_count": 29,
      "outputs": [
        {
          "output_type": "execute_result",
          "data": {
            "text/html": [
              "<div>\n",
              "<style scoped>\n",
              "    .dataframe tbody tr th:only-of-type {\n",
              "        vertical-align: middle;\n",
              "    }\n",
              "\n",
              "    .dataframe tbody tr th {\n",
              "        vertical-align: top;\n",
              "    }\n",
              "\n",
              "    .dataframe thead th {\n",
              "        text-align: right;\n",
              "    }\n",
              "</style>\n",
              "<table border=\"1\" class=\"dataframe\">\n",
              "  <thead>\n",
              "    <tr style=\"text-align: right;\">\n",
              "      <th></th>\n",
              "      <th>survived</th>\n",
              "      <th>pclass</th>\n",
              "      <th>sex</th>\n",
              "      <th>age</th>\n",
              "      <th>sibsp</th>\n",
              "      <th>parch</th>\n",
              "      <th>fare</th>\n",
              "      <th>embarked</th>\n",
              "      <th>class</th>\n",
              "      <th>who</th>\n",
              "      <th>adult_male</th>\n",
              "      <th>deck</th>\n",
              "      <th>embark_town</th>\n",
              "      <th>alive</th>\n",
              "      <th>alone</th>\n",
              "    </tr>\n",
              "  </thead>\n",
              "  <tbody>\n",
              "    <tr>\n",
              "      <th>96</th>\n",
              "      <td>0</td>\n",
              "      <td>1</td>\n",
              "      <td>male</td>\n",
              "      <td>71.000</td>\n",
              "      <td>0</td>\n",
              "      <td>0</td>\n",
              "      <td>34.654</td>\n",
              "      <td>C</td>\n",
              "      <td>First</td>\n",
              "      <td>man</td>\n",
              "      <td>True</td>\n",
              "      <td>A</td>\n",
              "      <td>Cherbourg</td>\n",
              "      <td>no</td>\n",
              "      <td>True</td>\n",
              "    </tr>\n",
              "    <tr>\n",
              "      <th>630</th>\n",
              "      <td>1</td>\n",
              "      <td>1</td>\n",
              "      <td>male</td>\n",
              "      <td>80.000</td>\n",
              "      <td>0</td>\n",
              "      <td>0</td>\n",
              "      <td>30.000</td>\n",
              "      <td>S</td>\n",
              "      <td>First</td>\n",
              "      <td>man</td>\n",
              "      <td>True</td>\n",
              "      <td>A</td>\n",
              "      <td>Southampton</td>\n",
              "      <td>yes</td>\n",
              "      <td>True</td>\n",
              "    </tr>\n",
              "    <tr>\n",
              "      <th>745</th>\n",
              "      <td>0</td>\n",
              "      <td>1</td>\n",
              "      <td>male</td>\n",
              "      <td>70.000</td>\n",
              "      <td>1</td>\n",
              "      <td>1</td>\n",
              "      <td>71.000</td>\n",
              "      <td>S</td>\n",
              "      <td>First</td>\n",
              "      <td>man</td>\n",
              "      <td>True</td>\n",
              "      <td>B</td>\n",
              "      <td>Southampton</td>\n",
              "      <td>no</td>\n",
              "      <td>False</td>\n",
              "    </tr>\n",
              "  </tbody>\n",
              "</table>\n",
              "</div>"
            ],
            "text/plain": [
              "     survived  pclass   sex    age  ...  deck  embark_town  alive  alone\n",
              "96          0       1  male 71.000  ...     A    Cherbourg     no   True\n",
              "630         1       1  male 80.000  ...     A  Southampton    yes   True\n",
              "745         0       1  male 70.000  ...     B  Southampton     no  False\n",
              "\n",
              "[3 rows x 15 columns]"
            ]
          },
          "metadata": {
            "tags": []
          },
          "execution_count": 29
        }
      ]
    },
    {
      "cell_type": "code",
      "metadata": {
        "id": "LRkUWSletcq-",
        "colab": {
          "base_uri": "https://localhost:8080/"
        },
        "outputId": "9d0bf51b-e645-492f-d8e2-2360fca9e06d"
      },
      "source": [
        "# Zoom na linha 96\n",
        "df_titanic.loc[96]"
      ],
      "execution_count": 30,
      "outputs": [
        {
          "output_type": "execute_result",
          "data": {
            "text/plain": [
              "survived               0\n",
              "pclass                 1\n",
              "sex                 male\n",
              "age               71.000\n",
              "sibsp                  0\n",
              "parch                  0\n",
              "fare              34.654\n",
              "embarked               C\n",
              "class              First\n",
              "who                  man\n",
              "adult_male          True\n",
              "deck                   A\n",
              "embark_town    Cherbourg\n",
              "alive                 no\n",
              "alone               True\n",
              "Name: 96, dtype: object"
            ]
          },
          "metadata": {
            "tags": []
          },
          "execution_count": 30
        }
      ]
    },
    {
      "cell_type": "code",
      "metadata": {
        "id": "JQKECo0BSefE",
        "colab": {
          "base_uri": "https://localhost:8080/",
          "height": 454
        },
        "outputId": "e0bc145b-3038-4fe1-9655-44db3572ea3e"
      },
      "source": [
        "sns.regplot(x = \"age\", y = \"fare\", data = df_titanic_ss)\n",
        "sns.despine()"
      ],
      "execution_count": 31,
      "outputs": [
        {
          "output_type": "display_data",
          "data": {
            "image/png": "[encoded data removed]",
            "text/plain": [
              "<Figure size 640x480 with 1 Axes>"
            ]
          },
          "metadata": {
            "tags": []
          }
        }
      ]
    },
    {
      "cell_type": "code",
      "metadata": {
        "id": "AChZpGY4Ghc9",
        "colab": {
          "base_uri": "https://localhost:8080/",
          "height": 204
        },
        "outputId": "f45c48cd-fbfa-4434-82a4-0b1121fdb429"
      },
      "source": [
        "cols = ['fare', 'age']\n",
        "df_titanic_ss[cols].head()"
      ],
      "execution_count": 32,
      "outputs": [
        {
          "output_type": "execute_result",
          "data": {
            "text/html": [
              "<div>\n",
              "<style scoped>\n",
              "    .dataframe tbody tr th:only-of-type {\n",
              "        vertical-align: middle;\n",
              "    }\n",
              "\n",
              "    .dataframe tbody tr th {\n",
              "        vertical-align: top;\n",
              "    }\n",
              "\n",
              "    .dataframe thead th {\n",
              "        text-align: right;\n",
              "    }\n",
              "</style>\n",
              "<table border=\"1\" class=\"dataframe\">\n",
              "  <thead>\n",
              "    <tr style=\"text-align: right;\">\n",
              "      <th></th>\n",
              "      <th>fare</th>\n",
              "      <th>age</th>\n",
              "    </tr>\n",
              "  </thead>\n",
              "  <tbody>\n",
              "    <tr>\n",
              "      <th>1</th>\n",
              "      <td>-0.100</td>\n",
              "      <td>0.152</td>\n",
              "    </tr>\n",
              "    <tr>\n",
              "      <th>3</th>\n",
              "      <td>-0.338</td>\n",
              "      <td>-0.040</td>\n",
              "    </tr>\n",
              "    <tr>\n",
              "      <th>6</th>\n",
              "      <td>-0.355</td>\n",
              "      <td>1.176</td>\n",
              "    </tr>\n",
              "    <tr>\n",
              "      <th>10</th>\n",
              "      <td>-0.816</td>\n",
              "      <td>-2.023</td>\n",
              "    </tr>\n",
              "    <tr>\n",
              "      <th>11</th>\n",
              "      <td>-0.687</td>\n",
              "      <td>1.432</td>\n",
              "    </tr>\n",
              "  </tbody>\n",
              "</table>\n",
              "</div>"
            ],
            "text/plain": [
              "     fare    age\n",
              "1  -0.100  0.152\n",
              "3  -0.338 -0.040\n",
              "6  -0.355  1.176\n",
              "10 -0.816 -2.023\n",
              "11 -0.687  1.432"
            ]
          },
          "metadata": {
            "tags": []
          },
          "execution_count": 32
        }
      ]
    },
    {
      "cell_type": "markdown",
      "metadata": {
        "id": "s2tddgHcUiAF"
      },
      "source": [
        "___\n",
        "## **CBLOF - Cluster-based Local Outlier Factor**"
      ]
    },
    {
      "cell_type": "code",
      "metadata": {
        "id": "fbJ7k1bbbfr4"
      },
      "source": [
        "# Normalizar as variáveis 'age' e 'fare'\n",
        "df_titanic_ss = df_titanic.copy()\n",
        "df_titanic_ss[['fare', 'age']] = MinMaxScaler().fit_transform(df_titanic_ss[['fare', 'age']])"
      ],
      "execution_count": 33,
      "outputs": []
    },
    {
      "cell_type": "code",
      "metadata": {
        "id": "il0LFdCFJEsw"
      },
      "source": [
        "X1 = df_titanic_ss['age'].values.reshape(-1, 1)\n",
        "X2 = df_titanic_ss['fare'].values.reshape(-1, 1)\n",
        "X = np.concatenate((X1,X2), axis = 1)"
      ],
      "execution_count": 34,
      "outputs": []
    },
    {
      "cell_type": "code",
      "metadata": {
        "id": "QtBn0u7CKlS6",
        "colab": {
          "base_uri": "https://localhost:8080/",
          "height": 755
        },
        "outputId": "4930fbbc-2b4a-4b23-8492-d834ccb94d66"
      },
      "source": [
        "outliers_fraction = 0.01\n",
        "xx , yy = np.meshgrid(np.linspace(0, 1, 100), np.linspace(0, 1, 100))\n",
        "clf = CBLOF(contamination = outliers_fraction, check_estimator = False, random_state = 0)\n",
        "clf.fit(X)\n",
        "# predict raw anomaly score\n",
        "scores_pred = clf.decision_function(X) * -1\n",
        "        \n",
        "# prediction of a datapoint category outlier or inlier\n",
        "y_pred = clf.predict(X)\n",
        "n_inliers = len(y_pred) - np.count_nonzero(y_pred)\n",
        "n_outliers = np.count_nonzero(y_pred == 1)\n",
        "\n",
        "plt.figure(figsize = (8, 8))\n",
        "\n",
        "df1 = df_titanic_ss\n",
        "df1['outlier'] = y_pred.tolist()\n",
        "\n",
        "inliers_fare = np.array(df1['fare'][df1['outlier'] == 0]).reshape(-1,1)\n",
        "inliers_age = np.array(df1['age'][df1['outlier'] == 0]).reshape(-1,1)\n",
        "    \n",
        "outliers_fare = df1['fare'][df1['outlier'] == 1].values.reshape(-1,1)\n",
        "outliers_age = df1['age'][df1['outlier'] == 1].values.reshape(-1,1)\n",
        "         \n",
        "print('OUTLIERS:',n_outliers,'INLIERS:',n_inliers)\n",
        "        \n",
        "# Use threshold para definir um ponto como inlier ou outlier\n",
        "# threshold = stats.scoreatpercentile(scores_pred,100 * outliers_fraction)\n",
        "threshold = percentile(scores_pred, 100 * outliers_fraction)\n",
        "        \n",
        "# Calcula o Anomaly Score\n",
        "Z = clf.decision_function(np.c_[xx.ravel(), yy.ravel()]) * -1\n",
        "Z = Z.reshape(xx.shape)\n",
        "\n",
        "plt.contourf(xx, yy, Z, levels = np.linspace(Z.min(), threshold, 7), cmap = plt.cm.Blues_r)\n",
        "        \n",
        "# Desenha a linha vermelha a partir do qual Anomaly Score = thresold\n",
        "a = plt.contour(xx, yy, Z, levels = [threshold], linewidths = 2, colors = 'red')\n",
        "        \n",
        "# Região Azul onde threshold < Anomaly Score < max(Anomaly score)\n",
        "plt.contourf(xx, yy, Z, levels= [threshold, Z.max()], colors='orange')\n",
        "b = plt.scatter(inliers_fare, inliers_age, c = 'white', s = 20, edgecolor = 'k')\n",
        "    \n",
        "c = plt.scatter(outliers_fare, outliers_age, c = 'black', s = 20, edgecolor = 'k')\n",
        "       \n",
        "plt.axis('tight')   \n",
        "plt.legend([a.collections[0], b, c], ['learned decision function', 'inliers', 'outliers'],\n",
        "           prop = matplotlib.font_manager.FontProperties(size = 10), loc = 'upper center', frameon = False, bbox_to_anchor = (0.5, -0.05),\n",
        "          fancybox = True, shadow = True, ncol = 5)\n",
        "      \n",
        "plt.xlim((0, 1))\n",
        "plt.ylim((0, 1))\n",
        "plt.title('Cluster-based Local Outlier Factor (CBLOF)')\n",
        "plt.show()"
      ],
      "execution_count": 35,
      "outputs": [
        {
          "output_type": "stream",
          "text": [
            "OUTLIERS: 2 INLIERS: 180\n"
          ],
          "name": "stdout"
        },
        {
          "output_type": "display_data",
          "data": {
            "image/png": "[encoded data removed]",
            "text/plain": [
              "<Figure size 800x800 with 1 Axes>"
            ]
          },
          "metadata": {
            "tags": []
          }
        }
      ]
    },
    {
      "cell_type": "code",
      "metadata": {
        "id": "O7NmDgjRm5EE",
        "colab": {
          "base_uri": "https://localhost:8080/",
          "height": 111
        },
        "outputId": "1c506546-ab1a-4049-cdcd-f6faa9588d3a"
      },
      "source": [
        "# Zoom em alguns outliers...\n",
        "df1.loc[df1['outlier'] == 1].head()"
      ],
      "execution_count": 36,
      "outputs": [
        {
          "output_type": "execute_result",
          "data": {
            "text/html": [
              "<div>\n",
              "<style scoped>\n",
              "    .dataframe tbody tr th:only-of-type {\n",
              "        vertical-align: middle;\n",
              "    }\n",
              "\n",
              "    .dataframe tbody tr th {\n",
              "        vertical-align: top;\n",
              "    }\n",
              "\n",
              "    .dataframe thead th {\n",
              "        text-align: right;\n",
              "    }\n",
              "</style>\n",
              "<table border=\"1\" class=\"dataframe\">\n",
              "  <thead>\n",
              "    <tr style=\"text-align: right;\">\n",
              "      <th></th>\n",
              "      <th>survived</th>\n",
              "      <th>pclass</th>\n",
              "      <th>sex</th>\n",
              "      <th>age</th>\n",
              "      <th>sibsp</th>\n",
              "      <th>parch</th>\n",
              "      <th>fare</th>\n",
              "      <th>embarked</th>\n",
              "      <th>class</th>\n",
              "      <th>who</th>\n",
              "      <th>adult_male</th>\n",
              "      <th>deck</th>\n",
              "      <th>embark_town</th>\n",
              "      <th>alive</th>\n",
              "      <th>alone</th>\n",
              "      <th>outlier</th>\n",
              "    </tr>\n",
              "  </thead>\n",
              "  <tbody>\n",
              "    <tr>\n",
              "      <th>679</th>\n",
              "      <td>1</td>\n",
              "      <td>1</td>\n",
              "      <td>male</td>\n",
              "      <td>0.444</td>\n",
              "      <td>0</td>\n",
              "      <td>1</td>\n",
              "      <td>1.000</td>\n",
              "      <td>C</td>\n",
              "      <td>First</td>\n",
              "      <td>man</td>\n",
              "      <td>True</td>\n",
              "      <td>B</td>\n",
              "      <td>Cherbourg</td>\n",
              "      <td>yes</td>\n",
              "      <td>False</td>\n",
              "      <td>1</td>\n",
              "    </tr>\n",
              "    <tr>\n",
              "      <th>737</th>\n",
              "      <td>1</td>\n",
              "      <td>1</td>\n",
              "      <td>male</td>\n",
              "      <td>0.431</td>\n",
              "      <td>0</td>\n",
              "      <td>0</td>\n",
              "      <td>1.000</td>\n",
              "      <td>C</td>\n",
              "      <td>First</td>\n",
              "      <td>man</td>\n",
              "      <td>True</td>\n",
              "      <td>B</td>\n",
              "      <td>Cherbourg</td>\n",
              "      <td>yes</td>\n",
              "      <td>True</td>\n",
              "      <td>1</td>\n",
              "    </tr>\n",
              "  </tbody>\n",
              "</table>\n",
              "</div>"
            ],
            "text/plain": [
              "     survived  pclass   sex   age  sibsp  ...  deck  embark_town alive  alone outlier\n",
              "679         1       1  male 0.444      0  ...     B    Cherbourg   yes  False       1\n",
              "737         1       1  male 0.431      0  ...     B    Cherbourg   yes   True       1\n",
              "\n",
              "[2 rows x 16 columns]"
            ]
          },
          "metadata": {
            "tags": []
          },
          "execution_count": 36
        }
      ]
    },
    {
      "cell_type": "code",
      "metadata": {
        "id": "HIRxOj93nVXu",
        "colab": {
          "base_uri": "https://localhost:8080/"
        },
        "outputId": "69618bd2-935f-43b6-999f-d7bd51057037"
      },
      "source": [
        "# Zoom na linha 679\n",
        "df_titanic.loc[679]"
      ],
      "execution_count": 37,
      "outputs": [
        {
          "output_type": "execute_result",
          "data": {
            "text/plain": [
              "survived               1\n",
              "pclass                 1\n",
              "sex                 male\n",
              "age               36.000\n",
              "sibsp                  0\n",
              "parch                  1\n",
              "fare             512.329\n",
              "embarked               C\n",
              "class              First\n",
              "who                  man\n",
              "adult_male          True\n",
              "deck                   B\n",
              "embark_town    Cherbourg\n",
              "alive                yes\n",
              "alone              False\n",
              "Name: 679, dtype: object"
            ]
          },
          "metadata": {
            "tags": []
          },
          "execution_count": 37
        }
      ]
    },
    {
      "cell_type": "code",
      "metadata": {
        "id": "euxK-4K1oKs0",
        "colab": {
          "base_uri": "https://localhost:8080/",
          "height": 173
        },
        "outputId": "ae8abd47-1485-4cec-8037-8a95cbe5a17b"
      },
      "source": [
        "# Algumas medidas para compararmos\n",
        "df_resumo = df_titanic.groupby('sex').agg({'age': ['mean'], 'fare': ['mean']}).round(0)\n",
        "df_resumo"
      ],
      "execution_count": 38,
      "outputs": [
        {
          "output_type": "execute_result",
          "data": {
            "text/html": [
              "<div>\n",
              "<style scoped>\n",
              "    .dataframe tbody tr th:only-of-type {\n",
              "        vertical-align: middle;\n",
              "    }\n",
              "\n",
              "    .dataframe tbody tr th {\n",
              "        vertical-align: top;\n",
              "    }\n",
              "\n",
              "    .dataframe thead tr th {\n",
              "        text-align: left;\n",
              "    }\n",
              "\n",
              "    .dataframe thead tr:last-of-type th {\n",
              "        text-align: right;\n",
              "    }\n",
              "</style>\n",
              "<table border=\"1\" class=\"dataframe\">\n",
              "  <thead>\n",
              "    <tr>\n",
              "      <th></th>\n",
              "      <th>age</th>\n",
              "      <th>fare</th>\n",
              "    </tr>\n",
              "    <tr>\n",
              "      <th></th>\n",
              "      <th>mean</th>\n",
              "      <th>mean</th>\n",
              "    </tr>\n",
              "    <tr>\n",
              "      <th>sex</th>\n",
              "      <th></th>\n",
              "      <th></th>\n",
              "    </tr>\n",
              "  </thead>\n",
              "  <tbody>\n",
              "    <tr>\n",
              "      <th>female</th>\n",
              "      <td>33.000</td>\n",
              "      <td>89.000</td>\n",
              "    </tr>\n",
              "    <tr>\n",
              "      <th>male</th>\n",
              "      <td>38.000</td>\n",
              "      <td>69.000</td>\n",
              "    </tr>\n",
              "  </tbody>\n",
              "</table>\n",
              "</div>"
            ],
            "text/plain": [
              "          age   fare\n",
              "         mean   mean\n",
              "sex                 \n",
              "female 33.000 89.000\n",
              "male   38.000 69.000"
            ]
          },
          "metadata": {
            "tags": []
          },
          "execution_count": 38
        }
      ]
    },
    {
      "cell_type": "code",
      "metadata": {
        "id": "nuNxqgWMtMHC",
        "colab": {
          "base_uri": "https://localhost:8080/"
        },
        "outputId": "9d506173-b814-4cfe-960e-f79c6a67bb4e"
      },
      "source": [
        "# Média Geral de 'age'\n",
        "round(df_titanic['age'].mean())"
      ],
      "execution_count": 39,
      "outputs": [
        {
          "output_type": "execute_result",
          "data": {
            "text/plain": [
              "36"
            ]
          },
          "metadata": {
            "tags": []
          },
          "execution_count": 39
        }
      ]
    },
    {
      "cell_type": "code",
      "metadata": {
        "id": "bLIZcvyuuU2R",
        "colab": {
          "base_uri": "https://localhost:8080/"
        },
        "outputId": "fc182e25-d03f-425c-fce1-58de31a2c1af"
      },
      "source": [
        "# Média Geral de 'fare'\n",
        "round(df_titanic['fare'].mean())"
      ],
      "execution_count": 40,
      "outputs": [
        {
          "output_type": "execute_result",
          "data": {
            "text/plain": [
              "79"
            ]
          },
          "metadata": {
            "tags": []
          },
          "execution_count": 40
        }
      ]
    },
    {
      "cell_type": "markdown",
      "metadata": {
        "id": "fFd-D1HTVhE7"
      },
      "source": [
        "\n",
        "## **HBOS - Histogram-based Outlier Detection**"
      ]
    },
    {
      "cell_type": "markdown",
      "metadata": {
        "id": "T3MGu3OPGu65"
      },
      "source": [
        "df_titanic_ss = df_titanic.copy()\n",
        "\n",
        "df_titanic_ss[['fare', 'age']] = MinMaxScaler().fit_transform(df_titanic_ss[['fare', 'age']])"
      ]
    },
    {
      "cell_type": "markdown",
      "metadata": {
        "id": "hIiMi-MJGTzL"
      },
      "source": [
        "\n",
        "\n",
        "X1 = df_titanic_ss['age'].values.reshape(-1, 1)\n",
        "\n",
        "X2 = df_titanic_ss['fare'].values.reshape(-1, 1)\n",
        "\n",
        "X = np.concatenate((X1,X2), axis = 1)"
      ]
    },
    {
      "cell_type": "code",
      "metadata": {
        "id": "1ON405vsGECZ",
        "outputId": "6fe60995-e434-4cac-da5a-8163f12ac100",
        "colab": {
          "base_uri": "https://localhost:8080/"
        }
      },
      "source": [
        "X.shape"
      ],
      "execution_count": 72,
      "outputs": [
        {
          "output_type": "execute_result",
          "data": {
            "text/plain": [
              "(442, 10)"
            ]
          },
          "metadata": {
            "tags": []
          },
          "execution_count": 72
        }
      ]
    },
    {
      "cell_type": "code",
      "metadata": {
        "id": "Q5Hh5iMEXuhM",
        "colab": {
          "base_uri": "https://localhost:8080/",
          "height": 755
        },
        "outputId": "9b835645-0c2d-433e-a970-8f8d337d52e1"
      },
      "source": [
        "outliers_fraction = 0.01\n",
        "xx , yy = np.meshgrid(np.linspace(0, 1, 100), np.linspace(0, 1, 100))\n",
        "clf = HBOS(contamination = outliers_fraction)\n",
        "clf.fit(X)\n",
        "\n",
        "# predict raw anomaly score\n",
        "scores_pred = clf.decision_function(X) * -1\n",
        "        \n",
        "# prediction of a datapoint category outlier or inlier\n",
        "y_pred = clf.predict(X)\n",
        "n_inliers = len(y_pred) - np.count_nonzero(y_pred)\n",
        "n_outliers = np.count_nonzero(y_pred == 1)\n",
        "plt.figure(figsize = (8, 8))\n",
        "\n",
        "# copy of dataframe\n",
        "df1 = df_titanic_ss\n",
        "df1['outlier'] = y_pred.tolist()\n",
        "    \n",
        "inliers_fare = np.array(df1['fare'][df1['outlier'] == 0]).reshape(-1, 1)\n",
        "inliers_age = np.array(df1['age'][df1['outlier'] == 0]).reshape(-1, 1)\n",
        "    \n",
        "outliers_fare = df1['fare'][df1['outlier'] == 1].values.reshape(-1, 1)\n",
        "outliers_age = df1['age'][df1['outlier'] == 1].values.reshape(-1, 1)\n",
        "         \n",
        "print('OUTLIERS:', n_outliers, 'INLIERS:', n_inliers)\n",
        "        \n",
        "# threshold define se um ponto será outlier ou inlier\n",
        "threshold = percentile(scores_pred, 100 * outliers_fraction)\n",
        "        \n",
        "# Calcula o Anomaly score\n",
        "Z = clf.decision_function(np.c_[xx.ravel(), yy.ravel()]) * -1\n",
        "Z = Z.reshape(xx.shape)\n",
        "\n",
        "# Define a região azul tal que min(Anomaly score) < threshold\n",
        "plt.contourf(xx, yy, Z, levels = np.linspace(Z.min(), threshold, 7), cmap = plt.cm.Blues_r)\n",
        "        \n",
        "# Desenha a linha a partir do queal Anomaly score = thresold\n",
        "a = plt.contour(xx, yy, Z, levels = [threshold], linewidths = 2, colors = 'red')\n",
        "        \n",
        "# Define a região laranja a partir do qual threshold < Anomaly score < max(Anomaly score)\n",
        "plt.contourf(xx, yy, Z, levels = [threshold, Z.max()],colors='orange')\n",
        "b = plt.scatter(inliers_fare, inliers_age, c='white',s=20, edgecolor='k')\n",
        "    \n",
        "c = plt.scatter(outliers_fare, outliers_age, c='black',s=20, edgecolor='k')\n",
        "       \n",
        "plt.axis('tight')  \n",
        "     \n",
        "plt.legend([a.collections[0], b, c], ['learned decision function', 'inliers', 'outliers'],\n",
        "           prop=matplotlib.font_manager.FontProperties(size = 10), loc ='upper center', frameon = False, bbox_to_anchor = (0.5, -0.05),\n",
        "          fancybox = True, shadow = True, ncol = 5)\n",
        "      \n",
        "plt.xlim((0, 1))\n",
        "plt.ylim((0, 1))\n",
        "plt.title('Histogram-base Outlier Detection (HBOS)')\n",
        "plt.show();"
      ],
      "execution_count": 41,
      "outputs": [
        {
          "output_type": "stream",
          "text": [
            "OUTLIERS: 2 INLIERS: 180\n"
          ],
          "name": "stdout"
        },
        {
          "output_type": "display_data",
          "data": {
            "image/png": "[encoded data removed]",
            "text/plain": [
              "<Figure size 800x800 with 1 Axes>"
            ]
          },
          "metadata": {
            "tags": []
          }
        }
      ]
    },
    {
      "cell_type": "code",
      "metadata": {
        "id": "gHRoON0BnLVb",
        "colab": {
          "base_uri": "https://localhost:8080/",
          "height": 111
        },
        "outputId": "a5a2ef9c-5b10-4969-af41-c61667833167"
      },
      "source": [
        "# Zoom em alguns outliers...\n",
        "df1.loc[df1['outlier'] == 1].head()"
      ],
      "execution_count": 42,
      "outputs": [
        {
          "output_type": "execute_result",
          "data": {
            "text/html": [
              "<div>\n",
              "<style scoped>\n",
              "    .dataframe tbody tr th:only-of-type {\n",
              "        vertical-align: middle;\n",
              "    }\n",
              "\n",
              "    .dataframe tbody tr th {\n",
              "        vertical-align: top;\n",
              "    }\n",
              "\n",
              "    .dataframe thead th {\n",
              "        text-align: right;\n",
              "    }\n",
              "</style>\n",
              "<table border=\"1\" class=\"dataframe\">\n",
              "  <thead>\n",
              "    <tr style=\"text-align: right;\">\n",
              "      <th></th>\n",
              "      <th>survived</th>\n",
              "      <th>pclass</th>\n",
              "      <th>sex</th>\n",
              "      <th>age</th>\n",
              "      <th>sibsp</th>\n",
              "      <th>parch</th>\n",
              "      <th>fare</th>\n",
              "      <th>embarked</th>\n",
              "      <th>class</th>\n",
              "      <th>who</th>\n",
              "      <th>adult_male</th>\n",
              "      <th>deck</th>\n",
              "      <th>embark_town</th>\n",
              "      <th>alive</th>\n",
              "      <th>alone</th>\n",
              "      <th>outlier</th>\n",
              "    </tr>\n",
              "  </thead>\n",
              "  <tbody>\n",
              "    <tr>\n",
              "      <th>318</th>\n",
              "      <td>1</td>\n",
              "      <td>1</td>\n",
              "      <td>female</td>\n",
              "      <td>0.380</td>\n",
              "      <td>0</td>\n",
              "      <td>2</td>\n",
              "      <td>0.322</td>\n",
              "      <td>S</td>\n",
              "      <td>First</td>\n",
              "      <td>woman</td>\n",
              "      <td>False</td>\n",
              "      <td>C</td>\n",
              "      <td>Southampton</td>\n",
              "      <td>yes</td>\n",
              "      <td>False</td>\n",
              "      <td>1</td>\n",
              "    </tr>\n",
              "    <tr>\n",
              "      <th>689</th>\n",
              "      <td>1</td>\n",
              "      <td>1</td>\n",
              "      <td>female</td>\n",
              "      <td>0.178</td>\n",
              "      <td>0</td>\n",
              "      <td>1</td>\n",
              "      <td>0.413</td>\n",
              "      <td>S</td>\n",
              "      <td>First</td>\n",
              "      <td>child</td>\n",
              "      <td>False</td>\n",
              "      <td>B</td>\n",
              "      <td>Southampton</td>\n",
              "      <td>yes</td>\n",
              "      <td>False</td>\n",
              "      <td>1</td>\n",
              "    </tr>\n",
              "  </tbody>\n",
              "</table>\n",
              "</div>"
            ],
            "text/plain": [
              "     survived  pclass     sex   age  ...  embark_town  alive  alone outlier\n",
              "318         1       1  female 0.380  ...  Southampton    yes  False       1\n",
              "689         1       1  female 0.178  ...  Southampton    yes  False       1\n",
              "\n",
              "[2 rows x 16 columns]"
            ]
          },
          "metadata": {
            "tags": []
          },
          "execution_count": 42
        }
      ]
    },
    {
      "cell_type": "code",
      "metadata": {
        "id": "YblU2tnxnXi7",
        "colab": {
          "base_uri": "https://localhost:8080/"
        },
        "outputId": "a48ecae8-a436-4bc8-c9e6-210509bc46cb"
      },
      "source": [
        "# Zoom na linha 689\n",
        "df_titanic.loc[689]"
      ],
      "execution_count": 43,
      "outputs": [
        {
          "output_type": "execute_result",
          "data": {
            "text/plain": [
              "survived                 1\n",
              "pclass                   1\n",
              "sex                 female\n",
              "age                 15.000\n",
              "sibsp                    0\n",
              "parch                    1\n",
              "fare               211.338\n",
              "embarked                 S\n",
              "class                First\n",
              "who                  child\n",
              "adult_male           False\n",
              "deck                     B\n",
              "embark_town    Southampton\n",
              "alive                  yes\n",
              "alone                False\n",
              "Name: 689, dtype: object"
            ]
          },
          "metadata": {
            "tags": []
          },
          "execution_count": 43
        }
      ]
    },
    {
      "cell_type": "code",
      "metadata": {
        "id": "AkWj5aQ-uzxB",
        "colab": {
          "base_uri": "https://localhost:8080/",
          "height": 173
        },
        "outputId": "99642bce-ac56-40db-f804-0be68572809d"
      },
      "source": [
        "# Algumas medidas para compararmos\n",
        "df_resumo = df_titanic.groupby('sex').agg({'age': ['mean'], 'fare': ['mean']}).round(0)\n",
        "df_resumo"
      ],
      "execution_count": 44,
      "outputs": [
        {
          "output_type": "execute_result",
          "data": {
            "text/html": [
              "<div>\n",
              "<style scoped>\n",
              "    .dataframe tbody tr th:only-of-type {\n",
              "        vertical-align: middle;\n",
              "    }\n",
              "\n",
              "    .dataframe tbody tr th {\n",
              "        vertical-align: top;\n",
              "    }\n",
              "\n",
              "    .dataframe thead tr th {\n",
              "        text-align: left;\n",
              "    }\n",
              "\n",
              "    .dataframe thead tr:last-of-type th {\n",
              "        text-align: right;\n",
              "    }\n",
              "</style>\n",
              "<table border=\"1\" class=\"dataframe\">\n",
              "  <thead>\n",
              "    <tr>\n",
              "      <th></th>\n",
              "      <th>age</th>\n",
              "      <th>fare</th>\n",
              "    </tr>\n",
              "    <tr>\n",
              "      <th></th>\n",
              "      <th>mean</th>\n",
              "      <th>mean</th>\n",
              "    </tr>\n",
              "    <tr>\n",
              "      <th>sex</th>\n",
              "      <th></th>\n",
              "      <th></th>\n",
              "    </tr>\n",
              "  </thead>\n",
              "  <tbody>\n",
              "    <tr>\n",
              "      <th>female</th>\n",
              "      <td>33.000</td>\n",
              "      <td>89.000</td>\n",
              "    </tr>\n",
              "    <tr>\n",
              "      <th>male</th>\n",
              "      <td>38.000</td>\n",
              "      <td>69.000</td>\n",
              "    </tr>\n",
              "  </tbody>\n",
              "</table>\n",
              "</div>"
            ],
            "text/plain": [
              "          age   fare\n",
              "         mean   mean\n",
              "sex                 \n",
              "female 33.000 89.000\n",
              "male   38.000 69.000"
            ]
          },
          "metadata": {
            "tags": []
          },
          "execution_count": 44
        }
      ]
    },
    {
      "cell_type": "code",
      "metadata": {
        "id": "EVy5NDrFujgD",
        "colab": {
          "base_uri": "https://localhost:8080/"
        },
        "outputId": "cfc70927-53f5-41ae-fdc3-d638058acf75"
      },
      "source": [
        "# Média Geral de 'age'\n",
        "round(df_titanic['age'].mean())"
      ],
      "execution_count": 45,
      "outputs": [
        {
          "output_type": "execute_result",
          "data": {
            "text/plain": [
              "36"
            ]
          },
          "metadata": {
            "tags": []
          },
          "execution_count": 45
        }
      ]
    },
    {
      "cell_type": "code",
      "metadata": {
        "id": "Hgcp_LU6ujgJ",
        "colab": {
          "base_uri": "https://localhost:8080/"
        },
        "outputId": "be0b9480-8827-44fb-a0b8-7db57df83331"
      },
      "source": [
        "# Média Geral de 'fare'\n",
        "round(df_titanic['fare'].mean())"
      ],
      "execution_count": 46,
      "outputs": [
        {
          "output_type": "execute_result",
          "data": {
            "text/plain": [
              "79"
            ]
          },
          "metadata": {
            "tags": []
          },
          "execution_count": 46
        }
      ]
    },
    {
      "cell_type": "markdown",
      "metadata": {
        "id": "KyPUT9JmWeN-"
      },
      "source": [
        "___\n",
        "## **Isolation Forest**"
      ]
    },
    {
      "cell_type": "code",
      "metadata": {
        "id": "Lrx85bG0YOqM",
        "colab": {
          "base_uri": "https://localhost:8080/",
          "height": 755
        },
        "outputId": "dcd5ea9b-228b-4721-ef36-15255f0b9bfc"
      },
      "source": [
        "outliers_fraction = 0.01\n",
        "xx , yy = np.meshgrid(np.linspace(0, 1, 100), np.linspace(0, 1, 100))\n",
        "clf = IForest(contamination = outliers_fraction,random_state = 0)\n",
        "clf.fit(X)\n",
        "# predict raw anomaly score\n",
        "scores_pred = clf.decision_function(X) * -1\n",
        "        \n",
        "# prediction of a datapoint category outlier or inlier\n",
        "y_pred = clf.predict(X)\n",
        "n_inliers = len(y_pred) - np.count_nonzero(y_pred)\n",
        "n_outliers = np.count_nonzero(y_pred == 1)\n",
        "plt.figure(figsize = (8, 8))\n",
        "# copy of dataframe\n",
        "df1 = df_titanic_ss\n",
        "df1['outlier'] = y_pred.tolist()\n",
        "    \n",
        "# fare - inlier feature 1,  age - inlier feature 2\n",
        "inliers_fare = np.array(df1['fare'][df1['outlier'] == 0]).reshape(-1,1)\n",
        "inliers_age = np.array(df1['age'][df1['outlier'] == 0]).reshape(-1,1)\n",
        "    \n",
        "# fare - outlier feature 1, age - outlier feature 2\n",
        "outliers_fare = df1['fare'][df1['outlier'] == 1].values.reshape(-1,1)\n",
        "outliers_age = df1['age'][df1['outlier'] == 1].values.reshape(-1,1)\n",
        "         \n",
        "print('OUTLIERS: ', n_outliers,'INLIERS: ', n_inliers)\n",
        "        \n",
        "# threshold value to consider a datapoint inlier or outlier\n",
        "threshold = percentile(scores_pred, 100 * outliers_fraction)\n",
        "        \n",
        "# decision function calculates the raw anomaly score for every point\n",
        "Z = clf.decision_function(np.c_[xx.ravel(), yy.ravel()]) * -1\n",
        "Z = Z.reshape(xx.shape)\n",
        "# fill blue map colormap from minimum anomaly score to threshold value\n",
        "plt.contourf(xx, yy, Z, levels=np.linspace(Z.min(), threshold, 7),cmap=plt.cm.Blues_r)\n",
        "        \n",
        "# draw red contour line where anomaly score is equal to thresold\n",
        "a = plt.contour(xx, yy, Z, levels= [threshold],linewidths=2, colors='red')\n",
        "        \n",
        "# fill orange contour lines where range of anomaly score is from threshold to maximum anomaly score\n",
        "plt.contourf(xx, yy, Z, levels= [threshold, Z.max()],colors='orange')\n",
        "b = plt.scatter(inliers_fare, inliers_age, c='white',s=20, edgecolor='k')\n",
        "    \n",
        "c = plt.scatter(outliers_fare, outliers_age, c='black',s=20, edgecolor='k')\n",
        "       \n",
        "plt.axis('tight')\n",
        "plt.legend([a.collections[0], b,c], ['learned decision function', 'inliers', 'outliers'],\n",
        "           prop=matplotlib.font_manager.FontProperties(size = 10), loc='upper center', frameon= False, bbox_to_anchor = (0.5, -0.05),\n",
        "          fancybox = True, shadow = True, ncol=5)\n",
        "      \n",
        "plt.xlim((0, 1))\n",
        "plt.ylim((0, 1))\n",
        "plt.title('Isolation Forest')\n",
        "plt.show();"
      ],
      "execution_count": 47,
      "outputs": [
        {
          "output_type": "stream",
          "text": [
            "OUTLIERS:  2 INLIERS:  180\n"
          ],
          "name": "stdout"
        },
        {
          "output_type": "display_data",
          "data": {
            "image/png": "[encoded data removed]",
            "text/plain": [
              "<Figure size 800x800 with 1 Axes>"
            ]
          },
          "metadata": {
            "tags": []
          }
        }
      ]
    },
    {
      "cell_type": "code",
      "metadata": {
        "id": "HLVraGcCnNTA",
        "colab": {
          "base_uri": "https://localhost:8080/",
          "height": 111
        },
        "outputId": "24a3c367-4460-4591-cf89-81fe2cb87a88"
      },
      "source": [
        "# Zoom em alguns outliers...\n",
        "df1.loc[df1['outlier'] == 1].head()"
      ],
      "execution_count": 48,
      "outputs": [
        {
          "output_type": "execute_result",
          "data": {
            "text/html": [
              "<div>\n",
              "<style scoped>\n",
              "    .dataframe tbody tr th:only-of-type {\n",
              "        vertical-align: middle;\n",
              "    }\n",
              "\n",
              "    .dataframe tbody tr th {\n",
              "        vertical-align: top;\n",
              "    }\n",
              "\n",
              "    .dataframe thead th {\n",
              "        text-align: right;\n",
              "    }\n",
              "</style>\n",
              "<table border=\"1\" class=\"dataframe\">\n",
              "  <thead>\n",
              "    <tr style=\"text-align: right;\">\n",
              "      <th></th>\n",
              "      <th>survived</th>\n",
              "      <th>pclass</th>\n",
              "      <th>sex</th>\n",
              "      <th>age</th>\n",
              "      <th>sibsp</th>\n",
              "      <th>parch</th>\n",
              "      <th>fare</th>\n",
              "      <th>embarked</th>\n",
              "      <th>class</th>\n",
              "      <th>who</th>\n",
              "      <th>adult_male</th>\n",
              "      <th>deck</th>\n",
              "      <th>embark_town</th>\n",
              "      <th>alive</th>\n",
              "      <th>alone</th>\n",
              "      <th>outlier</th>\n",
              "    </tr>\n",
              "  </thead>\n",
              "  <tbody>\n",
              "    <tr>\n",
              "      <th>679</th>\n",
              "      <td>1</td>\n",
              "      <td>1</td>\n",
              "      <td>male</td>\n",
              "      <td>0.444</td>\n",
              "      <td>0</td>\n",
              "      <td>1</td>\n",
              "      <td>1.000</td>\n",
              "      <td>C</td>\n",
              "      <td>First</td>\n",
              "      <td>man</td>\n",
              "      <td>True</td>\n",
              "      <td>B</td>\n",
              "      <td>Cherbourg</td>\n",
              "      <td>yes</td>\n",
              "      <td>False</td>\n",
              "      <td>1</td>\n",
              "    </tr>\n",
              "    <tr>\n",
              "      <th>737</th>\n",
              "      <td>1</td>\n",
              "      <td>1</td>\n",
              "      <td>male</td>\n",
              "      <td>0.431</td>\n",
              "      <td>0</td>\n",
              "      <td>0</td>\n",
              "      <td>1.000</td>\n",
              "      <td>C</td>\n",
              "      <td>First</td>\n",
              "      <td>man</td>\n",
              "      <td>True</td>\n",
              "      <td>B</td>\n",
              "      <td>Cherbourg</td>\n",
              "      <td>yes</td>\n",
              "      <td>True</td>\n",
              "      <td>1</td>\n",
              "    </tr>\n",
              "  </tbody>\n",
              "</table>\n",
              "</div>"
            ],
            "text/plain": [
              "     survived  pclass   sex   age  sibsp  ...  deck  embark_town alive  alone outlier\n",
              "679         1       1  male 0.444      0  ...     B    Cherbourg   yes  False       1\n",
              "737         1       1  male 0.431      0  ...     B    Cherbourg   yes   True       1\n",
              "\n",
              "[2 rows x 16 columns]"
            ]
          },
          "metadata": {
            "tags": []
          },
          "execution_count": 48
        }
      ]
    },
    {
      "cell_type": "code",
      "metadata": {
        "id": "y0WBmFOonZKY",
        "colab": {
          "base_uri": "https://localhost:8080/"
        },
        "outputId": "71b49918-a052-4498-d2d6-02f4602dd9c4"
      },
      "source": [
        "# Zoom na linha 679\n",
        "df_titanic.loc[679]"
      ],
      "execution_count": 49,
      "outputs": [
        {
          "output_type": "execute_result",
          "data": {
            "text/plain": [
              "survived               1\n",
              "pclass                 1\n",
              "sex                 male\n",
              "age               36.000\n",
              "sibsp                  0\n",
              "parch                  1\n",
              "fare             512.329\n",
              "embarked               C\n",
              "class              First\n",
              "who                  man\n",
              "adult_male          True\n",
              "deck                   B\n",
              "embark_town    Cherbourg\n",
              "alive                yes\n",
              "alone              False\n",
              "Name: 679, dtype: object"
            ]
          },
          "metadata": {
            "tags": []
          },
          "execution_count": 49
        }
      ]
    },
    {
      "cell_type": "code",
      "metadata": {
        "id": "auSy5b6Du3PH",
        "colab": {
          "base_uri": "https://localhost:8080/",
          "height": 173
        },
        "outputId": "5954f65c-6fa1-49e5-96c2-2e1cd2bab780"
      },
      "source": [
        "# Algumas medidas para compararmos\n",
        "df_resumo = df_titanic.groupby('sex').agg({'age': ['mean'], 'fare': ['mean']}).round(0)\n",
        "df_resumo"
      ],
      "execution_count": 50,
      "outputs": [
        {
          "output_type": "execute_result",
          "data": {
            "text/html": [
              "<div>\n",
              "<style scoped>\n",
              "    .dataframe tbody tr th:only-of-type {\n",
              "        vertical-align: middle;\n",
              "    }\n",
              "\n",
              "    .dataframe tbody tr th {\n",
              "        vertical-align: top;\n",
              "    }\n",
              "\n",
              "    .dataframe thead tr th {\n",
              "        text-align: left;\n",
              "    }\n",
              "\n",
              "    .dataframe thead tr:last-of-type th {\n",
              "        text-align: right;\n",
              "    }\n",
              "</style>\n",
              "<table border=\"1\" class=\"dataframe\">\n",
              "  <thead>\n",
              "    <tr>\n",
              "      <th></th>\n",
              "      <th>age</th>\n",
              "      <th>fare</th>\n",
              "    </tr>\n",
              "    <tr>\n",
              "      <th></th>\n",
              "      <th>mean</th>\n",
              "      <th>mean</th>\n",
              "    </tr>\n",
              "    <tr>\n",
              "      <th>sex</th>\n",
              "      <th></th>\n",
              "      <th></th>\n",
              "    </tr>\n",
              "  </thead>\n",
              "  <tbody>\n",
              "    <tr>\n",
              "      <th>female</th>\n",
              "      <td>33.000</td>\n",
              "      <td>89.000</td>\n",
              "    </tr>\n",
              "    <tr>\n",
              "      <th>male</th>\n",
              "      <td>38.000</td>\n",
              "      <td>69.000</td>\n",
              "    </tr>\n",
              "  </tbody>\n",
              "</table>\n",
              "</div>"
            ],
            "text/plain": [
              "          age   fare\n",
              "         mean   mean\n",
              "sex                 \n",
              "female 33.000 89.000\n",
              "male   38.000 69.000"
            ]
          },
          "metadata": {
            "tags": []
          },
          "execution_count": 50
        }
      ]
    },
    {
      "cell_type": "code",
      "metadata": {
        "id": "fIQg2D6fuoSG",
        "colab": {
          "base_uri": "https://localhost:8080/"
        },
        "outputId": "74b8dbe3-ec5f-4110-bb01-8539e5bae78d"
      },
      "source": [
        "# Média Geral de 'age'\n",
        "round(df_titanic['age'].mean())"
      ],
      "execution_count": 51,
      "outputs": [
        {
          "output_type": "execute_result",
          "data": {
            "text/plain": [
              "36"
            ]
          },
          "metadata": {
            "tags": []
          },
          "execution_count": 51
        }
      ]
    },
    {
      "cell_type": "code",
      "metadata": {
        "id": "pNUds1oDuoSO",
        "colab": {
          "base_uri": "https://localhost:8080/"
        },
        "outputId": "07ee2a13-d929-4d0a-c6b6-3500bb653d9d"
      },
      "source": [
        "# Média Geral de 'fare'\n",
        "round(df_titanic['fare'].mean())"
      ],
      "execution_count": 52,
      "outputs": [
        {
          "output_type": "execute_result",
          "data": {
            "text/plain": [
              "79"
            ]
          },
          "metadata": {
            "tags": []
          },
          "execution_count": 52
        }
      ]
    },
    {
      "cell_type": "markdown",
      "metadata": {
        "id": "QbpzXB2RV4sq"
      },
      "source": [
        "___\n",
        "## **KNN - K-Nearest Neighbors**"
      ]
    },
    {
      "cell_type": "code",
      "metadata": {
        "id": "6gtIWWbRYxEj",
        "colab": {
          "base_uri": "https://localhost:8080/",
          "height": 755
        },
        "outputId": "07dbd72c-8708-48dc-f151-1a021a3d7c80"
      },
      "source": [
        "outliers_fraction = 0.01\n",
        "xx , yy = np.meshgrid(np.linspace(0, 1, 100), np.linspace(0, 1, 100))\n",
        "clf = KNN(contamination = outliers_fraction)\n",
        "clf.fit(X)\n",
        "# predict raw anomaly score\n",
        "scores_pred = clf.decision_function(X) * -1\n",
        "        \n",
        "# prediction of a datapoint category outlier or inlier\n",
        "y_pred = clf.predict(X)\n",
        "n_inliers = len(y_pred) - np.count_nonzero(y_pred)\n",
        "n_outliers = np.count_nonzero(y_pred == 1)\n",
        "plt.figure(figsize = (8, 8))\n",
        "# copy of dataframe\n",
        "df1 = df_titanic_ss\n",
        "df1['outlier'] = y_pred.tolist()\n",
        "    \n",
        "inliers_fare = np.array(df1['fare'][df1['outlier'] == 0]).reshape(-1,1)\n",
        "inliers_age = np.array(df1['age'][df1['outlier'] == 0]).reshape(-1,1)\n",
        "    \n",
        "outliers_fare = df1['fare'][df1['outlier'] == 1].values.reshape(-1,1)\n",
        "outliers_age = df1['age'][df1['outlier'] == 1].values.reshape(-1,1)\n",
        "         \n",
        "print('OUTLIERS: ',n_outliers, 'INLIERS: ', n_inliers)\n",
        "        \n",
        "# threshold value to consider a datapoint inlier or outlier\n",
        "threshold = percentile(scores_pred, 100 * outliers_fraction)\n",
        "        \n",
        "# decision function calculates the raw anomaly score for every point\n",
        "Z = clf.decision_function(np.c_[xx.ravel(), yy.ravel()]) * -1\n",
        "Z = Z.reshape(xx.shape)\n",
        "# fill blue map colormap from minimum anomaly score to threshold value\n",
        "plt.contourf(xx, yy, Z, levels=np.linspace(Z.min(), threshold, 7),cmap=plt.cm.Blues_r)\n",
        "        \n",
        "# draw red contour line where anomaly score is equal to thresold\n",
        "a = plt.contour(xx, yy, Z, levels= [threshold],linewidths=2, colors='red')\n",
        "        \n",
        "# fill orange contour lines where range of anomaly score is from threshold to maximum anomaly score\n",
        "plt.contourf(xx, yy, Z, levels= [threshold, Z.max()],colors='orange')\n",
        "b = plt.scatter(inliers_fare, inliers_age, c='white',s=20, edgecolor='k')\n",
        "    \n",
        "c = plt.scatter(outliers_fare, outliers_age, c='black',s=20, edgecolor='k')\n",
        "       \n",
        "plt.axis('tight')  \n",
        "   \n",
        "plt.legend([a.collections[0], b,c], ['learned decision function', 'inliers', 'outliers'],\n",
        "           prop=matplotlib.font_manager.FontProperties(size=10), loc='upper center', frameon= False, bbox_to_anchor = (0.5, -0.05),\n",
        "          fancybox = True, shadow = True, ncol = 5)\n",
        "      \n",
        "plt.xlim((0, 1))\n",
        "plt.ylim((0, 1))\n",
        "plt.title('K-Nearest Neighbors (KNN)')\n",
        "plt.show();"
      ],
      "execution_count": 53,
      "outputs": [
        {
          "output_type": "stream",
          "text": [
            "OUTLIERS:  2 INLIERS:  180\n"
          ],
          "name": "stdout"
        },
        {
          "output_type": "display_data",
          "data": {
            "image/png": "[encoded data removed]",
            "text/plain": [
              "<Figure size 800x800 with 1 Axes>"
            ]
          },
          "metadata": {
            "tags": []
          }
        }
      ]
    },
    {
      "cell_type": "code",
      "metadata": {
        "id": "6B-L7MwXg25Z",
        "colab": {
          "base_uri": "https://localhost:8080/",
          "height": 204
        },
        "outputId": "22b0df17-582f-4f08-a8cc-c1a3eba7ad2e"
      },
      "source": [
        "df1.head()"
      ],
      "execution_count": 54,
      "outputs": [
        {
          "output_type": "execute_result",
          "data": {
            "text/html": [
              "<div>\n",
              "<style scoped>\n",
              "    .dataframe tbody tr th:only-of-type {\n",
              "        vertical-align: middle;\n",
              "    }\n",
              "\n",
              "    .dataframe tbody tr th {\n",
              "        vertical-align: top;\n",
              "    }\n",
              "\n",
              "    .dataframe thead th {\n",
              "        text-align: right;\n",
              "    }\n",
              "</style>\n",
              "<table border=\"1\" class=\"dataframe\">\n",
              "  <thead>\n",
              "    <tr style=\"text-align: right;\">\n",
              "      <th></th>\n",
              "      <th>survived</th>\n",
              "      <th>pclass</th>\n",
              "      <th>sex</th>\n",
              "      <th>age</th>\n",
              "      <th>sibsp</th>\n",
              "      <th>parch</th>\n",
              "      <th>fare</th>\n",
              "      <th>embarked</th>\n",
              "      <th>class</th>\n",
              "      <th>who</th>\n",
              "      <th>adult_male</th>\n",
              "      <th>deck</th>\n",
              "      <th>embark_town</th>\n",
              "      <th>alive</th>\n",
              "      <th>alone</th>\n",
              "      <th>outlier</th>\n",
              "    </tr>\n",
              "  </thead>\n",
              "  <tbody>\n",
              "    <tr>\n",
              "      <th>1</th>\n",
              "      <td>1</td>\n",
              "      <td>1</td>\n",
              "      <td>female</td>\n",
              "      <td>0.469</td>\n",
              "      <td>1</td>\n",
              "      <td>0</td>\n",
              "      <td>0.139</td>\n",
              "      <td>C</td>\n",
              "      <td>First</td>\n",
              "      <td>woman</td>\n",
              "      <td>False</td>\n",
              "      <td>C</td>\n",
              "      <td>Cherbourg</td>\n",
              "      <td>yes</td>\n",
              "      <td>False</td>\n",
              "      <td>0</td>\n",
              "    </tr>\n",
              "    <tr>\n",
              "      <th>3</th>\n",
              "      <td>1</td>\n",
              "      <td>1</td>\n",
              "      <td>female</td>\n",
              "      <td>0.431</td>\n",
              "      <td>1</td>\n",
              "      <td>0</td>\n",
              "      <td>0.104</td>\n",
              "      <td>S</td>\n",
              "      <td>First</td>\n",
              "      <td>woman</td>\n",
              "      <td>False</td>\n",
              "      <td>C</td>\n",
              "      <td>Southampton</td>\n",
              "      <td>yes</td>\n",
              "      <td>False</td>\n",
              "      <td>0</td>\n",
              "    </tr>\n",
              "    <tr>\n",
              "      <th>6</th>\n",
              "      <td>0</td>\n",
              "      <td>1</td>\n",
              "      <td>male</td>\n",
              "      <td>0.671</td>\n",
              "      <td>0</td>\n",
              "      <td>0</td>\n",
              "      <td>0.101</td>\n",
              "      <td>S</td>\n",
              "      <td>First</td>\n",
              "      <td>man</td>\n",
              "      <td>True</td>\n",
              "      <td>E</td>\n",
              "      <td>Southampton</td>\n",
              "      <td>no</td>\n",
              "      <td>True</td>\n",
              "      <td>0</td>\n",
              "    </tr>\n",
              "    <tr>\n",
              "      <th>10</th>\n",
              "      <td>1</td>\n",
              "      <td>3</td>\n",
              "      <td>female</td>\n",
              "      <td>0.039</td>\n",
              "      <td>1</td>\n",
              "      <td>1</td>\n",
              "      <td>0.033</td>\n",
              "      <td>S</td>\n",
              "      <td>Third</td>\n",
              "      <td>child</td>\n",
              "      <td>False</td>\n",
              "      <td>G</td>\n",
              "      <td>Southampton</td>\n",
              "      <td>yes</td>\n",
              "      <td>False</td>\n",
              "      <td>0</td>\n",
              "    </tr>\n",
              "    <tr>\n",
              "      <th>11</th>\n",
              "      <td>1</td>\n",
              "      <td>1</td>\n",
              "      <td>female</td>\n",
              "      <td>0.722</td>\n",
              "      <td>0</td>\n",
              "      <td>0</td>\n",
              "      <td>0.052</td>\n",
              "      <td>S</td>\n",
              "      <td>First</td>\n",
              "      <td>woman</td>\n",
              "      <td>False</td>\n",
              "      <td>C</td>\n",
              "      <td>Southampton</td>\n",
              "      <td>yes</td>\n",
              "      <td>True</td>\n",
              "      <td>0</td>\n",
              "    </tr>\n",
              "  </tbody>\n",
              "</table>\n",
              "</div>"
            ],
            "text/plain": [
              "    survived  pclass     sex   age  ...  embark_town  alive  alone outlier\n",
              "1          1       1  female 0.469  ...    Cherbourg    yes  False       0\n",
              "3          1       1  female 0.431  ...  Southampton    yes  False       0\n",
              "6          0       1    male 0.671  ...  Southampton     no   True       0\n",
              "10         1       3  female 0.039  ...  Southampton    yes  False       0\n",
              "11         1       1  female 0.722  ...  Southampton    yes   True       0\n",
              "\n",
              "[5 rows x 16 columns]"
            ]
          },
          "metadata": {
            "tags": []
          },
          "execution_count": 54
        }
      ]
    },
    {
      "cell_type": "code",
      "metadata": {
        "id": "gvXGH0BHBBNN",
        "colab": {
          "base_uri": "https://localhost:8080/",
          "height": 111
        },
        "outputId": "f8029b80-724f-46c9-be3f-1dfd21a8a0b4"
      },
      "source": [
        "# Zoom em alguns outliers...\n",
        "df1.loc[df1['outlier'] == 1].head()"
      ],
      "execution_count": 55,
      "outputs": [
        {
          "output_type": "execute_result",
          "data": {
            "text/html": [
              "<div>\n",
              "<style scoped>\n",
              "    .dataframe tbody tr th:only-of-type {\n",
              "        vertical-align: middle;\n",
              "    }\n",
              "\n",
              "    .dataframe tbody tr th {\n",
              "        vertical-align: top;\n",
              "    }\n",
              "\n",
              "    .dataframe thead th {\n",
              "        text-align: right;\n",
              "    }\n",
              "</style>\n",
              "<table border=\"1\" class=\"dataframe\">\n",
              "  <thead>\n",
              "    <tr style=\"text-align: right;\">\n",
              "      <th></th>\n",
              "      <th>survived</th>\n",
              "      <th>pclass</th>\n",
              "      <th>sex</th>\n",
              "      <th>age</th>\n",
              "      <th>sibsp</th>\n",
              "      <th>parch</th>\n",
              "      <th>fare</th>\n",
              "      <th>embarked</th>\n",
              "      <th>class</th>\n",
              "      <th>who</th>\n",
              "      <th>adult_male</th>\n",
              "      <th>deck</th>\n",
              "      <th>embark_town</th>\n",
              "      <th>alive</th>\n",
              "      <th>alone</th>\n",
              "      <th>outlier</th>\n",
              "    </tr>\n",
              "  </thead>\n",
              "  <tbody>\n",
              "    <tr>\n",
              "      <th>679</th>\n",
              "      <td>1</td>\n",
              "      <td>1</td>\n",
              "      <td>male</td>\n",
              "      <td>0.444</td>\n",
              "      <td>0</td>\n",
              "      <td>1</td>\n",
              "      <td>1.000</td>\n",
              "      <td>C</td>\n",
              "      <td>First</td>\n",
              "      <td>man</td>\n",
              "      <td>True</td>\n",
              "      <td>B</td>\n",
              "      <td>Cherbourg</td>\n",
              "      <td>yes</td>\n",
              "      <td>False</td>\n",
              "      <td>1</td>\n",
              "    </tr>\n",
              "    <tr>\n",
              "      <th>737</th>\n",
              "      <td>1</td>\n",
              "      <td>1</td>\n",
              "      <td>male</td>\n",
              "      <td>0.431</td>\n",
              "      <td>0</td>\n",
              "      <td>0</td>\n",
              "      <td>1.000</td>\n",
              "      <td>C</td>\n",
              "      <td>First</td>\n",
              "      <td>man</td>\n",
              "      <td>True</td>\n",
              "      <td>B</td>\n",
              "      <td>Cherbourg</td>\n",
              "      <td>yes</td>\n",
              "      <td>True</td>\n",
              "      <td>1</td>\n",
              "    </tr>\n",
              "  </tbody>\n",
              "</table>\n",
              "</div>"
            ],
            "text/plain": [
              "     survived  pclass   sex   age  sibsp  ...  deck  embark_town alive  alone outlier\n",
              "679         1       1  male 0.444      0  ...     B    Cherbourg   yes  False       1\n",
              "737         1       1  male 0.431      0  ...     B    Cherbourg   yes   True       1\n",
              "\n",
              "[2 rows x 16 columns]"
            ]
          },
          "metadata": {
            "tags": []
          },
          "execution_count": 55
        }
      ]
    },
    {
      "cell_type": "code",
      "metadata": {
        "id": "MYbNaaO7D3NY",
        "colab": {
          "base_uri": "https://localhost:8080/"
        },
        "outputId": "7e3b6c41-08b4-4010-99ed-193d3846c659"
      },
      "source": [
        "# Zoom na linha 679\n",
        "df_titanic.loc[679]"
      ],
      "execution_count": 56,
      "outputs": [
        {
          "output_type": "execute_result",
          "data": {
            "text/plain": [
              "survived               1\n",
              "pclass                 1\n",
              "sex                 male\n",
              "age               36.000\n",
              "sibsp                  0\n",
              "parch                  1\n",
              "fare             512.329\n",
              "embarked               C\n",
              "class              First\n",
              "who                  man\n",
              "adult_male          True\n",
              "deck                   B\n",
              "embark_town    Cherbourg\n",
              "alive                yes\n",
              "alone              False\n",
              "Name: 679, dtype: object"
            ]
          },
          "metadata": {
            "tags": []
          },
          "execution_count": 56
        }
      ]
    },
    {
      "cell_type": "code",
      "metadata": {
        "id": "-juEvWvru5jp",
        "colab": {
          "base_uri": "https://localhost:8080/",
          "height": 173
        },
        "outputId": "cc54d73c-ff0f-4de4-9690-92f319fdee3f"
      },
      "source": [
        "# Algumas medidas para compararmos\n",
        "df_resumo = df_titanic.groupby('sex').agg({'age': ['mean'], 'fare': ['mean']}).round(0)\n",
        "df_resumo"
      ],
      "execution_count": 57,
      "outputs": [
        {
          "output_type": "execute_result",
          "data": {
            "text/html": [
              "<div>\n",
              "<style scoped>\n",
              "    .dataframe tbody tr th:only-of-type {\n",
              "        vertical-align: middle;\n",
              "    }\n",
              "\n",
              "    .dataframe tbody tr th {\n",
              "        vertical-align: top;\n",
              "    }\n",
              "\n",
              "    .dataframe thead tr th {\n",
              "        text-align: left;\n",
              "    }\n",
              "\n",
              "    .dataframe thead tr:last-of-type th {\n",
              "        text-align: right;\n",
              "    }\n",
              "</style>\n",
              "<table border=\"1\" class=\"dataframe\">\n",
              "  <thead>\n",
              "    <tr>\n",
              "      <th></th>\n",
              "      <th>age</th>\n",
              "      <th>fare</th>\n",
              "    </tr>\n",
              "    <tr>\n",
              "      <th></th>\n",
              "      <th>mean</th>\n",
              "      <th>mean</th>\n",
              "    </tr>\n",
              "    <tr>\n",
              "      <th>sex</th>\n",
              "      <th></th>\n",
              "      <th></th>\n",
              "    </tr>\n",
              "  </thead>\n",
              "  <tbody>\n",
              "    <tr>\n",
              "      <th>female</th>\n",
              "      <td>33.000</td>\n",
              "      <td>89.000</td>\n",
              "    </tr>\n",
              "    <tr>\n",
              "      <th>male</th>\n",
              "      <td>38.000</td>\n",
              "      <td>69.000</td>\n",
              "    </tr>\n",
              "  </tbody>\n",
              "</table>\n",
              "</div>"
            ],
            "text/plain": [
              "          age   fare\n",
              "         mean   mean\n",
              "sex                 \n",
              "female 33.000 89.000\n",
              "male   38.000 69.000"
            ]
          },
          "metadata": {
            "tags": []
          },
          "execution_count": 57
        }
      ]
    },
    {
      "cell_type": "code",
      "metadata": {
        "id": "B6NXG6oDusSg",
        "colab": {
          "base_uri": "https://localhost:8080/"
        },
        "outputId": "cb0593d3-570a-4f2a-fd6a-159c12a54891"
      },
      "source": [
        "# Média Geral de 'age'\n",
        "round(df_titanic['age'].mean())"
      ],
      "execution_count": 58,
      "outputs": [
        {
          "output_type": "execute_result",
          "data": {
            "text/plain": [
              "36"
            ]
          },
          "metadata": {
            "tags": []
          },
          "execution_count": 58
        }
      ]
    },
    {
      "cell_type": "code",
      "metadata": {
        "id": "cgHJb3iBusSl",
        "colab": {
          "base_uri": "https://localhost:8080/"
        },
        "outputId": "5940fa96-5e7a-4453-8c2f-6ce13f9225a3"
      },
      "source": [
        "# Média Geral de 'fare'\n",
        "round(df_titanic['fare'].mean())"
      ],
      "execution_count": 59,
      "outputs": [
        {
          "output_type": "execute_result",
          "data": {
            "text/plain": [
              "79"
            ]
          },
          "metadata": {
            "tags": []
          },
          "execution_count": 59
        }
      ]
    },
    {
      "cell_type": "markdown",
      "metadata": {
        "id": "1w7MIkoAG2Qr"
      },
      "source": [
        "___\n",
        "# **Exercícios**\n",
        "Para cada um dos dataframes a seguir, faça uma análise de outlier utilizando uma das técnicas apresentadas e explique seus resultados."
      ]
    },
    {
      "cell_type": "markdown",
      "metadata": {
        "id": "Ep_Z3iQIG56r"
      },
      "source": [
        "## Exercício 1 - Predict Breast Cancer"
      ]
    },
    {
      "cell_type": "code",
      "metadata": {
        "id": "v-Lvzrt7HN2l",
        "colab": {
          "base_uri": "https://localhost:8080/",
          "height": 258
        },
        "outputId": "db9f3906-c957-4560-fbdb-d24149306a8b"
      },
      "source": [
        "import pandas as pd\n",
        "import numpy as np\n",
        "from sklearn.datasets import load_breast_cancer\n",
        "\n",
        "cancer = load_breast_cancer()\n",
        "X = cancer['data']\n",
        "y = cancer['target']\n",
        "\n",
        "df_cancer = pd.DataFrame(np.c_[X, y], columns= np.append(cancer['feature_names'], ['target']))\n",
        "df_cancer['target'] = df_cancer['target'].map({0: 'malign', 1: 'benign'})\n",
        "df_cancer.head()"
      ],
      "execution_count": 60,
      "outputs": [
        {
          "output_type": "execute_result",
          "data": {
            "text/html": [
              "<div>\n",
              "<style scoped>\n",
              "    .dataframe tbody tr th:only-of-type {\n",
              "        vertical-align: middle;\n",
              "    }\n",
              "\n",
              "    .dataframe tbody tr th {\n",
              "        vertical-align: top;\n",
              "    }\n",
              "\n",
              "    .dataframe thead th {\n",
              "        text-align: right;\n",
              "    }\n",
              "</style>\n",
              "<table border=\"1\" class=\"dataframe\">\n",
              "  <thead>\n",
              "    <tr style=\"text-align: right;\">\n",
              "      <th></th>\n",
              "      <th>mean radius</th>\n",
              "      <th>mean texture</th>\n",
              "      <th>mean perimeter</th>\n",
              "      <th>mean area</th>\n",
              "      <th>mean smoothness</th>\n",
              "      <th>mean compactness</th>\n",
              "      <th>mean concavity</th>\n",
              "      <th>mean concave points</th>\n",
              "      <th>mean symmetry</th>\n",
              "      <th>mean fractal dimension</th>\n",
              "      <th>radius error</th>\n",
              "      <th>texture error</th>\n",
              "      <th>perimeter error</th>\n",
              "      <th>area error</th>\n",
              "      <th>smoothness error</th>\n",
              "      <th>compactness error</th>\n",
              "      <th>concavity error</th>\n",
              "      <th>concave points error</th>\n",
              "      <th>symmetry error</th>\n",
              "      <th>fractal dimension error</th>\n",
              "      <th>worst radius</th>\n",
              "      <th>worst texture</th>\n",
              "      <th>worst perimeter</th>\n",
              "      <th>worst area</th>\n",
              "      <th>worst smoothness</th>\n",
              "      <th>worst compactness</th>\n",
              "      <th>worst concavity</th>\n",
              "      <th>worst concave points</th>\n",
              "      <th>worst symmetry</th>\n",
              "      <th>worst fractal dimension</th>\n",
              "      <th>target</th>\n",
              "    </tr>\n",
              "  </thead>\n",
              "  <tbody>\n",
              "    <tr>\n",
              "      <th>0</th>\n",
              "      <td>17.990</td>\n",
              "      <td>10.380</td>\n",
              "      <td>122.800</td>\n",
              "      <td>1001.000</td>\n",
              "      <td>0.118</td>\n",
              "      <td>0.278</td>\n",
              "      <td>0.300</td>\n",
              "      <td>0.147</td>\n",
              "      <td>0.242</td>\n",
              "      <td>0.079</td>\n",
              "      <td>1.095</td>\n",
              "      <td>0.905</td>\n",
              "      <td>8.589</td>\n",
              "      <td>153.400</td>\n",
              "      <td>0.006</td>\n",
              "      <td>0.049</td>\n",
              "      <td>0.054</td>\n",
              "      <td>0.016</td>\n",
              "      <td>0.030</td>\n",
              "      <td>0.006</td>\n",
              "      <td>25.380</td>\n",
              "      <td>17.330</td>\n",
              "      <td>184.600</td>\n",
              "      <td>2019.000</td>\n",
              "      <td>0.162</td>\n",
              "      <td>0.666</td>\n",
              "      <td>0.712</td>\n",
              "      <td>0.265</td>\n",
              "      <td>0.460</td>\n",
              "      <td>0.119</td>\n",
              "      <td>malign</td>\n",
              "    </tr>\n",
              "    <tr>\n",
              "      <th>1</th>\n",
              "      <td>20.570</td>\n",
              "      <td>17.770</td>\n",
              "      <td>132.900</td>\n",
              "      <td>1326.000</td>\n",
              "      <td>0.085</td>\n",
              "      <td>0.079</td>\n",
              "      <td>0.087</td>\n",
              "      <td>0.070</td>\n",
              "      <td>0.181</td>\n",
              "      <td>0.057</td>\n",
              "      <td>0.543</td>\n",
              "      <td>0.734</td>\n",
              "      <td>3.398</td>\n",
              "      <td>74.080</td>\n",
              "      <td>0.005</td>\n",
              "      <td>0.013</td>\n",
              "      <td>0.019</td>\n",
              "      <td>0.013</td>\n",
              "      <td>0.014</td>\n",
              "      <td>0.004</td>\n",
              "      <td>24.990</td>\n",
              "      <td>23.410</td>\n",
              "      <td>158.800</td>\n",
              "      <td>1956.000</td>\n",
              "      <td>0.124</td>\n",
              "      <td>0.187</td>\n",
              "      <td>0.242</td>\n",
              "      <td>0.186</td>\n",
              "      <td>0.275</td>\n",
              "      <td>0.089</td>\n",
              "      <td>malign</td>\n",
              "    </tr>\n",
              "    <tr>\n",
              "      <th>2</th>\n",
              "      <td>19.690</td>\n",
              "      <td>21.250</td>\n",
              "      <td>130.000</td>\n",
              "      <td>1203.000</td>\n",
              "      <td>0.110</td>\n",
              "      <td>0.160</td>\n",
              "      <td>0.197</td>\n",
              "      <td>0.128</td>\n",
              "      <td>0.207</td>\n",
              "      <td>0.060</td>\n",
              "      <td>0.746</td>\n",
              "      <td>0.787</td>\n",
              "      <td>4.585</td>\n",
              "      <td>94.030</td>\n",
              "      <td>0.006</td>\n",
              "      <td>0.040</td>\n",
              "      <td>0.038</td>\n",
              "      <td>0.021</td>\n",
              "      <td>0.022</td>\n",
              "      <td>0.005</td>\n",
              "      <td>23.570</td>\n",
              "      <td>25.530</td>\n",
              "      <td>152.500</td>\n",
              "      <td>1709.000</td>\n",
              "      <td>0.144</td>\n",
              "      <td>0.424</td>\n",
              "      <td>0.450</td>\n",
              "      <td>0.243</td>\n",
              "      <td>0.361</td>\n",
              "      <td>0.088</td>\n",
              "      <td>malign</td>\n",
              "    </tr>\n",
              "    <tr>\n",
              "      <th>3</th>\n",
              "      <td>11.420</td>\n",
              "      <td>20.380</td>\n",
              "      <td>77.580</td>\n",
              "      <td>386.100</td>\n",
              "      <td>0.142</td>\n",
              "      <td>0.284</td>\n",
              "      <td>0.241</td>\n",
              "      <td>0.105</td>\n",
              "      <td>0.260</td>\n",
              "      <td>0.097</td>\n",
              "      <td>0.496</td>\n",
              "      <td>1.156</td>\n",
              "      <td>3.445</td>\n",
              "      <td>27.230</td>\n",
              "      <td>0.009</td>\n",
              "      <td>0.075</td>\n",
              "      <td>0.057</td>\n",
              "      <td>0.019</td>\n",
              "      <td>0.060</td>\n",
              "      <td>0.009</td>\n",
              "      <td>14.910</td>\n",
              "      <td>26.500</td>\n",
              "      <td>98.870</td>\n",
              "      <td>567.700</td>\n",
              "      <td>0.210</td>\n",
              "      <td>0.866</td>\n",
              "      <td>0.687</td>\n",
              "      <td>0.258</td>\n",
              "      <td>0.664</td>\n",
              "      <td>0.173</td>\n",
              "      <td>malign</td>\n",
              "    </tr>\n",
              "    <tr>\n",
              "      <th>4</th>\n",
              "      <td>20.290</td>\n",
              "      <td>14.340</td>\n",
              "      <td>135.100</td>\n",
              "      <td>1297.000</td>\n",
              "      <td>0.100</td>\n",
              "      <td>0.133</td>\n",
              "      <td>0.198</td>\n",
              "      <td>0.104</td>\n",
              "      <td>0.181</td>\n",
              "      <td>0.059</td>\n",
              "      <td>0.757</td>\n",
              "      <td>0.781</td>\n",
              "      <td>5.438</td>\n",
              "      <td>94.440</td>\n",
              "      <td>0.011</td>\n",
              "      <td>0.025</td>\n",
              "      <td>0.057</td>\n",
              "      <td>0.019</td>\n",
              "      <td>0.018</td>\n",
              "      <td>0.005</td>\n",
              "      <td>22.540</td>\n",
              "      <td>16.670</td>\n",
              "      <td>152.200</td>\n",
              "      <td>1575.000</td>\n",
              "      <td>0.137</td>\n",
              "      <td>0.205</td>\n",
              "      <td>0.400</td>\n",
              "      <td>0.163</td>\n",
              "      <td>0.236</td>\n",
              "      <td>0.077</td>\n",
              "      <td>malign</td>\n",
              "    </tr>\n",
              "  </tbody>\n",
              "</table>\n",
              "</div>"
            ],
            "text/plain": [
              "   mean radius  mean texture  ...  worst fractal dimension  target\n",
              "0       17.990        10.380  ...                    0.119  malign\n",
              "1       20.570        17.770  ...                    0.089  malign\n",
              "2       19.690        21.250  ...                    0.088  malign\n",
              "3       11.420        20.380  ...                    0.173  malign\n",
              "4       20.290        14.340  ...                    0.077  malign\n",
              "\n",
              "[5 rows x 31 columns]"
            ]
          },
          "metadata": {
            "tags": []
          },
          "execution_count": 60
        }
      ]
    },
    {
      "cell_type": "markdown",
      "metadata": {
        "id": "cEHLrU0gHRtu"
      },
      "source": [
        "## Exercício 2 - Boston Housing Price"
      ]
    },
    {
      "cell_type": "code",
      "metadata": {
        "id": "8G9GZnubHYjy",
        "colab": {
          "base_uri": "https://localhost:8080/",
          "height": 204
        },
        "outputId": "59e793db-0a93-49d6-c463-0e2579da2c7c"
      },
      "source": [
        "from sklearn.datasets import load_boston\n",
        "\n",
        "boston = load_boston()\n",
        "X = boston['data']\n",
        "y = boston['target']\n",
        "\n",
        "df_boston = pd.DataFrame(np.c_[X, y], columns = np.append(boston['feature_names'], ['target']))\n",
        "df_boston.head()"
      ],
      "execution_count": 61,
      "outputs": [
        {
          "output_type": "execute_result",
          "data": {
            "text/html": [
              "<div>\n",
              "<style scoped>\n",
              "    .dataframe tbody tr th:only-of-type {\n",
              "        vertical-align: middle;\n",
              "    }\n",
              "\n",
              "    .dataframe tbody tr th {\n",
              "        vertical-align: top;\n",
              "    }\n",
              "\n",
              "    .dataframe thead th {\n",
              "        text-align: right;\n",
              "    }\n",
              "</style>\n",
              "<table border=\"1\" class=\"dataframe\">\n",
              "  <thead>\n",
              "    <tr style=\"text-align: right;\">\n",
              "      <th></th>\n",
              "      <th>CRIM</th>\n",
              "      <th>ZN</th>\n",
              "      <th>INDUS</th>\n",
              "      <th>CHAS</th>\n",
              "      <th>NOX</th>\n",
              "      <th>RM</th>\n",
              "      <th>AGE</th>\n",
              "      <th>DIS</th>\n",
              "      <th>RAD</th>\n",
              "      <th>TAX</th>\n",
              "      <th>PTRATIO</th>\n",
              "      <th>B</th>\n",
              "      <th>LSTAT</th>\n",
              "      <th>target</th>\n",
              "    </tr>\n",
              "  </thead>\n",
              "  <tbody>\n",
              "    <tr>\n",
              "      <th>0</th>\n",
              "      <td>0.006</td>\n",
              "      <td>18.000</td>\n",
              "      <td>2.310</td>\n",
              "      <td>0.000</td>\n",
              "      <td>0.538</td>\n",
              "      <td>6.575</td>\n",
              "      <td>65.200</td>\n",
              "      <td>4.090</td>\n",
              "      <td>1.000</td>\n",
              "      <td>296.000</td>\n",
              "      <td>15.300</td>\n",
              "      <td>396.900</td>\n",
              "      <td>4.980</td>\n",
              "      <td>24.000</td>\n",
              "    </tr>\n",
              "    <tr>\n",
              "      <th>1</th>\n",
              "      <td>0.027</td>\n",
              "      <td>0.000</td>\n",
              "      <td>7.070</td>\n",
              "      <td>0.000</td>\n",
              "      <td>0.469</td>\n",
              "      <td>6.421</td>\n",
              "      <td>78.900</td>\n",
              "      <td>4.967</td>\n",
              "      <td>2.000</td>\n",
              "      <td>242.000</td>\n",
              "      <td>17.800</td>\n",
              "      <td>396.900</td>\n",
              "      <td>9.140</td>\n",
              "      <td>21.600</td>\n",
              "    </tr>\n",
              "    <tr>\n",
              "      <th>2</th>\n",
              "      <td>0.027</td>\n",
              "      <td>0.000</td>\n",
              "      <td>7.070</td>\n",
              "      <td>0.000</td>\n",
              "      <td>0.469</td>\n",
              "      <td>7.185</td>\n",
              "      <td>61.100</td>\n",
              "      <td>4.967</td>\n",
              "      <td>2.000</td>\n",
              "      <td>242.000</td>\n",
              "      <td>17.800</td>\n",
              "      <td>392.830</td>\n",
              "      <td>4.030</td>\n",
              "      <td>34.700</td>\n",
              "    </tr>\n",
              "    <tr>\n",
              "      <th>3</th>\n",
              "      <td>0.032</td>\n",
              "      <td>0.000</td>\n",
              "      <td>2.180</td>\n",
              "      <td>0.000</td>\n",
              "      <td>0.458</td>\n",
              "      <td>6.998</td>\n",
              "      <td>45.800</td>\n",
              "      <td>6.062</td>\n",
              "      <td>3.000</td>\n",
              "      <td>222.000</td>\n",
              "      <td>18.700</td>\n",
              "      <td>394.630</td>\n",
              "      <td>2.940</td>\n",
              "      <td>33.400</td>\n",
              "    </tr>\n",
              "    <tr>\n",
              "      <th>4</th>\n",
              "      <td>0.069</td>\n",
              "      <td>0.000</td>\n",
              "      <td>2.180</td>\n",
              "      <td>0.000</td>\n",
              "      <td>0.458</td>\n",
              "      <td>7.147</td>\n",
              "      <td>54.200</td>\n",
              "      <td>6.062</td>\n",
              "      <td>3.000</td>\n",
              "      <td>222.000</td>\n",
              "      <td>18.700</td>\n",
              "      <td>396.900</td>\n",
              "      <td>5.330</td>\n",
              "      <td>36.200</td>\n",
              "    </tr>\n",
              "  </tbody>\n",
              "</table>\n",
              "</div>"
            ],
            "text/plain": [
              "   CRIM     ZN  INDUS  CHAS   NOX  ...     TAX  PTRATIO       B  LSTAT  target\n",
              "0 0.006 18.000  2.310 0.000 0.538  ... 296.000   15.300 396.900  4.980  24.000\n",
              "1 0.027  0.000  7.070 0.000 0.469  ... 242.000   17.800 396.900  9.140  21.600\n",
              "2 0.027  0.000  7.070 0.000 0.469  ... 242.000   17.800 392.830  4.030  34.700\n",
              "3 0.032  0.000  2.180 0.000 0.458  ... 222.000   18.700 394.630  2.940  33.400\n",
              "4 0.069  0.000  2.180 0.000 0.458  ... 222.000   18.700 396.900  5.330  36.200\n",
              "\n",
              "[5 rows x 14 columns]"
            ]
          },
          "metadata": {
            "tags": []
          },
          "execution_count": 61
        }
      ]
    },
    {
      "cell_type": "markdown",
      "metadata": {
        "id": "QlAdIYfmHaE8"
      },
      "source": [
        "## Exercício 3 - Iris\n",
        "* [Aqui](https://en.wikipedia.org/wiki/Iris_flower_data_set) você obterá mais informações sobre o dataframe iris."
      ]
    },
    {
      "cell_type": "code",
      "metadata": {
        "id": "Rke4C3wFHfYU",
        "colab": {
          "base_uri": "https://localhost:8080/",
          "height": 204
        },
        "outputId": "ba3f478f-8a88-4961-c24f-d93f19ee24a8"
      },
      "source": [
        "from sklearn.datasets import load_iris\n",
        "\n",
        "iris = load_iris()\n",
        "X= iris['data']\n",
        "y= iris['target']\n",
        "\n",
        "df_iris = pd.DataFrame(np.c_[X, y], columns = np.append(iris['feature_names'], ['target']))\n",
        "df_iris['target'] = df_iris['target'].map({0: 'setosa', 1: 'versicolor', 2: 'virginica'})\n",
        "df_iris.head()"
      ],
      "execution_count": 62,
      "outputs": [
        {
          "output_type": "execute_result",
          "data": {
            "text/html": [
              "<div>\n",
              "<style scoped>\n",
              "    .dataframe tbody tr th:only-of-type {\n",
              "        vertical-align: middle;\n",
              "    }\n",
              "\n",
              "    .dataframe tbody tr th {\n",
              "        vertical-align: top;\n",
              "    }\n",
              "\n",
              "    .dataframe thead th {\n",
              "        text-align: right;\n",
              "    }\n",
              "</style>\n",
              "<table border=\"1\" class=\"dataframe\">\n",
              "  <thead>\n",
              "    <tr style=\"text-align: right;\">\n",
              "      <th></th>\n",
              "      <th>sepal length (cm)</th>\n",
              "      <th>sepal width (cm)</th>\n",
              "      <th>petal length (cm)</th>\n",
              "      <th>petal width (cm)</th>\n",
              "      <th>target</th>\n",
              "    </tr>\n",
              "  </thead>\n",
              "  <tbody>\n",
              "    <tr>\n",
              "      <th>0</th>\n",
              "      <td>5.100</td>\n",
              "      <td>3.500</td>\n",
              "      <td>1.400</td>\n",
              "      <td>0.200</td>\n",
              "      <td>setosa</td>\n",
              "    </tr>\n",
              "    <tr>\n",
              "      <th>1</th>\n",
              "      <td>4.900</td>\n",
              "      <td>3.000</td>\n",
              "      <td>1.400</td>\n",
              "      <td>0.200</td>\n",
              "      <td>setosa</td>\n",
              "    </tr>\n",
              "    <tr>\n",
              "      <th>2</th>\n",
              "      <td>4.700</td>\n",
              "      <td>3.200</td>\n",
              "      <td>1.300</td>\n",
              "      <td>0.200</td>\n",
              "      <td>setosa</td>\n",
              "    </tr>\n",
              "    <tr>\n",
              "      <th>3</th>\n",
              "      <td>4.600</td>\n",
              "      <td>3.100</td>\n",
              "      <td>1.500</td>\n",
              "      <td>0.200</td>\n",
              "      <td>setosa</td>\n",
              "    </tr>\n",
              "    <tr>\n",
              "      <th>4</th>\n",
              "      <td>5.000</td>\n",
              "      <td>3.600</td>\n",
              "      <td>1.400</td>\n",
              "      <td>0.200</td>\n",
              "      <td>setosa</td>\n",
              "    </tr>\n",
              "  </tbody>\n",
              "</table>\n",
              "</div>"
            ],
            "text/plain": [
              "   sepal length (cm)  sepal width (cm)  ...  petal width (cm)  target\n",
              "0              5.100             3.500  ...             0.200  setosa\n",
              "1              4.900             3.000  ...             0.200  setosa\n",
              "2              4.700             3.200  ...             0.200  setosa\n",
              "3              4.600             3.100  ...             0.200  setosa\n",
              "4              5.000             3.600  ...             0.200  setosa\n",
              "\n",
              "[5 rows x 5 columns]"
            ]
          },
          "metadata": {
            "tags": []
          },
          "execution_count": 62
        }
      ]
    },
    {
      "cell_type": "markdown",
      "metadata": {
        "id": "6qn3gC4NHj-p"
      },
      "source": [
        "## Exercícios 4 - Diabetes"
      ]
    },
    {
      "cell_type": "code",
      "metadata": {
        "id": "P-esq5TSHnf6",
        "colab": {
          "base_uri": "https://localhost:8080/",
          "height": 204
        },
        "outputId": "e735d626-f008-4c21-ceaa-3961705dcef2"
      },
      "source": [
        "from sklearn.datasets import load_diabetes\n",
        "\n",
        "diabetes = load_diabetes()\n",
        "X = diabetes['data']\n",
        "y = diabetes['target']\n",
        "\n",
        "df_diabetes = pd.DataFrame(np.c_[X, y], columns = np.append(diabetes['feature_names'], ['target']))\n",
        "df_diabetes.head()"
      ],
      "execution_count": 63,
      "outputs": [
        {
          "output_type": "execute_result",
          "data": {
            "text/html": [
              "<div>\n",
              "<style scoped>\n",
              "    .dataframe tbody tr th:only-of-type {\n",
              "        vertical-align: middle;\n",
              "    }\n",
              "\n",
              "    .dataframe tbody tr th {\n",
              "        vertical-align: top;\n",
              "    }\n",
              "\n",
              "    .dataframe thead th {\n",
              "        text-align: right;\n",
              "    }\n",
              "</style>\n",
              "<table border=\"1\" class=\"dataframe\">\n",
              "  <thead>\n",
              "    <tr style=\"text-align: right;\">\n",
              "      <th></th>\n",
              "      <th>age</th>\n",
              "      <th>sex</th>\n",
              "      <th>bmi</th>\n",
              "      <th>bp</th>\n",
              "      <th>s1</th>\n",
              "      <th>s2</th>\n",
              "      <th>s3</th>\n",
              "      <th>s4</th>\n",
              "      <th>s5</th>\n",
              "      <th>s6</th>\n",
              "      <th>target</th>\n",
              "    </tr>\n",
              "  </thead>\n",
              "  <tbody>\n",
              "    <tr>\n",
              "      <th>0</th>\n",
              "      <td>0.038</td>\n",
              "      <td>0.051</td>\n",
              "      <td>0.062</td>\n",
              "      <td>0.022</td>\n",
              "      <td>-0.044</td>\n",
              "      <td>-0.035</td>\n",
              "      <td>-0.043</td>\n",
              "      <td>-0.003</td>\n",
              "      <td>0.020</td>\n",
              "      <td>-0.018</td>\n",
              "      <td>151.000</td>\n",
              "    </tr>\n",
              "    <tr>\n",
              "      <th>1</th>\n",
              "      <td>-0.002</td>\n",
              "      <td>-0.045</td>\n",
              "      <td>-0.051</td>\n",
              "      <td>-0.026</td>\n",
              "      <td>-0.008</td>\n",
              "      <td>-0.019</td>\n",
              "      <td>0.074</td>\n",
              "      <td>-0.039</td>\n",
              "      <td>-0.068</td>\n",
              "      <td>-0.092</td>\n",
              "      <td>75.000</td>\n",
              "    </tr>\n",
              "    <tr>\n",
              "      <th>2</th>\n",
              "      <td>0.085</td>\n",
              "      <td>0.051</td>\n",
              "      <td>0.044</td>\n",
              "      <td>-0.006</td>\n",
              "      <td>-0.046</td>\n",
              "      <td>-0.034</td>\n",
              "      <td>-0.032</td>\n",
              "      <td>-0.003</td>\n",
              "      <td>0.003</td>\n",
              "      <td>-0.026</td>\n",
              "      <td>141.000</td>\n",
              "    </tr>\n",
              "    <tr>\n",
              "      <th>3</th>\n",
              "      <td>-0.089</td>\n",
              "      <td>-0.045</td>\n",
              "      <td>-0.012</td>\n",
              "      <td>-0.037</td>\n",
              "      <td>0.012</td>\n",
              "      <td>0.025</td>\n",
              "      <td>-0.036</td>\n",
              "      <td>0.034</td>\n",
              "      <td>0.023</td>\n",
              "      <td>-0.009</td>\n",
              "      <td>206.000</td>\n",
              "    </tr>\n",
              "    <tr>\n",
              "      <th>4</th>\n",
              "      <td>0.005</td>\n",
              "      <td>-0.045</td>\n",
              "      <td>-0.036</td>\n",
              "      <td>0.022</td>\n",
              "      <td>0.004</td>\n",
              "      <td>0.016</td>\n",
              "      <td>0.008</td>\n",
              "      <td>-0.003</td>\n",
              "      <td>-0.032</td>\n",
              "      <td>-0.047</td>\n",
              "      <td>135.000</td>\n",
              "    </tr>\n",
              "  </tbody>\n",
              "</table>\n",
              "</div>"
            ],
            "text/plain": [
              "     age    sex    bmi     bp     s1     s2     s3     s4     s5     s6  target\n",
              "0  0.038  0.051  0.062  0.022 -0.044 -0.035 -0.043 -0.003  0.020 -0.018 151.000\n",
              "1 -0.002 -0.045 -0.051 -0.026 -0.008 -0.019  0.074 -0.039 -0.068 -0.092  75.000\n",
              "2  0.085  0.051  0.044 -0.006 -0.046 -0.034 -0.032 -0.003  0.003 -0.026 141.000\n",
              "3 -0.089 -0.045 -0.012 -0.037  0.012  0.025 -0.036  0.034  0.023 -0.009 206.000\n",
              "4  0.005 -0.045 -0.036  0.022  0.004  0.016  0.008 -0.003 -0.032 -0.047 135.000"
            ]
          },
          "metadata": {
            "tags": []
          },
          "execution_count": 63
        }
      ]
    }
  ]
}