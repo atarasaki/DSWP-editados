{
  "nbformat": 4,
  "nbformat_minor": 0,
  "metadata": {
    "colab": {
      "name": "NB10_01__Pandas__Resposta_Exercicios.ipynb",
      "provenance": [],
      "private_outputs": true,
      "include_colab_link": true
    },
    "kernelspec": {
      "name": "python3",
      "display_name": "Python 3"
    }
  },
  "cells": [
    {
      "cell_type": "markdown",
      "metadata": {
        "id": "view-in-github",
        "colab_type": "text"
      },
      "source": [
        "<a href=\"https://colab.research.google.com/github/atarasaki/DSWP-editados/blob/main/2020-10-08-NB10_01__Pandas__Resposta_Exercicios.ipynb\" target=\"_parent\"><img src=\"https://colab.research.google.com/assets/colab-badge.svg\" alt=\"Open In Colab\"/></a>"
      ]
    },
    {
      "cell_type": "markdown",
      "metadata": {
        "id": "8fpUiw8PwC7_"
      },
      "source": [
        "<center><h1><b><i>PANDAS PARA DATA ANALYSIS</i></b></h1></center>\n",
        "\n",
        "\n",
        "\n",
        "# **Resposta dos Exercícios**\n"
      ]
    },
    {
      "cell_type": "markdown",
      "metadata": {
        "id": "wkxQFPPmeKLl"
      },
      "source": [
        "![Pandas](https://github.com/MathMachado/Materials/blob/master/Pandas.jpeg?raw=true)"
      ]
    },
    {
      "cell_type": "markdown",
      "metadata": {
        "id": "eKawOG-neqaD"
      },
      "source": [
        "![Pandas](https://github.com/MathMachado/Materials/blob/master/Pandas2.jpeg?raw=true)"
      ]
    },
    {
      "cell_type": "markdown",
      "metadata": {
        "id": "iwd1lhq9mrD3"
      },
      "source": [
        "___\n",
        "# **Exercícios**"
      ]
    },
    {
      "cell_type": "markdown",
      "metadata": {
        "id": "o_cl0kFgQfFh"
      },
      "source": [
        "## Exercício 1\n",
        "* A partir dos dataframes USA_Abbrev, USA_Area e USA_Population, construa o Dataframe USA contendo as COLUNAS state, abbreviation, area, ages, year, population.\n"
      ]
    },
    {
      "cell_type": "markdown",
      "metadata": {
        "id": "s8rQUo7yHKJ1"
      },
      "source": [
        "* Observação: A forma mais fácil de ler um arquivo CSV (a partir do Excell por exemplo) a partir do GitHub é clicar no arquivo csv no seu repositório do GitHub e em seguida clicar em 'raw'. Depois, copie o endereço apresentado no browser e cole na variável 'url'. Qualquer dúvida, leia o documento a seguir: https://towardsdatascience.com/3-ways-to-load-csv-files-into-colab-7c14fcbdcb92."
      ]
    },
    {
      "cell_type": "markdown",
      "metadata": {
        "id": "hi07Anmc7vi1"
      },
      "source": [
        "*--------------------------------------------------------------------------- begin\n",
        "\n",
        "*****2020-10-08"
      ]
    },
    {
      "cell_type": "code",
      "metadata": {
        "id": "LDAzSELC7qud"
      },
      "source": [
        "import pandas as pd"
      ],
      "execution_count": null,
      "outputs": []
    },
    {
      "cell_type": "code",
      "metadata": {
        "id": "dZT6R5a661Ko"
      },
      "source": [
        "df_usa_abbrev = pd.read_csv('https://raw.githubusercontent.com/atarasaki/DSWP/master/Dataframes/USA_Abbrev.csv')"
      ],
      "execution_count": null,
      "outputs": []
    },
    {
      "cell_type": "code",
      "metadata": {
        "id": "LTQV6yyr7QNU"
      },
      "source": [
        "df_usa_area = pd.read_csv('https://raw.githubusercontent.com/atarasaki/DSWP/master/Dataframes/USA_Area.csv')"
      ],
      "execution_count": null,
      "outputs": []
    },
    {
      "cell_type": "code",
      "metadata": {
        "id": "s4Y26LC77SK0"
      },
      "source": [
        "df_usa_pop = pd.read_csv('https://raw.githubusercontent.com/atarasaki/DSWP/master/Dataframes/USA_Population.csv')"
      ],
      "execution_count": null,
      "outputs": []
    },
    {
      "cell_type": "markdown",
      "metadata": {
        "id": "U5UpyV0IFC4J"
      },
      "source": [
        "*** df_usa_abbrev"
      ]
    },
    {
      "cell_type": "code",
      "metadata": {
        "id": "F5P7bbTu78X-"
      },
      "source": [
        "df_usa_abbrev.info()"
      ],
      "execution_count": null,
      "outputs": []
    },
    {
      "cell_type": "code",
      "metadata": {
        "id": "1l2OgWI093lm"
      },
      "source": [
        "df_usa_abbrev.describe()"
      ],
      "execution_count": null,
      "outputs": []
    },
    {
      "cell_type": "code",
      "metadata": {
        "id": "tqi9XGIa8Vj_"
      },
      "source": [
        "df_usa_abbrev.head()"
      ],
      "execution_count": null,
      "outputs": []
    },
    {
      "cell_type": "code",
      "metadata": {
        "id": "qNhSPxUj_dIv"
      },
      "source": [
        "df_usa_abbrev.tail()"
      ],
      "execution_count": null,
      "outputs": []
    },
    {
      "cell_type": "markdown",
      "metadata": {
        "id": "-62KRPFoE9LZ"
      },
      "source": [
        "*** df_usa_area"
      ]
    },
    {
      "cell_type": "code",
      "metadata": {
        "id": "7UmNhF9g786l"
      },
      "source": [
        "df_usa_area.info()"
      ],
      "execution_count": null,
      "outputs": []
    },
    {
      "cell_type": "code",
      "metadata": {
        "id": "BVSvCIto-BnW"
      },
      "source": [
        "df_usa_area.describe( include='all' )"
      ],
      "execution_count": null,
      "outputs": []
    },
    {
      "cell_type": "code",
      "metadata": {
        "id": "kXAJdXPR8X6d"
      },
      "source": [
        "df_usa_area.head()"
      ],
      "execution_count": null,
      "outputs": []
    },
    {
      "cell_type": "code",
      "metadata": {
        "id": "PeD3OEZb_R-G"
      },
      "source": [
        "df_usa_area.tail()"
      ],
      "execution_count": null,
      "outputs": []
    },
    {
      "cell_type": "markdown",
      "metadata": {
        "id": "aI4gS51RFjyq"
      },
      "source": [
        "*** df_usa_pop"
      ]
    },
    {
      "cell_type": "code",
      "metadata": {
        "id": "kdtVTau179CV"
      },
      "source": [
        "df_usa_pop.info()"
      ],
      "execution_count": null,
      "outputs": []
    },
    {
      "cell_type": "code",
      "metadata": {
        "id": "YCV4H3H88k3N"
      },
      "source": [
        "df_usa_pop.head()"
      ],
      "execution_count": null,
      "outputs": []
    },
    {
      "cell_type": "code",
      "metadata": {
        "id": "dIHMcnOcFpYZ"
      },
      "source": [
        "df_usa_pop.tail()"
      ],
      "execution_count": null,
      "outputs": []
    },
    {
      "cell_type": "code",
      "metadata": {
        "id": "7UhvbQ7_-1RZ"
      },
      "source": [
        "df_usa_pop.describe(include='all')"
      ],
      "execution_count": null,
      "outputs": []
    },
    {
      "cell_type": "code",
      "metadata": {
        "id": "FSKYZi2i8pI-"
      },
      "source": [
        "df_usa_pop.groupby( by=['state_region','year','ages'] ).sum()"
      ],
      "execution_count": null,
      "outputs": []
    },
    {
      "cell_type": "markdown",
      "metadata": {
        "id": "vwDvZH1F_37B"
      },
      "source": [
        "****** df_usa_area contém Puerto Rico : base para df_usa"
      ]
    },
    {
      "cell_type": "code",
      "metadata": {
        "id": "K1Pl5eNPABoy"
      },
      "source": [
        "df_usa = df_usa_area.merge( df_usa_abbrev, how='left', left_on='state', right_on='state' )\n",
        "df_usa"
      ],
      "execution_count": null,
      "outputs": []
    },
    {
      "cell_type": "code",
      "metadata": {
        "id": "IyD1DRNBBOyP"
      },
      "source": [
        "df_usa = df_usa.merge( df_usa_pop, how='left', left_on='abbreviation', right_on='state_region' )\n",
        "df_usa"
      ],
      "execution_count": null,
      "outputs": []
    },
    {
      "cell_type": "code",
      "metadata": {
        "id": "KpEywk6xDtZ0"
      },
      "source": [
        "df_usa.drop( 'state_region',axis=1, inplace=True )"
      ],
      "execution_count": null,
      "outputs": []
    },
    {
      "cell_type": "code",
      "metadata": {
        "id": "0f7B9ZX0DUoV"
      },
      "source": [
        "df_usa.columns"
      ],
      "execution_count": null,
      "outputs": []
    },
    {
      "cell_type": "code",
      "metadata": {
        "id": "QPkdnhV6BynN"
      },
      "source": [
        "# alteração da ordem das colunas\n",
        "nova_ordem = ['state', 'abbreviation', 'area', 'ages', 'year','population']\n",
        "\n",
        "df_usa = df_usa[ nova_ordem ]"
      ],
      "execution_count": null,
      "outputs": []
    },
    {
      "cell_type": "code",
      "metadata": {
        "id": "jCDEiZVNEfBS"
      },
      "source": [
        "df_usa.head()"
      ],
      "execution_count": null,
      "outputs": []
    },
    {
      "cell_type": "markdown",
      "metadata": {
        "id": "4fsvAfXKyz2u"
      },
      "source": [
        "*--------------------------------------------------------------------------- end"
      ]
    },
    {
      "cell_type": "markdown",
      "metadata": {
        "id": "KTun1uSLuJ-A"
      },
      "source": [
        "## Exercício 2\n",
        "Source: https://github.com/aakankshaws/Pandas-exercises\n",
        "\n",
        "* Considere os dataframes a seguir e faça o merge do dataframe df_esquerdo com o dataframe df_direito:"
      ]
    },
    {
      "cell_type": "code",
      "metadata": {
        "id": "Soq7GVZnuREq"
      },
      "source": [
        "df_esquerdo = pd.DataFrame({'key': ['K0', 'K1', 'K2', 'K3'],\n",
        "                     'A': ['A0', 'A1', 'A2', 'A3'],\n",
        "                     'B': ['B0', 'B1', 'B2', 'B3']})\n",
        "   \n",
        "df_direito = pd.DataFrame({'key': ['K0', 'K1', 'K2', 'K3'],\n",
        "                          'C': ['C0', 'C1', 'C2', 'C3'],\n",
        "                          'D': ['D0', 'D1', 'D2', 'D3']})"
      ],
      "execution_count": null,
      "outputs": []
    },
    {
      "cell_type": "markdown",
      "metadata": {
        "id": "PKnzUzz2HSyu"
      },
      "source": [
        "*--------------------------------------------------------------------------- begin\n",
        "\n",
        "*****2020-10-08"
      ]
    },
    {
      "cell_type": "code",
      "metadata": {
        "id": "kguzPYxQHGVp"
      },
      "source": [
        "df_esquerdo"
      ],
      "execution_count": null,
      "outputs": []
    },
    {
      "cell_type": "code",
      "metadata": {
        "id": "t5QTdYJFHXng"
      },
      "source": [
        "df_direito"
      ],
      "execution_count": null,
      "outputs": []
    },
    {
      "cell_type": "code",
      "metadata": {
        "id": "RhPaF7WcHb7v"
      },
      "source": [
        "df_combinado = df_esquerdo.merge( df_direito, how='inner', left_on='key', right_on='key' )\n",
        "df_combinado"
      ],
      "execution_count": null,
      "outputs": []
    },
    {
      "cell_type": "markdown",
      "metadata": {
        "id": "cWiyGt6Cy7sz"
      },
      "source": [
        "*--------------------------------------------------------------------------- end"
      ]
    },
    {
      "cell_type": "markdown",
      "metadata": {
        "id": "6KEsTARfvM1C"
      },
      "source": [
        "## Exercício 3\n",
        "Source: https://github.com/aakankshaws/Pandas-exercises\n",
        "\n",
        "* Considere os dataframes a seguir:"
      ]
    },
    {
      "cell_type": "code",
      "metadata": {
        "id": "hgxE5gZ9vMEg"
      },
      "source": [
        "df_esquerdo = pd.DataFrame({'key1': ['K0', 'K0', 'K1', 'K2'],\n",
        "                     'key2': ['K0', 'K1', 'K0', 'K1'],\n",
        "                        'A': ['A0', 'A1', 'A2', 'A3'],\n",
        "                        'B': ['B0', 'B1', 'B2', 'B3']})\n",
        "    \n",
        "df_direito = pd.DataFrame({'key1': ['K0', 'K1', 'K1', 'K2'],\n",
        "                               'key2': ['K0', 'K0', 'K0', 'K0'],\n",
        "                                  'C': ['C0', 'C1', 'C2', 'C3'],\n",
        "                                  'D': ['D0', 'D1', 'D2', 'D3']})"
      ],
      "execution_count": null,
      "outputs": []
    },
    {
      "cell_type": "markdown",
      "metadata": {
        "id": "MaHbsgNLIS2a"
      },
      "source": [
        "*--------------------------------------------------------------------------- begin\n",
        "\n",
        "*****2020-10-08"
      ]
    },
    {
      "cell_type": "code",
      "metadata": {
        "id": "ujnDod4fIWNe"
      },
      "source": [
        "df_esquerdo"
      ],
      "execution_count": null,
      "outputs": []
    },
    {
      "cell_type": "code",
      "metadata": {
        "id": "KGsI8mqTIZFx"
      },
      "source": [
        "df_direito"
      ],
      "execution_count": null,
      "outputs": []
    },
    {
      "cell_type": "markdown",
      "metadata": {
        "id": "KYO_mdjSzJQs"
      },
      "source": [
        "*--------------------------------------------------------------------------- end"
      ]
    },
    {
      "cell_type": "markdown",
      "metadata": {
        "id": "iv7AmZ1ivm8R"
      },
      "source": [
        "### Perguntas\n",
        "* Qual o output e a interpretação dos comandos a seguir:"
      ]
    },
    {
      "cell_type": "code",
      "metadata": {
        "id": "TWAW_1tuvvSO"
      },
      "source": [
        "pd.merge(df_esquerdo, df_direito, on = ['key1', 'key2'])"
      ],
      "execution_count": null,
      "outputs": []
    },
    {
      "cell_type": "markdown",
      "metadata": {
        "id": "jBzpRgwTIqBZ"
      },
      "source": [
        "*--------------------------------------------------------------------------- begin\n",
        "\n",
        "* inner join é o método default\n",
        "* espera igualdade entre key1,key2 de ambos os dataframes\n",
        "* K0,K1 e K2,K1 de df_esquerdo são eliminados\n",
        "* K2,K0 de df_direito é eliminado\n",
        "\n",
        "*--------------------------------------------------------------------------- end"
      ]
    },
    {
      "cell_type": "code",
      "metadata": {
        "id": "QjM7pBONvzCJ"
      },
      "source": [
        "pd.merge(df_esquerdo, df_direito, how = 'outer', on = ['key1', 'key2'])"
      ],
      "execution_count": null,
      "outputs": []
    },
    {
      "cell_type": "markdown",
      "metadata": {
        "id": "1Sc9g0N6LIUS"
      },
      "source": [
        "*--------------------------------------------------------------------------- begin\n",
        "\n",
        "* outer join\n",
        "* aproveita todas as ocorrências das chaves key1,key2\n",
        "* havendo coincidência entre chaves, preenche as colunas\n",
        "* se uma das tabelas não tiver valores correspondentes, preenche colunas com NaN\n",
        "\n",
        "*--------------------------------------------------------------------------- end"
      ]
    },
    {
      "cell_type": "code",
      "metadata": {
        "id": "D1Rr3Ghsv2iS"
      },
      "source": [
        "pd.merge(df_esquerdo, df_direito, how = 'right', on = ['key1', 'key2'])"
      ],
      "execution_count": null,
      "outputs": []
    },
    {
      "cell_type": "markdown",
      "metadata": {
        "id": "nh7bmpMJLrIe"
      },
      "source": [
        "*--------------------------------------------------------------------------- begin\n",
        "\n",
        "* right join : df_direito é a referência\n",
        "* preenche as ocorrências de df_direito\n",
        "* completa com as coincidências de df_esquerdo\n",
        "\n",
        "*--------------------------------------------------------------------------- end"
      ]
    },
    {
      "cell_type": "code",
      "metadata": {
        "id": "vXQwLjT-v3Iu"
      },
      "source": [
        "\n",
        "pd.merge(df_esquerdo, df_direito, how = 'left', on = ['key1', 'key2'])"
      ],
      "execution_count": null,
      "outputs": []
    },
    {
      "cell_type": "markdown",
      "metadata": {
        "id": "NUQ3Ki5-L_nu"
      },
      "source": [
        "*--------------------------------------------------------------------------- begin\n",
        "\n",
        "* left join : df_esquerdo é a referência\n",
        "* preenche as ocorrências de df_esquerdo\n",
        "* completa com as coincidências de df_direito\n",
        "\n",
        "*--------------------------------------------------------------------------- end"
      ]
    },
    {
      "cell_type": "markdown",
      "metadata": {
        "id": "EIdltTC-t_lF"
      },
      "source": [
        "## Exercício 5\n",
        "5.1. Identifique e delete os atributos do dataframe df_Titanic que podem ser excluídos inicialmente no início da análise de dados."
      ]
    },
    {
      "cell_type": "markdown",
      "metadata": {
        "id": "DCgcniH_M3RR"
      },
      "source": [
        "*--------------------------------------------------------------------------- begin\n",
        "\n",
        "*****2020-10-08 (só importado - observar nome é df_titan para não poluir o ex 6"
      ]
    },
    {
      "cell_type": "code",
      "metadata": {
        "id": "YuuHcb21M_2V"
      },
      "source": [
        "import pandas as pd\n",
        "df_titan = pd.read_csv('https://raw.githubusercontent.com/atarasaki/DSWP/master/Dataframes/Titanic_With_MV.csv', index_col= 'PassengerId')\n",
        "df_titan.head()"
      ],
      "execution_count": null,
      "outputs": []
    },
    {
      "cell_type": "markdown",
      "metadata": {
        "id": "It6HsIatzkr3"
      },
      "source": [
        "*--------------------------------------------------------------------------- end"
      ]
    },
    {
      "cell_type": "markdown",
      "metadata": {
        "id": "bMwPLgWclWBq"
      },
      "source": [
        "___\n",
        "## Exercício 6 - Resolvido\n",
        "* Carregue o dataframe Titanic_With_MV.csv e analise o dataframe em busca de inconsistências e Missing Values (NaN)."
      ]
    },
    {
      "cell_type": "code",
      "metadata": {
        "id": "V7KUGAX6lilP"
      },
      "source": [
        "# original Nélio\n",
        "import pandas as pd\n",
        "df_Titanic = pd.read_csv('https://raw.githubusercontent.com/MathMachado/Python4DS/DS_Python/Dataframes/Titanic_With_MV.csv?token =AGDJQ63MNPPPROFNSO2BZW25XSR72', index_col= 'PassengerId')\n",
        "df_Titanic.head()"
      ],
      "execution_count": null,
      "outputs": []
    },
    {
      "cell_type": "markdown",
      "metadata": {
        "id": "m1DB73abjwzl"
      },
      "source": [
        "https://raw.githubusercontent.com/atarasaki/DSWP/master/Dataframes/Titanic_With_MV.csv"
      ]
    },
    {
      "cell_type": "markdown",
      "metadata": {
        "id": "ZzUEPy6mz_gw"
      },
      "source": [
        "*--------------------------------------------------------------------------- begin"
      ]
    },
    {
      "cell_type": "code",
      "metadata": {
        "id": "Zah7MO-TkrL3"
      },
      "source": [
        "import pandas as pd\n",
        "df_Titanic = pd.read_csv('https://raw.githubusercontent.com/atarasaki/DSWP/master/Dataframes/Titanic_With_MV.csv', index_col= 'PassengerId')\n",
        "df_Titanic.head()"
      ],
      "execution_count": null,
      "outputs": []
    },
    {
      "cell_type": "markdown",
      "metadata": {
        "id": "C4qz74rW4IJG"
      },
      "source": [
        "*--------------------------------------------------------------------------- end"
      ]
    },
    {
      "cell_type": "markdown",
      "metadata": {
        "id": "m3UnAPJakCLR"
      },
      "source": [
        "* Segue o dicionário de dados do dataframe Titanic:\n",
        "    * PassengerID: ID do passageiro;\n",
        "    * survived: Indicador, sendo 1= Passageiro sobreviveu e 0= Passageiro morreu;\n",
        "    * Pclass: Classe;\n",
        "    * Age: Idade do Passageiro;\n",
        "    * SibSp: Número de parentes a bordo (esposa, irmãos, pais e etc);\n",
        "    * Parch: Número de pais/crianças a bordo;\n",
        "    * Fare: Valor pago pelo Passageiro;\n",
        "    * Cabin: Cabine do Passageiro;\n",
        "    * Embarked: A porta pelo qual o Passageiro embarcou.\n",
        "    * Name: Nome do Passageiro;\n",
        "    * sex: sexo do Passageiro\n",
        "    "
      ]
    },
    {
      "cell_type": "markdown",
      "metadata": {
        "id": "_6RvRCXgwomw"
      },
      "source": [
        "### Avaliando inconsistências nas COLUNAS"
      ]
    },
    {
      "cell_type": "code",
      "metadata": {
        "id": "PToomnfRxxI5"
      },
      "source": [
        "import seaborn as sns\n",
        "import pandas as pd\n",
        "import numpy as np"
      ],
      "execution_count": null,
      "outputs": []
    },
    {
      "cell_type": "code",
      "metadata": {
        "id": "3nc_iuRR1Tju"
      },
      "source": [
        "# Uniformizando o nome das COLUNAS\n",
        "df_Titanic.columns= [cols.lower() for cols in df_Titanic.columns]\n",
        "df_Titanic.head()"
      ],
      "execution_count": null,
      "outputs": []
    },
    {
      "cell_type": "markdown",
      "metadata": {
        "id": "G9jteCnAxdnK"
      },
      "source": [
        "### Coluna 'pclass'"
      ]
    },
    {
      "cell_type": "code",
      "metadata": {
        "id": "wUk0YNlxsgvf"
      },
      "source": [
        "df_Titanic['pclass'].value_counts()"
      ],
      "execution_count": null,
      "outputs": []
    },
    {
      "cell_type": "code",
      "metadata": {
        "id": "9vPrB3AAx0Ym"
      },
      "source": [
        "sns.countplot(x = 'survived', hue ='pclass', data = df_Titanic)"
      ],
      "execution_count": null,
      "outputs": []
    },
    {
      "cell_type": "markdown",
      "metadata": {
        "id": "2n8s9Ad1m7od"
      },
      "source": [
        "Não me parece nada estranho com a variável 'pclass'. Ou você identifica alguma coisa estranho?"
      ]
    },
    {
      "cell_type": "markdown",
      "metadata": {
        "id": "EMwpmQ4YOVNd"
      },
      "source": [
        "\n",
        "* número de mortes entre aqueles da classe 3 bem elevado\n",
        "* dentre os sobreviventes, sem muita diferença pela classe ocupada"
      ]
    },
    {
      "cell_type": "markdown",
      "metadata": {
        "id": "m8EGM6gSxrzS"
      },
      "source": [
        "### Coluna 'sex'"
      ]
    },
    {
      "cell_type": "code",
      "metadata": {
        "id": "BRRgcLtinIRz"
      },
      "source": [
        "sns.countplot(x = 'survived', hue ='sex', data = df_Titanic)"
      ],
      "execution_count": null,
      "outputs": []
    },
    {
      "cell_type": "code",
      "metadata": {
        "id": "8SQ8v2Wnspfb"
      },
      "source": [
        "df_Titanic['sex'].value_counts()"
      ],
      "execution_count": null,
      "outputs": []
    },
    {
      "cell_type": "markdown",
      "metadata": {
        "id": "wpp0iL0kyGTl"
      },
      "source": [
        "Qual sua opinião sobre esse preenchimento?\n",
        "\n",
        "Algum problema?"
      ]
    },
    {
      "cell_type": "markdown",
      "metadata": {
        "id": "jxx06kJFnNrP"
      },
      "source": [
        "Oops... Aqui temos vários problemas... Olhando para estes resultados, você concorda que 'male', 'm', 'MALE', M', 'mALE' e 'Men' se trata da mesma informação?\n",
        "\n",
        "Da mesma forma, 'female', 'f', 'F', 'Female', 'fEMALE', 'Woman', 'w' e 'W' também se trata da mesma informação?\n",
        "\n",
        "Então, vamos fazer o seguinte:\n",
        "\n",
        "* Toda vez que eu encontrar um desses valores: ['m', 'MALE', 'M', 'mALE', 'Men'], vou substituir por 'male';\n",
        "* Toda vez que eu encontrar um desses valores: ['f', 'F', 'Female', 'fEMALE', 'Woman', 'w', 'W'], vou substituit por 'female'."
      ]
    },
    {
      "cell_type": "code",
      "metadata": {
        "id": "oQbEVi1t2tfR"
      },
      "source": [
        "df_Titanic2= df_Titanic.copy()"
      ],
      "execution_count": null,
      "outputs": []
    },
    {
      "cell_type": "markdown",
      "metadata": {
        "id": "apc-ccODyZ-d"
      },
      "source": [
        "#### Corrigir com df.replace()"
      ]
    },
    {
      "cell_type": "code",
      "metadata": {
        "id": "CwoyLBK9oME5"
      },
      "source": [
        "df_Titanic['sex2'] = df_Titanic['sex'].replace(['m', 'MALE', 'M', 'mALE', 'Men'], 'male')\n",
        "df_Titanic['sex3'] = df_Titanic['sex2'].replace(['f', 'F', 'Female', 'fEMALE', 'Woman', 'w', 'W'], 'female')  "
      ],
      "execution_count": null,
      "outputs": []
    },
    {
      "cell_type": "markdown",
      "metadata": {
        "id": "RC35I-Njp4vh"
      },
      "source": [
        "Vamos ver a distribuição dos dados novamente no gráfico:"
      ]
    },
    {
      "cell_type": "code",
      "metadata": {
        "id": "1eGvEhA9qAN6"
      },
      "source": [
        "sns.countplot(x = 'survived', hue ='sex3', data = df_Titanic)"
      ],
      "execution_count": null,
      "outputs": []
    },
    {
      "cell_type": "code",
      "metadata": {
        "id": "IY3TaKUcszTQ"
      },
      "source": [
        "df_Titanic['sex3'].value_counts()"
      ],
      "execution_count": null,
      "outputs": []
    },
    {
      "cell_type": "markdown",
      "metadata": {
        "id": "2nOAcv3iqEaK"
      },
      "source": [
        "Ok, de fato corrigimos os problemas de preenchimento da variável 'sex'."
      ]
    },
    {
      "cell_type": "markdown",
      "metadata": {
        "id": "dqLqmrTWylY3"
      },
      "source": [
        "#### Corrigir com df.map()"
      ]
    },
    {
      "cell_type": "code",
      "metadata": {
        "id": "dRvuNo4E3Ewx"
      },
      "source": [
        "df_Titanic= df_Titanic2.copy()"
      ],
      "execution_count": null,
      "outputs": []
    },
    {
      "cell_type": "code",
      "metadata": {
        "id": "3X0_ZdwCyquk"
      },
      "source": [
        "d_sexo= {}\n",
        "d_sexo.update(dict.fromkeys(['m', 'MALE', 'M', 'mALE', 'Men', 'male'], 'male'))\n",
        "d_sexo.update(dict.fromkeys(['f', 'F', 'Female', 'fEMALE', 'Woman', 'w', 'W', 'female'], 'female'))\n",
        "d_sexo"
      ],
      "execution_count": null,
      "outputs": []
    },
    {
      "cell_type": "markdown",
      "metadata": {
        "id": "YQ3lwKRKbsx0"
      },
      "source": [
        "Aplica a transformação:"
      ]
    },
    {
      "cell_type": "code",
      "metadata": {
        "id": "idBwRNI7bvCC"
      },
      "source": [
        "df_Titanic['sex2'] = df_Titanic['sex'].map(d_sexo)\n",
        "df_Titanic['sex2'].value_counts()"
      ],
      "execution_count": null,
      "outputs": []
    },
    {
      "cell_type": "markdown",
      "metadata": {
        "id": "FzDl78rfb3p5"
      },
      "source": [
        "Qual a conclusão? Este preenchimento faz mais sentido que o anterior?"
      ]
    },
    {
      "cell_type": "code",
      "metadata": {
        "id": "SvrZtKRpzIDc"
      },
      "source": [
        "# Deleta as variáveis 'sex':\n",
        "df_Titanic = df_Titanic.drop(columns = ['sex'], axis = 1).rename(columns= {'sex2': 'sex'})\n",
        "\n",
        "# Mostra os dados:\n",
        "df_Titanic.head()"
      ],
      "execution_count": null,
      "outputs": []
    },
    {
      "cell_type": "code",
      "metadata": {
        "id": "6URC6h8xzfc5"
      },
      "source": [
        "sns.catplot(x=\"sex\", kind=\"count\", data = df_Titanic)"
      ],
      "execution_count": null,
      "outputs": []
    },
    {
      "cell_type": "code",
      "metadata": {
        "id": "k_spkJbmqdRW"
      },
      "source": [
        "sns.countplot(x = 'survived', hue ='sex', data = df_Titanic)"
      ],
      "execution_count": null,
      "outputs": []
    },
    {
      "cell_type": "markdown",
      "metadata": {
        "id": "bgBNoXUNzoWZ"
      },
      "source": [
        "### Feature Engineering\n",
        "#### Coluna 'cabin'\n",
        "* Construir as COLUNAS:\n",
        "    * deck - Letra de Cabin;\n",
        "    * seat - Número de Cabin"
      ]
    },
    {
      "cell_type": "markdown",
      "metadata": {
        "id": "8fHsLrnut6mk"
      },
      "source": [
        "Sugestões:\n",
        "1) Não descartar nenhuma informação (Fábio);\n",
        "\n",
        "2) Coluna com número de cabines reservadas (Thomaz)."
      ]
    },
    {
      "cell_type": "code",
      "metadata": {
        "id": "p0NFFxx8z-vq"
      },
      "source": [
        "# transforma em conjunto : apenas valores não repetidos\n",
        "set(df_Titanic['cabin'])"
      ],
      "execution_count": null,
      "outputs": []
    },
    {
      "cell_type": "markdown",
      "metadata": {
        "id": "7E6yje89u7KF"
      },
      "source": [
        "Como podemos ver, trata-se de uma variável categórica com vários níveis. Portanto, vamos capturar somente a primeira letra da variável 'cabin'. Para tal, vamos utilizar a função slice().\n",
        "\n",
        "> str.slice() - Captura (slice) partes de s_Str."
      ]
    },
    {
      "cell_type": "markdown",
      "metadata": {
        "id": "wmZLlSaArR6F"
      },
      "source": [
        "A seguir, capturamos a primeira letra da variável 'cabin':"
      ]
    },
    {
      "cell_type": "code",
      "metadata": {
        "id": "hUZTJU0MvVxP"
      },
      "source": [
        "# definindo a variável 'deck' que representará a primeira letra da variável 'cabin'\n",
        "df_Titanic[\"deck\"] = df_Titanic[\"cabin\"].str.slice(0, 1) # slice(inicio, tamanho_da_string)\n",
        "df_Titanic['deck'].value_counts()"
      ],
      "execution_count": null,
      "outputs": []
    },
    {
      "cell_type": "markdown",
      "metadata": {
        "id": "6myhrth0rZ6t"
      },
      "source": [
        "A seguir, vamos extrair a parte numérica da variável 'cabin' usando Expressões Regulares:\n",
        "\n"
      ]
    },
    {
      "cell_type": "code",
      "metadata": {
        "id": "8UXkACPmsfwN"
      },
      "source": [
        "# Importar a biblioiteca para Expressões Regulares\n",
        "import re"
      ],
      "execution_count": null,
      "outputs": []
    },
    {
      "cell_type": "code",
      "metadata": {
        "id": "QKk-fnW4rf4o"
      },
      "source": [
        "# Primeiramente, usamos a função split() para separar o conteúdo da variável em COLUNAS: \n",
        "new = df_Titanic[\"cabin\"].str.split(\" \", n = 3, expand = True) \n",
        "new.head(5)"
      ],
      "execution_count": null,
      "outputs": []
    },
    {
      "cell_type": "markdown",
      "metadata": {
        "id": "dFqoR-Xew9gX"
      },
      "source": [
        "Observe acima que o comando gera quantos splits da variável eu quiser. No entanto, por simplicidade, me interessa somente o primeiro split."
      ]
    },
    {
      "cell_type": "markdown",
      "metadata": {
        "id": "_M7vA6WoVG05"
      },
      "source": [
        "Agora, vou extrair o número do assento do passageiro usando Expressões Regulares:"
      ]
    },
    {
      "cell_type": "code",
      "metadata": {
        "id": "rVH5o9KT_IH3"
      },
      "source": [
        "# Aqui está o conteúdo de new[0]:\n",
        "new[0].head()"
      ],
      "execution_count": null,
      "outputs": []
    },
    {
      "cell_type": "code",
      "metadata": {
        "id": "P7NTcsGOxxSX"
      },
      "source": [
        "new2= new[0].str.extract('(\\d+)')\n",
        "new2.head()"
      ],
      "execution_count": null,
      "outputs": []
    },
    {
      "cell_type": "markdown",
      "metadata": {
        "id": "bf8vw2Mc18bQ"
      },
      "source": [
        "Por fim, vou carregar esta informação ao dataframe df:"
      ]
    },
    {
      "cell_type": "code",
      "metadata": {
        "id": "6l6EoRvsxRXn"
      },
      "source": [
        "df_Titanic[\"seat\"] = new2\n",
        "df_Titanic.head()"
      ],
      "execution_count": null,
      "outputs": []
    },
    {
      "cell_type": "markdown",
      "metadata": {
        "id": "LK4V61uy3N9s"
      },
      "source": [
        "Por fim, excluir a variável 'cabin':"
      ]
    },
    {
      "cell_type": "code",
      "metadata": {
        "id": "4uAr55J43NY7"
      },
      "source": [
        "df_Titanic= df_Titanic.drop(columns= [\"cabin\"], axis =1, errors=\"ignore\")"
      ],
      "execution_count": null,
      "outputs": []
    },
    {
      "cell_type": "code",
      "metadata": {
        "id": "l9rli6GneUrv"
      },
      "source": [
        "df_Titanic.head()"
      ],
      "execution_count": null,
      "outputs": []
    },
    {
      "cell_type": "markdown",
      "metadata": {
        "id": "qZuH7YJXZCgY"
      },
      "source": [
        "### Coluna 'embarked'"
      ]
    },
    {
      "cell_type": "code",
      "metadata": {
        "id": "nTPikhrIZGya"
      },
      "source": [
        "df_Titanic['embarked'].value_counts()"
      ],
      "execution_count": null,
      "outputs": []
    },
    {
      "cell_type": "code",
      "metadata": {
        "id": "ixbZsuqOZsOc"
      },
      "source": [
        "sns.catplot(x=\"embarked\", kind=\"count\", data = df_Titanic)"
      ],
      "execution_count": null,
      "outputs": []
    },
    {
      "cell_type": "markdown",
      "metadata": {
        "id": "VvdU8aAwZNvG"
      },
      "source": [
        "Não vejo problemas com esta variável. Vamos em frente..."
      ]
    },
    {
      "cell_type": "code",
      "metadata": {
        "id": "k2SLRAhrub_B"
      },
      "source": [
        "sns.countplot(x = 'survived', hue ='embarked', data = df_Titanic)"
      ],
      "execution_count": null,
      "outputs": []
    },
    {
      "cell_type": "code",
      "metadata": {
        "id": "YRJcWaYkuxK4"
      },
      "source": [
        "sns.countplot(x = 'pclass', hue ='embarked', data = df_Titanic)"
      ],
      "execution_count": null,
      "outputs": []
    },
    {
      "cell_type": "code",
      "metadata": {
        "id": "rzrOUULUu6-P"
      },
      "source": [
        "sns.countplot(x = 'sex', hue ='embarked', data = df_Titanic)"
      ],
      "execution_count": null,
      "outputs": []
    },
    {
      "cell_type": "markdown",
      "metadata": {
        "id": "DfSMcYYZ5yLV"
      },
      "source": [
        "### Variável 'pclass'"
      ]
    },
    {
      "cell_type": "code",
      "metadata": {
        "id": "Q2uU0k-G5yLN"
      },
      "source": [
        "df_Titanic['pclass'].value_counts()"
      ],
      "execution_count": null,
      "outputs": []
    },
    {
      "cell_type": "markdown",
      "metadata": {
        "id": "Gue26Y3A5yLL"
      },
      "source": [
        "Algum problema com esta variável?"
      ]
    },
    {
      "cell_type": "code",
      "metadata": {
        "id": "q3P82wPp5yK8"
      },
      "source": [
        "sns.catplot(x=\"pclass\", kind=\"count\", data = df_Titanic)"
      ],
      "execution_count": null,
      "outputs": []
    },
    {
      "cell_type": "markdown",
      "metadata": {
        "id": "Qrnc6VUKSTNp"
      },
      "source": [
        "### Coluna 'parch'"
      ]
    },
    {
      "cell_type": "code",
      "metadata": {
        "id": "2i4ed-0zSvJc"
      },
      "source": [
        "df_Titanic['parch'].value_counts()"
      ],
      "execution_count": null,
      "outputs": []
    },
    {
      "cell_type": "code",
      "metadata": {
        "id": "qd7u__6KZ6DM"
      },
      "source": [
        "sns.catplot(x=\"parch\", kind=\"count\", data = df_Titanic)"
      ],
      "execution_count": null,
      "outputs": []
    },
    {
      "cell_type": "markdown",
      "metadata": {
        "id": "Z9vM3vktC7BG"
      },
      "source": [
        "### Feature Engineering\n",
        "* Criar a coluna 'sozinho_parch', onde sozinho_parch= 1 significa que o passageiro viaja sozinho e 0, caso contrário."
      ]
    },
    {
      "cell_type": "code",
      "metadata": {
        "id": "Nd4TyOYjs-HW"
      },
      "source": [
        "# Função para retornar 0 ou 1 em função dos valores de variavel\n",
        "def sozinho(variavel):\n",
        "    if (variavel == 0):\n",
        "        return 1\n",
        "    else:\n",
        "        return 0"
      ],
      "execution_count": null,
      "outputs": []
    },
    {
      "cell_type": "code",
      "metadata": {
        "id": "5oByiBuos_B3"
      },
      "source": [
        "df_Titanic['sozinho_parch'] = df_Titanic['parch'].map(sozinho)\n",
        "df_Titanic.head()"
      ],
      "execution_count": null,
      "outputs": []
    },
    {
      "cell_type": "code",
      "metadata": {
        "id": "w2AKCQrbfMMs"
      },
      "source": [
        "df_Titanic.tail()"
      ],
      "execution_count": null,
      "outputs": []
    },
    {
      "cell_type": "markdown",
      "metadata": {
        "id": "C1ICby1oSd41"
      },
      "source": [
        "### Coluna 'sibsp'"
      ]
    },
    {
      "cell_type": "code",
      "metadata": {
        "id": "5n7JNEQqTNjz"
      },
      "source": [
        "df_Titanic['sibsp'].value_counts()"
      ],
      "execution_count": null,
      "outputs": []
    },
    {
      "cell_type": "markdown",
      "metadata": {
        "id": "NLfMhiy0x4u5"
      },
      "source": [
        "* Algum problema?"
      ]
    },
    {
      "cell_type": "code",
      "metadata": {
        "id": "nayYFRK9g8iV"
      },
      "source": [
        "sns.catplot(x=\"sibsp\", kind=\"count\", data = df_Titanic)"
      ],
      "execution_count": null,
      "outputs": []
    },
    {
      "cell_type": "code",
      "metadata": {
        "id": "KzCX2MTmE9Tw"
      },
      "source": [
        "sns.countplot(x = 'survived', hue ='sibsp', data = df_Titanic)"
      ],
      "execution_count": null,
      "outputs": []
    },
    {
      "cell_type": "markdown",
      "metadata": {
        "id": "Ns4vKToCojJK"
      },
      "source": [
        "*** (cont. de 07/10/2020)"
      ]
    },
    {
      "cell_type": "markdown",
      "metadata": {
        "id": "_58rZqMaDzf-"
      },
      "source": [
        "### Feature Engineering:\n",
        "* Criar o atributo 'sozinho_sibsp', onde sozinho= 1 significa que o passageiro viaja sozinho e 0, caso contrário."
      ]
    },
    {
      "cell_type": "code",
      "metadata": {
        "id": "HUrJ4IywrEoA"
      },
      "source": [
        "df_Titanic['sozinho_sibsp'] = df_Titanic['sibsp'].map(sozinho)\n",
        "df_Titanic.head()"
      ],
      "execution_count": null,
      "outputs": []
    },
    {
      "cell_type": "markdown",
      "metadata": {
        "id": "0MO9jj2NvGp_"
      },
      "source": [
        "### Coluna 'fare'\n",
        "> Discretizar a coluna 'fare' em 10 buckets."
      ]
    },
    {
      "cell_type": "markdown",
      "metadata": {
        "id": "ro2n9BwYgiDv"
      },
      "source": [
        "**pandas.qcut(x, q, labels=None, retbins=False, precision=3, duplicates='raise')**\n",
        "\n",
        "Quantile-based discretization function.\n",
        "\n",
        "Discretize variable into equal-sized buckets based on rank or based on sample quantiles. For example 1000 values for 10 quantiles would produce a Categorical object indicating quantile membership for each data point."
      ]
    },
    {
      "cell_type": "code",
      "metadata": {
        "id": "4-qO2Xk76Buz"
      },
      "source": [
        "df_Titanic['fare_class'] = pd.qcut(df_Titanic['fare'], 10, labels=False)\n",
        "df_Titanic['fare_class'].value_counts()"
      ],
      "execution_count": null,
      "outputs": []
    },
    {
      "cell_type": "code",
      "metadata": {
        "id": "boAj64RHvQHu"
      },
      "source": [
        "sns.catplot(x=\"fare_class\", kind=\"count\", data = df_Titanic)"
      ],
      "execution_count": null,
      "outputs": []
    },
    {
      "cell_type": "markdown",
      "metadata": {
        "id": "3CIqHUJpvcPa"
      },
      "source": [
        "### Coluna 'age'\n",
        "> Discretizar a coluna 'age' em 10 buckets."
      ]
    },
    {
      "cell_type": "code",
      "metadata": {
        "id": "rCRnbKX57VN-"
      },
      "source": [
        "df_Titanic['age_class'] = pd.qcut(df_Titanic['age'], 10, labels=False)\n",
        "df_Titanic['age_class'].value_counts()"
      ],
      "execution_count": null,
      "outputs": []
    },
    {
      "cell_type": "code",
      "metadata": {
        "id": "uFsZLYDi7VOH"
      },
      "source": [
        "sns.catplot(x=\"age_class\", kind=\"count\", data = df_Titanic)"
      ],
      "execution_count": null,
      "outputs": []
    },
    {
      "cell_type": "markdown",
      "metadata": {
        "id": "DIY-sL337uje"
      },
      "source": [
        "#### Alternativa para discretizar 'age'"
      ]
    },
    {
      "cell_type": "code",
      "metadata": {
        "id": "W66GkyuKkhFe"
      },
      "source": [
        "def Age_Category(age):\n",
        "    if (age <= 1):\n",
        "        return 1\n",
        "    elif (age <= 5):\n",
        "        return 2\n",
        "    elif(age <= 10):\n",
        "        return 3\n",
        "    elif (age <= 15):\n",
        "        return 4\n",
        "    elif (age <= 20):\n",
        "        return 5\n",
        "    elif (age <= 25):\n",
        "        return 6\n",
        "    elif(age < 30):\n",
        "        return 7\n",
        "    elif(age < 35):\n",
        "        return 8\n",
        "    elif(age < 40):\n",
        "        return 9\n",
        "    elif(age < 45):\n",
        "        return 10\n",
        "    elif(age < 50):\n",
        "        return 11\n",
        "    elif(age < 60):\n",
        "        return 12\n",
        "    elif(age < 70):\n",
        "        return 13\n",
        "    elif(age < 80):\n",
        "        return 14\n",
        "    else:\n",
        "        return 15"
      ],
      "execution_count": null,
      "outputs": []
    },
    {
      "cell_type": "code",
      "metadata": {
        "id": "TnLzC6hCkuBL"
      },
      "source": [
        "df_Titanic['age_class2'] = df_Titanic['age'].map(Age_Category)"
      ],
      "execution_count": null,
      "outputs": []
    },
    {
      "cell_type": "code",
      "metadata": {
        "id": "gW1i2XlkhX0m"
      },
      "source": [
        "df_Titanic.head()"
      ],
      "execution_count": null,
      "outputs": []
    },
    {
      "cell_type": "code",
      "metadata": {
        "id": "kG8td6HPsNlP"
      },
      "source": [
        "set(df_Titanic['age_class2']) # Esse comando mostra os NaN's da coluna, se houver."
      ],
      "execution_count": null,
      "outputs": []
    },
    {
      "cell_type": "markdown",
      "metadata": {
        "id": "B_3s5cgxfNKQ"
      },
      "source": [
        "### Coluna 'title'\n",
        "\n",
        "* Para fins de Data Manipulation, vamos capturar o tratamento dos passageiros contido na variável 'nome'. Ou seja, 'Mr.', 'Mrs.', 'Miss' e etc...\n",
        "\n",
        "> Fonte: As funções get_title e title_map foram extraídas de https://www.kaggle.com/tjsauer/titanic-survival-python-solution"
      ]
    },
    {
      "cell_type": "code",
      "metadata": {
        "id": "gslSjRdDoJFY"
      },
      "source": [
        "df_Titanic.head()"
      ],
      "execution_count": null,
      "outputs": []
    },
    {
      "cell_type": "markdown",
      "metadata": {
        "id": "XjqEVVnr8R4d"
      },
      "source": [
        "Primeiramente, vamos entender como funciona, step by step..."
      ]
    },
    {
      "cell_type": "code",
      "metadata": {
        "id": "D6gjWc3XozK7"
      },
      "source": [
        "'Allen, Mr. William Henry'.split(',')[1].split('.')[0].strip()"
      ],
      "execution_count": null,
      "outputs": []
    },
    {
      "cell_type": "markdown",
      "metadata": {
        "id": "iHqOSzxvioEI"
      },
      "source": [
        "* str.split : separa o string com ocorrência de ','\n",
        "* título na segunda parte do string : str[1]\n",
        "* novo split : separa o str[1] com ocorrência de '.'\n",
        "* título na primeira parte do novo string : new_str[0]"
      ]
    },
    {
      "cell_type": "code",
      "metadata": {
        "id": "nfIG6toGfhd5"
      },
      "source": [
        "def get_title(nome):\n",
        "    if '.' in nome:\n",
        "        return nome.split(',')[1].split('.')[0].strip()\n",
        "    else:\n",
        "        return 'Unknown'\n",
        "\n",
        "def title_map(title):\n",
        "    if title in ['Mr', 'Ms']:\n",
        "        return 1\n",
        "    elif title in ['Master']:\n",
        "        return 2\n",
        "    elif title in ['Ms','Mlle','Miss']:\n",
        "        return 3\n",
        "    elif title in [\"Mme\", \"Ms\", \"Mrs\"]:\n",
        "        return 4\n",
        "    elif title in [\"Jonkheer\", \"Don\", \"Sir\", \"the Countess\", \"Dona\", \"Lady\"]:\n",
        "        return 5\n",
        "    elif title in [\"Capt\", \"Col\", \"Major\", \"Dr\", \"Rev\"]:\n",
        "        return 6\n",
        "    else:\n",
        "        return 7"
      ],
      "execution_count": null,
      "outputs": []
    },
    {
      "cell_type": "markdown",
      "metadata": {
        "id": "HLQoJwf0rjrf"
      },
      "source": [
        "Exercícios\n",
        "* Melhorar a função title_map."
      ]
    },
    {
      "cell_type": "markdown",
      "metadata": {
        "id": "GQFVTskCvizY"
      },
      "source": [
        "*--------------------------------------------------------------------------- begin"
      ]
    },
    {
      "cell_type": "markdown",
      "metadata": {
        "id": "YNTtXMALuaD0"
      },
      "source": [
        "## observar que a função title_map() tem repetições de 'Ms' nas categorias"
      ]
    },
    {
      "cell_type": "code",
      "metadata": {
        "id": "vNflnPqXrilm"
      },
      "source": [
        "# dataframe auxiliar para examinar 'name', com coluna adicional 'title_extract'\n",
        "df_titan_aux = df_Titanic.copy()"
      ],
      "execution_count": null,
      "outputs": []
    },
    {
      "cell_type": "code",
      "metadata": {
        "id": "VH-sn5Awr6is"
      },
      "source": [
        "df_titan_aux.head(2)"
      ],
      "execution_count": null,
      "outputs": []
    },
    {
      "cell_type": "code",
      "metadata": {
        "id": "PoW4t_Coq4p-"
      },
      "source": [
        "# expressões regulares para identificar título contido em 'name'\n",
        "df_titan_aux['name'].str.extract('\\,\\s([\\w]*)\\.').head(2)\n",
        "\n"
      ],
      "execution_count": null,
      "outputs": []
    },
    {
      "cell_type": "code",
      "metadata": {
        "id": "olehgCmpj33a"
      },
      "source": [
        "# coluna adicional 'title_extract'\n",
        "df_titan_aux['title_extract'] = df_titan_aux['name'].str.extract('\\,\\s([\\w]*)\\.')\n",
        "df_titan_aux.head(2)"
      ],
      "execution_count": null,
      "outputs": []
    },
    {
      "cell_type": "code",
      "metadata": {
        "id": "PSqEOwj2uu_w"
      },
      "source": [
        "# exame das ocorrências de títulos\n",
        "df_titan_aux.value_counts('title_extract')"
      ],
      "execution_count": null,
      "outputs": []
    },
    {
      "cell_type": "markdown",
      "metadata": {
        "id": "tQp-oQfCvc2r"
      },
      "source": [
        "*--------------------------------------------------------------------------- end"
      ]
    },
    {
      "cell_type": "markdown",
      "metadata": {
        "id": "7qNUwnCepe_x"
      },
      "source": [
        "Captura o tratamento dos passageiros:"
      ]
    },
    {
      "cell_type": "code",
      "metadata": {
        "id": "r-Ltf33vgJ6Q"
      },
      "source": [
        "df_Titanic['title'] = df_Titanic['name'].apply(get_title).apply(title_map)  \n",
        "set(df_Titanic['title']) # Esse comando mostra os NaN's da variável"
      ],
      "execution_count": null,
      "outputs": []
    },
    {
      "cell_type": "markdown",
      "metadata": {
        "id": "D3hY0WVhpRYK"
      },
      "source": [
        "Drop a coluna 'name', pois não vamos mais precisar dela em nossas análises:"
      ]
    },
    {
      "cell_type": "code",
      "metadata": {
        "id": "Y8i3xKCes5WF"
      },
      "source": [
        "df_Titanic= df_Titanic.drop(columns= [\"name\"], axis =1)"
      ],
      "execution_count": null,
      "outputs": []
    },
    {
      "cell_type": "markdown",
      "metadata": {
        "id": "7Sl1uFdwpW3y"
      },
      "source": [
        "Apresenta o conteúdo do dataframe:"
      ]
    },
    {
      "cell_type": "code",
      "metadata": {
        "id": "2uFnw-pZpan-"
      },
      "source": [
        "df_Titanic.head(10)"
      ],
      "execution_count": null,
      "outputs": []
    },
    {
      "cell_type": "markdown",
      "metadata": {
        "id": "B0fZMKKpdHIl"
      },
      "source": [
        "## Missing Value\n",
        "> Faça o devido tratamento de NaN's das COLUNAS do dataframe df_Titanic."
      ]
    },
    {
      "cell_type": "code",
      "metadata": {
        "id": "UHzKFytXsNkh"
      },
      "source": [
        "df_Titanic['age'].isna().sum()"
      ],
      "execution_count": null,
      "outputs": []
    },
    {
      "cell_type": "markdown",
      "metadata": {
        "id": "ZC1ULWd883t2"
      },
      "source": [
        "## Relação causa --> efeito"
      ]
    },
    {
      "cell_type": "markdown",
      "metadata": {
        "id": "_WCbklv0bDlp"
      },
      "source": [
        "A função a seguir nos ajudará com o Data Visualization, cruzando a variável-resposta 'survived' com qualquer outra passada à função:"
      ]
    },
    {
      "cell_type": "code",
      "metadata": {
        "id": "V52qS-Xlwx02"
      },
      "source": [
        "import matplotlib.pyplot as plt\n"
      ],
      "execution_count": null,
      "outputs": []
    },
    {
      "cell_type": "code",
      "metadata": {
        "id": "epxI-F2UbGGS"
      },
      "source": [
        "def taxa_sobrevivencia(df, column):\n",
        "    title_xt = pd.crosstab(df[column], df['survived'])\n",
        "    print(pd.crosstab(df[column], df['survived'], margins=True))\n",
        "    title_xt_pct = title_xt.div(title_xt.sum(1).astype(float), axis =0)\n",
        "    \n",
        "    title_xt_pct.plot(kind='bar', stacked=True, title='Taxa de Sobrevivência dos Passageiros', \n",
        "                      color= ['r', 'g'])\n",
        "    plt.xlabel(column)\n",
        "    plt.ylabel('Taxa de Sobrevivência')\n",
        "    plt.legend(loc='upper center', bbox_to_anchor=(0.5, -0.05),shadow=True, ncol=2)\n",
        "    plt.show()\n",
        "\n",
        "def grafico_catplot(x, y, hue = 'survived', col= None):\n",
        "    plt.rcdefaults()\n",
        "    g= sns.catplot(x= x, y= y, hue = hue, palette={'Died':'red','Survived':'blue'}, col= col, data = df, kind= 'bar', height=4, aspect=.7)\n",
        "    plt.show()"
      ],
      "execution_count": null,
      "outputs": []
    },
    {
      "cell_type": "markdown",
      "metadata": {
        "id": "0iUnBsxfwHFa"
      },
      "source": [
        "função taxa_sobrevivencia( dataframe, nome_coluna ) -> gráfico comparativo com 'survived'"
      ]
    },
    {
      "cell_type": "markdown",
      "metadata": {
        "id": "34-Qbd_QrC8W"
      },
      "source": [
        "Qual a relação entre a variável 'sex' e a variável-resposta?"
      ]
    },
    {
      "cell_type": "code",
      "metadata": {
        "id": "bhY8-UjyrC8Z"
      },
      "source": [
        "taxa_sobrevivencia(df_Titanic, 'sex')"
      ],
      "execution_count": null,
      "outputs": []
    },
    {
      "cell_type": "markdown",
      "metadata": {
        "id": "eQXDvAShyXzu"
      },
      "source": [
        "*--------------------------------------------------------------------------- begin\n",
        "## Tratamento de dados do Titanic em :\n",
        "\n",
        "https://www.kaggle.com/tjsauer/titanic-survival-python-solution\n",
        "\n",
        "*--------------------------------------------------------------------------- end"
      ]
    },
    {
      "cell_type": "markdown",
      "metadata": {
        "id": "v-AguYPZn60Z"
      },
      "source": [
        "## Exercício 7\n",
        "> Algumas equipes estão a participar de um hackaton e estão a submeter seus respectivos resultados num repositório onde um script Python deveria ler automaticamente o nome dos arquivos, medir o resultado e publicar as equipes e seus respectivos resultados.\n",
        "\n",
        "1. Coloque os arquivos csv XPTO_team1.csv, XPTO_team2.csv, XPTO_team3.csv, \n",
        "XPTO_team4.csv, XPTO_team5.csv, XPTO_team6.csv e Resultado.csv num repositorio/pasta intitulada '.../hackaton/resultados/\n",
        "2. Desenvolva um script Python para ler os resultados e o nome das equipes e publique o placar.\n"
      ]
    },
    {
      "cell_type": "markdown",
      "metadata": {
        "id": "UbexhGtayV4X"
      },
      "source": [
        "## Exercício 8\n",
        "Consulte a página [Pandas Exercises, Practice, Solution](https://www.w3resource.com/python-exercises/pandas/index.php) para mais exercícios relacionados á este tópico."
      ]
    },
    {
      "cell_type": "code",
      "metadata": {
        "id": "Du7Y8E4uFmiu"
      },
      "source": [
        ""
      ],
      "execution_count": null,
      "outputs": []
    }
  ]
}