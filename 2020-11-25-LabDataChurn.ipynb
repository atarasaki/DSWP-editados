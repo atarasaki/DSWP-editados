{
  "nbformat": 4,
  "nbformat_minor": 0,
  "metadata": {
    "colab": {
      "name": "Untitled2.ipynb",
      "provenance": [],
      "authorship_tag": "ABX9TyODQyj8sUgb3wuICjmYsLRa",
      "include_colab_link": true
    },
    "kernelspec": {
      "name": "python3",
      "display_name": "Python 3"
    }
  },
  "cells": [
    {
      "cell_type": "markdown",
      "metadata": {
        "id": "view-in-github",
        "colab_type": "text"
      },
      "source": [
        "<a href=\"https://colab.research.google.com/github/atarasaki/DSWP-editados/blob/main/2020-11-25-LabDataChurn.ipynb\" target=\"_parent\"><img src=\"https://colab.research.google.com/assets/colab-badge.svg\" alt=\"Open In Colab\"/></a>"
      ]
    },
    {
      "cell_type": "markdown",
      "metadata": {
        "id": "J2Pdn4f4gd8i"
      },
      "source": [
        "## notebook para o Kaggle - construção em aula - 23/11/2020"
      ]
    },
    {
      "cell_type": "code",
      "metadata": {
        "colab": {
          "base_uri": "https://localhost:8080/"
        },
        "id": "14usMU0Mf03O",
        "outputId": "64d63fca-6e87-40a2-8141-1cd69549a220"
      },
      "source": [
        "## importa pycaret\n",
        "!pip install pycaret"
      ],
      "execution_count": null,
      "outputs": [
        {
          "output_type": "stream",
          "text": [
            "Collecting pycaret\n",
            "\u001b[?25l  Downloading https://files.pythonhosted.org/packages/f0/d0/390ff0f120c05795d45b353cedc81120f9c6558aae285a73e8fab62f322d/pycaret-2.2.1-py3-none-any.whl (248kB)\n",
            "\u001b[K     |████████████████████████████████| 256kB 9.3MB/s \n",
            "\u001b[?25hCollecting catboost>=0.23.2\n",
            "\u001b[?25l  Downloading https://files.pythonhosted.org/packages/7e/c1/c1c4707013f9e2f8a96899dd3a87f66c9167d6d776a6dc8fe7ec8678d446/catboost-0.24.3-cp36-none-manylinux1_x86_64.whl (66.3MB)\n",
            "\u001b[K     |████████████████████████████████| 66.3MB 60kB/s \n",
            "\u001b[?25hCollecting lightgbm>=2.3.1\n",
            "\u001b[?25l  Downloading https://files.pythonhosted.org/packages/d6/4d/99073804bd31f15678f24a79e96981dcbaa840bc9926dfd132e9638d51bb/lightgbm-3.1.0-py2.py3-none-manylinux1_x86_64.whl (1.8MB)\n",
            "\u001b[K     |████████████████████████████████| 1.8MB 46.3MB/s \n",
            "\u001b[?25hRequirement already satisfied: mlxtend in /usr/local/lib/python3.6/dist-packages (from pycaret) (0.14.0)\n",
            "Requirement already satisfied: umap-learn in /usr/local/lib/python3.6/dist-packages (from pycaret) (0.4.6)\n",
            "Collecting pyod\n",
            "\u001b[?25l  Downloading https://files.pythonhosted.org/packages/2b/1d/22a6c4e796fff1066bf80bf59b4494d6e3582e22012a61721f4cb730b3c3/pyod-0.8.4.tar.gz (98kB)\n",
            "\u001b[K     |████████████████████████████████| 102kB 9.9MB/s \n",
            "\u001b[?25hRequirement already satisfied: spacy in /usr/local/lib/python3.6/dist-packages (from pycaret) (2.2.4)\n",
            "Collecting scikit-learn>=0.23.2\n",
            "\u001b[?25l  Downloading https://files.pythonhosted.org/packages/5c/a1/273def87037a7fb010512bbc5901c31cfddfca8080bc63b42b26e3cc55b3/scikit_learn-0.23.2-cp36-cp36m-manylinux1_x86_64.whl (6.8MB)\n",
            "\u001b[K     |████████████████████████████████| 6.8MB 43.6MB/s \n",
            "\u001b[?25hCollecting scikit-plot\n",
            "  Downloading https://files.pythonhosted.org/packages/7c/47/32520e259340c140a4ad27c1b97050dd3254fdc517b1d59974d47037510e/scikit_plot-0.3.7-py3-none-any.whl\n",
            "Requirement already satisfied: plotly>=4.4.1 in /usr/local/lib/python3.6/dist-packages (from pycaret) (4.4.1)\n",
            "Collecting mlflow\n",
            "\u001b[?25l  Downloading https://files.pythonhosted.org/packages/b6/69/c6b3911ccb421adc779390ca2ea54cb888a54e282d50e8d20ce751b5c7ab/mlflow-1.12.1-py3-none-any.whl (13.9MB)\n",
            "\u001b[K     |████████████████████████████████| 13.9MB 275kB/s \n",
            "\u001b[?25hRequirement already satisfied: cufflinks>=0.17.0 in /usr/local/lib/python3.6/dist-packages (from pycaret) (0.17.3)\n",
            "Requirement already satisfied: numpy>=1.17 in /usr/local/lib/python3.6/dist-packages (from pycaret) (1.18.5)\n",
            "Requirement already satisfied: matplotlib in /usr/local/lib/python3.6/dist-packages (from pycaret) (3.2.2)\n",
            "Requirement already satisfied: seaborn in /usr/local/lib/python3.6/dist-packages (from pycaret) (0.11.0)\n",
            "Collecting kmodes>=0.10.1\n",
            "  Downloading https://files.pythonhosted.org/packages/b2/55/d8ec1ae1f7e1e202a8a4184c6852a3ee993b202b0459672c699d0ac18fc8/kmodes-0.10.2-py2.py3-none-any.whl\n",
            "Collecting pyLDAvis\n",
            "\u001b[?25l  Downloading https://files.pythonhosted.org/packages/a5/3a/af82e070a8a96e13217c8f362f9a73e82d61ac8fff3a2561946a97f96266/pyLDAvis-2.1.2.tar.gz (1.6MB)\n",
            "\u001b[K     |████████████████████████████████| 1.6MB 48.7MB/s \n",
            "\u001b[?25hCollecting xgboost>=1.1.0\n",
            "\u001b[?25l  Downloading https://files.pythonhosted.org/packages/35/cc/fd3d5fc6b6616a03385a0f6492cc77a253940d1026406ecc07597095e381/xgboost-1.2.1-py3-none-manylinux2010_x86_64.whl (148.9MB)\n",
            "\u001b[K     |████████████████████████████████| 148.9MB 78kB/s \n",
            "\u001b[?25hRequirement already satisfied: joblib in /usr/local/lib/python3.6/dist-packages (from pycaret) (0.17.0)\n",
            "Collecting yellowbrick>=1.0.1\n",
            "\u001b[?25l  Downloading https://files.pythonhosted.org/packages/1f/ad/ae6744ddb9c7053916bed95430152b9a41b7d410e16a1cc7cd744a611d90/yellowbrick-1.2-py3-none-any.whl (269kB)\n",
            "\u001b[K     |████████████████████████████████| 276kB 52.1MB/s \n",
            "\u001b[?25hRequirement already satisfied: ipywidgets in /usr/local/lib/python3.6/dist-packages (from pycaret) (7.5.1)\n",
            "Requirement already satisfied: nltk in /usr/local/lib/python3.6/dist-packages (from pycaret) (3.2.5)\n",
            "Collecting pandas-profiling>=2.8.0\n",
            "\u001b[?25l  Downloading https://files.pythonhosted.org/packages/32/79/5d03ed1172e3e67a997a6a795bcdd2ab58f84851969d01a91455383795b6/pandas_profiling-2.9.0-py2.py3-none-any.whl (258kB)\n",
            "\u001b[K     |████████████████████████████████| 266kB 52.8MB/s \n",
            "\u001b[?25hRequirement already satisfied: wordcloud in /usr/local/lib/python3.6/dist-packages (from pycaret) (1.5.0)\n",
            "Requirement already satisfied: textblob in /usr/local/lib/python3.6/dist-packages (from pycaret) (0.15.3)\n",
            "Collecting imbalanced-learn>=0.7.0\n",
            "\u001b[?25l  Downloading https://files.pythonhosted.org/packages/c8/81/8db4d87b03b998fda7c6f835d807c9ae4e3b141f978597b8d7f31600be15/imbalanced_learn-0.7.0-py3-none-any.whl (167kB)\n",
            "\u001b[K     |████████████████████████████████| 174kB 54.1MB/s \n",
            "\u001b[?25hRequirement already satisfied: gensim in /usr/local/lib/python3.6/dist-packages (from pycaret) (3.6.0)\n",
            "Requirement already satisfied: pandas in /usr/local/lib/python3.6/dist-packages (from pycaret) (1.1.4)\n",
            "Requirement already satisfied: IPython in /usr/local/lib/python3.6/dist-packages (from pycaret) (5.5.0)\n",
            "Requirement already satisfied: graphviz in /usr/local/lib/python3.6/dist-packages (from catboost>=0.23.2->pycaret) (0.10.1)\n",
            "Requirement already satisfied: scipy in /usr/local/lib/python3.6/dist-packages (from catboost>=0.23.2->pycaret) (1.4.1)\n",
            "Requirement already satisfied: six in /usr/local/lib/python3.6/dist-packages (from catboost>=0.23.2->pycaret) (1.15.0)\n",
            "Requirement already satisfied: setuptools in /usr/local/lib/python3.6/dist-packages (from mlxtend->pycaret) (50.3.2)\n",
            "Requirement already satisfied: numba!=0.47,>=0.46 in /usr/local/lib/python3.6/dist-packages (from umap-learn->pycaret) (0.48.0)\n",
            "Collecting combo\n",
            "  Downloading https://files.pythonhosted.org/packages/0a/2a/61b6ac584e75d8df16dc27962aa5fe99d76b09da5b6710e83d4862c84001/combo-0.1.1.tar.gz\n",
            "Requirement already satisfied: statsmodels in /usr/local/lib/python3.6/dist-packages (from pyod->pycaret) (0.10.2)\n",
            "Collecting suod\n",
            "\u001b[?25l  Downloading https://files.pythonhosted.org/packages/a1/87/9170cabe1b5e10a7d095c0e28f2e30e7c1886a13f063de85d3cfacc06f4b/suod-0.0.4.tar.gz (2.1MB)\n",
            "\u001b[K     |████████████████████████████████| 2.1MB 47.0MB/s \n",
            "\u001b[?25hRequirement already satisfied: preshed<3.1.0,>=3.0.2 in /usr/local/lib/python3.6/dist-packages (from spacy->pycaret) (3.0.4)\n",
            "Requirement already satisfied: tqdm<5.0.0,>=4.38.0 in /usr/local/lib/python3.6/dist-packages (from spacy->pycaret) (4.41.1)\n",
            "Requirement already satisfied: thinc==7.4.0 in /usr/local/lib/python3.6/dist-packages (from spacy->pycaret) (7.4.0)\n",
            "Requirement already satisfied: srsly<1.1.0,>=1.0.2 in /usr/local/lib/python3.6/dist-packages (from spacy->pycaret) (1.0.4)\n",
            "Requirement already satisfied: catalogue<1.1.0,>=0.0.7 in /usr/local/lib/python3.6/dist-packages (from spacy->pycaret) (1.0.0)\n",
            "Requirement already satisfied: murmurhash<1.1.0,>=0.28.0 in /usr/local/lib/python3.6/dist-packages (from spacy->pycaret) (1.0.4)\n",
            "Requirement already satisfied: requests<3.0.0,>=2.13.0 in /usr/local/lib/python3.6/dist-packages (from spacy->pycaret) (2.23.0)\n",
            "Requirement already satisfied: cymem<2.1.0,>=2.0.2 in /usr/local/lib/python3.6/dist-packages (from spacy->pycaret) (2.0.4)\n",
            "Requirement already satisfied: blis<0.5.0,>=0.4.0 in /usr/local/lib/python3.6/dist-packages (from spacy->pycaret) (0.4.1)\n",
            "Requirement already satisfied: plac<1.2.0,>=0.9.6 in /usr/local/lib/python3.6/dist-packages (from spacy->pycaret) (1.1.3)\n",
            "Requirement already satisfied: wasabi<1.1.0,>=0.4.0 in /usr/local/lib/python3.6/dist-packages (from spacy->pycaret) (0.8.0)\n",
            "Collecting threadpoolctl>=2.0.0\n",
            "  Downloading https://files.pythonhosted.org/packages/f7/12/ec3f2e203afa394a149911729357aa48affc59c20e2c1c8297a60f33f133/threadpoolctl-2.1.0-py3-none-any.whl\n",
            "Requirement already satisfied: retrying>=1.3.3 in /usr/local/lib/python3.6/dist-packages (from plotly>=4.4.1->pycaret) (1.3.3)\n",
            "Requirement already satisfied: sqlparse>=0.3.1 in /usr/local/lib/python3.6/dist-packages (from mlflow->pycaret) (0.4.1)\n",
            "Requirement already satisfied: entrypoints in /usr/local/lib/python3.6/dist-packages (from mlflow->pycaret) (0.3)\n",
            "Collecting gunicorn; platform_system != \"Windows\"\n",
            "\u001b[?25l  Downloading https://files.pythonhosted.org/packages/69/ca/926f7cd3a2014b16870086b2d0fdc84a9e49473c68a8dff8b57f7c156f43/gunicorn-20.0.4-py2.py3-none-any.whl (77kB)\n",
            "\u001b[K     |████████████████████████████████| 81kB 8.9MB/s \n",
            "\u001b[?25hCollecting docker>=4.0.0\n",
            "\u001b[?25l  Downloading https://files.pythonhosted.org/packages/ef/b7/eb7b7138bb5e6d28cf84fa586fe594619ca097b6207caa5f2ebe0c66a4ed/docker-4.4.0-py2.py3-none-any.whl (146kB)\n",
            "\u001b[K     |████████████████████████████████| 153kB 48.5MB/s \n",
            "\u001b[?25hCollecting gitpython>=2.1.0\n",
            "\u001b[?25l  Downloading https://files.pythonhosted.org/packages/24/d1/a7f8fe3df258549b303415157328bfcc63e9b11d06a7ad7a3327f3d32606/GitPython-3.1.11-py3-none-any.whl (159kB)\n",
            "\u001b[K     |████████████████████████████████| 163kB 50.9MB/s \n",
            "\u001b[?25hRequirement already satisfied: cloudpickle in /usr/local/lib/python3.6/dist-packages (from mlflow->pycaret) (1.3.0)\n",
            "Collecting prometheus-flask-exporter\n",
            "  Downloading https://files.pythonhosted.org/packages/4c/d5/8a046d683c2cc084b6a502812827ede69b1064f95d93f94b83f809b21723/prometheus_flask_exporter-0.18.1.tar.gz\n",
            "Requirement already satisfied: pyyaml in /usr/local/lib/python3.6/dist-packages (from mlflow->pycaret) (3.13)\n",
            "Collecting alembic<=1.4.1\n",
            "\u001b[?25l  Downloading https://files.pythonhosted.org/packages/e0/e9/359dbb77c35c419df0aedeb1d53e71e7e3f438ff64a8fdb048c907404de3/alembic-1.4.1.tar.gz (1.1MB)\n",
            "\u001b[K     |████████████████████████████████| 1.1MB 43.8MB/s \n",
            "\u001b[?25hCollecting databricks-cli>=0.8.7\n",
            "\u001b[?25l  Downloading https://files.pythonhosted.org/packages/40/88/ae1f78cf582b707c605c77df49b4c8786a4465edc51adb25d2f98ef4c4de/databricks-cli-0.14.1.tar.gz (54kB)\n",
            "\u001b[K     |████████████████████████████████| 61kB 6.1MB/s \n",
            "\u001b[?25hCollecting querystring-parser\n",
            "  Downloading https://files.pythonhosted.org/packages/88/6b/572b2590fd55114118bf08bde63c0a421dcc82d593700f3e2ad89908a8a9/querystring_parser-1.2.4-py2.py3-none-any.whl\n",
            "Requirement already satisfied: sqlalchemy in /usr/local/lib/python3.6/dist-packages (from mlflow->pycaret) (1.3.20)\n",
            "Requirement already satisfied: Flask in /usr/local/lib/python3.6/dist-packages (from mlflow->pycaret) (1.1.2)\n",
            "Collecting azure-storage-blob\n",
            "\u001b[?25l  Downloading https://files.pythonhosted.org/packages/e7/5d/0bb4ed37da2523c393789b1d8ecbf56b1d35fa344af30fe423da2c06cbe9/azure_storage_blob-12.6.0-py2.py3-none-any.whl (328kB)\n",
            "\u001b[K     |████████████████████████████████| 337kB 49.5MB/s \n",
            "\u001b[?25hRequirement already satisfied: python-dateutil in /usr/local/lib/python3.6/dist-packages (from mlflow->pycaret) (2.8.1)\n",
            "Requirement already satisfied: protobuf>=3.6.0 in /usr/local/lib/python3.6/dist-packages (from mlflow->pycaret) (3.12.4)\n",
            "Requirement already satisfied: click>=7.0 in /usr/local/lib/python3.6/dist-packages (from mlflow->pycaret) (7.1.2)\n",
            "Requirement already satisfied: colorlover>=0.2.1 in /usr/local/lib/python3.6/dist-packages (from cufflinks>=0.17.0->pycaret) (0.3.0)\n",
            "Requirement already satisfied: pyparsing!=2.0.4,!=2.1.2,!=2.1.6,>=2.0.1 in /usr/local/lib/python3.6/dist-packages (from matplotlib->pycaret) (2.4.7)\n",
            "Requirement already satisfied: cycler>=0.10 in /usr/local/lib/python3.6/dist-packages (from matplotlib->pycaret) (0.10.0)\n",
            "Requirement already satisfied: kiwisolver>=1.0.1 in /usr/local/lib/python3.6/dist-packages (from matplotlib->pycaret) (1.3.1)\n",
            "Requirement already satisfied: wheel>=0.23.0 in /usr/local/lib/python3.6/dist-packages (from pyLDAvis->pycaret) (0.35.1)\n",
            "Requirement already satisfied: jinja2>=2.7.2 in /usr/local/lib/python3.6/dist-packages (from pyLDAvis->pycaret) (2.11.2)\n",
            "Requirement already satisfied: numexpr in /usr/local/lib/python3.6/dist-packages (from pyLDAvis->pycaret) (2.7.1)\n",
            "Requirement already satisfied: pytest in /usr/local/lib/python3.6/dist-packages (from pyLDAvis->pycaret) (3.6.4)\n",
            "Requirement already satisfied: future in /usr/local/lib/python3.6/dist-packages (from pyLDAvis->pycaret) (0.16.0)\n",
            "Collecting funcy\n",
            "  Downloading https://files.pythonhosted.org/packages/66/89/479de0afbbfb98d1c4b887936808764627300208bb771fcd823403645a36/funcy-1.15-py2.py3-none-any.whl\n",
            "Requirement already satisfied: traitlets>=4.3.1 in /usr/local/lib/python3.6/dist-packages (from ipywidgets->pycaret) (4.3.3)\n",
            "Requirement already satisfied: ipykernel>=4.5.1 in /usr/local/lib/python3.6/dist-packages (from ipywidgets->pycaret) (4.10.1)\n",
            "Requirement already satisfied: nbformat>=4.2.0 in /usr/local/lib/python3.6/dist-packages (from ipywidgets->pycaret) (5.0.8)\n",
            "Requirement already satisfied: widgetsnbextension~=3.5.0 in /usr/local/lib/python3.6/dist-packages (from ipywidgets->pycaret) (3.5.1)\n",
            "Collecting phik>=0.9.10\n",
            "\u001b[?25l  Downloading https://files.pythonhosted.org/packages/01/5a/7ef1c04ce62cd72f900c06298dc2385840550d5c653a0dbc19109a5477e6/phik-0.10.0-py3-none-any.whl (599kB)\n",
            "\u001b[K     |████████████████████████████████| 604kB 50.1MB/s \n",
            "\u001b[?25hCollecting confuse>=1.0.0\n",
            "  Downloading https://files.pythonhosted.org/packages/6d/55/b4726d81e5d6509fa3441f770f8a9524612627dc1b2a7d6209d1d20083fe/confuse-1.4.0-py2.py3-none-any.whl\n",
            "Collecting htmlmin>=0.1.12\n",
            "  Downloading https://files.pythonhosted.org/packages/b3/e7/fcd59e12169de19f0131ff2812077f964c6b960e7c09804d30a7bf2ab461/htmlmin-0.1.12.tar.gz\n",
            "Requirement already satisfied: attrs>=19.3.0 in /usr/local/lib/python3.6/dist-packages (from pandas-profiling>=2.8.0->pycaret) (20.3.0)\n",
            "Collecting tangled-up-in-unicode>=0.0.6\n",
            "\u001b[?25l  Downloading https://files.pythonhosted.org/packages/4a/e2/e588ab9298d4989ce7fdb2b97d18aac878d99dbdc379a4476a09d9271b68/tangled_up_in_unicode-0.0.6-py3-none-any.whl (3.1MB)\n",
            "\u001b[K     |████████████████████████████████| 3.1MB 47.1MB/s \n",
            "\u001b[?25hCollecting visions[type_image_path]==0.5.0\n",
            "\u001b[?25l  Downloading https://files.pythonhosted.org/packages/26/e3/9416e94e767d59a86edcbcb8e1c8f42874d272c3b343676074879e9db0e0/visions-0.5.0-py3-none-any.whl (64kB)\n",
            "\u001b[K     |████████████████████████████████| 71kB 7.2MB/s \n",
            "\u001b[?25hRequirement already satisfied: missingno>=0.4.2 in /usr/local/lib/python3.6/dist-packages (from pandas-profiling>=2.8.0->pycaret) (0.4.2)\n",
            "Requirement already satisfied: pillow in /usr/local/lib/python3.6/dist-packages (from wordcloud->pycaret) (7.0.0)\n",
            "Requirement already satisfied: smart-open>=1.2.1 in /usr/local/lib/python3.6/dist-packages (from gensim->pycaret) (3.0.0)\n",
            "Requirement already satisfied: pytz>=2017.2 in /usr/local/lib/python3.6/dist-packages (from pandas->pycaret) (2018.9)\n",
            "Requirement already satisfied: prompt-toolkit<2.0.0,>=1.0.4 in /usr/local/lib/python3.6/dist-packages (from IPython->pycaret) (1.0.18)\n",
            "Requirement already satisfied: simplegeneric>0.8 in /usr/local/lib/python3.6/dist-packages (from IPython->pycaret) (0.8.1)\n",
            "Requirement already satisfied: pickleshare in /usr/local/lib/python3.6/dist-packages (from IPython->pycaret) (0.7.5)\n",
            "Requirement already satisfied: decorator in /usr/local/lib/python3.6/dist-packages (from IPython->pycaret) (4.4.2)\n",
            "Requirement already satisfied: pygments in /usr/local/lib/python3.6/dist-packages (from IPython->pycaret) (2.6.1)\n",
            "Requirement already satisfied: pexpect; sys_platform != \"win32\" in /usr/local/lib/python3.6/dist-packages (from IPython->pycaret) (4.8.0)\n",
            "Requirement already satisfied: llvmlite<0.32.0,>=0.31.0dev0 in /usr/local/lib/python3.6/dist-packages (from numba!=0.47,>=0.46->umap-learn->pycaret) (0.31.0)\n",
            "Requirement already satisfied: patsy>=0.4.0 in /usr/local/lib/python3.6/dist-packages (from statsmodels->pyod->pycaret) (0.5.1)\n",
            "Requirement already satisfied: importlib-metadata>=0.20; python_version < \"3.8\" in /usr/local/lib/python3.6/dist-packages (from catalogue<1.1.0,>=0.0.7->spacy->pycaret) (2.0.0)\n",
            "Requirement already satisfied: urllib3!=1.25.0,!=1.25.1,<1.26,>=1.21.1 in /usr/local/lib/python3.6/dist-packages (from requests<3.0.0,>=2.13.0->spacy->pycaret) (1.24.3)\n",
            "Requirement already satisfied: certifi>=2017.4.17 in /usr/local/lib/python3.6/dist-packages (from requests<3.0.0,>=2.13.0->spacy->pycaret) (2020.11.8)\n",
            "Requirement already satisfied: idna<3,>=2.5 in /usr/local/lib/python3.6/dist-packages (from requests<3.0.0,>=2.13.0->spacy->pycaret) (2.10)\n",
            "Requirement already satisfied: chardet<4,>=3.0.2 in /usr/local/lib/python3.6/dist-packages (from requests<3.0.0,>=2.13.0->spacy->pycaret) (3.0.4)\n",
            "Collecting websocket-client>=0.32.0\n",
            "\u001b[?25l  Downloading https://files.pythonhosted.org/packages/4c/5f/f61b420143ed1c8dc69f9eaec5ff1ac36109d52c80de49d66e0c36c3dfdf/websocket_client-0.57.0-py2.py3-none-any.whl (200kB)\n",
            "\u001b[K     |████████████████████████████████| 204kB 58.1MB/s \n",
            "\u001b[?25hCollecting gitdb<5,>=4.0.1\n",
            "\u001b[?25l  Downloading https://files.pythonhosted.org/packages/48/11/d1800bca0a3bae820b84b7d813ad1eff15a48a64caea9c823fc8c1b119e8/gitdb-4.0.5-py3-none-any.whl (63kB)\n",
            "\u001b[K     |████████████████████████████████| 71kB 7.2MB/s \n",
            "\u001b[?25hRequirement already satisfied: prometheus_client in /usr/local/lib/python3.6/dist-packages (from prometheus-flask-exporter->mlflow->pycaret) (0.9.0)\n",
            "Collecting Mako\n",
            "\u001b[?25l  Downloading https://files.pythonhosted.org/packages/a6/37/0e706200d22172eb8fa17d68a7ae22dec7631a0a92266634fb518a88a5b2/Mako-1.1.3-py2.py3-none-any.whl (75kB)\n",
            "\u001b[K     |████████████████████████████████| 81kB 7.3MB/s \n",
            "\u001b[?25hCollecting python-editor>=0.3\n",
            "  Downloading https://files.pythonhosted.org/packages/c6/d3/201fc3abe391bbae6606e6f1d598c15d367033332bd54352b12f35513717/python_editor-1.0.4-py3-none-any.whl\n",
            "Requirement already satisfied: tabulate>=0.7.7 in /usr/local/lib/python3.6/dist-packages (from databricks-cli>=0.8.7->mlflow->pycaret) (0.8.7)\n",
            "Requirement already satisfied: Werkzeug>=0.15 in /usr/local/lib/python3.6/dist-packages (from Flask->mlflow->pycaret) (1.0.1)\n",
            "Requirement already satisfied: itsdangerous>=0.24 in /usr/local/lib/python3.6/dist-packages (from Flask->mlflow->pycaret) (1.1.0)\n",
            "Collecting azure-core<2.0.0,>=1.9.0\n",
            "\u001b[?25l  Downloading https://files.pythonhosted.org/packages/f8/4b/ea7faaafac956a168ab9a95a7ebe583f9d308e8332a68af0ed3128ef520c/azure_core-1.9.0-py2.py3-none-any.whl (124kB)\n",
            "\u001b[K     |████████████████████████████████| 133kB 55.4MB/s \n",
            "\u001b[?25hCollecting cryptography>=2.1.4\n",
            "\u001b[?25l  Downloading https://files.pythonhosted.org/packages/4c/a2/6565c5271a79e3c96d7a079053b4d8408a740d4bf365f0f5f244a807bd09/cryptography-3.2.1-cp35-abi3-manylinux2010_x86_64.whl (2.6MB)\n",
            "\u001b[K     |████████████████████████████████| 2.6MB 51.5MB/s \n",
            "\u001b[?25hCollecting msrest>=0.6.10\n",
            "\u001b[?25l  Downloading https://files.pythonhosted.org/packages/fa/f5/9e315fe8cb985b0ce052b34bcb767883dc739f46fadb62f05a7e6d6eedbe/msrest-0.6.19-py2.py3-none-any.whl (84kB)\n",
            "\u001b[K     |████████████████████████████████| 92kB 8.7MB/s \n",
            "\u001b[?25hRequirement already satisfied: MarkupSafe>=0.23 in /usr/local/lib/python3.6/dist-packages (from jinja2>=2.7.2->pyLDAvis->pycaret) (1.1.1)\n",
            "Requirement already satisfied: pluggy<0.8,>=0.5 in /usr/local/lib/python3.6/dist-packages (from pytest->pyLDAvis->pycaret) (0.7.1)\n",
            "Requirement already satisfied: py>=1.5.0 in /usr/local/lib/python3.6/dist-packages (from pytest->pyLDAvis->pycaret) (1.9.0)\n",
            "Requirement already satisfied: atomicwrites>=1.0 in /usr/local/lib/python3.6/dist-packages (from pytest->pyLDAvis->pycaret) (1.4.0)\n",
            "Requirement already satisfied: more-itertools>=4.0.0 in /usr/local/lib/python3.6/dist-packages (from pytest->pyLDAvis->pycaret) (8.6.0)\n",
            "Requirement already satisfied: ipython-genutils in /usr/local/lib/python3.6/dist-packages (from traitlets>=4.3.1->ipywidgets->pycaret) (0.2.0)\n",
            "Requirement already satisfied: tornado>=4.0 in /usr/local/lib/python3.6/dist-packages (from ipykernel>=4.5.1->ipywidgets->pycaret) (5.1.1)\n",
            "Requirement already satisfied: jupyter-client in /usr/local/lib/python3.6/dist-packages (from ipykernel>=4.5.1->ipywidgets->pycaret) (5.3.5)\n",
            "Requirement already satisfied: jsonschema!=2.5.0,>=2.4 in /usr/local/lib/python3.6/dist-packages (from nbformat>=4.2.0->ipywidgets->pycaret) (2.6.0)\n",
            "Requirement already satisfied: jupyter-core in /usr/local/lib/python3.6/dist-packages (from nbformat>=4.2.0->ipywidgets->pycaret) (4.7.0)\n",
            "Requirement already satisfied: notebook>=4.4.1 in /usr/local/lib/python3.6/dist-packages (from widgetsnbextension~=3.5.0->ipywidgets->pycaret) (5.3.1)\n",
            "Requirement already satisfied: networkx>=2.4 in /usr/local/lib/python3.6/dist-packages (from visions[type_image_path]==0.5.0->pandas-profiling>=2.8.0->pycaret) (2.5)\n",
            "Collecting imagehash; extra == \"type_image_path\"\n",
            "\u001b[?25l  Downloading https://files.pythonhosted.org/packages/8e/18/9dbb772b5ef73a3069c66bb5bf29b9fb4dd57af0d5790c781c3f559bcca6/ImageHash-4.2.0-py2.py3-none-any.whl (295kB)\n",
            "\u001b[K     |████████████████████████████████| 296kB 55.5MB/s \n",
            "\u001b[?25hRequirement already satisfied: wcwidth in /usr/local/lib/python3.6/dist-packages (from prompt-toolkit<2.0.0,>=1.0.4->IPython->pycaret) (0.2.5)\n",
            "Requirement already satisfied: ptyprocess>=0.5 in /usr/local/lib/python3.6/dist-packages (from pexpect; sys_platform != \"win32\"->IPython->pycaret) (0.6.0)\n",
            "Requirement already satisfied: zipp>=0.5 in /usr/local/lib/python3.6/dist-packages (from importlib-metadata>=0.20; python_version < \"3.8\"->catalogue<1.1.0,>=0.0.7->spacy->pycaret) (3.4.0)\n",
            "Collecting smmap<4,>=3.0.1\n",
            "  Downloading https://files.pythonhosted.org/packages/b0/9a/4d409a6234eb940e6a78dfdfc66156e7522262f5f2fecca07dc55915952d/smmap-3.0.4-py2.py3-none-any.whl\n",
            "Requirement already satisfied: cffi!=1.11.3,>=1.8 in /usr/local/lib/python3.6/dist-packages (from cryptography>=2.1.4->azure-storage-blob->mlflow->pycaret) (1.14.3)\n",
            "Collecting isodate>=0.6.0\n",
            "\u001b[?25l  Downloading https://files.pythonhosted.org/packages/9b/9f/b36f7774ff5ea8e428fdcfc4bb332c39ee5b9362ddd3d40d9516a55221b2/isodate-0.6.0-py2.py3-none-any.whl (45kB)\n",
            "\u001b[K     |████████████████████████████████| 51kB 5.7MB/s \n",
            "\u001b[?25hRequirement already satisfied: requests-oauthlib>=0.5.0 in /usr/local/lib/python3.6/dist-packages (from msrest>=0.6.10->azure-storage-blob->mlflow->pycaret) (1.3.0)\n",
            "Requirement already satisfied: pyzmq>=13 in /usr/local/lib/python3.6/dist-packages (from jupyter-client->ipykernel>=4.5.1->ipywidgets->pycaret) (20.0.0)\n",
            "Requirement already satisfied: terminado>=0.8.1 in /usr/local/lib/python3.6/dist-packages (from notebook>=4.4.1->widgetsnbextension~=3.5.0->ipywidgets->pycaret) (0.9.1)\n",
            "Requirement already satisfied: Send2Trash in /usr/local/lib/python3.6/dist-packages (from notebook>=4.4.1->widgetsnbextension~=3.5.0->ipywidgets->pycaret) (1.5.0)\n",
            "Requirement already satisfied: nbconvert in /usr/local/lib/python3.6/dist-packages (from notebook>=4.4.1->widgetsnbextension~=3.5.0->ipywidgets->pycaret) (5.6.1)\n",
            "Requirement already satisfied: PyWavelets in /usr/local/lib/python3.6/dist-packages (from imagehash; extra == \"type_image_path\"->visions[type_image_path]==0.5.0->pandas-profiling>=2.8.0->pycaret) (1.1.1)\n",
            "Requirement already satisfied: pycparser in /usr/local/lib/python3.6/dist-packages (from cffi!=1.11.3,>=1.8->cryptography>=2.1.4->azure-storage-blob->mlflow->pycaret) (2.20)\n",
            "Requirement already satisfied: oauthlib>=3.0.0 in /usr/local/lib/python3.6/dist-packages (from requests-oauthlib>=0.5.0->msrest>=0.6.10->azure-storage-blob->mlflow->pycaret) (3.1.0)\n",
            "Requirement already satisfied: mistune<2,>=0.8.1 in /usr/local/lib/python3.6/dist-packages (from nbconvert->notebook>=4.4.1->widgetsnbextension~=3.5.0->ipywidgets->pycaret) (0.8.4)\n",
            "Requirement already satisfied: defusedxml in /usr/local/lib/python3.6/dist-packages (from nbconvert->notebook>=4.4.1->widgetsnbextension~=3.5.0->ipywidgets->pycaret) (0.6.0)\n",
            "Requirement already satisfied: testpath in /usr/local/lib/python3.6/dist-packages (from nbconvert->notebook>=4.4.1->widgetsnbextension~=3.5.0->ipywidgets->pycaret) (0.4.4)\n",
            "Requirement already satisfied: pandocfilters>=1.4.1 in /usr/local/lib/python3.6/dist-packages (from nbconvert->notebook>=4.4.1->widgetsnbextension~=3.5.0->ipywidgets->pycaret) (1.4.3)\n",
            "Requirement already satisfied: bleach in /usr/local/lib/python3.6/dist-packages (from nbconvert->notebook>=4.4.1->widgetsnbextension~=3.5.0->ipywidgets->pycaret) (3.2.1)\n",
            "Requirement already satisfied: packaging in /usr/local/lib/python3.6/dist-packages (from bleach->nbconvert->notebook>=4.4.1->widgetsnbextension~=3.5.0->ipywidgets->pycaret) (20.4)\n",
            "Requirement already satisfied: webencodings in /usr/local/lib/python3.6/dist-packages (from bleach->nbconvert->notebook>=4.4.1->widgetsnbextension~=3.5.0->ipywidgets->pycaret) (0.5.1)\n",
            "Building wheels for collected packages: pyod, pyLDAvis, combo, suod, prometheus-flask-exporter, alembic, databricks-cli, htmlmin\n",
            "  Building wheel for pyod (setup.py) ... \u001b[?25l\u001b[?25hdone\n",
            "  Created wheel for pyod: filename=pyod-0.8.4-cp36-none-any.whl size=112083 sha256=ef630fbf86793ef2805f1db1956e7ca4c28bc3f1153e82c37cd1c08b4fc5b64b\n",
            "  Stored in directory: /root/.cache/pip/wheels/ad/31/0a/c2d4ba2d066145c55f0cb2846e59b18d874cb59c5d9adc81cf\n",
            "  Building wheel for pyLDAvis (setup.py) ... \u001b[?25l\u001b[?25hdone\n",
            "  Created wheel for pyLDAvis: filename=pyLDAvis-2.1.2-py2.py3-none-any.whl size=97712 sha256=a2861b91038fc18e5e926692595e4df235bd77b0164bb4029df2cd78825ef097\n",
            "  Stored in directory: /root/.cache/pip/wheels/98/71/24/513a99e58bb6b8465bae4d2d5e9dba8f0bef8179e3051ac414\n",
            "  Building wheel for combo (setup.py) ... \u001b[?25l\u001b[?25hdone\n",
            "  Created wheel for combo: filename=combo-0.1.1-cp36-none-any.whl size=42113 sha256=ff5ecfe74b2d18dc16eca0f42f01a5789c5b1292135b80fc8a5f8cfe4c8e3cba\n",
            "  Stored in directory: /root/.cache/pip/wheels/55/ec/e5/a2331372c676c467e70c6646e646edf6997d5c4905b8c0f5e6\n",
            "  Building wheel for suod (setup.py) ... \u001b[?25l\u001b[?25hdone\n",
            "  Created wheel for suod: filename=suod-0.0.4-cp36-none-any.whl size=2167158 sha256=564aff6bd3bb5aaf2e0c590b410940f4f5787abd0589abf55644e4ce2a458af7\n",
            "  Stored in directory: /root/.cache/pip/wheels/57/55/e5/a4fca65bba231f6d0115059b589148774b41faea25b3f2aa27\n",
            "  Building wheel for prometheus-flask-exporter (setup.py) ... \u001b[?25l\u001b[?25hdone\n",
            "  Created wheel for prometheus-flask-exporter: filename=prometheus_flask_exporter-0.18.1-cp36-none-any.whl size=17157 sha256=919a1a77887ab826c2e6357b868cdf526681632823e495dba963c6b035d04ba8\n",
            "  Stored in directory: /root/.cache/pip/wheels/b4/1f/b8/66bd9bc3a9d6c6987ff6c4dfeb6f1fe97b5a0e5ed5849c0437\n",
            "  Building wheel for alembic (setup.py) ... \u001b[?25l\u001b[?25hdone\n",
            "  Created wheel for alembic: filename=alembic-1.4.1-py2.py3-none-any.whl size=158155 sha256=60c0e6d7583a78f386e1b34e6ae4f9707b9d60024f819b16077e814fceb5e4a8\n",
            "  Stored in directory: /root/.cache/pip/wheels/84/07/f7/12f7370ca47a66030c2edeedcc23dec26ea0ac22dcb4c4a0f3\n",
            "  Building wheel for databricks-cli (setup.py) ... \u001b[?25l\u001b[?25hdone\n",
            "  Created wheel for databricks-cli: filename=databricks_cli-0.14.1-cp36-none-any.whl size=100579 sha256=39c06a469cd7130960c957b6fa87d42686e15cce9b3df05eb6b27af315e03d03\n",
            "  Stored in directory: /root/.cache/pip/wheels/82/91/ac/5d417ee5ccbb76c8cca096cf4cfb9ed9d49d889d1d1ca0fc39\n",
            "  Building wheel for htmlmin (setup.py) ... \u001b[?25l\u001b[?25hdone\n",
            "  Created wheel for htmlmin: filename=htmlmin-0.1.12-cp36-none-any.whl size=27085 sha256=df8a2f8ff3a74951349e40b1c54dfaf117d185d5cb6b4d0dbbc5f880c2cb8fac\n",
            "  Stored in directory: /root/.cache/pip/wheels/43/07/ac/7c5a9d708d65247ac1f94066cf1db075540b85716c30255459\n",
            "Successfully built pyod pyLDAvis combo suod prometheus-flask-exporter alembic databricks-cli htmlmin\n",
            "\u001b[31mERROR: pandas-profiling 2.9.0 has requirement tqdm>=4.43.0, but you'll have tqdm 4.41.1 which is incompatible.\u001b[0m\n",
            "Installing collected packages: catboost, threadpoolctl, scikit-learn, lightgbm, combo, suod, pyod, scikit-plot, gunicorn, websocket-client, docker, smmap, gitdb, gitpython, prometheus-flask-exporter, Mako, python-editor, alembic, databricks-cli, querystring-parser, azure-core, cryptography, isodate, msrest, azure-storage-blob, mlflow, kmodes, funcy, pyLDAvis, xgboost, yellowbrick, phik, confuse, htmlmin, tangled-up-in-unicode, imagehash, visions, pandas-profiling, imbalanced-learn, pycaret\n",
            "  Found existing installation: scikit-learn 0.22.2.post1\n",
            "    Uninstalling scikit-learn-0.22.2.post1:\n",
            "      Successfully uninstalled scikit-learn-0.22.2.post1\n",
            "  Found existing installation: lightgbm 2.2.3\n",
            "    Uninstalling lightgbm-2.2.3:\n",
            "      Successfully uninstalled lightgbm-2.2.3\n",
            "  Found existing installation: xgboost 0.90\n",
            "    Uninstalling xgboost-0.90:\n",
            "      Successfully uninstalled xgboost-0.90\n",
            "  Found existing installation: yellowbrick 0.9.1\n",
            "    Uninstalling yellowbrick-0.9.1:\n",
            "      Successfully uninstalled yellowbrick-0.9.1\n",
            "  Found existing installation: pandas-profiling 1.4.1\n",
            "    Uninstalling pandas-profiling-1.4.1:\n",
            "      Successfully uninstalled pandas-profiling-1.4.1\n",
            "  Found existing installation: imbalanced-learn 0.4.3\n",
            "    Uninstalling imbalanced-learn-0.4.3:\n",
            "      Successfully uninstalled imbalanced-learn-0.4.3\n",
            "Successfully installed Mako-1.1.3 alembic-1.4.1 azure-core-1.9.0 azure-storage-blob-12.6.0 catboost-0.24.3 combo-0.1.1 confuse-1.4.0 cryptography-3.2.1 databricks-cli-0.14.1 docker-4.4.0 funcy-1.15 gitdb-4.0.5 gitpython-3.1.11 gunicorn-20.0.4 htmlmin-0.1.12 imagehash-4.2.0 imbalanced-learn-0.7.0 isodate-0.6.0 kmodes-0.10.2 lightgbm-3.1.0 mlflow-1.12.1 msrest-0.6.19 pandas-profiling-2.9.0 phik-0.10.0 prometheus-flask-exporter-0.18.1 pyLDAvis-2.1.2 pycaret-2.2.1 pyod-0.8.4 python-editor-1.0.4 querystring-parser-1.2.4 scikit-learn-0.23.2 scikit-plot-0.3.7 smmap-3.0.4 suod-0.0.4 tangled-up-in-unicode-0.0.6 threadpoolctl-2.1.0 visions-0.5.0 websocket-client-0.57.0 xgboost-1.2.1 yellowbrick-1.2\n"
          ],
          "name": "stdout"
        }
      ]
    },
    {
      "cell_type": "code",
      "metadata": {
        "colab": {
          "base_uri": "https://localhost:8080/"
        },
        "id": "ulN6KSAOi30Z",
        "outputId": "3eea7347-29ea-4968-caf3-ff43dc17e5da"
      },
      "source": [
        "!pip install shap"
      ],
      "execution_count": null,
      "outputs": [
        {
          "output_type": "stream",
          "text": [
            "Collecting shap\n",
            "\u001b[?25l  Downloading https://files.pythonhosted.org/packages/85/a3/c0eab9dd6a894165e2cb87504ff5b2710ac5ede3447d9138620b7341b6a2/shap-0.37.0.tar.gz (326kB)\n",
            "\r\u001b[K     |█                               | 10kB 15.2MB/s eta 0:00:01\r\u001b[K     |██                              | 20kB 21.9MB/s eta 0:00:01\r\u001b[K     |███                             | 30kB 25.9MB/s eta 0:00:01\r\u001b[K     |████                            | 40kB 16.0MB/s eta 0:00:01\r\u001b[K     |█████                           | 51kB 17.6MB/s eta 0:00:01\r\u001b[K     |██████                          | 61kB 19.8MB/s eta 0:00:01\r\u001b[K     |███████                         | 71kB 13.8MB/s eta 0:00:01\r\u001b[K     |████████                        | 81kB 14.4MB/s eta 0:00:01\r\u001b[K     |█████████                       | 92kB 12.5MB/s eta 0:00:01\r\u001b[K     |██████████                      | 102kB 11.6MB/s eta 0:00:01\r\u001b[K     |███████████                     | 112kB 11.6MB/s eta 0:00:01\r\u001b[K     |████████████                    | 122kB 11.6MB/s eta 0:00:01\r\u001b[K     |█████████████                   | 133kB 11.6MB/s eta 0:00:01\r\u001b[K     |██████████████                  | 143kB 11.6MB/s eta 0:00:01\r\u001b[K     |███████████████                 | 153kB 11.6MB/s eta 0:00:01\r\u001b[K     |████████████████                | 163kB 11.6MB/s eta 0:00:01\r\u001b[K     |█████████████████               | 174kB 11.6MB/s eta 0:00:01\r\u001b[K     |██████████████████              | 184kB 11.6MB/s eta 0:00:01\r\u001b[K     |███████████████████             | 194kB 11.6MB/s eta 0:00:01\r\u001b[K     |████████████████████            | 204kB 11.6MB/s eta 0:00:01\r\u001b[K     |█████████████████████           | 215kB 11.6MB/s eta 0:00:01\r\u001b[K     |██████████████████████          | 225kB 11.6MB/s eta 0:00:01\r\u001b[K     |███████████████████████         | 235kB 11.6MB/s eta 0:00:01\r\u001b[K     |████████████████████████        | 245kB 11.6MB/s eta 0:00:01\r\u001b[K     |█████████████████████████       | 256kB 11.6MB/s eta 0:00:01\r\u001b[K     |██████████████████████████      | 266kB 11.6MB/s eta 0:00:01\r\u001b[K     |███████████████████████████     | 276kB 11.6MB/s eta 0:00:01\r\u001b[K     |████████████████████████████    | 286kB 11.6MB/s eta 0:00:01\r\u001b[K     |█████████████████████████████   | 296kB 11.6MB/s eta 0:00:01\r\u001b[K     |██████████████████████████████  | 307kB 11.6MB/s eta 0:00:01\r\u001b[K     |███████████████████████████████ | 317kB 11.6MB/s eta 0:00:01\r\u001b[K     |████████████████████████████████| 327kB 11.6MB/s \n",
            "\u001b[?25hRequirement already satisfied: numpy in /usr/local/lib/python3.6/dist-packages (from shap) (1.18.5)\n",
            "Requirement already satisfied: scipy in /usr/local/lib/python3.6/dist-packages (from shap) (1.4.1)\n",
            "Requirement already satisfied: scikit-learn in /usr/local/lib/python3.6/dist-packages (from shap) (0.23.2)\n",
            "Requirement already satisfied: pandas in /usr/local/lib/python3.6/dist-packages (from shap) (1.1.4)\n",
            "Requirement already satisfied: tqdm>4.25.0 in /usr/local/lib/python3.6/dist-packages (from shap) (4.41.1)\n",
            "Collecting slicer==0.0.3\n",
            "  Downloading https://files.pythonhosted.org/packages/02/a6/c708c5a0f338e99cfbcb6288b88794525548e4fc1b8457feec2c552a81a4/slicer-0.0.3-py3-none-any.whl\n",
            "Requirement already satisfied: numba in /usr/local/lib/python3.6/dist-packages (from shap) (0.48.0)\n",
            "Requirement already satisfied: threadpoolctl>=2.0.0 in /usr/local/lib/python3.6/dist-packages (from scikit-learn->shap) (2.1.0)\n",
            "Requirement already satisfied: joblib>=0.11 in /usr/local/lib/python3.6/dist-packages (from scikit-learn->shap) (0.17.0)\n",
            "Requirement already satisfied: pytz>=2017.2 in /usr/local/lib/python3.6/dist-packages (from pandas->shap) (2018.9)\n",
            "Requirement already satisfied: python-dateutil>=2.7.3 in /usr/local/lib/python3.6/dist-packages (from pandas->shap) (2.8.1)\n",
            "Requirement already satisfied: llvmlite<0.32.0,>=0.31.0dev0 in /usr/local/lib/python3.6/dist-packages (from numba->shap) (0.31.0)\n",
            "Requirement already satisfied: setuptools in /usr/local/lib/python3.6/dist-packages (from numba->shap) (50.3.2)\n",
            "Requirement already satisfied: six>=1.5 in /usr/local/lib/python3.6/dist-packages (from python-dateutil>=2.7.3->pandas->shap) (1.15.0)\n",
            "Building wheels for collected packages: shap\n",
            "  Building wheel for shap (setup.py) ... \u001b[?25l\u001b[?25hdone\n",
            "  Created wheel for shap: filename=shap-0.37.0-cp36-cp36m-linux_x86_64.whl size=463915 sha256=09396432bed8cd2a4232fd2775fe9695f8917e37df64433328a07a7efc52581f\n",
            "  Stored in directory: /root/.cache/pip/wheels/df/ad/b0/aa7815ec68850d66551ef618095eccb962c8f6022f1d3dd989\n",
            "Successfully built shap\n",
            "Installing collected packages: slicer, shap\n",
            "Successfully installed shap-0.37.0 slicer-0.0.3\n"
          ],
          "name": "stdout"
        }
      ]
    },
    {
      "cell_type": "code",
      "metadata": {
        "id": "gsMBWlLgg7HH"
      },
      "source": [
        "import pandas as pd\n",
        "import numpy as np\n",
        "\n",
        "from matplotlib import pyplot as plt\n",
        "\n",
        "import seaborn as sns\n",
        "sns.set_theme(style='ticks', palette='pastel')\n",
        "\n",
        "from pycaret import regression, classification\n",
        "import shap\n",
        "\n",
        "from collections import Counter\n",
        "\n",
        "import tensorflow as tf\n",
        "from tensorflow import keras"
      ],
      "execution_count": null,
      "outputs": []
    },
    {
      "cell_type": "code",
      "metadata": {
        "colab": {
          "base_uri": "https://localhost:8080/"
        },
        "id": "DMNSOWmOjIlf",
        "outputId": "1b0fb201-c57a-437c-8205-665db4806b1d"
      },
      "source": [
        "from pycaret.utils import enable_colab\n",
        "enable_colab()"
      ],
      "execution_count": null,
      "outputs": [
        {
          "output_type": "stream",
          "text": [
            "Colab mode enabled.\n"
          ],
          "name": "stdout"
        }
      ]
    },
    {
      "cell_type": "markdown",
      "metadata": {
        "id": "dP_jlfJpjPuv"
      },
      "source": [
        "## Configurações de ambiente"
      ]
    },
    {
      "cell_type": "code",
      "metadata": {
        "colab": {
          "base_uri": "https://localhost:8080/",
          "height": 17
        },
        "id": "0IIWJCB1j-RX",
        "outputId": "1f5f7963-1fa7-41aa-9dba-32aab47ccac4"
      },
      "source": [
        "pd_od = pd.options.display"
      ],
      "execution_count": null,
      "outputs": [
        {
          "output_type": "display_data",
          "data": {
            "text/html": [
              "\n",
              "            <script src=\"/static/components/requirejs/require.js\"></script>\n",
              "            <script>\n",
              "              requirejs.config({\n",
              "                paths: {\n",
              "                  base: '/static/base',\n",
              "                  plotly: 'https://cdn.plot.ly/plotly-latest.min.js?noext',\n",
              "                },\n",
              "              });\n",
              "            </script>\n",
              "            "
            ],
            "text/plain": [
              "<IPython.core.display.HTML object>"
            ]
          },
          "metadata": {
            "tags": []
          }
        }
      ]
    },
    {
      "cell_type": "code",
      "metadata": {
        "colab": {
          "base_uri": "https://localhost:8080/",
          "height": 17
        },
        "id": "wWayIAqpkYiO",
        "outputId": "0375284a-26a7-451a-d9ba-62c5d7f9dd64"
      },
      "source": [
        "pd_od.max_columns= 50\n",
        "pd_od.max_rows = 50\n",
        "pd_od.precision = 3"
      ],
      "execution_count": null,
      "outputs": [
        {
          "output_type": "display_data",
          "data": {
            "text/html": [
              "\n",
              "            <script src=\"/static/components/requirejs/require.js\"></script>\n",
              "            <script>\n",
              "              requirejs.config({\n",
              "                paths: {\n",
              "                  base: '/static/base',\n",
              "                  plotly: 'https://cdn.plot.ly/plotly-latest.min.js?noext',\n",
              "                },\n",
              "              });\n",
              "            </script>\n",
              "            "
            ],
            "text/plain": [
              "<IPython.core.display.HTML object>"
            ]
          },
          "metadata": {
            "tags": []
          }
        }
      ]
    },
    {
      "cell_type": "code",
      "metadata": {
        "colab": {
          "base_uri": "https://localhost:8080/",
          "height": 17
        },
        "id": "BP-mQs1QjO1W",
        "outputId": "8951dc20-87a7-4e88-a2ce-0d9a30c248ee"
      },
      "source": [
        "# alternativa\n",
        "# pd.set_option('display.precision',3)\n",
        "#pd.set_option('display.max_columns',50)\n",
        "# pd.set_option('display.max_rows',50)"
      ],
      "execution_count": null,
      "outputs": [
        {
          "output_type": "display_data",
          "data": {
            "text/html": [
              "\n",
              "            <script src=\"/static/components/requirejs/require.js\"></script>\n",
              "            <script>\n",
              "              requirejs.config({\n",
              "                paths: {\n",
              "                  base: '/static/base',\n",
              "                  plotly: 'https://cdn.plot.ly/plotly-latest.min.js?noext',\n",
              "                },\n",
              "              });\n",
              "            </script>\n",
              "            "
            ],
            "text/plain": [
              "<IPython.core.display.HTML object>"
            ]
          },
          "metadata": {
            "tags": []
          }
        }
      ]
    },
    {
      "cell_type": "markdown",
      "metadata": {
        "id": "RzXU7-tukta3"
      },
      "source": [
        "## Facets - DataViz"
      ]
    },
    {
      "cell_type": "code",
      "metadata": {
        "colab": {
          "base_uri": "https://localhost:8080/",
          "height": 17
        },
        "id": "lfdV3k2Gkr0R",
        "outputId": "e5eda080-9072-44bd-b1bf-4a10017ad0f5"
      },
      "source": [
        "from IPython.core.display import display, HTML\n",
        "import base64"
      ],
      "execution_count": null,
      "outputs": [
        {
          "output_type": "display_data",
          "data": {
            "text/html": [
              "\n",
              "            <script src=\"/static/components/requirejs/require.js\"></script>\n",
              "            <script>\n",
              "              requirejs.config({\n",
              "                paths: {\n",
              "                  base: '/static/base',\n",
              "                  plotly: 'https://cdn.plot.ly/plotly-latest.min.js?noext',\n",
              "                },\n",
              "              });\n",
              "            </script>\n",
              "            "
            ],
            "text/plain": [
              "<IPython.core.display.HTML object>"
            ]
          },
          "metadata": {
            "tags": []
          }
        }
      ]
    },
    {
      "cell_type": "code",
      "metadata": {
        "colab": {
          "base_uri": "https://localhost:8080/",
          "height": 224
        },
        "id": "h5BzOWcIk37f",
        "outputId": "88948337-542c-4717-c53f-5b478fae0d65"
      },
      "source": [
        "!pip install facets-overview==1.0.0"
      ],
      "execution_count": null,
      "outputs": [
        {
          "output_type": "display_data",
          "data": {
            "text/html": [
              "\n",
              "            <script src=\"/static/components/requirejs/require.js\"></script>\n",
              "            <script>\n",
              "              requirejs.config({\n",
              "                paths: {\n",
              "                  base: '/static/base',\n",
              "                  plotly: 'https://cdn.plot.ly/plotly-latest.min.js?noext',\n",
              "                },\n",
              "              });\n",
              "            </script>\n",
              "            "
            ],
            "text/plain": [
              "<IPython.core.display.HTML object>"
            ]
          },
          "metadata": {
            "tags": []
          }
        },
        {
          "output_type": "stream",
          "text": [
            "Collecting facets-overview==1.0.0\n",
            "  Downloading https://files.pythonhosted.org/packages/df/8a/0042de5450dbd9e7e0773de93fe84c999b5b078b1f60b4c19ac76b5dd889/facets_overview-1.0.0-py2.py3-none-any.whl\n",
            "Requirement already satisfied: pandas>=0.22.0 in /usr/local/lib/python3.6/dist-packages (from facets-overview==1.0.0) (1.1.4)\n",
            "Requirement already satisfied: protobuf>=3.7.0 in /usr/local/lib/python3.6/dist-packages (from facets-overview==1.0.0) (3.12.4)\n",
            "Requirement already satisfied: numpy>=1.16.0 in /usr/local/lib/python3.6/dist-packages (from facets-overview==1.0.0) (1.18.5)\n",
            "Requirement already satisfied: pytz>=2017.2 in /usr/local/lib/python3.6/dist-packages (from pandas>=0.22.0->facets-overview==1.0.0) (2018.9)\n",
            "Requirement already satisfied: python-dateutil>=2.7.3 in /usr/local/lib/python3.6/dist-packages (from pandas>=0.22.0->facets-overview==1.0.0) (2.8.1)\n",
            "Requirement already satisfied: setuptools in /usr/local/lib/python3.6/dist-packages (from protobuf>=3.7.0->facets-overview==1.0.0) (50.3.2)\n",
            "Requirement already satisfied: six>=1.9 in /usr/local/lib/python3.6/dist-packages (from protobuf>=3.7.0->facets-overview==1.0.0) (1.15.0)\n",
            "Installing collected packages: facets-overview\n",
            "Successfully installed facets-overview-1.0.0\n"
          ],
          "name": "stdout"
        }
      ]
    },
    {
      "cell_type": "code",
      "metadata": {
        "colab": {
          "base_uri": "https://localhost:8080/",
          "height": 17
        },
        "id": "IV8TDRMXk_be",
        "outputId": "4adc3ce5-6f3f-4259-92a2-a71c0c9e4905"
      },
      "source": [
        "from facets_overview.feature_statistics_generator import FeatureStatisticsGenerator"
      ],
      "execution_count": null,
      "outputs": [
        {
          "output_type": "display_data",
          "data": {
            "text/html": [
              "\n",
              "            <script src=\"/static/components/requirejs/require.js\"></script>\n",
              "            <script>\n",
              "              requirejs.config({\n",
              "                paths: {\n",
              "                  base: '/static/base',\n",
              "                  plotly: 'https://cdn.plot.ly/plotly-latest.min.js?noext',\n",
              "                },\n",
              "              });\n",
              "            </script>\n",
              "            "
            ],
            "text/plain": [
              "<IPython.core.display.HTML object>"
            ]
          },
          "metadata": {
            "tags": []
          }
        }
      ]
    },
    {
      "cell_type": "code",
      "metadata": {
        "colab": {
          "base_uri": "https://localhost:8080/",
          "height": 17
        },
        "id": "IjxQe_G0mDkS",
        "outputId": "a856e495-45c4-4da9-9cfe-6197ab313b7a"
      },
      "source": [
        "# treino\n",
        "url_T = 'https://raw.githubusercontent.com/atarasaki/DSWP-editados/main/Datasets/Labdata%20Churn%20Challenge%202020/train.csv'\n",
        "\n",
        "# validação/teste\n",
        "url_V = 'https://raw.githubusercontent.com/atarasaki/DSWP-editados/main/Datasets/Labdata%20Churn%20Challenge%202020/test.csv'"
      ],
      "execution_count": null,
      "outputs": [
        {
          "output_type": "display_data",
          "data": {
            "text/html": [
              "\n",
              "            <script src=\"/static/components/requirejs/require.js\"></script>\n",
              "            <script>\n",
              "              requirejs.config({\n",
              "                paths: {\n",
              "                  base: '/static/base',\n",
              "                  plotly: 'https://cdn.plot.ly/plotly-latest.min.js?noext',\n",
              "                },\n",
              "              });\n",
              "            </script>\n",
              "            "
            ],
            "text/plain": [
              "<IPython.core.display.HTML object>"
            ]
          },
          "metadata": {
            "tags": []
          }
        }
      ]
    },
    {
      "cell_type": "code",
      "metadata": {
        "colab": {
          "base_uri": "https://localhost:8080/",
          "height": 17
        },
        "id": "r1WVgJ_lmjCn",
        "outputId": "e177558f-a08a-4e3b-c7a8-f2168debe72d"
      },
      "source": [
        "df_T = pd.read_csv( url_T )\n",
        "\n",
        "df_V = pd.read_csv( url_V)"
      ],
      "execution_count": null,
      "outputs": [
        {
          "output_type": "display_data",
          "data": {
            "text/html": [
              "\n",
              "            <script src=\"/static/components/requirejs/require.js\"></script>\n",
              "            <script>\n",
              "              requirejs.config({\n",
              "                paths: {\n",
              "                  base: '/static/base',\n",
              "                  plotly: 'https://cdn.plot.ly/plotly-latest.min.js?noext',\n",
              "                },\n",
              "              });\n",
              "            </script>\n",
              "            "
            ],
            "text/plain": [
              "<IPython.core.display.HTML object>"
            ]
          },
          "metadata": {
            "tags": []
          }
        }
      ]
    },
    {
      "cell_type": "code",
      "metadata": {
        "colab": {
          "base_uri": "https://localhost:8080/",
          "height": 309
        },
        "id": "cfun6i1BmuwX",
        "outputId": "0e807bc5-5f36-40ed-a40c-1ade3dd0b800"
      },
      "source": [
        "df_T.head()"
      ],
      "execution_count": null,
      "outputs": [
        {
          "output_type": "display_data",
          "data": {
            "text/html": [
              "\n",
              "            <script src=\"/static/components/requirejs/require.js\"></script>\n",
              "            <script>\n",
              "              requirejs.config({\n",
              "                paths: {\n",
              "                  base: '/static/base',\n",
              "                  plotly: 'https://cdn.plot.ly/plotly-latest.min.js?noext',\n",
              "                },\n",
              "              });\n",
              "            </script>\n",
              "            "
            ],
            "text/plain": [
              "<IPython.core.display.HTML object>"
            ]
          },
          "metadata": {
            "tags": []
          }
        },
        {
          "output_type": "execute_result",
          "data": {
            "text/html": [
              "<div>\n",
              "<style scoped>\n",
              "    .dataframe tbody tr th:only-of-type {\n",
              "        vertical-align: middle;\n",
              "    }\n",
              "\n",
              "    .dataframe tbody tr th {\n",
              "        vertical-align: top;\n",
              "    }\n",
              "\n",
              "    .dataframe thead th {\n",
              "        text-align: right;\n",
              "    }\n",
              "</style>\n",
              "<table border=\"1\" class=\"dataframe\">\n",
              "  <thead>\n",
              "    <tr style=\"text-align: right;\">\n",
              "      <th></th>\n",
              "      <th>id</th>\n",
              "      <th>gender</th>\n",
              "      <th>SeniorCitizen</th>\n",
              "      <th>Partner</th>\n",
              "      <th>Dependents</th>\n",
              "      <th>tenure</th>\n",
              "      <th>PhoneService</th>\n",
              "      <th>MultipleLines</th>\n",
              "      <th>InternetService</th>\n",
              "      <th>OnlineSecurity</th>\n",
              "      <th>OnlineBackup</th>\n",
              "      <th>DeviceProtection</th>\n",
              "      <th>TechSupport</th>\n",
              "      <th>StreamingTV</th>\n",
              "      <th>StreamingMovies</th>\n",
              "      <th>Contract</th>\n",
              "      <th>PaperlessBilling</th>\n",
              "      <th>PaymentMethod</th>\n",
              "      <th>MonthlyCharges</th>\n",
              "      <th>TotalCharges</th>\n",
              "      <th>Churn</th>\n",
              "    </tr>\n",
              "  </thead>\n",
              "  <tbody>\n",
              "    <tr>\n",
              "      <th>0</th>\n",
              "      <td>4030</td>\n",
              "      <td>Female</td>\n",
              "      <td>0</td>\n",
              "      <td>No</td>\n",
              "      <td>No</td>\n",
              "      <td>56.0</td>\n",
              "      <td>No</td>\n",
              "      <td>No phone service</td>\n",
              "      <td>DSL</td>\n",
              "      <td>Yes</td>\n",
              "      <td>Yes</td>\n",
              "      <td>Yes</td>\n",
              "      <td>Yes</td>\n",
              "      <td>No</td>\n",
              "      <td>No</td>\n",
              "      <td>Two year</td>\n",
              "      <td>No</td>\n",
              "      <td>NaN</td>\n",
              "      <td>45.05</td>\n",
              "      <td>2560.1</td>\n",
              "      <td>0</td>\n",
              "    </tr>\n",
              "    <tr>\n",
              "      <th>1</th>\n",
              "      <td>6731</td>\n",
              "      <td>Male</td>\n",
              "      <td>0</td>\n",
              "      <td>Yes</td>\n",
              "      <td>Yes</td>\n",
              "      <td>NaN</td>\n",
              "      <td>Yes</td>\n",
              "      <td>No</td>\n",
              "      <td>No</td>\n",
              "      <td>No internet service</td>\n",
              "      <td>No internet service</td>\n",
              "      <td>No internet service</td>\n",
              "      <td>No internet service</td>\n",
              "      <td>No internet service</td>\n",
              "      <td>No internet service</td>\n",
              "      <td>One year</td>\n",
              "      <td>No</td>\n",
              "      <td>Mailed check</td>\n",
              "      <td>19.65</td>\n",
              "      <td>332.65</td>\n",
              "      <td>0</td>\n",
              "    </tr>\n",
              "    <tr>\n",
              "      <th>2</th>\n",
              "      <td>6479</td>\n",
              "      <td>Female</td>\n",
              "      <td>0</td>\n",
              "      <td>Yes</td>\n",
              "      <td>No</td>\n",
              "      <td>60.0</td>\n",
              "      <td>Yes</td>\n",
              "      <td>Yes</td>\n",
              "      <td>Fiber optic</td>\n",
              "      <td>No</td>\n",
              "      <td>Yes</td>\n",
              "      <td>Yes</td>\n",
              "      <td>Yes</td>\n",
              "      <td>Yes</td>\n",
              "      <td>Yes</td>\n",
              "      <td>Two year</td>\n",
              "      <td>Yes</td>\n",
              "      <td>Credit card (automatic)</td>\n",
              "      <td>110.80</td>\n",
              "      <td>6640.7</td>\n",
              "      <td>0</td>\n",
              "    </tr>\n",
              "    <tr>\n",
              "      <th>3</th>\n",
              "      <td>6861</td>\n",
              "      <td>Female</td>\n",
              "      <td>0</td>\n",
              "      <td>No</td>\n",
              "      <td>No</td>\n",
              "      <td>37.0</td>\n",
              "      <td>Yes</td>\n",
              "      <td>Yes</td>\n",
              "      <td>Fiber optic</td>\n",
              "      <td>No</td>\n",
              "      <td>Yes</td>\n",
              "      <td>Yes</td>\n",
              "      <td>No</td>\n",
              "      <td>Yes</td>\n",
              "      <td>Yes</td>\n",
              "      <td>Month-to-month</td>\n",
              "      <td>Yes</td>\n",
              "      <td>Bank transfer (automatic)</td>\n",
              "      <td>101.90</td>\n",
              "      <td>3545.35</td>\n",
              "      <td>1</td>\n",
              "    </tr>\n",
              "    <tr>\n",
              "      <th>4</th>\n",
              "      <td>3266</td>\n",
              "      <td>Male</td>\n",
              "      <td>0</td>\n",
              "      <td>Yes</td>\n",
              "      <td>Yes</td>\n",
              "      <td>29.0</td>\n",
              "      <td>Yes</td>\n",
              "      <td>No</td>\n",
              "      <td>Fiber optic</td>\n",
              "      <td>No</td>\n",
              "      <td>No</td>\n",
              "      <td>No</td>\n",
              "      <td>No</td>\n",
              "      <td>No</td>\n",
              "      <td>No</td>\n",
              "      <td>Month-to-month</td>\n",
              "      <td>Yes</td>\n",
              "      <td>Electronic check</td>\n",
              "      <td>70.75</td>\n",
              "      <td>1974.8</td>\n",
              "      <td>1</td>\n",
              "    </tr>\n",
              "  </tbody>\n",
              "</table>\n",
              "</div>"
            ],
            "text/plain": [
              "     id  gender  SeniorCitizen Partner Dependents  tenure PhoneService  \\\n",
              "0  4030  Female              0      No         No    56.0           No   \n",
              "1  6731    Male              0     Yes        Yes     NaN          Yes   \n",
              "2  6479  Female              0     Yes         No    60.0          Yes   \n",
              "3  6861  Female              0      No         No    37.0          Yes   \n",
              "4  3266    Male              0     Yes        Yes    29.0          Yes   \n",
              "\n",
              "      MultipleLines InternetService       OnlineSecurity         OnlineBackup  \\\n",
              "0  No phone service             DSL                  Yes                  Yes   \n",
              "1                No              No  No internet service  No internet service   \n",
              "2               Yes     Fiber optic                   No                  Yes   \n",
              "3               Yes     Fiber optic                   No                  Yes   \n",
              "4                No     Fiber optic                   No                   No   \n",
              "\n",
              "      DeviceProtection          TechSupport          StreamingTV  \\\n",
              "0                  Yes                  Yes                   No   \n",
              "1  No internet service  No internet service  No internet service   \n",
              "2                  Yes                  Yes                  Yes   \n",
              "3                  Yes                   No                  Yes   \n",
              "4                   No                   No                   No   \n",
              "\n",
              "       StreamingMovies        Contract PaperlessBilling  \\\n",
              "0                   No        Two year               No   \n",
              "1  No internet service        One year               No   \n",
              "2                  Yes        Two year              Yes   \n",
              "3                  Yes  Month-to-month              Yes   \n",
              "4                   No  Month-to-month              Yes   \n",
              "\n",
              "               PaymentMethod  MonthlyCharges TotalCharges  Churn  \n",
              "0                        NaN           45.05       2560.1      0  \n",
              "1               Mailed check           19.65       332.65      0  \n",
              "2    Credit card (automatic)          110.80       6640.7      0  \n",
              "3  Bank transfer (automatic)          101.90      3545.35      1  \n",
              "4           Electronic check           70.75       1974.8      1  "
            ]
          },
          "metadata": {
            "tags": []
          },
          "execution_count": 26
        }
      ]
    },
    {
      "cell_type": "code",
      "metadata": {
        "colab": {
          "base_uri": "https://localhost:8080/",
          "height": 391
        },
        "id": "yJfXpe6qmypA",
        "outputId": "75f68bba-3b44-458e-8889-b1d319f04c73"
      },
      "source": [
        "df_T.dtypes"
      ],
      "execution_count": null,
      "outputs": [
        {
          "output_type": "display_data",
          "data": {
            "text/html": [
              "\n",
              "            <script src=\"/static/components/requirejs/require.js\"></script>\n",
              "            <script>\n",
              "              requirejs.config({\n",
              "                paths: {\n",
              "                  base: '/static/base',\n",
              "                  plotly: 'https://cdn.plot.ly/plotly-latest.min.js?noext',\n",
              "                },\n",
              "              });\n",
              "            </script>\n",
              "            "
            ],
            "text/plain": [
              "<IPython.core.display.HTML object>"
            ]
          },
          "metadata": {
            "tags": []
          }
        },
        {
          "output_type": "execute_result",
          "data": {
            "text/plain": [
              "id                    int64\n",
              "gender               object\n",
              "SeniorCitizen         int64\n",
              "Partner              object\n",
              "Dependents           object\n",
              "tenure              float64\n",
              "PhoneService         object\n",
              "MultipleLines        object\n",
              "InternetService      object\n",
              "OnlineSecurity       object\n",
              "OnlineBackup         object\n",
              "DeviceProtection     object\n",
              "TechSupport          object\n",
              "StreamingTV          object\n",
              "StreamingMovies      object\n",
              "Contract             object\n",
              "PaperlessBilling     object\n",
              "PaymentMethod        object\n",
              "MonthlyCharges      float64\n",
              "TotalCharges         object\n",
              "Churn                 int64\n",
              "dtype: object"
            ]
          },
          "metadata": {
            "tags": []
          },
          "execution_count": 27
        }
      ]
    },
    {
      "cell_type": "code",
      "metadata": {
        "colab": {
          "base_uri": "https://localhost:8080/",
          "height": 408
        },
        "id": "GbNmRXuAnAoH",
        "outputId": "c98caea8-649a-46e6-b4d8-b5a86755df21"
      },
      "source": [
        "# Conversão de tipos : TotalCharges deveria ser float e está como object\n",
        "\n",
        "df_T['TotalCharges2'] = pd.to_numeric( df_T['TotalCharges'], errors='coerce' )\n",
        "df_T.dtypes"
      ],
      "execution_count": null,
      "outputs": [
        {
          "output_type": "display_data",
          "data": {
            "text/html": [
              "\n",
              "            <script src=\"/static/components/requirejs/require.js\"></script>\n",
              "            <script>\n",
              "              requirejs.config({\n",
              "                paths: {\n",
              "                  base: '/static/base',\n",
              "                  plotly: 'https://cdn.plot.ly/plotly-latest.min.js?noext',\n",
              "                },\n",
              "              });\n",
              "            </script>\n",
              "            "
            ],
            "text/plain": [
              "<IPython.core.display.HTML object>"
            ]
          },
          "metadata": {
            "tags": []
          }
        },
        {
          "output_type": "execute_result",
          "data": {
            "text/plain": [
              "id                    int64\n",
              "gender               object\n",
              "SeniorCitizen         int64\n",
              "Partner              object\n",
              "Dependents           object\n",
              "tenure              float64\n",
              "PhoneService         object\n",
              "MultipleLines        object\n",
              "InternetService      object\n",
              "OnlineSecurity       object\n",
              "OnlineBackup         object\n",
              "DeviceProtection     object\n",
              "TechSupport          object\n",
              "StreamingTV          object\n",
              "StreamingMovies      object\n",
              "Contract             object\n",
              "PaperlessBilling     object\n",
              "PaymentMethod        object\n",
              "MonthlyCharges      float64\n",
              "TotalCharges         object\n",
              "Churn                 int64\n",
              "TotalCharges2       float64\n",
              "dtype: object"
            ]
          },
          "metadata": {
            "tags": []
          },
          "execution_count": 29
        }
      ]
    },
    {
      "cell_type": "code",
      "metadata": {
        "colab": {
          "base_uri": "https://localhost:8080/",
          "height": 204
        },
        "id": "WwerPpQrnzYn",
        "outputId": "5d8ba5a0-7305-49a9-8cf2-c3ab4c07e795"
      },
      "source": [
        "# aparentemente, conversão bem sucedida\n",
        "df_T[['TotalCharges','TotalCharges2']].head()"
      ],
      "execution_count": null,
      "outputs": [
        {
          "output_type": "display_data",
          "data": {
            "text/html": [
              "\n",
              "            <script src=\"/static/components/requirejs/require.js\"></script>\n",
              "            <script>\n",
              "              requirejs.config({\n",
              "                paths: {\n",
              "                  base: '/static/base',\n",
              "                  plotly: 'https://cdn.plot.ly/plotly-latest.min.js?noext',\n",
              "                },\n",
              "              });\n",
              "            </script>\n",
              "            "
            ],
            "text/plain": [
              "<IPython.core.display.HTML object>"
            ]
          },
          "metadata": {
            "tags": []
          }
        },
        {
          "output_type": "execute_result",
          "data": {
            "text/html": [
              "<div>\n",
              "<style scoped>\n",
              "    .dataframe tbody tr th:only-of-type {\n",
              "        vertical-align: middle;\n",
              "    }\n",
              "\n",
              "    .dataframe tbody tr th {\n",
              "        vertical-align: top;\n",
              "    }\n",
              "\n",
              "    .dataframe thead th {\n",
              "        text-align: right;\n",
              "    }\n",
              "</style>\n",
              "<table border=\"1\" class=\"dataframe\">\n",
              "  <thead>\n",
              "    <tr style=\"text-align: right;\">\n",
              "      <th></th>\n",
              "      <th>TotalCharges</th>\n",
              "      <th>TotalCharges2</th>\n",
              "    </tr>\n",
              "  </thead>\n",
              "  <tbody>\n",
              "    <tr>\n",
              "      <th>0</th>\n",
              "      <td>2560.1</td>\n",
              "      <td>2560.10</td>\n",
              "    </tr>\n",
              "    <tr>\n",
              "      <th>1</th>\n",
              "      <td>332.65</td>\n",
              "      <td>332.65</td>\n",
              "    </tr>\n",
              "    <tr>\n",
              "      <th>2</th>\n",
              "      <td>6640.7</td>\n",
              "      <td>6640.70</td>\n",
              "    </tr>\n",
              "    <tr>\n",
              "      <th>3</th>\n",
              "      <td>3545.35</td>\n",
              "      <td>3545.35</td>\n",
              "    </tr>\n",
              "    <tr>\n",
              "      <th>4</th>\n",
              "      <td>1974.8</td>\n",
              "      <td>1974.80</td>\n",
              "    </tr>\n",
              "  </tbody>\n",
              "</table>\n",
              "</div>"
            ],
            "text/plain": [
              "  TotalCharges  TotalCharges2\n",
              "0       2560.1        2560.10\n",
              "1       332.65         332.65\n",
              "2       6640.7        6640.70\n",
              "3      3545.35        3545.35\n",
              "4       1974.8        1974.80"
            ]
          },
          "metadata": {
            "tags": []
          },
          "execution_count": 30
        }
      ]
    },
    {
      "cell_type": "code",
      "metadata": {
        "colab": {
          "base_uri": "https://localhost:8080/",
          "height": 68
        },
        "id": "91k8lN16oSiH",
        "outputId": "e6931392-198f-4bd0-a615-ca538ea32e86"
      },
      "source": [
        "# índice 161 havia sido reportado na conversão pd.to_numeric() sem a opção errors='coerce'\n",
        "df_T.loc[161,['TotalCharges','TotalCharges2']]"
      ],
      "execution_count": null,
      "outputs": [
        {
          "output_type": "display_data",
          "data": {
            "text/html": [
              "\n",
              "            <script src=\"/static/components/requirejs/require.js\"></script>\n",
              "            <script>\n",
              "              requirejs.config({\n",
              "                paths: {\n",
              "                  base: '/static/base',\n",
              "                  plotly: 'https://cdn.plot.ly/plotly-latest.min.js?noext',\n",
              "                },\n",
              "              });\n",
              "            </script>\n",
              "            "
            ],
            "text/plain": [
              "<IPython.core.display.HTML object>"
            ]
          },
          "metadata": {
            "tags": []
          }
        },
        {
          "output_type": "execute_result",
          "data": {
            "text/plain": [
              "TotalCharges        \n",
              "TotalCharges2    NaN\n",
              "Name: 161, dtype: object"
            ]
          },
          "metadata": {
            "tags": []
          },
          "execution_count": 31
        }
      ]
    },
    {
      "cell_type": "code",
      "metadata": {
        "colab": {
          "base_uri": "https://localhost:8080/",
          "height": 68
        },
        "id": "y32h_57zom6g",
        "outputId": "822d76d4-5dd4-4187-8fa7-1a87d604c3b6"
      },
      "source": [
        "# missing values nas colunas 'TotalCharges' e 'TotalCharges2'\n",
        "\n",
        "df_T[['TotalCharges','TotalCharges2']].isnull().sum()"
      ],
      "execution_count": null,
      "outputs": [
        {
          "output_type": "display_data",
          "data": {
            "text/html": [
              "\n",
              "            <script src=\"/static/components/requirejs/require.js\"></script>\n",
              "            <script>\n",
              "              requirejs.config({\n",
              "                paths: {\n",
              "                  base: '/static/base',\n",
              "                  plotly: 'https://cdn.plot.ly/plotly-latest.min.js?noext',\n",
              "                },\n",
              "              });\n",
              "            </script>\n",
              "            "
            ],
            "text/plain": [
              "<IPython.core.display.HTML object>"
            ]
          },
          "metadata": {
            "tags": []
          }
        },
        {
          "output_type": "execute_result",
          "data": {
            "text/plain": [
              "TotalCharges     0\n",
              "TotalCharges2    8\n",
              "dtype: int64"
            ]
          },
          "metadata": {
            "tags": []
          },
          "execution_count": 35
        }
      ]
    },
    {
      "cell_type": "code",
      "metadata": {
        "colab": {
          "base_uri": "https://localhost:8080/",
          "height": 309
        },
        "id": "JJbY-4x-q_BP",
        "outputId": "da0773be-af43-492f-8c82-3b7dd08781d4"
      },
      "source": [
        "# deleta 'TotalCharges'\n",
        "\n",
        "df_T = df_T.drop( columns=['TotalCharges'], axis=1 )\n",
        "df_T.head()"
      ],
      "execution_count": null,
      "outputs": [
        {
          "output_type": "display_data",
          "data": {
            "text/html": [
              "\n",
              "            <script src=\"/static/components/requirejs/require.js\"></script>\n",
              "            <script>\n",
              "              requirejs.config({\n",
              "                paths: {\n",
              "                  base: '/static/base',\n",
              "                  plotly: 'https://cdn.plot.ly/plotly-latest.min.js?noext',\n",
              "                },\n",
              "              });\n",
              "            </script>\n",
              "            "
            ],
            "text/plain": [
              "<IPython.core.display.HTML object>"
            ]
          },
          "metadata": {
            "tags": []
          }
        },
        {
          "output_type": "execute_result",
          "data": {
            "text/html": [
              "<div>\n",
              "<style scoped>\n",
              "    .dataframe tbody tr th:only-of-type {\n",
              "        vertical-align: middle;\n",
              "    }\n",
              "\n",
              "    .dataframe tbody tr th {\n",
              "        vertical-align: top;\n",
              "    }\n",
              "\n",
              "    .dataframe thead th {\n",
              "        text-align: right;\n",
              "    }\n",
              "</style>\n",
              "<table border=\"1\" class=\"dataframe\">\n",
              "  <thead>\n",
              "    <tr style=\"text-align: right;\">\n",
              "      <th></th>\n",
              "      <th>id</th>\n",
              "      <th>gender</th>\n",
              "      <th>SeniorCitizen</th>\n",
              "      <th>Partner</th>\n",
              "      <th>Dependents</th>\n",
              "      <th>tenure</th>\n",
              "      <th>PhoneService</th>\n",
              "      <th>MultipleLines</th>\n",
              "      <th>InternetService</th>\n",
              "      <th>OnlineSecurity</th>\n",
              "      <th>OnlineBackup</th>\n",
              "      <th>DeviceProtection</th>\n",
              "      <th>TechSupport</th>\n",
              "      <th>StreamingTV</th>\n",
              "      <th>StreamingMovies</th>\n",
              "      <th>Contract</th>\n",
              "      <th>PaperlessBilling</th>\n",
              "      <th>PaymentMethod</th>\n",
              "      <th>MonthlyCharges</th>\n",
              "      <th>Churn</th>\n",
              "      <th>TotalCharges2</th>\n",
              "    </tr>\n",
              "  </thead>\n",
              "  <tbody>\n",
              "    <tr>\n",
              "      <th>0</th>\n",
              "      <td>4030</td>\n",
              "      <td>Female</td>\n",
              "      <td>0</td>\n",
              "      <td>No</td>\n",
              "      <td>No</td>\n",
              "      <td>56.0</td>\n",
              "      <td>No</td>\n",
              "      <td>No phone service</td>\n",
              "      <td>DSL</td>\n",
              "      <td>Yes</td>\n",
              "      <td>Yes</td>\n",
              "      <td>Yes</td>\n",
              "      <td>Yes</td>\n",
              "      <td>No</td>\n",
              "      <td>No</td>\n",
              "      <td>Two year</td>\n",
              "      <td>No</td>\n",
              "      <td>NaN</td>\n",
              "      <td>45.05</td>\n",
              "      <td>0</td>\n",
              "      <td>2560.10</td>\n",
              "    </tr>\n",
              "    <tr>\n",
              "      <th>1</th>\n",
              "      <td>6731</td>\n",
              "      <td>Male</td>\n",
              "      <td>0</td>\n",
              "      <td>Yes</td>\n",
              "      <td>Yes</td>\n",
              "      <td>NaN</td>\n",
              "      <td>Yes</td>\n",
              "      <td>No</td>\n",
              "      <td>No</td>\n",
              "      <td>No internet service</td>\n",
              "      <td>No internet service</td>\n",
              "      <td>No internet service</td>\n",
              "      <td>No internet service</td>\n",
              "      <td>No internet service</td>\n",
              "      <td>No internet service</td>\n",
              "      <td>One year</td>\n",
              "      <td>No</td>\n",
              "      <td>Mailed check</td>\n",
              "      <td>19.65</td>\n",
              "      <td>0</td>\n",
              "      <td>332.65</td>\n",
              "    </tr>\n",
              "    <tr>\n",
              "      <th>2</th>\n",
              "      <td>6479</td>\n",
              "      <td>Female</td>\n",
              "      <td>0</td>\n",
              "      <td>Yes</td>\n",
              "      <td>No</td>\n",
              "      <td>60.0</td>\n",
              "      <td>Yes</td>\n",
              "      <td>Yes</td>\n",
              "      <td>Fiber optic</td>\n",
              "      <td>No</td>\n",
              "      <td>Yes</td>\n",
              "      <td>Yes</td>\n",
              "      <td>Yes</td>\n",
              "      <td>Yes</td>\n",
              "      <td>Yes</td>\n",
              "      <td>Two year</td>\n",
              "      <td>Yes</td>\n",
              "      <td>Credit card (automatic)</td>\n",
              "      <td>110.80</td>\n",
              "      <td>0</td>\n",
              "      <td>6640.70</td>\n",
              "    </tr>\n",
              "    <tr>\n",
              "      <th>3</th>\n",
              "      <td>6861</td>\n",
              "      <td>Female</td>\n",
              "      <td>0</td>\n",
              "      <td>No</td>\n",
              "      <td>No</td>\n",
              "      <td>37.0</td>\n",
              "      <td>Yes</td>\n",
              "      <td>Yes</td>\n",
              "      <td>Fiber optic</td>\n",
              "      <td>No</td>\n",
              "      <td>Yes</td>\n",
              "      <td>Yes</td>\n",
              "      <td>No</td>\n",
              "      <td>Yes</td>\n",
              "      <td>Yes</td>\n",
              "      <td>Month-to-month</td>\n",
              "      <td>Yes</td>\n",
              "      <td>Bank transfer (automatic)</td>\n",
              "      <td>101.90</td>\n",
              "      <td>1</td>\n",
              "      <td>3545.35</td>\n",
              "    </tr>\n",
              "    <tr>\n",
              "      <th>4</th>\n",
              "      <td>3266</td>\n",
              "      <td>Male</td>\n",
              "      <td>0</td>\n",
              "      <td>Yes</td>\n",
              "      <td>Yes</td>\n",
              "      <td>29.0</td>\n",
              "      <td>Yes</td>\n",
              "      <td>No</td>\n",
              "      <td>Fiber optic</td>\n",
              "      <td>No</td>\n",
              "      <td>No</td>\n",
              "      <td>No</td>\n",
              "      <td>No</td>\n",
              "      <td>No</td>\n",
              "      <td>No</td>\n",
              "      <td>Month-to-month</td>\n",
              "      <td>Yes</td>\n",
              "      <td>Electronic check</td>\n",
              "      <td>70.75</td>\n",
              "      <td>1</td>\n",
              "      <td>1974.80</td>\n",
              "    </tr>\n",
              "  </tbody>\n",
              "</table>\n",
              "</div>"
            ],
            "text/plain": [
              "     id  gender  SeniorCitizen Partner Dependents  tenure PhoneService  \\\n",
              "0  4030  Female              0      No         No    56.0           No   \n",
              "1  6731    Male              0     Yes        Yes     NaN          Yes   \n",
              "2  6479  Female              0     Yes         No    60.0          Yes   \n",
              "3  6861  Female              0      No         No    37.0          Yes   \n",
              "4  3266    Male              0     Yes        Yes    29.0          Yes   \n",
              "\n",
              "      MultipleLines InternetService       OnlineSecurity         OnlineBackup  \\\n",
              "0  No phone service             DSL                  Yes                  Yes   \n",
              "1                No              No  No internet service  No internet service   \n",
              "2               Yes     Fiber optic                   No                  Yes   \n",
              "3               Yes     Fiber optic                   No                  Yes   \n",
              "4                No     Fiber optic                   No                   No   \n",
              "\n",
              "      DeviceProtection          TechSupport          StreamingTV  \\\n",
              "0                  Yes                  Yes                   No   \n",
              "1  No internet service  No internet service  No internet service   \n",
              "2                  Yes                  Yes                  Yes   \n",
              "3                  Yes                   No                  Yes   \n",
              "4                   No                   No                   No   \n",
              "\n",
              "       StreamingMovies        Contract PaperlessBilling  \\\n",
              "0                   No        Two year               No   \n",
              "1  No internet service        One year               No   \n",
              "2                  Yes        Two year              Yes   \n",
              "3                  Yes  Month-to-month              Yes   \n",
              "4                   No  Month-to-month              Yes   \n",
              "\n",
              "               PaymentMethod  MonthlyCharges  Churn  TotalCharges2  \n",
              "0                        NaN           45.05      0        2560.10  \n",
              "1               Mailed check           19.65      0         332.65  \n",
              "2    Credit card (automatic)          110.80      0        6640.70  \n",
              "3  Bank transfer (automatic)          101.90      1        3545.35  \n",
              "4           Electronic check           70.75      1        1974.80  "
            ]
          },
          "metadata": {
            "tags": []
          },
          "execution_count": 36
        }
      ]
    },
    {
      "cell_type": "code",
      "metadata": {
        "colab": {
          "base_uri": "https://localhost:8080/",
          "height": 34
        },
        "id": "hKx2u9tTr00_",
        "outputId": "cf0099fd-2632-4ec7-a7e9-5c77933cf8e2"
      },
      "source": [
        "# 'SeniorCitizen' está como int64, mas deveria ser categórica\n",
        "Counter( df_T['SeniorCitizen'] )"
      ],
      "execution_count": null,
      "outputs": [
        {
          "output_type": "display_data",
          "data": {
            "text/html": [
              "\n",
              "            <script src=\"/static/components/requirejs/require.js\"></script>\n",
              "            <script>\n",
              "              requirejs.config({\n",
              "                paths: {\n",
              "                  base: '/static/base',\n",
              "                  plotly: 'https://cdn.plot.ly/plotly-latest.min.js?noext',\n",
              "                },\n",
              "              });\n",
              "            </script>\n",
              "            "
            ],
            "text/plain": [
              "<IPython.core.display.HTML object>"
            ]
          },
          "metadata": {
            "tags": []
          }
        },
        {
          "output_type": "execute_result",
          "data": {
            "text/plain": [
              "Counter({0: 4740, 1: 894})"
            ]
          },
          "metadata": {
            "tags": []
          },
          "execution_count": 37
        }
      ]
    },
    {
      "cell_type": "code",
      "metadata": {
        "colab": {
          "base_uri": "https://localhost:8080/",
          "height": 68
        },
        "id": "PtwVQH_uskfX",
        "outputId": "ce963889-7cb3-4403-aa12-f5bc9c4f0671"
      },
      "source": [
        "# alternativa\n",
        "df_T['SeniorCitizen'].value_counts()"
      ],
      "execution_count": null,
      "outputs": [
        {
          "output_type": "display_data",
          "data": {
            "text/html": [
              "\n",
              "            <script src=\"/static/components/requirejs/require.js\"></script>\n",
              "            <script>\n",
              "              requirejs.config({\n",
              "                paths: {\n",
              "                  base: '/static/base',\n",
              "                  plotly: 'https://cdn.plot.ly/plotly-latest.min.js?noext',\n",
              "                },\n",
              "              });\n",
              "            </script>\n",
              "            "
            ],
            "text/plain": [
              "<IPython.core.display.HTML object>"
            ]
          },
          "metadata": {
            "tags": []
          }
        },
        {
          "output_type": "execute_result",
          "data": {
            "text/plain": [
              "0    4740\n",
              "1     894\n",
              "Name: SeniorCitizen, dtype: int64"
            ]
          },
          "metadata": {
            "tags": []
          },
          "execution_count": 42
        }
      ]
    },
    {
      "cell_type": "code",
      "metadata": {
        "colab": {
          "base_uri": "https://localhost:8080/",
          "height": 17
        },
        "id": "KnQOwu_RsFHn",
        "outputId": "382ef401-5e94-4a61-cd9a-754c1761d6af"
      },
      "source": [
        "# conveniente a nomenclatura Yes/No para o momento de criar dummy variables : nomes de coluna mais legíveis\n",
        "d_SeniorCitizen = { 0 : 'No', 1 : 'Yes'}"
      ],
      "execution_count": null,
      "outputs": [
        {
          "output_type": "display_data",
          "data": {
            "text/html": [
              "\n",
              "            <script src=\"/static/components/requirejs/require.js\"></script>\n",
              "            <script>\n",
              "              requirejs.config({\n",
              "                paths: {\n",
              "                  base: '/static/base',\n",
              "                  plotly: 'https://cdn.plot.ly/plotly-latest.min.js?noext',\n",
              "                },\n",
              "              });\n",
              "            </script>\n",
              "            "
            ],
            "text/plain": [
              "<IPython.core.display.HTML object>"
            ]
          },
          "metadata": {
            "tags": []
          }
        }
      ]
    },
    {
      "cell_type": "code",
      "metadata": {
        "colab": {
          "base_uri": "https://localhost:8080/",
          "height": 119
        },
        "id": "bN2bscFvsM1Y",
        "outputId": "4f581eba-91b8-4b20-e0f6-23d2cf472d14"
      },
      "source": [
        "df_T['SeniorCitizen2'] = df_T['SeniorCitizen'].map( d_SeniorCitizen )\n",
        "df_T['SeniorCitizen2'].head()"
      ],
      "execution_count": null,
      "outputs": [
        {
          "output_type": "display_data",
          "data": {
            "text/html": [
              "\n",
              "            <script src=\"/static/components/requirejs/require.js\"></script>\n",
              "            <script>\n",
              "              requirejs.config({\n",
              "                paths: {\n",
              "                  base: '/static/base',\n",
              "                  plotly: 'https://cdn.plot.ly/plotly-latest.min.js?noext',\n",
              "                },\n",
              "              });\n",
              "            </script>\n",
              "            "
            ],
            "text/plain": [
              "<IPython.core.display.HTML object>"
            ]
          },
          "metadata": {
            "tags": []
          }
        },
        {
          "output_type": "execute_result",
          "data": {
            "text/plain": [
              "0    No\n",
              "1    No\n",
              "2    No\n",
              "3    No\n",
              "4    No\n",
              "Name: SeniorCitizen2, dtype: object"
            ]
          },
          "metadata": {
            "tags": []
          },
          "execution_count": 41
        }
      ]
    },
    {
      "cell_type": "code",
      "metadata": {
        "colab": {
          "base_uri": "https://localhost:8080/",
          "height": 309
        },
        "id": "3ZON2Ws5taWa",
        "outputId": "3b7881ab-ef15-470d-a019-e26568e62180"
      },
      "source": [
        "df_T.drop( columns=['SeniorCitizen'], inplace=True )\n",
        "df_T.head()"
      ],
      "execution_count": null,
      "outputs": [
        {
          "output_type": "display_data",
          "data": {
            "text/html": [
              "\n",
              "            <script src=\"/static/components/requirejs/require.js\"></script>\n",
              "            <script>\n",
              "              requirejs.config({\n",
              "                paths: {\n",
              "                  base: '/static/base',\n",
              "                  plotly: 'https://cdn.plot.ly/plotly-latest.min.js?noext',\n",
              "                },\n",
              "              });\n",
              "            </script>\n",
              "            "
            ],
            "text/plain": [
              "<IPython.core.display.HTML object>"
            ]
          },
          "metadata": {
            "tags": []
          }
        },
        {
          "output_type": "execute_result",
          "data": {
            "text/html": [
              "<div>\n",
              "<style scoped>\n",
              "    .dataframe tbody tr th:only-of-type {\n",
              "        vertical-align: middle;\n",
              "    }\n",
              "\n",
              "    .dataframe tbody tr th {\n",
              "        vertical-align: top;\n",
              "    }\n",
              "\n",
              "    .dataframe thead th {\n",
              "        text-align: right;\n",
              "    }\n",
              "</style>\n",
              "<table border=\"1\" class=\"dataframe\">\n",
              "  <thead>\n",
              "    <tr style=\"text-align: right;\">\n",
              "      <th></th>\n",
              "      <th>id</th>\n",
              "      <th>gender</th>\n",
              "      <th>Partner</th>\n",
              "      <th>Dependents</th>\n",
              "      <th>tenure</th>\n",
              "      <th>PhoneService</th>\n",
              "      <th>MultipleLines</th>\n",
              "      <th>InternetService</th>\n",
              "      <th>OnlineSecurity</th>\n",
              "      <th>OnlineBackup</th>\n",
              "      <th>DeviceProtection</th>\n",
              "      <th>TechSupport</th>\n",
              "      <th>StreamingTV</th>\n",
              "      <th>StreamingMovies</th>\n",
              "      <th>Contract</th>\n",
              "      <th>PaperlessBilling</th>\n",
              "      <th>PaymentMethod</th>\n",
              "      <th>MonthlyCharges</th>\n",
              "      <th>Churn</th>\n",
              "      <th>TotalCharges2</th>\n",
              "      <th>SeniorCitizen2</th>\n",
              "    </tr>\n",
              "  </thead>\n",
              "  <tbody>\n",
              "    <tr>\n",
              "      <th>0</th>\n",
              "      <td>4030</td>\n",
              "      <td>Female</td>\n",
              "      <td>No</td>\n",
              "      <td>No</td>\n",
              "      <td>56.0</td>\n",
              "      <td>No</td>\n",
              "      <td>No phone service</td>\n",
              "      <td>DSL</td>\n",
              "      <td>Yes</td>\n",
              "      <td>Yes</td>\n",
              "      <td>Yes</td>\n",
              "      <td>Yes</td>\n",
              "      <td>No</td>\n",
              "      <td>No</td>\n",
              "      <td>Two year</td>\n",
              "      <td>No</td>\n",
              "      <td>NaN</td>\n",
              "      <td>45.05</td>\n",
              "      <td>0</td>\n",
              "      <td>2560.10</td>\n",
              "      <td>No</td>\n",
              "    </tr>\n",
              "    <tr>\n",
              "      <th>1</th>\n",
              "      <td>6731</td>\n",
              "      <td>Male</td>\n",
              "      <td>Yes</td>\n",
              "      <td>Yes</td>\n",
              "      <td>NaN</td>\n",
              "      <td>Yes</td>\n",
              "      <td>No</td>\n",
              "      <td>No</td>\n",
              "      <td>No internet service</td>\n",
              "      <td>No internet service</td>\n",
              "      <td>No internet service</td>\n",
              "      <td>No internet service</td>\n",
              "      <td>No internet service</td>\n",
              "      <td>No internet service</td>\n",
              "      <td>One year</td>\n",
              "      <td>No</td>\n",
              "      <td>Mailed check</td>\n",
              "      <td>19.65</td>\n",
              "      <td>0</td>\n",
              "      <td>332.65</td>\n",
              "      <td>No</td>\n",
              "    </tr>\n",
              "    <tr>\n",
              "      <th>2</th>\n",
              "      <td>6479</td>\n",
              "      <td>Female</td>\n",
              "      <td>Yes</td>\n",
              "      <td>No</td>\n",
              "      <td>60.0</td>\n",
              "      <td>Yes</td>\n",
              "      <td>Yes</td>\n",
              "      <td>Fiber optic</td>\n",
              "      <td>No</td>\n",
              "      <td>Yes</td>\n",
              "      <td>Yes</td>\n",
              "      <td>Yes</td>\n",
              "      <td>Yes</td>\n",
              "      <td>Yes</td>\n",
              "      <td>Two year</td>\n",
              "      <td>Yes</td>\n",
              "      <td>Credit card (automatic)</td>\n",
              "      <td>110.80</td>\n",
              "      <td>0</td>\n",
              "      <td>6640.70</td>\n",
              "      <td>No</td>\n",
              "    </tr>\n",
              "    <tr>\n",
              "      <th>3</th>\n",
              "      <td>6861</td>\n",
              "      <td>Female</td>\n",
              "      <td>No</td>\n",
              "      <td>No</td>\n",
              "      <td>37.0</td>\n",
              "      <td>Yes</td>\n",
              "      <td>Yes</td>\n",
              "      <td>Fiber optic</td>\n",
              "      <td>No</td>\n",
              "      <td>Yes</td>\n",
              "      <td>Yes</td>\n",
              "      <td>No</td>\n",
              "      <td>Yes</td>\n",
              "      <td>Yes</td>\n",
              "      <td>Month-to-month</td>\n",
              "      <td>Yes</td>\n",
              "      <td>Bank transfer (automatic)</td>\n",
              "      <td>101.90</td>\n",
              "      <td>1</td>\n",
              "      <td>3545.35</td>\n",
              "      <td>No</td>\n",
              "    </tr>\n",
              "    <tr>\n",
              "      <th>4</th>\n",
              "      <td>3266</td>\n",
              "      <td>Male</td>\n",
              "      <td>Yes</td>\n",
              "      <td>Yes</td>\n",
              "      <td>29.0</td>\n",
              "      <td>Yes</td>\n",
              "      <td>No</td>\n",
              "      <td>Fiber optic</td>\n",
              "      <td>No</td>\n",
              "      <td>No</td>\n",
              "      <td>No</td>\n",
              "      <td>No</td>\n",
              "      <td>No</td>\n",
              "      <td>No</td>\n",
              "      <td>Month-to-month</td>\n",
              "      <td>Yes</td>\n",
              "      <td>Electronic check</td>\n",
              "      <td>70.75</td>\n",
              "      <td>1</td>\n",
              "      <td>1974.80</td>\n",
              "      <td>No</td>\n",
              "    </tr>\n",
              "  </tbody>\n",
              "</table>\n",
              "</div>"
            ],
            "text/plain": [
              "     id  gender Partner Dependents  tenure PhoneService     MultipleLines  \\\n",
              "0  4030  Female      No         No    56.0           No  No phone service   \n",
              "1  6731    Male     Yes        Yes     NaN          Yes                No   \n",
              "2  6479  Female     Yes         No    60.0          Yes               Yes   \n",
              "3  6861  Female      No         No    37.0          Yes               Yes   \n",
              "4  3266    Male     Yes        Yes    29.0          Yes                No   \n",
              "\n",
              "  InternetService       OnlineSecurity         OnlineBackup  \\\n",
              "0             DSL                  Yes                  Yes   \n",
              "1              No  No internet service  No internet service   \n",
              "2     Fiber optic                   No                  Yes   \n",
              "3     Fiber optic                   No                  Yes   \n",
              "4     Fiber optic                   No                   No   \n",
              "\n",
              "      DeviceProtection          TechSupport          StreamingTV  \\\n",
              "0                  Yes                  Yes                   No   \n",
              "1  No internet service  No internet service  No internet service   \n",
              "2                  Yes                  Yes                  Yes   \n",
              "3                  Yes                   No                  Yes   \n",
              "4                   No                   No                   No   \n",
              "\n",
              "       StreamingMovies        Contract PaperlessBilling  \\\n",
              "0                   No        Two year               No   \n",
              "1  No internet service        One year               No   \n",
              "2                  Yes        Two year              Yes   \n",
              "3                  Yes  Month-to-month              Yes   \n",
              "4                   No  Month-to-month              Yes   \n",
              "\n",
              "               PaymentMethod  MonthlyCharges  Churn  TotalCharges2  \\\n",
              "0                        NaN           45.05      0        2560.10   \n",
              "1               Mailed check           19.65      0         332.65   \n",
              "2    Credit card (automatic)          110.80      0        6640.70   \n",
              "3  Bank transfer (automatic)          101.90      1        3545.35   \n",
              "4           Electronic check           70.75      1        1974.80   \n",
              "\n",
              "  SeniorCitizen2  \n",
              "0             No  \n",
              "1             No  \n",
              "2             No  \n",
              "3             No  \n",
              "4             No  "
            ]
          },
          "metadata": {
            "tags": []
          },
          "execution_count": 43
        }
      ]
    },
    {
      "cell_type": "markdown",
      "metadata": {
        "id": "k0JTmZRrqe7X"
      },
      "source": [
        "# listas por tipos de variáveis"
      ]
    },
    {
      "cell_type": "code",
      "metadata": {
        "colab": {
          "base_uri": "https://localhost:8080/",
          "height": 34
        },
        "id": "eQHsaYY4qlQX",
        "outputId": "53ab6b70-8f16-4f7b-a1e2-0fafb24cb437"
      },
      "source": [
        "l_features_numericas = list( df_T.select_dtypes( [np.float64, np.int64] ) )\n",
        "l_features_numericas.remove('Churn')\n",
        "l_features_numericas"
      ],
      "execution_count": null,
      "outputs": [
        {
          "output_type": "display_data",
          "data": {
            "text/html": [
              "\n",
              "            <script src=\"/static/components/requirejs/require.js\"></script>\n",
              "            <script>\n",
              "              requirejs.config({\n",
              "                paths: {\n",
              "                  base: '/static/base',\n",
              "                  plotly: 'https://cdn.plot.ly/plotly-latest.min.js?noext',\n",
              "                },\n",
              "              });\n",
              "            </script>\n",
              "            "
            ],
            "text/plain": [
              "<IPython.core.display.HTML object>"
            ]
          },
          "metadata": {
            "tags": []
          }
        },
        {
          "output_type": "execute_result",
          "data": {
            "text/plain": [
              "['id', 'tenure', 'MonthlyCharges', 'TotalCharges2']"
            ]
          },
          "metadata": {
            "tags": []
          },
          "execution_count": 49
        }
      ]
    },
    {
      "cell_type": "code",
      "metadata": {
        "colab": {
          "base_uri": "https://localhost:8080/",
          "height": 289
        },
        "id": "OssrrdedwX0j",
        "outputId": "37e007af-794e-406f-d219-1d5ed7f73423"
      },
      "source": [
        "l_features_categoricas = list( df_T.select_dtypes( np.object ) )\n",
        "l_features_categoricas"
      ],
      "execution_count": null,
      "outputs": [
        {
          "output_type": "display_data",
          "data": {
            "text/html": [
              "\n",
              "            <script src=\"/static/components/requirejs/require.js\"></script>\n",
              "            <script>\n",
              "              requirejs.config({\n",
              "                paths: {\n",
              "                  base: '/static/base',\n",
              "                  plotly: 'https://cdn.plot.ly/plotly-latest.min.js?noext',\n",
              "                },\n",
              "              });\n",
              "            </script>\n",
              "            "
            ],
            "text/plain": [
              "<IPython.core.display.HTML object>"
            ]
          },
          "metadata": {
            "tags": []
          }
        },
        {
          "output_type": "execute_result",
          "data": {
            "text/plain": [
              "['gender',\n",
              " 'Partner',\n",
              " 'Dependents',\n",
              " 'PhoneService',\n",
              " 'MultipleLines',\n",
              " 'InternetService',\n",
              " 'OnlineSecurity',\n",
              " 'OnlineBackup',\n",
              " 'DeviceProtection',\n",
              " 'TechSupport',\n",
              " 'StreamingTV',\n",
              " 'StreamingMovies',\n",
              " 'Contract',\n",
              " 'PaperlessBilling',\n",
              " 'PaymentMethod',\n",
              " 'SeniorCitizen2']"
            ]
          },
          "metadata": {
            "tags": []
          },
          "execution_count": 51
        }
      ]
    },
    {
      "cell_type": "markdown",
      "metadata": {
        "id": "pXpIoxrewgQh"
      },
      "source": [
        "# DataViz com Facets"
      ]
    },
    {
      "cell_type": "code",
      "metadata": {
        "colab": {
          "base_uri": "https://localhost:8080/",
          "height": 17
        },
        "id": "V_WYETIowrHv",
        "outputId": "d4785899-3a56-42d2-d992-5fa4657f9d15"
      },
      "source": [
        "def mostra_dados( df ):\n",
        "  fsg = FeatureStatisticsGenerator()\n",
        "  dataframes = [ {'table': df, 'name': 'trainData'} ]\n",
        "  censusProto = fsg.ProtoFromDataFrames(dataframes)\n",
        "  protostr = base64.b64encode(censusProto.SerializeToString()).decode(\"utf-8\")\n",
        "  HTML_TEMPLATE = \"\"\"<script src=\"https://cdnjs.cloudflare.com/ajax/libs/webcomponentsjs/1.3.3/webcomponents-lite.js\"></script>\n",
        "        <link rel=\"import\" href=\"https://raw.githubusercontent.com/PAIR-code/facets/1.0.0/facets-dist/facets-jupyter.html\">\n",
        "        <facets-overview id=\"elem\"></facets-overview>\n",
        "        <script>\n",
        "          document.querySelector(\"#elem\").protoInput = \"{protostr}\";\n",
        "        </script>\"\"\"\n",
        "  html = HTML_TEMPLATE.format(protostr=protostr)\n",
        "  display(HTML(html))"
      ],
      "execution_count": null,
      "outputs": [
        {
          "output_type": "display_data",
          "data": {
            "text/html": [
              "\n",
              "            <script src=\"/static/components/requirejs/require.js\"></script>\n",
              "            <script>\n",
              "              requirejs.config({\n",
              "                paths: {\n",
              "                  base: '/static/base',\n",
              "                  plotly: 'https://cdn.plot.ly/plotly-latest.min.js?noext',\n",
              "                },\n",
              "              });\n",
              "            </script>\n",
              "            "
            ],
            "text/plain": [
              "<IPython.core.display.HTML object>"
            ]
          },
          "metadata": {
            "tags": []
          }
        }
      ]
    },
    {
      "cell_type": "code",
      "metadata": {
        "colab": {
          "base_uri": "https://localhost:8080/",
          "height": 1000
        },
        "id": "-YCo2Amaxa_x",
        "outputId": "702de2f4-4b23-4795-affb-529c2306cd5c"
      },
      "source": [
        "mostra_dados( df_T )"
      ],
      "execution_count": null,
      "outputs": [
        {
          "output_type": "display_data",
          "data": {
            "text/html": [
              "\n",
              "            <script src=\"/static/components/requirejs/require.js\"></script>\n",
              "            <script>\n",
              "              requirejs.config({\n",
              "                paths: {\n",
              "                  base: '/static/base',\n",
              "                  plotly: 'https://cdn.plot.ly/plotly-latest.min.js?noext',\n",
              "                },\n",
              "              });\n",
              "            </script>\n",
              "            "
            ],
            "text/plain": [
              "<IPython.core.display.HTML object>"
            ]
          },
          "metadata": {
            "tags": []
          }
        },
        {
          "output_type": "display_data",
          "data": {
            "text/html": [
              "<script src=\"https://cdnjs.cloudflare.com/ajax/libs/webcomponentsjs/1.3.3/webcomponents-lite.js\"></script>\n",
              "        <link rel=\"import\" href=\"https://raw.githubusercontent.com/PAIR-code/facets/1.0.0/facets-dist/facets-jupyter.html\">\n",
              "        <facets-overview id=\"elem\"></facets-overview>\n",
              "        <script>\n",
              "          document.querySelector(\"#elem\").protoInput = \"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\";\n",
              "        </script>"
            ],
            "text/plain": [
              "<IPython.core.display.HTML object>"
            ]
          },
          "metadata": {
            "tags": []
          }
        }
      ]
    },
    {
      "cell_type": "markdown",
      "metadata": {
        "id": "YOTrNMdaxueI"
      },
      "source": [
        "# tratamento dos missing values\n",
        "\n",
        "como trata os missing values ?\n",
        "\n",
        "construir modelos preditivos para estimas os valores missing em em função das demais variáveis que não são missing\n",
        "\n",
        "variáveis :\n",
        "numéricas\n",
        "\n",
        "* TotalCharges2 (0,14%)\n",
        "\n",
        "* tenure (8,18%)\n",
        "\n",
        "\n",
        "categóricas\n",
        "\n",
        "* PaymentMethod (1,76%)\n",
        "\n",
        "* Dependents (3,87%)\n"
      ]
    },
    {
      "cell_type": "code",
      "metadata": {
        "colab": {
          "base_uri": "https://localhost:8080/",
          "height": 17
        },
        "id": "D2HR4vK33CPT",
        "outputId": "dbecf470-1b12-48a5-9d16-a9eacbf6d834"
      },
      "source": [
        "# backup antes de transformações\n",
        "df_T_org = df_T.copy()"
      ],
      "execution_count": null,
      "outputs": [
        {
          "output_type": "display_data",
          "data": {
            "text/html": [
              "\n",
              "            <script src=\"/static/components/requirejs/require.js\"></script>\n",
              "            <script>\n",
              "              requirejs.config({\n",
              "                paths: {\n",
              "                  base: '/static/base',\n",
              "                  plotly: 'https://cdn.plot.ly/plotly-latest.min.js?noext',\n",
              "                },\n",
              "              });\n",
              "            </script>\n",
              "            "
            ],
            "text/plain": [
              "<IPython.core.display.HTML object>"
            ]
          },
          "metadata": {
            "tags": []
          }
        }
      ]
    },
    {
      "cell_type": "code",
      "metadata": {
        "colab": {
          "base_uri": "https://localhost:8080/",
          "height": 17
        },
        "id": "BB094kvE72_F",
        "outputId": "4e0a9a70-feb9-4c99-8343-dae62bfb3ee1"
      },
      "source": [
        "# restaura valores\n",
        "#df_T = df_T_org"
      ],
      "execution_count": null,
      "outputs": [
        {
          "output_type": "display_data",
          "data": {
            "text/html": [
              "\n",
              "            <script src=\"/static/components/requirejs/require.js\"></script>\n",
              "            <script>\n",
              "              requirejs.config({\n",
              "                paths: {\n",
              "                  base: '/static/base',\n",
              "                  plotly: 'https://cdn.plot.ly/plotly-latest.min.js?noext',\n",
              "                },\n",
              "              });\n",
              "            </script>\n",
              "            "
            ],
            "text/plain": [
              "<IPython.core.display.HTML object>"
            ]
          },
          "metadata": {
            "tags": []
          }
        }
      ]
    },
    {
      "cell_type": "code",
      "metadata": {
        "colab": {
          "base_uri": "https://localhost:8080/",
          "height": 493
        },
        "id": "iNsFF4Sc3jR7",
        "outputId": "e76c61df-e224-4bdc-eafc-553f684c5557"
      },
      "source": [
        "df_T.info()"
      ],
      "execution_count": null,
      "outputs": [
        {
          "output_type": "display_data",
          "data": {
            "text/html": [
              "\n",
              "            <script src=\"/static/components/requirejs/require.js\"></script>\n",
              "            <script>\n",
              "              requirejs.config({\n",
              "                paths: {\n",
              "                  base: '/static/base',\n",
              "                  plotly: 'https://cdn.plot.ly/plotly-latest.min.js?noext',\n",
              "                },\n",
              "              });\n",
              "            </script>\n",
              "            "
            ],
            "text/plain": [
              "<IPython.core.display.HTML object>"
            ]
          },
          "metadata": {
            "tags": []
          }
        },
        {
          "output_type": "stream",
          "text": [
            "<class 'pandas.core.frame.DataFrame'>\n",
            "RangeIndex: 5634 entries, 0 to 5633\n",
            "Data columns (total 21 columns):\n",
            " #   Column            Non-Null Count  Dtype  \n",
            "---  ------            --------------  -----  \n",
            " 0   id                5634 non-null   int64  \n",
            " 1   gender            5634 non-null   object \n",
            " 2   Partner           5634 non-null   object \n",
            " 3   Dependents        5416 non-null   object \n",
            " 4   tenure            5173 non-null   float64\n",
            " 5   PhoneService      5634 non-null   object \n",
            " 6   MultipleLines     5634 non-null   object \n",
            " 7   InternetService   5634 non-null   object \n",
            " 8   OnlineSecurity    5634 non-null   object \n",
            " 9   OnlineBackup      5634 non-null   object \n",
            " 10  DeviceProtection  5634 non-null   object \n",
            " 11  TechSupport       5634 non-null   object \n",
            " 12  StreamingTV       5634 non-null   object \n",
            " 13  StreamingMovies   5634 non-null   object \n",
            " 14  Contract          5634 non-null   object \n",
            " 15  PaperlessBilling  5634 non-null   object \n",
            " 16  PaymentMethod     5535 non-null   object \n",
            " 17  MonthlyCharges    5634 non-null   float64\n",
            " 18  Churn             5634 non-null   int64  \n",
            " 19  TotalCharges2     5626 non-null   float64\n",
            " 20  SeniorCitizen2    5634 non-null   object \n",
            "dtypes: float64(3), int64(2), object(16)\n",
            "memory usage: 924.5+ KB\n"
          ],
          "name": "stdout"
        }
      ]
    },
    {
      "cell_type": "code",
      "metadata": {
        "colab": {
          "base_uri": "https://localhost:8080/",
          "height": 17
        },
        "id": "Whgef_K5xr-A",
        "outputId": "7610fe55-5722-4c95-8e3b-3ce1d8773f67"
      },
      "source": [
        "# função para construir modelos ML para estimar os missing values\n",
        "\n",
        "def prepara_dataframes( df, target, l_colunas_mv ):\n",
        "  nome_df2 = 'df' + '_' + target + '_sem_mv' # constrói nome de um novo dataframe\n",
        "  print( nome_df2 )\n",
        "\n",
        "  l_colunas_mv.remove( target )\n",
        "  print( f'Features ignoradas : {l_colunas_mv}')\n",
        "\n",
        "  df2 = df.copy()\n",
        "  df3 = df.copy()\n",
        "\n",
        "  df2 = df2.dropna() # exclui todas as linhas com missing values\n",
        "  df2 = df2.drop( columns=['Churn'], axis=1 )\n",
        "\n",
        "  # para reduzir o bias, drop features que são missing values\n",
        "  df2 = df2.drop( columns=l_colunas_mv, axis=1 )\n",
        "  print( df2.isna().sum() )\n",
        "\n",
        "  # apontar os missing values\n",
        "  df3[target + '_mv'] = np.where( df3[target].isna(), 1, 0)\n",
        "\n",
        "  return ( df2, df3 )"
      ],
      "execution_count": null,
      "outputs": [
        {
          "output_type": "display_data",
          "data": {
            "text/html": [
              "\n",
              "            <script src=\"/static/components/requirejs/require.js\"></script>\n",
              "            <script>\n",
              "              requirejs.config({\n",
              "                paths: {\n",
              "                  base: '/static/base',\n",
              "                  plotly: 'https://cdn.plot.ly/plotly-latest.min.js?noext',\n",
              "                },\n",
              "              });\n",
              "            </script>\n",
              "            "
            ],
            "text/plain": [
              "<IPython.core.display.HTML object>"
            ]
          },
          "metadata": {
            "tags": []
          }
        }
      ]
    },
    {
      "cell_type": "code",
      "metadata": {
        "colab": {
          "base_uri": "https://localhost:8080/",
          "height": 1000
        },
        "id": "nV5gY_vX37KT",
        "outputId": "22a4d3ba-4b7c-4e3f-c973-ac2721d21634"
      },
      "source": [
        "# colunas com missing values\n",
        "l_colunas_mv = ['TotalCharges2','tenure','PaymentMethod','Dependents']\n",
        "\n",
        "# l_colunas_mv é modificada pela função 'prepara_dataframes()'\n",
        "l_colunas_loop = l_colunas_mv.copy()\n",
        "\n",
        "# trata as variáveis em loop : 'TotalCharges2', 'tenure', 'PaymentMethod', 'Dependents'\n",
        "\n",
        "for target in l_colunas_loop:\n",
        "  nome_df2 = 'df' + '_' + target + '_sem_mv'\n",
        "  print( nome_df2 )\n",
        "  vars()[nome_df2], df_T = prepara_dataframes( df_T, target, l_colunas_mv )"
      ],
      "execution_count": null,
      "outputs": [
        {
          "output_type": "display_data",
          "data": {
            "text/html": [
              "\n",
              "            <script src=\"/static/components/requirejs/require.js\"></script>\n",
              "            <script>\n",
              "              requirejs.config({\n",
              "                paths: {\n",
              "                  base: '/static/base',\n",
              "                  plotly: 'https://cdn.plot.ly/plotly-latest.min.js?noext',\n",
              "                },\n",
              "              });\n",
              "            </script>\n",
              "            "
            ],
            "text/plain": [
              "<IPython.core.display.HTML object>"
            ]
          },
          "metadata": {
            "tags": []
          }
        },
        {
          "output_type": "stream",
          "text": [
            "df_TotalCharges2_sem_mv\n",
            "df_TotalCharges2_sem_mv\n",
            "Features ignoradas : ['tenure', 'PaymentMethod', 'Dependents']\n",
            "id                  0\n",
            "gender              0\n",
            "Partner             0\n",
            "PhoneService        0\n",
            "MultipleLines       0\n",
            "InternetService     0\n",
            "OnlineSecurity      0\n",
            "OnlineBackup        0\n",
            "DeviceProtection    0\n",
            "TechSupport         0\n",
            "StreamingTV         0\n",
            "StreamingMovies     0\n",
            "Contract            0\n",
            "PaperlessBilling    0\n",
            "MonthlyCharges      0\n",
            "TotalCharges2       0\n",
            "SeniorCitizen2      0\n",
            "dtype: int64\n",
            "df_tenure_sem_mv\n",
            "df_tenure_sem_mv\n",
            "Features ignoradas : ['PaymentMethod', 'Dependents']\n",
            "id                  0\n",
            "gender              0\n",
            "Partner             0\n",
            "tenure              0\n",
            "PhoneService        0\n",
            "MultipleLines       0\n",
            "InternetService     0\n",
            "OnlineSecurity      0\n",
            "OnlineBackup        0\n",
            "DeviceProtection    0\n",
            "TechSupport         0\n",
            "StreamingTV         0\n",
            "StreamingMovies     0\n",
            "Contract            0\n",
            "PaperlessBilling    0\n",
            "MonthlyCharges      0\n",
            "TotalCharges2       0\n",
            "SeniorCitizen2      0\n",
            "TotalCharges2_mv    0\n",
            "dtype: int64\n",
            "df_PaymentMethod_sem_mv\n",
            "df_PaymentMethod_sem_mv\n",
            "Features ignoradas : ['Dependents']\n",
            "id                  0\n",
            "gender              0\n",
            "Partner             0\n",
            "tenure              0\n",
            "PhoneService        0\n",
            "MultipleLines       0\n",
            "InternetService     0\n",
            "OnlineSecurity      0\n",
            "OnlineBackup        0\n",
            "DeviceProtection    0\n",
            "TechSupport         0\n",
            "StreamingTV         0\n",
            "StreamingMovies     0\n",
            "Contract            0\n",
            "PaperlessBilling    0\n",
            "PaymentMethod       0\n",
            "MonthlyCharges      0\n",
            "TotalCharges2       0\n",
            "SeniorCitizen2      0\n",
            "TotalCharges2_mv    0\n",
            "tenure_mv           0\n",
            "dtype: int64\n",
            "df_Dependents_sem_mv\n",
            "df_Dependents_sem_mv\n",
            "Features ignoradas : []\n",
            "id                  0\n",
            "gender              0\n",
            "Partner             0\n",
            "Dependents          0\n",
            "tenure              0\n",
            "PhoneService        0\n",
            "MultipleLines       0\n",
            "InternetService     0\n",
            "OnlineSecurity      0\n",
            "OnlineBackup        0\n",
            "DeviceProtection    0\n",
            "TechSupport         0\n",
            "StreamingTV         0\n",
            "StreamingMovies     0\n",
            "Contract            0\n",
            "PaperlessBilling    0\n",
            "PaymentMethod       0\n",
            "MonthlyCharges      0\n",
            "TotalCharges2       0\n",
            "SeniorCitizen2      0\n",
            "TotalCharges2_mv    0\n",
            "tenure_mv           0\n",
            "PaymentMethod_mv    0\n",
            "dtype: int64\n"
          ],
          "name": "stdout"
        }
      ]
    },
    {
      "cell_type": "code",
      "metadata": {
        "colab": {
          "base_uri": "https://localhost:8080/",
          "height": 575
        },
        "id": "MltTLV7Y7gG7",
        "outputId": "f3ea8386-8686-4451-855a-698994f60921"
      },
      "source": [
        "df_TotalCharges2_sem_mv"
      ],
      "execution_count": null,
      "outputs": [
        {
          "output_type": "display_data",
          "data": {
            "text/html": [
              "\n",
              "            <script src=\"/static/components/requirejs/require.js\"></script>\n",
              "            <script>\n",
              "              requirejs.config({\n",
              "                paths: {\n",
              "                  base: '/static/base',\n",
              "                  plotly: 'https://cdn.plot.ly/plotly-latest.min.js?noext',\n",
              "                },\n",
              "              });\n",
              "            </script>\n",
              "            "
            ],
            "text/plain": [
              "<IPython.core.display.HTML object>"
            ]
          },
          "metadata": {
            "tags": []
          }
        },
        {
          "output_type": "execute_result",
          "data": {
            "text/html": [
              "<div>\n",
              "<style scoped>\n",
              "    .dataframe tbody tr th:only-of-type {\n",
              "        vertical-align: middle;\n",
              "    }\n",
              "\n",
              "    .dataframe tbody tr th {\n",
              "        vertical-align: top;\n",
              "    }\n",
              "\n",
              "    .dataframe thead th {\n",
              "        text-align: right;\n",
              "    }\n",
              "</style>\n",
              "<table border=\"1\" class=\"dataframe\">\n",
              "  <thead>\n",
              "    <tr style=\"text-align: right;\">\n",
              "      <th></th>\n",
              "      <th>id</th>\n",
              "      <th>gender</th>\n",
              "      <th>Partner</th>\n",
              "      <th>PhoneService</th>\n",
              "      <th>MultipleLines</th>\n",
              "      <th>InternetService</th>\n",
              "      <th>OnlineSecurity</th>\n",
              "      <th>OnlineBackup</th>\n",
              "      <th>DeviceProtection</th>\n",
              "      <th>TechSupport</th>\n",
              "      <th>StreamingTV</th>\n",
              "      <th>StreamingMovies</th>\n",
              "      <th>Contract</th>\n",
              "      <th>PaperlessBilling</th>\n",
              "      <th>MonthlyCharges</th>\n",
              "      <th>TotalCharges2</th>\n",
              "      <th>SeniorCitizen2</th>\n",
              "    </tr>\n",
              "  </thead>\n",
              "  <tbody>\n",
              "    <tr>\n",
              "      <th>2</th>\n",
              "      <td>6479</td>\n",
              "      <td>Female</td>\n",
              "      <td>Yes</td>\n",
              "      <td>Yes</td>\n",
              "      <td>Yes</td>\n",
              "      <td>Fiber optic</td>\n",
              "      <td>No</td>\n",
              "      <td>Yes</td>\n",
              "      <td>Yes</td>\n",
              "      <td>Yes</td>\n",
              "      <td>Yes</td>\n",
              "      <td>Yes</td>\n",
              "      <td>Two year</td>\n",
              "      <td>Yes</td>\n",
              "      <td>110.80</td>\n",
              "      <td>6640.70</td>\n",
              "      <td>No</td>\n",
              "    </tr>\n",
              "    <tr>\n",
              "      <th>3</th>\n",
              "      <td>6861</td>\n",
              "      <td>Female</td>\n",
              "      <td>No</td>\n",
              "      <td>Yes</td>\n",
              "      <td>Yes</td>\n",
              "      <td>Fiber optic</td>\n",
              "      <td>No</td>\n",
              "      <td>Yes</td>\n",
              "      <td>Yes</td>\n",
              "      <td>No</td>\n",
              "      <td>Yes</td>\n",
              "      <td>Yes</td>\n",
              "      <td>Month-to-month</td>\n",
              "      <td>Yes</td>\n",
              "      <td>101.90</td>\n",
              "      <td>3545.35</td>\n",
              "      <td>No</td>\n",
              "    </tr>\n",
              "    <tr>\n",
              "      <th>4</th>\n",
              "      <td>3266</td>\n",
              "      <td>Male</td>\n",
              "      <td>Yes</td>\n",
              "      <td>Yes</td>\n",
              "      <td>No</td>\n",
              "      <td>Fiber optic</td>\n",
              "      <td>No</td>\n",
              "      <td>No</td>\n",
              "      <td>No</td>\n",
              "      <td>No</td>\n",
              "      <td>No</td>\n",
              "      <td>No</td>\n",
              "      <td>Month-to-month</td>\n",
              "      <td>Yes</td>\n",
              "      <td>70.75</td>\n",
              "      <td>1974.80</td>\n",
              "      <td>No</td>\n",
              "    </tr>\n",
              "    <tr>\n",
              "      <th>5</th>\n",
              "      <td>6368</td>\n",
              "      <td>Male</td>\n",
              "      <td>No</td>\n",
              "      <td>No</td>\n",
              "      <td>No phone service</td>\n",
              "      <td>DSL</td>\n",
              "      <td>Yes</td>\n",
              "      <td>No</td>\n",
              "      <td>Yes</td>\n",
              "      <td>Yes</td>\n",
              "      <td>No</td>\n",
              "      <td>Yes</td>\n",
              "      <td>Two year</td>\n",
              "      <td>No</td>\n",
              "      <td>48.40</td>\n",
              "      <td>3442.80</td>\n",
              "      <td>No</td>\n",
              "    </tr>\n",
              "    <tr>\n",
              "      <th>6</th>\n",
              "      <td>5830</td>\n",
              "      <td>Male</td>\n",
              "      <td>Yes</td>\n",
              "      <td>No</td>\n",
              "      <td>No phone service</td>\n",
              "      <td>DSL</td>\n",
              "      <td>Yes</td>\n",
              "      <td>No</td>\n",
              "      <td>Yes</td>\n",
              "      <td>Yes</td>\n",
              "      <td>Yes</td>\n",
              "      <td>Yes</td>\n",
              "      <td>One year</td>\n",
              "      <td>No</td>\n",
              "      <td>59.95</td>\n",
              "      <td>1848.80</td>\n",
              "      <td>No</td>\n",
              "    </tr>\n",
              "    <tr>\n",
              "      <th>...</th>\n",
              "      <td>...</td>\n",
              "      <td>...</td>\n",
              "      <td>...</td>\n",
              "      <td>...</td>\n",
              "      <td>...</td>\n",
              "      <td>...</td>\n",
              "      <td>...</td>\n",
              "      <td>...</td>\n",
              "      <td>...</td>\n",
              "      <td>...</td>\n",
              "      <td>...</td>\n",
              "      <td>...</td>\n",
              "      <td>...</td>\n",
              "      <td>...</td>\n",
              "      <td>...</td>\n",
              "      <td>...</td>\n",
              "      <td>...</td>\n",
              "    </tr>\n",
              "    <tr>\n",
              "      <th>5628</th>\n",
              "      <td>946</td>\n",
              "      <td>Female</td>\n",
              "      <td>No</td>\n",
              "      <td>Yes</td>\n",
              "      <td>Yes</td>\n",
              "      <td>Fiber optic</td>\n",
              "      <td>No</td>\n",
              "      <td>No</td>\n",
              "      <td>No</td>\n",
              "      <td>No</td>\n",
              "      <td>No</td>\n",
              "      <td>No</td>\n",
              "      <td>Month-to-month</td>\n",
              "      <td>No</td>\n",
              "      <td>74.40</td>\n",
              "      <td>215.80</td>\n",
              "      <td>No</td>\n",
              "    </tr>\n",
              "    <tr>\n",
              "      <th>5629</th>\n",
              "      <td>6684</td>\n",
              "      <td>Male</td>\n",
              "      <td>No</td>\n",
              "      <td>No</td>\n",
              "      <td>No phone service</td>\n",
              "      <td>DSL</td>\n",
              "      <td>No</td>\n",
              "      <td>No</td>\n",
              "      <td>Yes</td>\n",
              "      <td>Yes</td>\n",
              "      <td>No</td>\n",
              "      <td>Yes</td>\n",
              "      <td>One year</td>\n",
              "      <td>No</td>\n",
              "      <td>44.15</td>\n",
              "      <td>1931.30</td>\n",
              "      <td>No</td>\n",
              "    </tr>\n",
              "    <tr>\n",
              "      <th>5631</th>\n",
              "      <td>4803</td>\n",
              "      <td>Female</td>\n",
              "      <td>No</td>\n",
              "      <td>Yes</td>\n",
              "      <td>No</td>\n",
              "      <td>DSL</td>\n",
              "      <td>No</td>\n",
              "      <td>Yes</td>\n",
              "      <td>No</td>\n",
              "      <td>Yes</td>\n",
              "      <td>No</td>\n",
              "      <td>No</td>\n",
              "      <td>Month-to-month</td>\n",
              "      <td>No</td>\n",
              "      <td>54.65</td>\n",
              "      <td>1517.50</td>\n",
              "      <td>No</td>\n",
              "    </tr>\n",
              "    <tr>\n",
              "      <th>5632</th>\n",
              "      <td>6317</td>\n",
              "      <td>Male</td>\n",
              "      <td>Yes</td>\n",
              "      <td>Yes</td>\n",
              "      <td>Yes</td>\n",
              "      <td>No</td>\n",
              "      <td>No internet service</td>\n",
              "      <td>No internet service</td>\n",
              "      <td>No internet service</td>\n",
              "      <td>No internet service</td>\n",
              "      <td>No internet service</td>\n",
              "      <td>No internet service</td>\n",
              "      <td>Two year</td>\n",
              "      <td>No</td>\n",
              "      <td>25.25</td>\n",
              "      <td>1573.05</td>\n",
              "      <td>No</td>\n",
              "    </tr>\n",
              "    <tr>\n",
              "      <th>5633</th>\n",
              "      <td>103</td>\n",
              "      <td>Male</td>\n",
              "      <td>No</td>\n",
              "      <td>Yes</td>\n",
              "      <td>Yes</td>\n",
              "      <td>Fiber optic</td>\n",
              "      <td>No</td>\n",
              "      <td>No</td>\n",
              "      <td>Yes</td>\n",
              "      <td>Yes</td>\n",
              "      <td>Yes</td>\n",
              "      <td>No</td>\n",
              "      <td>One year</td>\n",
              "      <td>No</td>\n",
              "      <td>95.00</td>\n",
              "      <td>3605.60</td>\n",
              "      <td>No</td>\n",
              "    </tr>\n",
              "  </tbody>\n",
              "</table>\n",
              "<p>4876 rows × 17 columns</p>\n",
              "</div>"
            ],
            "text/plain": [
              "        id  gender Partner PhoneService     MultipleLines InternetService  \\\n",
              "2     6479  Female     Yes          Yes               Yes     Fiber optic   \n",
              "3     6861  Female      No          Yes               Yes     Fiber optic   \n",
              "4     3266    Male     Yes          Yes                No     Fiber optic   \n",
              "5     6368    Male      No           No  No phone service             DSL   \n",
              "6     5830    Male     Yes           No  No phone service             DSL   \n",
              "...    ...     ...     ...          ...               ...             ...   \n",
              "5628   946  Female      No          Yes               Yes     Fiber optic   \n",
              "5629  6684    Male      No           No  No phone service             DSL   \n",
              "5631  4803  Female      No          Yes                No             DSL   \n",
              "5632  6317    Male     Yes          Yes               Yes              No   \n",
              "5633   103    Male      No          Yes               Yes     Fiber optic   \n",
              "\n",
              "           OnlineSecurity         OnlineBackup     DeviceProtection  \\\n",
              "2                      No                  Yes                  Yes   \n",
              "3                      No                  Yes                  Yes   \n",
              "4                      No                   No                   No   \n",
              "5                     Yes                   No                  Yes   \n",
              "6                     Yes                   No                  Yes   \n",
              "...                   ...                  ...                  ...   \n",
              "5628                   No                   No                   No   \n",
              "5629                   No                   No                  Yes   \n",
              "5631                   No                  Yes                   No   \n",
              "5632  No internet service  No internet service  No internet service   \n",
              "5633                   No                   No                  Yes   \n",
              "\n",
              "              TechSupport          StreamingTV      StreamingMovies  \\\n",
              "2                     Yes                  Yes                  Yes   \n",
              "3                      No                  Yes                  Yes   \n",
              "4                      No                   No                   No   \n",
              "5                     Yes                   No                  Yes   \n",
              "6                     Yes                  Yes                  Yes   \n",
              "...                   ...                  ...                  ...   \n",
              "5628                   No                   No                   No   \n",
              "5629                  Yes                   No                  Yes   \n",
              "5631                  Yes                   No                   No   \n",
              "5632  No internet service  No internet service  No internet service   \n",
              "5633                  Yes                  Yes                   No   \n",
              "\n",
              "            Contract PaperlessBilling  MonthlyCharges  TotalCharges2  \\\n",
              "2           Two year              Yes          110.80        6640.70   \n",
              "3     Month-to-month              Yes          101.90        3545.35   \n",
              "4     Month-to-month              Yes           70.75        1974.80   \n",
              "5           Two year               No           48.40        3442.80   \n",
              "6           One year               No           59.95        1848.80   \n",
              "...              ...              ...             ...            ...   \n",
              "5628  Month-to-month               No           74.40         215.80   \n",
              "5629        One year               No           44.15        1931.30   \n",
              "5631  Month-to-month               No           54.65        1517.50   \n",
              "5632        Two year               No           25.25        1573.05   \n",
              "5633        One year               No           95.00        3605.60   \n",
              "\n",
              "     SeniorCitizen2  \n",
              "2                No  \n",
              "3                No  \n",
              "4                No  \n",
              "5                No  \n",
              "6                No  \n",
              "...             ...  \n",
              "5628             No  \n",
              "5629             No  \n",
              "5631             No  \n",
              "5632             No  \n",
              "5633             No  \n",
              "\n",
              "[4876 rows x 17 columns]"
            ]
          },
          "metadata": {
            "tags": []
          },
          "execution_count": 77
        }
      ]
    },
    {
      "cell_type": "code",
      "metadata": {
        "colab": {
          "base_uri": "https://localhost:8080/",
          "height": 575
        },
        "id": "Vtp5TBdN8o6U",
        "outputId": "353b068b-e82f-4c96-8c37-79b1fea09f46"
      },
      "source": [
        "df_tenure_sem_mv"
      ],
      "execution_count": null,
      "outputs": [
        {
          "output_type": "display_data",
          "data": {
            "text/html": [
              "\n",
              "            <script src=\"/static/components/requirejs/require.js\"></script>\n",
              "            <script>\n",
              "              requirejs.config({\n",
              "                paths: {\n",
              "                  base: '/static/base',\n",
              "                  plotly: 'https://cdn.plot.ly/plotly-latest.min.js?noext',\n",
              "                },\n",
              "              });\n",
              "            </script>\n",
              "            "
            ],
            "text/plain": [
              "<IPython.core.display.HTML object>"
            ]
          },
          "metadata": {
            "tags": []
          }
        },
        {
          "output_type": "execute_result",
          "data": {
            "text/html": [
              "<div>\n",
              "<style scoped>\n",
              "    .dataframe tbody tr th:only-of-type {\n",
              "        vertical-align: middle;\n",
              "    }\n",
              "\n",
              "    .dataframe tbody tr th {\n",
              "        vertical-align: top;\n",
              "    }\n",
              "\n",
              "    .dataframe thead th {\n",
              "        text-align: right;\n",
              "    }\n",
              "</style>\n",
              "<table border=\"1\" class=\"dataframe\">\n",
              "  <thead>\n",
              "    <tr style=\"text-align: right;\">\n",
              "      <th></th>\n",
              "      <th>id</th>\n",
              "      <th>gender</th>\n",
              "      <th>Partner</th>\n",
              "      <th>tenure</th>\n",
              "      <th>PhoneService</th>\n",
              "      <th>MultipleLines</th>\n",
              "      <th>InternetService</th>\n",
              "      <th>OnlineSecurity</th>\n",
              "      <th>OnlineBackup</th>\n",
              "      <th>DeviceProtection</th>\n",
              "      <th>TechSupport</th>\n",
              "      <th>StreamingTV</th>\n",
              "      <th>StreamingMovies</th>\n",
              "      <th>Contract</th>\n",
              "      <th>PaperlessBilling</th>\n",
              "      <th>MonthlyCharges</th>\n",
              "      <th>TotalCharges2</th>\n",
              "      <th>SeniorCitizen2</th>\n",
              "      <th>TotalCharges2_mv</th>\n",
              "    </tr>\n",
              "  </thead>\n",
              "  <tbody>\n",
              "    <tr>\n",
              "      <th>2</th>\n",
              "      <td>6479</td>\n",
              "      <td>Female</td>\n",
              "      <td>Yes</td>\n",
              "      <td>60.0</td>\n",
              "      <td>Yes</td>\n",
              "      <td>Yes</td>\n",
              "      <td>Fiber optic</td>\n",
              "      <td>No</td>\n",
              "      <td>Yes</td>\n",
              "      <td>Yes</td>\n",
              "      <td>Yes</td>\n",
              "      <td>Yes</td>\n",
              "      <td>Yes</td>\n",
              "      <td>Two year</td>\n",
              "      <td>Yes</td>\n",
              "      <td>110.80</td>\n",
              "      <td>6640.70</td>\n",
              "      <td>No</td>\n",
              "      <td>0</td>\n",
              "    </tr>\n",
              "    <tr>\n",
              "      <th>3</th>\n",
              "      <td>6861</td>\n",
              "      <td>Female</td>\n",
              "      <td>No</td>\n",
              "      <td>37.0</td>\n",
              "      <td>Yes</td>\n",
              "      <td>Yes</td>\n",
              "      <td>Fiber optic</td>\n",
              "      <td>No</td>\n",
              "      <td>Yes</td>\n",
              "      <td>Yes</td>\n",
              "      <td>No</td>\n",
              "      <td>Yes</td>\n",
              "      <td>Yes</td>\n",
              "      <td>Month-to-month</td>\n",
              "      <td>Yes</td>\n",
              "      <td>101.90</td>\n",
              "      <td>3545.35</td>\n",
              "      <td>No</td>\n",
              "      <td>0</td>\n",
              "    </tr>\n",
              "    <tr>\n",
              "      <th>4</th>\n",
              "      <td>3266</td>\n",
              "      <td>Male</td>\n",
              "      <td>Yes</td>\n",
              "      <td>29.0</td>\n",
              "      <td>Yes</td>\n",
              "      <td>No</td>\n",
              "      <td>Fiber optic</td>\n",
              "      <td>No</td>\n",
              "      <td>No</td>\n",
              "      <td>No</td>\n",
              "      <td>No</td>\n",
              "      <td>No</td>\n",
              "      <td>No</td>\n",
              "      <td>Month-to-month</td>\n",
              "      <td>Yes</td>\n",
              "      <td>70.75</td>\n",
              "      <td>1974.80</td>\n",
              "      <td>No</td>\n",
              "      <td>0</td>\n",
              "    </tr>\n",
              "    <tr>\n",
              "      <th>5</th>\n",
              "      <td>6368</td>\n",
              "      <td>Male</td>\n",
              "      <td>No</td>\n",
              "      <td>70.0</td>\n",
              "      <td>No</td>\n",
              "      <td>No phone service</td>\n",
              "      <td>DSL</td>\n",
              "      <td>Yes</td>\n",
              "      <td>No</td>\n",
              "      <td>Yes</td>\n",
              "      <td>Yes</td>\n",
              "      <td>No</td>\n",
              "      <td>Yes</td>\n",
              "      <td>Two year</td>\n",
              "      <td>No</td>\n",
              "      <td>48.40</td>\n",
              "      <td>3442.80</td>\n",
              "      <td>No</td>\n",
              "      <td>0</td>\n",
              "    </tr>\n",
              "    <tr>\n",
              "      <th>6</th>\n",
              "      <td>5830</td>\n",
              "      <td>Male</td>\n",
              "      <td>Yes</td>\n",
              "      <td>31.0</td>\n",
              "      <td>No</td>\n",
              "      <td>No phone service</td>\n",
              "      <td>DSL</td>\n",
              "      <td>Yes</td>\n",
              "      <td>No</td>\n",
              "      <td>Yes</td>\n",
              "      <td>Yes</td>\n",
              "      <td>Yes</td>\n",
              "      <td>Yes</td>\n",
              "      <td>One year</td>\n",
              "      <td>No</td>\n",
              "      <td>59.95</td>\n",
              "      <td>1848.80</td>\n",
              "      <td>No</td>\n",
              "      <td>0</td>\n",
              "    </tr>\n",
              "    <tr>\n",
              "      <th>...</th>\n",
              "      <td>...</td>\n",
              "      <td>...</td>\n",
              "      <td>...</td>\n",
              "      <td>...</td>\n",
              "      <td>...</td>\n",
              "      <td>...</td>\n",
              "      <td>...</td>\n",
              "      <td>...</td>\n",
              "      <td>...</td>\n",
              "      <td>...</td>\n",
              "      <td>...</td>\n",
              "      <td>...</td>\n",
              "      <td>...</td>\n",
              "      <td>...</td>\n",
              "      <td>...</td>\n",
              "      <td>...</td>\n",
              "      <td>...</td>\n",
              "      <td>...</td>\n",
              "      <td>...</td>\n",
              "    </tr>\n",
              "    <tr>\n",
              "      <th>5628</th>\n",
              "      <td>946</td>\n",
              "      <td>Female</td>\n",
              "      <td>No</td>\n",
              "      <td>3.0</td>\n",
              "      <td>Yes</td>\n",
              "      <td>Yes</td>\n",
              "      <td>Fiber optic</td>\n",
              "      <td>No</td>\n",
              "      <td>No</td>\n",
              "      <td>No</td>\n",
              "      <td>No</td>\n",
              "      <td>No</td>\n",
              "      <td>No</td>\n",
              "      <td>Month-to-month</td>\n",
              "      <td>No</td>\n",
              "      <td>74.40</td>\n",
              "      <td>215.80</td>\n",
              "      <td>No</td>\n",
              "      <td>0</td>\n",
              "    </tr>\n",
              "    <tr>\n",
              "      <th>5629</th>\n",
              "      <td>6684</td>\n",
              "      <td>Male</td>\n",
              "      <td>No</td>\n",
              "      <td>43.0</td>\n",
              "      <td>No</td>\n",
              "      <td>No phone service</td>\n",
              "      <td>DSL</td>\n",
              "      <td>No</td>\n",
              "      <td>No</td>\n",
              "      <td>Yes</td>\n",
              "      <td>Yes</td>\n",
              "      <td>No</td>\n",
              "      <td>Yes</td>\n",
              "      <td>One year</td>\n",
              "      <td>No</td>\n",
              "      <td>44.15</td>\n",
              "      <td>1931.30</td>\n",
              "      <td>No</td>\n",
              "      <td>0</td>\n",
              "    </tr>\n",
              "    <tr>\n",
              "      <th>5631</th>\n",
              "      <td>4803</td>\n",
              "      <td>Female</td>\n",
              "      <td>No</td>\n",
              "      <td>28.0</td>\n",
              "      <td>Yes</td>\n",
              "      <td>No</td>\n",
              "      <td>DSL</td>\n",
              "      <td>No</td>\n",
              "      <td>Yes</td>\n",
              "      <td>No</td>\n",
              "      <td>Yes</td>\n",
              "      <td>No</td>\n",
              "      <td>No</td>\n",
              "      <td>Month-to-month</td>\n",
              "      <td>No</td>\n",
              "      <td>54.65</td>\n",
              "      <td>1517.50</td>\n",
              "      <td>No</td>\n",
              "      <td>0</td>\n",
              "    </tr>\n",
              "    <tr>\n",
              "      <th>5632</th>\n",
              "      <td>6317</td>\n",
              "      <td>Male</td>\n",
              "      <td>Yes</td>\n",
              "      <td>63.0</td>\n",
              "      <td>Yes</td>\n",
              "      <td>Yes</td>\n",
              "      <td>No</td>\n",
              "      <td>No internet service</td>\n",
              "      <td>No internet service</td>\n",
              "      <td>No internet service</td>\n",
              "      <td>No internet service</td>\n",
              "      <td>No internet service</td>\n",
              "      <td>No internet service</td>\n",
              "      <td>Two year</td>\n",
              "      <td>No</td>\n",
              "      <td>25.25</td>\n",
              "      <td>1573.05</td>\n",
              "      <td>No</td>\n",
              "      <td>0</td>\n",
              "    </tr>\n",
              "    <tr>\n",
              "      <th>5633</th>\n",
              "      <td>103</td>\n",
              "      <td>Male</td>\n",
              "      <td>No</td>\n",
              "      <td>38.0</td>\n",
              "      <td>Yes</td>\n",
              "      <td>Yes</td>\n",
              "      <td>Fiber optic</td>\n",
              "      <td>No</td>\n",
              "      <td>No</td>\n",
              "      <td>Yes</td>\n",
              "      <td>Yes</td>\n",
              "      <td>Yes</td>\n",
              "      <td>No</td>\n",
              "      <td>One year</td>\n",
              "      <td>No</td>\n",
              "      <td>95.00</td>\n",
              "      <td>3605.60</td>\n",
              "      <td>No</td>\n",
              "      <td>0</td>\n",
              "    </tr>\n",
              "  </tbody>\n",
              "</table>\n",
              "<p>4876 rows × 19 columns</p>\n",
              "</div>"
            ],
            "text/plain": [
              "        id  gender Partner  tenure PhoneService     MultipleLines  \\\n",
              "2     6479  Female     Yes    60.0          Yes               Yes   \n",
              "3     6861  Female      No    37.0          Yes               Yes   \n",
              "4     3266    Male     Yes    29.0          Yes                No   \n",
              "5     6368    Male      No    70.0           No  No phone service   \n",
              "6     5830    Male     Yes    31.0           No  No phone service   \n",
              "...    ...     ...     ...     ...          ...               ...   \n",
              "5628   946  Female      No     3.0          Yes               Yes   \n",
              "5629  6684    Male      No    43.0           No  No phone service   \n",
              "5631  4803  Female      No    28.0          Yes                No   \n",
              "5632  6317    Male     Yes    63.0          Yes               Yes   \n",
              "5633   103    Male      No    38.0          Yes               Yes   \n",
              "\n",
              "     InternetService       OnlineSecurity         OnlineBackup  \\\n",
              "2        Fiber optic                   No                  Yes   \n",
              "3        Fiber optic                   No                  Yes   \n",
              "4        Fiber optic                   No                   No   \n",
              "5                DSL                  Yes                   No   \n",
              "6                DSL                  Yes                   No   \n",
              "...              ...                  ...                  ...   \n",
              "5628     Fiber optic                   No                   No   \n",
              "5629             DSL                   No                   No   \n",
              "5631             DSL                   No                  Yes   \n",
              "5632              No  No internet service  No internet service   \n",
              "5633     Fiber optic                   No                   No   \n",
              "\n",
              "         DeviceProtection          TechSupport          StreamingTV  \\\n",
              "2                     Yes                  Yes                  Yes   \n",
              "3                     Yes                   No                  Yes   \n",
              "4                      No                   No                   No   \n",
              "5                     Yes                  Yes                   No   \n",
              "6                     Yes                  Yes                  Yes   \n",
              "...                   ...                  ...                  ...   \n",
              "5628                   No                   No                   No   \n",
              "5629                  Yes                  Yes                   No   \n",
              "5631                   No                  Yes                   No   \n",
              "5632  No internet service  No internet service  No internet service   \n",
              "5633                  Yes                  Yes                  Yes   \n",
              "\n",
              "          StreamingMovies        Contract PaperlessBilling  MonthlyCharges  \\\n",
              "2                     Yes        Two year              Yes          110.80   \n",
              "3                     Yes  Month-to-month              Yes          101.90   \n",
              "4                      No  Month-to-month              Yes           70.75   \n",
              "5                     Yes        Two year               No           48.40   \n",
              "6                     Yes        One year               No           59.95   \n",
              "...                   ...             ...              ...             ...   \n",
              "5628                   No  Month-to-month               No           74.40   \n",
              "5629                  Yes        One year               No           44.15   \n",
              "5631                   No  Month-to-month               No           54.65   \n",
              "5632  No internet service        Two year               No           25.25   \n",
              "5633                   No        One year               No           95.00   \n",
              "\n",
              "      TotalCharges2 SeniorCitizen2  TotalCharges2_mv  \n",
              "2           6640.70             No                 0  \n",
              "3           3545.35             No                 0  \n",
              "4           1974.80             No                 0  \n",
              "5           3442.80             No                 0  \n",
              "6           1848.80             No                 0  \n",
              "...             ...            ...               ...  \n",
              "5628         215.80             No                 0  \n",
              "5629        1931.30             No                 0  \n",
              "5631        1517.50             No                 0  \n",
              "5632        1573.05             No                 0  \n",
              "5633        3605.60             No                 0  \n",
              "\n",
              "[4876 rows x 19 columns]"
            ]
          },
          "metadata": {
            "tags": []
          },
          "execution_count": 90
        }
      ]
    },
    {
      "cell_type": "code",
      "metadata": {
        "colab": {
          "base_uri": "https://localhost:8080/",
          "height": 609
        },
        "id": "-Ljbij6v8sm2",
        "outputId": "d37b1c10-0256-4e69-a79c-df36e1ef7b8e"
      },
      "source": [
        "df_PaymentMethod_sem_mv"
      ],
      "execution_count": null,
      "outputs": [
        {
          "output_type": "display_data",
          "data": {
            "text/html": [
              "\n",
              "            <script src=\"/static/components/requirejs/require.js\"></script>\n",
              "            <script>\n",
              "              requirejs.config({\n",
              "                paths: {\n",
              "                  base: '/static/base',\n",
              "                  plotly: 'https://cdn.plot.ly/plotly-latest.min.js?noext',\n",
              "                },\n",
              "              });\n",
              "            </script>\n",
              "            "
            ],
            "text/plain": [
              "<IPython.core.display.HTML object>"
            ]
          },
          "metadata": {
            "tags": []
          }
        },
        {
          "output_type": "execute_result",
          "data": {
            "text/html": [
              "<div>\n",
              "<style scoped>\n",
              "    .dataframe tbody tr th:only-of-type {\n",
              "        vertical-align: middle;\n",
              "    }\n",
              "\n",
              "    .dataframe tbody tr th {\n",
              "        vertical-align: top;\n",
              "    }\n",
              "\n",
              "    .dataframe thead th {\n",
              "        text-align: right;\n",
              "    }\n",
              "</style>\n",
              "<table border=\"1\" class=\"dataframe\">\n",
              "  <thead>\n",
              "    <tr style=\"text-align: right;\">\n",
              "      <th></th>\n",
              "      <th>id</th>\n",
              "      <th>gender</th>\n",
              "      <th>Partner</th>\n",
              "      <th>tenure</th>\n",
              "      <th>PhoneService</th>\n",
              "      <th>MultipleLines</th>\n",
              "      <th>InternetService</th>\n",
              "      <th>OnlineSecurity</th>\n",
              "      <th>OnlineBackup</th>\n",
              "      <th>DeviceProtection</th>\n",
              "      <th>TechSupport</th>\n",
              "      <th>StreamingTV</th>\n",
              "      <th>StreamingMovies</th>\n",
              "      <th>Contract</th>\n",
              "      <th>PaperlessBilling</th>\n",
              "      <th>PaymentMethod</th>\n",
              "      <th>MonthlyCharges</th>\n",
              "      <th>TotalCharges2</th>\n",
              "      <th>SeniorCitizen2</th>\n",
              "      <th>TotalCharges2_mv</th>\n",
              "      <th>tenure_mv</th>\n",
              "    </tr>\n",
              "  </thead>\n",
              "  <tbody>\n",
              "    <tr>\n",
              "      <th>2</th>\n",
              "      <td>6479</td>\n",
              "      <td>Female</td>\n",
              "      <td>Yes</td>\n",
              "      <td>60.0</td>\n",
              "      <td>Yes</td>\n",
              "      <td>Yes</td>\n",
              "      <td>Fiber optic</td>\n",
              "      <td>No</td>\n",
              "      <td>Yes</td>\n",
              "      <td>Yes</td>\n",
              "      <td>Yes</td>\n",
              "      <td>Yes</td>\n",
              "      <td>Yes</td>\n",
              "      <td>Two year</td>\n",
              "      <td>Yes</td>\n",
              "      <td>Credit card (automatic)</td>\n",
              "      <td>110.80</td>\n",
              "      <td>6640.70</td>\n",
              "      <td>No</td>\n",
              "      <td>0</td>\n",
              "      <td>0</td>\n",
              "    </tr>\n",
              "    <tr>\n",
              "      <th>3</th>\n",
              "      <td>6861</td>\n",
              "      <td>Female</td>\n",
              "      <td>No</td>\n",
              "      <td>37.0</td>\n",
              "      <td>Yes</td>\n",
              "      <td>Yes</td>\n",
              "      <td>Fiber optic</td>\n",
              "      <td>No</td>\n",
              "      <td>Yes</td>\n",
              "      <td>Yes</td>\n",
              "      <td>No</td>\n",
              "      <td>Yes</td>\n",
              "      <td>Yes</td>\n",
              "      <td>Month-to-month</td>\n",
              "      <td>Yes</td>\n",
              "      <td>Bank transfer (automatic)</td>\n",
              "      <td>101.90</td>\n",
              "      <td>3545.35</td>\n",
              "      <td>No</td>\n",
              "      <td>0</td>\n",
              "      <td>0</td>\n",
              "    </tr>\n",
              "    <tr>\n",
              "      <th>4</th>\n",
              "      <td>3266</td>\n",
              "      <td>Male</td>\n",
              "      <td>Yes</td>\n",
              "      <td>29.0</td>\n",
              "      <td>Yes</td>\n",
              "      <td>No</td>\n",
              "      <td>Fiber optic</td>\n",
              "      <td>No</td>\n",
              "      <td>No</td>\n",
              "      <td>No</td>\n",
              "      <td>No</td>\n",
              "      <td>No</td>\n",
              "      <td>No</td>\n",
              "      <td>Month-to-month</td>\n",
              "      <td>Yes</td>\n",
              "      <td>Electronic check</td>\n",
              "      <td>70.75</td>\n",
              "      <td>1974.80</td>\n",
              "      <td>No</td>\n",
              "      <td>0</td>\n",
              "      <td>0</td>\n",
              "    </tr>\n",
              "    <tr>\n",
              "      <th>5</th>\n",
              "      <td>6368</td>\n",
              "      <td>Male</td>\n",
              "      <td>No</td>\n",
              "      <td>70.0</td>\n",
              "      <td>No</td>\n",
              "      <td>No phone service</td>\n",
              "      <td>DSL</td>\n",
              "      <td>Yes</td>\n",
              "      <td>No</td>\n",
              "      <td>Yes</td>\n",
              "      <td>Yes</td>\n",
              "      <td>No</td>\n",
              "      <td>Yes</td>\n",
              "      <td>Two year</td>\n",
              "      <td>No</td>\n",
              "      <td>Bank transfer (automatic)</td>\n",
              "      <td>48.40</td>\n",
              "      <td>3442.80</td>\n",
              "      <td>No</td>\n",
              "      <td>0</td>\n",
              "      <td>0</td>\n",
              "    </tr>\n",
              "    <tr>\n",
              "      <th>6</th>\n",
              "      <td>5830</td>\n",
              "      <td>Male</td>\n",
              "      <td>Yes</td>\n",
              "      <td>31.0</td>\n",
              "      <td>No</td>\n",
              "      <td>No phone service</td>\n",
              "      <td>DSL</td>\n",
              "      <td>Yes</td>\n",
              "      <td>No</td>\n",
              "      <td>Yes</td>\n",
              "      <td>Yes</td>\n",
              "      <td>Yes</td>\n",
              "      <td>Yes</td>\n",
              "      <td>One year</td>\n",
              "      <td>No</td>\n",
              "      <td>Electronic check</td>\n",
              "      <td>59.95</td>\n",
              "      <td>1848.80</td>\n",
              "      <td>No</td>\n",
              "      <td>0</td>\n",
              "      <td>0</td>\n",
              "    </tr>\n",
              "    <tr>\n",
              "      <th>...</th>\n",
              "      <td>...</td>\n",
              "      <td>...</td>\n",
              "      <td>...</td>\n",
              "      <td>...</td>\n",
              "      <td>...</td>\n",
              "      <td>...</td>\n",
              "      <td>...</td>\n",
              "      <td>...</td>\n",
              "      <td>...</td>\n",
              "      <td>...</td>\n",
              "      <td>...</td>\n",
              "      <td>...</td>\n",
              "      <td>...</td>\n",
              "      <td>...</td>\n",
              "      <td>...</td>\n",
              "      <td>...</td>\n",
              "      <td>...</td>\n",
              "      <td>...</td>\n",
              "      <td>...</td>\n",
              "      <td>...</td>\n",
              "      <td>...</td>\n",
              "    </tr>\n",
              "    <tr>\n",
              "      <th>5628</th>\n",
              "      <td>946</td>\n",
              "      <td>Female</td>\n",
              "      <td>No</td>\n",
              "      <td>3.0</td>\n",
              "      <td>Yes</td>\n",
              "      <td>Yes</td>\n",
              "      <td>Fiber optic</td>\n",
              "      <td>No</td>\n",
              "      <td>No</td>\n",
              "      <td>No</td>\n",
              "      <td>No</td>\n",
              "      <td>No</td>\n",
              "      <td>No</td>\n",
              "      <td>Month-to-month</td>\n",
              "      <td>No</td>\n",
              "      <td>Bank transfer (automatic)</td>\n",
              "      <td>74.40</td>\n",
              "      <td>215.80</td>\n",
              "      <td>No</td>\n",
              "      <td>0</td>\n",
              "      <td>0</td>\n",
              "    </tr>\n",
              "    <tr>\n",
              "      <th>5629</th>\n",
              "      <td>6684</td>\n",
              "      <td>Male</td>\n",
              "      <td>No</td>\n",
              "      <td>43.0</td>\n",
              "      <td>No</td>\n",
              "      <td>No phone service</td>\n",
              "      <td>DSL</td>\n",
              "      <td>No</td>\n",
              "      <td>No</td>\n",
              "      <td>Yes</td>\n",
              "      <td>Yes</td>\n",
              "      <td>No</td>\n",
              "      <td>Yes</td>\n",
              "      <td>One year</td>\n",
              "      <td>No</td>\n",
              "      <td>Electronic check</td>\n",
              "      <td>44.15</td>\n",
              "      <td>1931.30</td>\n",
              "      <td>No</td>\n",
              "      <td>0</td>\n",
              "      <td>0</td>\n",
              "    </tr>\n",
              "    <tr>\n",
              "      <th>5631</th>\n",
              "      <td>4803</td>\n",
              "      <td>Female</td>\n",
              "      <td>No</td>\n",
              "      <td>28.0</td>\n",
              "      <td>Yes</td>\n",
              "      <td>No</td>\n",
              "      <td>DSL</td>\n",
              "      <td>No</td>\n",
              "      <td>Yes</td>\n",
              "      <td>No</td>\n",
              "      <td>Yes</td>\n",
              "      <td>No</td>\n",
              "      <td>No</td>\n",
              "      <td>Month-to-month</td>\n",
              "      <td>No</td>\n",
              "      <td>Bank transfer (automatic)</td>\n",
              "      <td>54.65</td>\n",
              "      <td>1517.50</td>\n",
              "      <td>No</td>\n",
              "      <td>0</td>\n",
              "      <td>0</td>\n",
              "    </tr>\n",
              "    <tr>\n",
              "      <th>5632</th>\n",
              "      <td>6317</td>\n",
              "      <td>Male</td>\n",
              "      <td>Yes</td>\n",
              "      <td>63.0</td>\n",
              "      <td>Yes</td>\n",
              "      <td>Yes</td>\n",
              "      <td>No</td>\n",
              "      <td>No internet service</td>\n",
              "      <td>No internet service</td>\n",
              "      <td>No internet service</td>\n",
              "      <td>No internet service</td>\n",
              "      <td>No internet service</td>\n",
              "      <td>No internet service</td>\n",
              "      <td>Two year</td>\n",
              "      <td>No</td>\n",
              "      <td>Mailed check</td>\n",
              "      <td>25.25</td>\n",
              "      <td>1573.05</td>\n",
              "      <td>No</td>\n",
              "      <td>0</td>\n",
              "      <td>0</td>\n",
              "    </tr>\n",
              "    <tr>\n",
              "      <th>5633</th>\n",
              "      <td>103</td>\n",
              "      <td>Male</td>\n",
              "      <td>No</td>\n",
              "      <td>38.0</td>\n",
              "      <td>Yes</td>\n",
              "      <td>Yes</td>\n",
              "      <td>Fiber optic</td>\n",
              "      <td>No</td>\n",
              "      <td>No</td>\n",
              "      <td>Yes</td>\n",
              "      <td>Yes</td>\n",
              "      <td>Yes</td>\n",
              "      <td>No</td>\n",
              "      <td>One year</td>\n",
              "      <td>No</td>\n",
              "      <td>Bank transfer (automatic)</td>\n",
              "      <td>95.00</td>\n",
              "      <td>3605.60</td>\n",
              "      <td>No</td>\n",
              "      <td>0</td>\n",
              "      <td>0</td>\n",
              "    </tr>\n",
              "  </tbody>\n",
              "</table>\n",
              "<p>4876 rows × 21 columns</p>\n",
              "</div>"
            ],
            "text/plain": [
              "        id  gender Partner  tenure PhoneService     MultipleLines  \\\n",
              "2     6479  Female     Yes    60.0          Yes               Yes   \n",
              "3     6861  Female      No    37.0          Yes               Yes   \n",
              "4     3266    Male     Yes    29.0          Yes                No   \n",
              "5     6368    Male      No    70.0           No  No phone service   \n",
              "6     5830    Male     Yes    31.0           No  No phone service   \n",
              "...    ...     ...     ...     ...          ...               ...   \n",
              "5628   946  Female      No     3.0          Yes               Yes   \n",
              "5629  6684    Male      No    43.0           No  No phone service   \n",
              "5631  4803  Female      No    28.0          Yes                No   \n",
              "5632  6317    Male     Yes    63.0          Yes               Yes   \n",
              "5633   103    Male      No    38.0          Yes               Yes   \n",
              "\n",
              "     InternetService       OnlineSecurity         OnlineBackup  \\\n",
              "2        Fiber optic                   No                  Yes   \n",
              "3        Fiber optic                   No                  Yes   \n",
              "4        Fiber optic                   No                   No   \n",
              "5                DSL                  Yes                   No   \n",
              "6                DSL                  Yes                   No   \n",
              "...              ...                  ...                  ...   \n",
              "5628     Fiber optic                   No                   No   \n",
              "5629             DSL                   No                   No   \n",
              "5631             DSL                   No                  Yes   \n",
              "5632              No  No internet service  No internet service   \n",
              "5633     Fiber optic                   No                   No   \n",
              "\n",
              "         DeviceProtection          TechSupport          StreamingTV  \\\n",
              "2                     Yes                  Yes                  Yes   \n",
              "3                     Yes                   No                  Yes   \n",
              "4                      No                   No                   No   \n",
              "5                     Yes                  Yes                   No   \n",
              "6                     Yes                  Yes                  Yes   \n",
              "...                   ...                  ...                  ...   \n",
              "5628                   No                   No                   No   \n",
              "5629                  Yes                  Yes                   No   \n",
              "5631                   No                  Yes                   No   \n",
              "5632  No internet service  No internet service  No internet service   \n",
              "5633                  Yes                  Yes                  Yes   \n",
              "\n",
              "          StreamingMovies        Contract PaperlessBilling  \\\n",
              "2                     Yes        Two year              Yes   \n",
              "3                     Yes  Month-to-month              Yes   \n",
              "4                      No  Month-to-month              Yes   \n",
              "5                     Yes        Two year               No   \n",
              "6                     Yes        One year               No   \n",
              "...                   ...             ...              ...   \n",
              "5628                   No  Month-to-month               No   \n",
              "5629                  Yes        One year               No   \n",
              "5631                   No  Month-to-month               No   \n",
              "5632  No internet service        Two year               No   \n",
              "5633                   No        One year               No   \n",
              "\n",
              "                  PaymentMethod  MonthlyCharges  TotalCharges2 SeniorCitizen2  \\\n",
              "2       Credit card (automatic)          110.80        6640.70             No   \n",
              "3     Bank transfer (automatic)          101.90        3545.35             No   \n",
              "4              Electronic check           70.75        1974.80             No   \n",
              "5     Bank transfer (automatic)           48.40        3442.80             No   \n",
              "6              Electronic check           59.95        1848.80             No   \n",
              "...                         ...             ...            ...            ...   \n",
              "5628  Bank transfer (automatic)           74.40         215.80             No   \n",
              "5629           Electronic check           44.15        1931.30             No   \n",
              "5631  Bank transfer (automatic)           54.65        1517.50             No   \n",
              "5632               Mailed check           25.25        1573.05             No   \n",
              "5633  Bank transfer (automatic)           95.00        3605.60             No   \n",
              "\n",
              "      TotalCharges2_mv  tenure_mv  \n",
              "2                    0          0  \n",
              "3                    0          0  \n",
              "4                    0          0  \n",
              "5                    0          0  \n",
              "6                    0          0  \n",
              "...                ...        ...  \n",
              "5628                 0          0  \n",
              "5629                 0          0  \n",
              "5631                 0          0  \n",
              "5632                 0          0  \n",
              "5633                 0          0  \n",
              "\n",
              "[4876 rows x 21 columns]"
            ]
          },
          "metadata": {
            "tags": []
          },
          "execution_count": 91
        }
      ]
    },
    {
      "cell_type": "code",
      "metadata": {
        "colab": {
          "base_uri": "https://localhost:8080/",
          "height": 609
        },
        "id": "lb4B7mjM8taF",
        "outputId": "5ab52764-cd16-4097-ee84-5d5c5824ba7f"
      },
      "source": [
        "df_Dependents_sem_mv"
      ],
      "execution_count": null,
      "outputs": [
        {
          "output_type": "display_data",
          "data": {
            "text/html": [
              "\n",
              "            <script src=\"/static/components/requirejs/require.js\"></script>\n",
              "            <script>\n",
              "              requirejs.config({\n",
              "                paths: {\n",
              "                  base: '/static/base',\n",
              "                  plotly: 'https://cdn.plot.ly/plotly-latest.min.js?noext',\n",
              "                },\n",
              "              });\n",
              "            </script>\n",
              "            "
            ],
            "text/plain": [
              "<IPython.core.display.HTML object>"
            ]
          },
          "metadata": {
            "tags": []
          }
        },
        {
          "output_type": "execute_result",
          "data": {
            "text/html": [
              "<div>\n",
              "<style scoped>\n",
              "    .dataframe tbody tr th:only-of-type {\n",
              "        vertical-align: middle;\n",
              "    }\n",
              "\n",
              "    .dataframe tbody tr th {\n",
              "        vertical-align: top;\n",
              "    }\n",
              "\n",
              "    .dataframe thead th {\n",
              "        text-align: right;\n",
              "    }\n",
              "</style>\n",
              "<table border=\"1\" class=\"dataframe\">\n",
              "  <thead>\n",
              "    <tr style=\"text-align: right;\">\n",
              "      <th></th>\n",
              "      <th>id</th>\n",
              "      <th>gender</th>\n",
              "      <th>Partner</th>\n",
              "      <th>Dependents</th>\n",
              "      <th>tenure</th>\n",
              "      <th>PhoneService</th>\n",
              "      <th>MultipleLines</th>\n",
              "      <th>InternetService</th>\n",
              "      <th>OnlineSecurity</th>\n",
              "      <th>OnlineBackup</th>\n",
              "      <th>DeviceProtection</th>\n",
              "      <th>TechSupport</th>\n",
              "      <th>StreamingTV</th>\n",
              "      <th>StreamingMovies</th>\n",
              "      <th>Contract</th>\n",
              "      <th>PaperlessBilling</th>\n",
              "      <th>PaymentMethod</th>\n",
              "      <th>MonthlyCharges</th>\n",
              "      <th>TotalCharges2</th>\n",
              "      <th>SeniorCitizen2</th>\n",
              "      <th>TotalCharges2_mv</th>\n",
              "      <th>tenure_mv</th>\n",
              "      <th>PaymentMethod_mv</th>\n",
              "    </tr>\n",
              "  </thead>\n",
              "  <tbody>\n",
              "    <tr>\n",
              "      <th>2</th>\n",
              "      <td>6479</td>\n",
              "      <td>Female</td>\n",
              "      <td>Yes</td>\n",
              "      <td>No</td>\n",
              "      <td>60.0</td>\n",
              "      <td>Yes</td>\n",
              "      <td>Yes</td>\n",
              "      <td>Fiber optic</td>\n",
              "      <td>No</td>\n",
              "      <td>Yes</td>\n",
              "      <td>Yes</td>\n",
              "      <td>Yes</td>\n",
              "      <td>Yes</td>\n",
              "      <td>Yes</td>\n",
              "      <td>Two year</td>\n",
              "      <td>Yes</td>\n",
              "      <td>Credit card (automatic)</td>\n",
              "      <td>110.80</td>\n",
              "      <td>6640.70</td>\n",
              "      <td>No</td>\n",
              "      <td>0</td>\n",
              "      <td>0</td>\n",
              "      <td>0</td>\n",
              "    </tr>\n",
              "    <tr>\n",
              "      <th>3</th>\n",
              "      <td>6861</td>\n",
              "      <td>Female</td>\n",
              "      <td>No</td>\n",
              "      <td>No</td>\n",
              "      <td>37.0</td>\n",
              "      <td>Yes</td>\n",
              "      <td>Yes</td>\n",
              "      <td>Fiber optic</td>\n",
              "      <td>No</td>\n",
              "      <td>Yes</td>\n",
              "      <td>Yes</td>\n",
              "      <td>No</td>\n",
              "      <td>Yes</td>\n",
              "      <td>Yes</td>\n",
              "      <td>Month-to-month</td>\n",
              "      <td>Yes</td>\n",
              "      <td>Bank transfer (automatic)</td>\n",
              "      <td>101.90</td>\n",
              "      <td>3545.35</td>\n",
              "      <td>No</td>\n",
              "      <td>0</td>\n",
              "      <td>0</td>\n",
              "      <td>0</td>\n",
              "    </tr>\n",
              "    <tr>\n",
              "      <th>4</th>\n",
              "      <td>3266</td>\n",
              "      <td>Male</td>\n",
              "      <td>Yes</td>\n",
              "      <td>Yes</td>\n",
              "      <td>29.0</td>\n",
              "      <td>Yes</td>\n",
              "      <td>No</td>\n",
              "      <td>Fiber optic</td>\n",
              "      <td>No</td>\n",
              "      <td>No</td>\n",
              "      <td>No</td>\n",
              "      <td>No</td>\n",
              "      <td>No</td>\n",
              "      <td>No</td>\n",
              "      <td>Month-to-month</td>\n",
              "      <td>Yes</td>\n",
              "      <td>Electronic check</td>\n",
              "      <td>70.75</td>\n",
              "      <td>1974.80</td>\n",
              "      <td>No</td>\n",
              "      <td>0</td>\n",
              "      <td>0</td>\n",
              "      <td>0</td>\n",
              "    </tr>\n",
              "    <tr>\n",
              "      <th>5</th>\n",
              "      <td>6368</td>\n",
              "      <td>Male</td>\n",
              "      <td>No</td>\n",
              "      <td>No</td>\n",
              "      <td>70.0</td>\n",
              "      <td>No</td>\n",
              "      <td>No phone service</td>\n",
              "      <td>DSL</td>\n",
              "      <td>Yes</td>\n",
              "      <td>No</td>\n",
              "      <td>Yes</td>\n",
              "      <td>Yes</td>\n",
              "      <td>No</td>\n",
              "      <td>Yes</td>\n",
              "      <td>Two year</td>\n",
              "      <td>No</td>\n",
              "      <td>Bank transfer (automatic)</td>\n",
              "      <td>48.40</td>\n",
              "      <td>3442.80</td>\n",
              "      <td>No</td>\n",
              "      <td>0</td>\n",
              "      <td>0</td>\n",
              "      <td>0</td>\n",
              "    </tr>\n",
              "    <tr>\n",
              "      <th>6</th>\n",
              "      <td>5830</td>\n",
              "      <td>Male</td>\n",
              "      <td>Yes</td>\n",
              "      <td>Yes</td>\n",
              "      <td>31.0</td>\n",
              "      <td>No</td>\n",
              "      <td>No phone service</td>\n",
              "      <td>DSL</td>\n",
              "      <td>Yes</td>\n",
              "      <td>No</td>\n",
              "      <td>Yes</td>\n",
              "      <td>Yes</td>\n",
              "      <td>Yes</td>\n",
              "      <td>Yes</td>\n",
              "      <td>One year</td>\n",
              "      <td>No</td>\n",
              "      <td>Electronic check</td>\n",
              "      <td>59.95</td>\n",
              "      <td>1848.80</td>\n",
              "      <td>No</td>\n",
              "      <td>0</td>\n",
              "      <td>0</td>\n",
              "      <td>0</td>\n",
              "    </tr>\n",
              "    <tr>\n",
              "      <th>...</th>\n",
              "      <td>...</td>\n",
              "      <td>...</td>\n",
              "      <td>...</td>\n",
              "      <td>...</td>\n",
              "      <td>...</td>\n",
              "      <td>...</td>\n",
              "      <td>...</td>\n",
              "      <td>...</td>\n",
              "      <td>...</td>\n",
              "      <td>...</td>\n",
              "      <td>...</td>\n",
              "      <td>...</td>\n",
              "      <td>...</td>\n",
              "      <td>...</td>\n",
              "      <td>...</td>\n",
              "      <td>...</td>\n",
              "      <td>...</td>\n",
              "      <td>...</td>\n",
              "      <td>...</td>\n",
              "      <td>...</td>\n",
              "      <td>...</td>\n",
              "      <td>...</td>\n",
              "      <td>...</td>\n",
              "    </tr>\n",
              "    <tr>\n",
              "      <th>5628</th>\n",
              "      <td>946</td>\n",
              "      <td>Female</td>\n",
              "      <td>No</td>\n",
              "      <td>No</td>\n",
              "      <td>3.0</td>\n",
              "      <td>Yes</td>\n",
              "      <td>Yes</td>\n",
              "      <td>Fiber optic</td>\n",
              "      <td>No</td>\n",
              "      <td>No</td>\n",
              "      <td>No</td>\n",
              "      <td>No</td>\n",
              "      <td>No</td>\n",
              "      <td>No</td>\n",
              "      <td>Month-to-month</td>\n",
              "      <td>No</td>\n",
              "      <td>Bank transfer (automatic)</td>\n",
              "      <td>74.40</td>\n",
              "      <td>215.80</td>\n",
              "      <td>No</td>\n",
              "      <td>0</td>\n",
              "      <td>0</td>\n",
              "      <td>0</td>\n",
              "    </tr>\n",
              "    <tr>\n",
              "      <th>5629</th>\n",
              "      <td>6684</td>\n",
              "      <td>Male</td>\n",
              "      <td>No</td>\n",
              "      <td>No</td>\n",
              "      <td>43.0</td>\n",
              "      <td>No</td>\n",
              "      <td>No phone service</td>\n",
              "      <td>DSL</td>\n",
              "      <td>No</td>\n",
              "      <td>No</td>\n",
              "      <td>Yes</td>\n",
              "      <td>Yes</td>\n",
              "      <td>No</td>\n",
              "      <td>Yes</td>\n",
              "      <td>One year</td>\n",
              "      <td>No</td>\n",
              "      <td>Electronic check</td>\n",
              "      <td>44.15</td>\n",
              "      <td>1931.30</td>\n",
              "      <td>No</td>\n",
              "      <td>0</td>\n",
              "      <td>0</td>\n",
              "      <td>0</td>\n",
              "    </tr>\n",
              "    <tr>\n",
              "      <th>5631</th>\n",
              "      <td>4803</td>\n",
              "      <td>Female</td>\n",
              "      <td>No</td>\n",
              "      <td>No</td>\n",
              "      <td>28.0</td>\n",
              "      <td>Yes</td>\n",
              "      <td>No</td>\n",
              "      <td>DSL</td>\n",
              "      <td>No</td>\n",
              "      <td>Yes</td>\n",
              "      <td>No</td>\n",
              "      <td>Yes</td>\n",
              "      <td>No</td>\n",
              "      <td>No</td>\n",
              "      <td>Month-to-month</td>\n",
              "      <td>No</td>\n",
              "      <td>Bank transfer (automatic)</td>\n",
              "      <td>54.65</td>\n",
              "      <td>1517.50</td>\n",
              "      <td>No</td>\n",
              "      <td>0</td>\n",
              "      <td>0</td>\n",
              "      <td>0</td>\n",
              "    </tr>\n",
              "    <tr>\n",
              "      <th>5632</th>\n",
              "      <td>6317</td>\n",
              "      <td>Male</td>\n",
              "      <td>Yes</td>\n",
              "      <td>Yes</td>\n",
              "      <td>63.0</td>\n",
              "      <td>Yes</td>\n",
              "      <td>Yes</td>\n",
              "      <td>No</td>\n",
              "      <td>No internet service</td>\n",
              "      <td>No internet service</td>\n",
              "      <td>No internet service</td>\n",
              "      <td>No internet service</td>\n",
              "      <td>No internet service</td>\n",
              "      <td>No internet service</td>\n",
              "      <td>Two year</td>\n",
              "      <td>No</td>\n",
              "      <td>Mailed check</td>\n",
              "      <td>25.25</td>\n",
              "      <td>1573.05</td>\n",
              "      <td>No</td>\n",
              "      <td>0</td>\n",
              "      <td>0</td>\n",
              "      <td>0</td>\n",
              "    </tr>\n",
              "    <tr>\n",
              "      <th>5633</th>\n",
              "      <td>103</td>\n",
              "      <td>Male</td>\n",
              "      <td>No</td>\n",
              "      <td>No</td>\n",
              "      <td>38.0</td>\n",
              "      <td>Yes</td>\n",
              "      <td>Yes</td>\n",
              "      <td>Fiber optic</td>\n",
              "      <td>No</td>\n",
              "      <td>No</td>\n",
              "      <td>Yes</td>\n",
              "      <td>Yes</td>\n",
              "      <td>Yes</td>\n",
              "      <td>No</td>\n",
              "      <td>One year</td>\n",
              "      <td>No</td>\n",
              "      <td>Bank transfer (automatic)</td>\n",
              "      <td>95.00</td>\n",
              "      <td>3605.60</td>\n",
              "      <td>No</td>\n",
              "      <td>0</td>\n",
              "      <td>0</td>\n",
              "      <td>0</td>\n",
              "    </tr>\n",
              "  </tbody>\n",
              "</table>\n",
              "<p>4876 rows × 23 columns</p>\n",
              "</div>"
            ],
            "text/plain": [
              "        id  gender Partner Dependents  tenure PhoneService     MultipleLines  \\\n",
              "2     6479  Female     Yes         No    60.0          Yes               Yes   \n",
              "3     6861  Female      No         No    37.0          Yes               Yes   \n",
              "4     3266    Male     Yes        Yes    29.0          Yes                No   \n",
              "5     6368    Male      No         No    70.0           No  No phone service   \n",
              "6     5830    Male     Yes        Yes    31.0           No  No phone service   \n",
              "...    ...     ...     ...        ...     ...          ...               ...   \n",
              "5628   946  Female      No         No     3.0          Yes               Yes   \n",
              "5629  6684    Male      No         No    43.0           No  No phone service   \n",
              "5631  4803  Female      No         No    28.0          Yes                No   \n",
              "5632  6317    Male     Yes        Yes    63.0          Yes               Yes   \n",
              "5633   103    Male      No         No    38.0          Yes               Yes   \n",
              "\n",
              "     InternetService       OnlineSecurity         OnlineBackup  \\\n",
              "2        Fiber optic                   No                  Yes   \n",
              "3        Fiber optic                   No                  Yes   \n",
              "4        Fiber optic                   No                   No   \n",
              "5                DSL                  Yes                   No   \n",
              "6                DSL                  Yes                   No   \n",
              "...              ...                  ...                  ...   \n",
              "5628     Fiber optic                   No                   No   \n",
              "5629             DSL                   No                   No   \n",
              "5631             DSL                   No                  Yes   \n",
              "5632              No  No internet service  No internet service   \n",
              "5633     Fiber optic                   No                   No   \n",
              "\n",
              "         DeviceProtection          TechSupport          StreamingTV  \\\n",
              "2                     Yes                  Yes                  Yes   \n",
              "3                     Yes                   No                  Yes   \n",
              "4                      No                   No                   No   \n",
              "5                     Yes                  Yes                   No   \n",
              "6                     Yes                  Yes                  Yes   \n",
              "...                   ...                  ...                  ...   \n",
              "5628                   No                   No                   No   \n",
              "5629                  Yes                  Yes                   No   \n",
              "5631                   No                  Yes                   No   \n",
              "5632  No internet service  No internet service  No internet service   \n",
              "5633                  Yes                  Yes                  Yes   \n",
              "\n",
              "          StreamingMovies        Contract PaperlessBilling  \\\n",
              "2                     Yes        Two year              Yes   \n",
              "3                     Yes  Month-to-month              Yes   \n",
              "4                      No  Month-to-month              Yes   \n",
              "5                     Yes        Two year               No   \n",
              "6                     Yes        One year               No   \n",
              "...                   ...             ...              ...   \n",
              "5628                   No  Month-to-month               No   \n",
              "5629                  Yes        One year               No   \n",
              "5631                   No  Month-to-month               No   \n",
              "5632  No internet service        Two year               No   \n",
              "5633                   No        One year               No   \n",
              "\n",
              "                  PaymentMethod  MonthlyCharges  TotalCharges2 SeniorCitizen2  \\\n",
              "2       Credit card (automatic)          110.80        6640.70             No   \n",
              "3     Bank transfer (automatic)          101.90        3545.35             No   \n",
              "4              Electronic check           70.75        1974.80             No   \n",
              "5     Bank transfer (automatic)           48.40        3442.80             No   \n",
              "6              Electronic check           59.95        1848.80             No   \n",
              "...                         ...             ...            ...            ...   \n",
              "5628  Bank transfer (automatic)           74.40         215.80             No   \n",
              "5629           Electronic check           44.15        1931.30             No   \n",
              "5631  Bank transfer (automatic)           54.65        1517.50             No   \n",
              "5632               Mailed check           25.25        1573.05             No   \n",
              "5633  Bank transfer (automatic)           95.00        3605.60             No   \n",
              "\n",
              "      TotalCharges2_mv  tenure_mv  PaymentMethod_mv  \n",
              "2                    0          0                 0  \n",
              "3                    0          0                 0  \n",
              "4                    0          0                 0  \n",
              "5                    0          0                 0  \n",
              "6                    0          0                 0  \n",
              "...                ...        ...               ...  \n",
              "5628                 0          0                 0  \n",
              "5629                 0          0                 0  \n",
              "5631                 0          0                 0  \n",
              "5632                 0          0                 0  \n",
              "5633                 0          0                 0  \n",
              "\n",
              "[4876 rows x 23 columns]"
            ]
          },
          "metadata": {
            "tags": []
          },
          "execution_count": 92
        }
      ]
    }
  ]
}